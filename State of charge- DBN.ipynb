{
 "cells": [
  {
   "cell_type": "markdown",
   "id": "926969bb",
   "metadata": {},
   "source": [
    "# Data Preparation\n",
    "\n",
    "In this sectiono we load in and prepare the data for our machine learning."
   ]
  },
  {
   "cell_type": "code",
   "execution_count": 1,
   "id": "7b1d5fb9-458d-4350-85ff-d49cdd8b3769",
   "metadata": {
    "collapsed": true,
    "jupyter": {
     "outputs_hidden": true
    },
    "tags": []
   },
   "outputs": [
    {
     "name": "stdout",
     "output_type": "stream",
     "text": [
      "Requirement already satisfied: scipy in c:\\users\\argon\\documents\\uts\\ai capstone\\ai project\\deepnn\\lib\\site-packages (1.11.2)\n",
      "Requirement already satisfied: numpy<1.28.0,>=1.21.6 in c:\\users\\argon\\documents\\uts\\ai capstone\\ai project\\deepnn\\lib\\site-packages (from scipy) (1.26.0)\n"
     ]
    },
    {
     "name": "stderr",
     "output_type": "stream",
     "text": [
      "WARNING: Ignoring invalid distribution -rotobuf (c:\\users\\argon\\documents\\uts\\ai capstone\\ai project\\deepnn\\lib\\site-packages)\n",
      "WARNING: Ignoring invalid distribution -rotobuf (c:\\users\\argon\\documents\\uts\\ai capstone\\ai project\\deepnn\\lib\\site-packages)\n",
      "WARNING: Ignoring invalid distribution -rotobuf (c:\\users\\argon\\documents\\uts\\ai capstone\\ai project\\deepnn\\lib\\site-packages)\n",
      "WARNING: Ignoring invalid distribution -rotobuf (c:\\users\\argon\\documents\\uts\\ai capstone\\ai project\\deepnn\\lib\\site-packages)\n",
      "WARNING: Ignoring invalid distribution -rotobuf (c:\\users\\argon\\documents\\uts\\ai capstone\\ai project\\deepnn\\lib\\site-packages)\n",
      "WARNING: Ignoring invalid distribution -rotobuf (c:\\users\\argon\\documents\\uts\\ai capstone\\ai project\\deepnn\\lib\\site-packages)\n",
      "WARNING: You are using pip version 22.0.4; however, version 23.2.1 is available.\n",
      "You should consider upgrading via the 'C:\\Users\\argon\\Documents\\UTS\\AI Capstone\\AI Project\\DeepNN\\Scripts\\python.exe -m pip install --upgrade pip' command.\n"
     ]
    },
    {
     "name": "stdout",
     "output_type": "stream",
     "text": [
      "Requirement already satisfied: pandas in c:\\users\\argon\\documents\\uts\\ai capstone\\ai project\\deepnn\\lib\\site-packages (2.1.1)\n",
      "Requirement already satisfied: tzdata>=2022.1 in c:\\users\\argon\\documents\\uts\\ai capstone\\ai project\\deepnn\\lib\\site-packages (from pandas) (2023.3)\n",
      "Requirement already satisfied: python-dateutil>=2.8.2 in c:\\users\\argon\\documents\\uts\\ai capstone\\ai project\\deepnn\\lib\\site-packages (from pandas) (2.8.2)\n",
      "Requirement already satisfied: pytz>=2020.1 in c:\\users\\argon\\documents\\uts\\ai capstone\\ai project\\deepnn\\lib\\site-packages (from pandas) (2023.3.post1)\n",
      "Requirement already satisfied: numpy>=1.22.4 in c:\\users\\argon\\documents\\uts\\ai capstone\\ai project\\deepnn\\lib\\site-packages (from pandas) (1.26.0)\n",
      "Requirement already satisfied: six>=1.5 in c:\\users\\argon\\documents\\uts\\ai capstone\\ai project\\deepnn\\lib\\site-packages (from python-dateutil>=2.8.2->pandas) (1.16.0)\n"
     ]
    },
    {
     "name": "stderr",
     "output_type": "stream",
     "text": [
      "WARNING: Ignoring invalid distribution -rotobuf (c:\\users\\argon\\documents\\uts\\ai capstone\\ai project\\deepnn\\lib\\site-packages)\n",
      "WARNING: Ignoring invalid distribution -rotobuf (c:\\users\\argon\\documents\\uts\\ai capstone\\ai project\\deepnn\\lib\\site-packages)\n",
      "WARNING: Ignoring invalid distribution -rotobuf (c:\\users\\argon\\documents\\uts\\ai capstone\\ai project\\deepnn\\lib\\site-packages)\n",
      "WARNING: Ignoring invalid distribution -rotobuf (c:\\users\\argon\\documents\\uts\\ai capstone\\ai project\\deepnn\\lib\\site-packages)\n",
      "WARNING: Ignoring invalid distribution -rotobuf (c:\\users\\argon\\documents\\uts\\ai capstone\\ai project\\deepnn\\lib\\site-packages)\n",
      "WARNING: Ignoring invalid distribution -rotobuf (c:\\users\\argon\\documents\\uts\\ai capstone\\ai project\\deepnn\\lib\\site-packages)\n",
      "WARNING: You are using pip version 22.0.4; however, version 23.2.1 is available.\n",
      "You should consider upgrading via the 'C:\\Users\\argon\\Documents\\UTS\\AI Capstone\\AI Project\\DeepNN\\Scripts\\python.exe -m pip install --upgrade pip' command.\n"
     ]
    },
    {
     "name": "stdout",
     "output_type": "stream",
     "text": [
      "Requirement already satisfied: scikit-learn in c:\\users\\argon\\documents\\uts\\ai capstone\\ai project\\deepnn\\lib\\site-packages (1.3.1)\n",
      "Requirement already satisfied: numpy<2.0,>=1.17.3 in c:\\users\\argon\\documents\\uts\\ai capstone\\ai project\\deepnn\\lib\\site-packages (from scikit-learn) (1.26.0)\n",
      "Requirement already satisfied: scipy>=1.5.0 in c:\\users\\argon\\documents\\uts\\ai capstone\\ai project\\deepnn\\lib\\site-packages (from scikit-learn) (1.11.2)\n",
      "Requirement already satisfied: threadpoolctl>=2.0.0 in c:\\users\\argon\\documents\\uts\\ai capstone\\ai project\\deepnn\\lib\\site-packages (from scikit-learn) (3.2.0)\n",
      "Requirement already satisfied: joblib>=1.1.1 in c:\\users\\argon\\documents\\uts\\ai capstone\\ai project\\deepnn\\lib\\site-packages (from scikit-learn) (1.3.2)\n"
     ]
    },
    {
     "name": "stderr",
     "output_type": "stream",
     "text": [
      "WARNING: Ignoring invalid distribution -rotobuf (c:\\users\\argon\\documents\\uts\\ai capstone\\ai project\\deepnn\\lib\\site-packages)\n",
      "WARNING: Ignoring invalid distribution -rotobuf (c:\\users\\argon\\documents\\uts\\ai capstone\\ai project\\deepnn\\lib\\site-packages)\n",
      "WARNING: Ignoring invalid distribution -rotobuf (c:\\users\\argon\\documents\\uts\\ai capstone\\ai project\\deepnn\\lib\\site-packages)\n",
      "WARNING: Ignoring invalid distribution -rotobuf (c:\\users\\argon\\documents\\uts\\ai capstone\\ai project\\deepnn\\lib\\site-packages)\n",
      "WARNING: Ignoring invalid distribution -rotobuf (c:\\users\\argon\\documents\\uts\\ai capstone\\ai project\\deepnn\\lib\\site-packages)\n",
      "WARNING: Ignoring invalid distribution -rotobuf (c:\\users\\argon\\documents\\uts\\ai capstone\\ai project\\deepnn\\lib\\site-packages)\n",
      "WARNING: You are using pip version 22.0.4; however, version 23.2.1 is available.\n",
      "You should consider upgrading via the 'C:\\Users\\argon\\Documents\\UTS\\AI Capstone\\AI Project\\DeepNN\\Scripts\\python.exe -m pip install --upgrade pip' command.\n"
     ]
    }
   ],
   "source": [
    "    # !pip install scipy\n",
    "# !pip install pandas\n",
    "# !pip install scikit-learn"
   ]
  },
  {
   "cell_type": "code",
   "execution_count": null,
   "id": "e720c4bf-6d3e-4f48-8a2f-416e28cfe2f9",
   "metadata": {
    "tags": []
   },
   "outputs": [],
   "source": [
    "# !conda install -c conda-forge cudatoolkit=11.2 cudnn=8.1.0\n",
    "# # Anything above 2.10 is not supported on the GPU on Windows Native\n",
    "# !pip install \"tensorflow<2.11\"\n"
   ]
  },
  {
   "cell_type": "code",
   "execution_count": 3,
   "id": "e308abf2-77f3-4efa-9fe8-5e33b9329973",
   "metadata": {
    "collapsed": true,
    "jupyter": {
     "outputs_hidden": true
    },
    "tags": []
   },
   "outputs": [
    {
     "name": "stdout",
     "output_type": "stream",
     "text": [
      "Package                      Version\n",
      "---------------------------- ------------\n",
      "absl-py                      2.0.0\n",
      "asttokens                    2.4.0\n",
      "astunparse                   1.6.3\n",
      "backcall                     0.2.0\n",
      "cachetools                   5.3.1\n",
      "certifi                      2023.7.22\n",
      "charset-normalizer           3.2.0\n",
      "colorama                     0.4.6\n",
      "comm                         0.1.4\n",
      "contourpy                    1.1.1\n",
      "cycler                       0.11.0\n",
      "debugpy                      1.8.0\n",
      "decorator                    5.1.1\n",
      "exceptiongroup               1.1.3\n",
      "executing                    1.2.0\n",
      "flatbuffers                  23.5.26\n",
      "fonttools                    4.42.1\n",
      "gast                         0.4.0\n",
      "google-auth                  2.23.1\n",
      "google-auth-oauthlib         0.4.6\n",
      "google-pasta                 0.2.0\n",
      "grpcio                       1.58.0\n",
      "h5py                         3.9.0\n",
      "idna                         3.4\n",
      "importlib-metadata           6.8.0\n",
      "importlib-resources          6.1.0\n",
      "ipykernel                    6.25.2\n",
      "ipython                      8.15.0\n",
      "jedi                         0.19.0\n",
      "joblib                       1.3.2\n",
      "jupyter_client               8.3.1\n",
      "jupyter_core                 5.3.1\n",
      "keras                        2.10.0\n",
      "Keras-Preprocessing          1.1.2\n",
      "kiwisolver                   1.4.5\n",
      "libclang                     16.0.6\n",
      "Markdown                     3.4.4\n",
      "MarkupSafe                   2.1.3\n",
      "matplotlib                   3.8.0\n",
      "matplotlib-inline            0.1.6\n",
      "ml-dtypes                    0.2.0\n",
      "nest-asyncio                 1.5.8\n",
      "numpy                        1.26.0\n",
      "oauthlib                     3.2.2\n",
      "opencv-python                4.8.0.76\n",
      "opt-einsum                   3.3.0\n",
      "packaging                    23.1\n",
      "pandas                       2.1.1\n",
      "parso                        0.8.3\n",
      "pickleshare                  0.7.5\n",
      "Pillow                       10.0.1\n",
      "pip                          22.0.4\n",
      "platformdirs                 3.10.0\n",
      "prompt-toolkit               3.0.39\n",
      "protobuf                     3.19.6\n",
      "psutil                       5.9.5\n",
      "pure-eval                    0.2.2\n",
      "pyasn1                       0.5.0\n",
      "pyasn1-modules               0.3.0\n",
      "Pygments                     2.16.1\n",
      "pyparsing                    3.1.1\n",
      "python-dateutil              2.8.2\n",
      "python-version               0.0.2\n",
      "pytz                         2023.3.post1\n",
      "pywin32                      306\n",
      "pyzmq                        25.1.1\n",
      "requests                     2.31.0\n",
      "requests-oauthlib            1.3.1\n",
      "rsa                          4.9\n",
      "scikit-learn                 1.3.1\n",
      "scipy                        1.11.2\n",
      "seaborn                      0.12.2\n",
      "setuptools                   58.1.0\n",
      "six                          1.16.0\n",
      "stack-data                   0.6.2\n",
      "tensorboard                  2.10.1\n",
      "tensorboard-data-server      0.6.1\n",
      "tensorboard-plugin-wit       1.8.1\n",
      "tensorflow                   2.10.1\n",
      "tensorflow-estimator         2.10.0\n",
      "tensorflow-intel             2.14.0\n",
      "tensorflow-io-gcs-filesystem 0.31.0\n",
      "termcolor                    2.3.0\n",
      "threadpoolctl                3.2.0\n",
      "tornado                      6.3.3\n",
      "traitlets                    5.10.1\n",
      "typing_extensions            4.8.0\n",
      "tzdata                       2023.3\n",
      "urllib3                      2.0.5\n",
      "wcwidth                      0.2.6\n",
      "Werkzeug                     2.3.7\n",
      "wheel                        0.41.2\n",
      "wrapt                        1.14.1\n",
      "zipp                         3.17.0\n"
     ]
    },
    {
     "name": "stderr",
     "output_type": "stream",
     "text": [
      "WARNING: Ignoring invalid distribution -rotobuf (c:\\users\\argon\\documents\\uts\\ai capstone\\ai project\\deepnn\\lib\\site-packages)\n",
      "WARNING: Ignoring invalid distribution -rotobuf (c:\\users\\argon\\documents\\uts\\ai capstone\\ai project\\deepnn\\lib\\site-packages)\n",
      "WARNING: Ignoring invalid distribution -rotobuf (c:\\users\\argon\\documents\\uts\\ai capstone\\ai project\\deepnn\\lib\\site-packages)\n",
      "WARNING: Ignoring invalid distribution -rotobuf (c:\\users\\argon\\documents\\uts\\ai capstone\\ai project\\deepnn\\lib\\site-packages)\n",
      "WARNING: You are using pip version 22.0.4; however, version 23.2.1 is available.\n",
      "You should consider upgrading via the 'C:\\Users\\argon\\Documents\\UTS\\AI Capstone\\AI Project\\DeepNN\\Scripts\\python.exe -m pip install --upgrade pip' command.\n",
      "WARNING: Ignoring invalid distribution -rotobuf (c:\\users\\argon\\documents\\uts\\ai capstone\\ai project\\deepnn\\lib\\site-packages)\n",
      "WARNING: Ignoring invalid distribution -rotobuf (c:\\users\\argon\\documents\\uts\\ai capstone\\ai project\\deepnn\\lib\\site-packages)\n",
      "WARNING: Ignoring invalid distribution -rotobuf (c:\\users\\argon\\documents\\uts\\ai capstone\\ai project\\deepnn\\lib\\site-packages)\n",
      "WARNING: Ignoring invalid distribution -rotobuf (c:\\users\\argon\\documents\\uts\\ai capstone\\ai project\\deepnn\\lib\\site-packages)\n",
      "WARNING: Ignoring invalid distribution -rotobuf (c:\\users\\argon\\documents\\uts\\ai capstone\\ai project\\deepnn\\lib\\site-packages)\n",
      "WARNING: Ignoring invalid distribution -rotobuf (c:\\users\\argon\\documents\\uts\\ai capstone\\ai project\\deepnn\\lib\\site-packages)\n",
      "WARNING: You are using pip version 22.0.4; however, version 23.2.1 is available.\n",
      "You should consider upgrading via the 'C:\\Users\\argon\\Documents\\UTS\\AI Capstone\\AI Project\\DeepNN\\Scripts\\python.exe -m pip install --upgrade pip' command.\n"
     ]
    }
   ],
   "source": [
    "# !pip list\n",
    "# !pip install -q seaborn"
   ]
  },
  {
   "cell_type": "code",
   "execution_count": 1,
   "id": "bae6688c",
   "metadata": {},
   "outputs": [],
   "source": [
    "import os\n",
    "import scipy.io as sio\n",
    "import pandas as pd\n",
    "from scipy.io import loadmat\n",
    "import datetime\n",
    "from pandas import DataFrame\n",
    "import matplotlib.pyplot as plt\n",
    "import numpy as np\n",
    "import seaborn as sns\n",
    "import warnings\n",
    "\n",
    "np.set_printoptions(precision=3, suppress=True)"
   ]
  },
  {
   "cell_type": "markdown",
   "id": "ab2a9a82",
   "metadata": {},
   "source": [
    "## Ingesting the data\n",
    "\n",
    "The following data is from a Nasa dataset with n refferring to the iteration number of the dataset used. \n",
    "\n",
    "    Voltage_measured: Fuel Cell terminal voltage (Volts)\n",
    "    Current_measured: Fuel Cell output current (Amps)\n",
    "    Temperature_measured: Fuel Cell temperature (degree C)\n",
    "    Current_load: Current measured at load (Amps)\n",
    "    Voltage_load: Voltage measured at load (Volts)\n",
    "    Time: Time vector for the cycle (seconds)\n",
    "    Capacity: Fuel Cell capacity (Ahr) for discharge till 2.7V\n",
    "    Datetime: the date and time of the start of the cycle\n",
    "    Ambient_temperature: Temperature in which the fuel cell is stored (degree C)\n",
    "    Cycle: Charge cycle of the fuel cell\n"
   ]
  },
  {
   "cell_type": "code",
   "execution_count": 2,
   "id": "aed8bdba",
   "metadata": {},
   "outputs": [
    {
     "data": {
      "text/html": [
       "<div>\n",
       "<style scoped>\n",
       "    .dataframe tbody tr th:only-of-type {\n",
       "        vertical-align: middle;\n",
       "    }\n",
       "\n",
       "    .dataframe tbody tr th {\n",
       "        vertical-align: top;\n",
       "    }\n",
       "\n",
       "    .dataframe thead th {\n",
       "        text-align: right;\n",
       "    }\n",
       "</style>\n",
       "<table border=\"1\" class=\"dataframe\">\n",
       "  <thead>\n",
       "    <tr style=\"text-align: right;\">\n",
       "      <th></th>\n",
       "      <th>cycle</th>\n",
       "      <th>ambient_temperature</th>\n",
       "      <th>datetime</th>\n",
       "      <th>voltage_measured</th>\n",
       "      <th>current_measured</th>\n",
       "      <th>temperature_measured</th>\n",
       "      <th>current</th>\n",
       "      <th>voltage</th>\n",
       "      <th>time</th>\n",
       "      <th>capacity</th>\n",
       "    </tr>\n",
       "  </thead>\n",
       "  <tbody>\n",
       "    <tr>\n",
       "      <th>0</th>\n",
       "      <td>1</td>\n",
       "      <td>24</td>\n",
       "      <td>2008-04-02 13:08:17</td>\n",
       "      <td>3.873017</td>\n",
       "      <td>-0.001201</td>\n",
       "      <td>24.655358</td>\n",
       "      <td>0.000</td>\n",
       "      <td>0.003</td>\n",
       "      <td>0.000</td>\n",
       "      <td>NaN</td>\n",
       "    </tr>\n",
       "    <tr>\n",
       "      <th>1</th>\n",
       "      <td>1</td>\n",
       "      <td>24</td>\n",
       "      <td>2008-04-02 13:08:17</td>\n",
       "      <td>4.206466</td>\n",
       "      <td>0.060136</td>\n",
       "      <td>24.241571</td>\n",
       "      <td>0.057</td>\n",
       "      <td>4.250</td>\n",
       "      <td>5314.703</td>\n",
       "      <td>NaN</td>\n",
       "    </tr>\n",
       "    <tr>\n",
       "      <th>2</th>\n",
       "      <td>1</td>\n",
       "      <td>24</td>\n",
       "      <td>2008-04-02 13:08:17</td>\n",
       "      <td>4.206558</td>\n",
       "      <td>0.057209</td>\n",
       "      <td>24.230457</td>\n",
       "      <td>0.057</td>\n",
       "      <td>4.250</td>\n",
       "      <td>5329.485</td>\n",
       "      <td>NaN</td>\n",
       "    </tr>\n",
       "    <tr>\n",
       "      <th>3</th>\n",
       "      <td>1</td>\n",
       "      <td>24</td>\n",
       "      <td>2008-04-02 13:08:17</td>\n",
       "      <td>4.205512</td>\n",
       "      <td>0.050194</td>\n",
       "      <td>24.241984</td>\n",
       "      <td>0.047</td>\n",
       "      <td>4.245</td>\n",
       "      <td>5344.282</td>\n",
       "      <td>NaN</td>\n",
       "    </tr>\n",
       "    <tr>\n",
       "      <th>4</th>\n",
       "      <td>1</td>\n",
       "      <td>24</td>\n",
       "      <td>2008-04-02 13:08:17</td>\n",
       "      <td>4.205301</td>\n",
       "      <td>0.047004</td>\n",
       "      <td>24.226732</td>\n",
       "      <td>0.047</td>\n",
       "      <td>4.245</td>\n",
       "      <td>5359.141</td>\n",
       "      <td>NaN</td>\n",
       "    </tr>\n",
       "  </tbody>\n",
       "</table>\n",
       "</div>"
      ],
      "text/plain": [
       "   cycle  ambient_temperature            datetime  voltage_measured  \\\n",
       "0      1                   24 2008-04-02 13:08:17          3.873017   \n",
       "1      1                   24 2008-04-02 13:08:17          4.206466   \n",
       "2      1                   24 2008-04-02 13:08:17          4.206558   \n",
       "3      1                   24 2008-04-02 13:08:17          4.205512   \n",
       "4      1                   24 2008-04-02 13:08:17          4.205301   \n",
       "\n",
       "   current_measured  temperature_measured  current  voltage      time  \\\n",
       "0         -0.001201             24.655358    0.000    0.003     0.000   \n",
       "1          0.060136             24.241571    0.057    4.250  5314.703   \n",
       "2          0.057209             24.230457    0.057    4.250  5329.485   \n",
       "3          0.050194             24.241984    0.047    4.245  5344.282   \n",
       "4          0.047004             24.226732    0.047    4.245  5359.141   \n",
       "\n",
       "   capacity  \n",
       "0       NaN  \n",
       "1       NaN  \n",
       "2       NaN  \n",
       "3       NaN  \n",
       "4       NaN  "
      ]
     },
     "execution_count": 2,
     "metadata": {},
     "output_type": "execute_result"
    }
   ],
   "source": [
    "n = 'B0005'\n",
    "df = pd.read_csv('data_frames/' + 'NASA_cycle_dataset_' + n +'.csv',\n",
    "                 parse_dates = [\"datetime\"]).drop([\"Unnamed: 0\"], axis = 1)\n",
    "df.head()"
   ]
  },
  {
   "cell_type": "markdown",
   "id": "cba4f3c8",
   "metadata": {},
   "source": [
    "## Beginning Data engineering\n",
    "\n",
    "In the Below cells we are attempting to fill in the missing values. A brief look at the dataset showed that each cycle potentially had a capacity for at least one of its rows. \n",
    "\n",
    "First we test that theory:"
   ]
  },
  {
   "cell_type": "code",
   "execution_count": 3,
   "id": "6ca09c7e",
   "metadata": {},
   "outputs": [
    {
     "data": {
      "text/html": [
       "<div>\n",
       "<style scoped>\n",
       "    .dataframe tbody tr th:only-of-type {\n",
       "        vertical-align: middle;\n",
       "    }\n",
       "\n",
       "    .dataframe tbody tr th {\n",
       "        vertical-align: top;\n",
       "    }\n",
       "\n",
       "    .dataframe thead th {\n",
       "        text-align: right;\n",
       "    }\n",
       "</style>\n",
       "<table border=\"1\" class=\"dataframe\">\n",
       "  <thead>\n",
       "    <tr style=\"text-align: right;\">\n",
       "      <th></th>\n",
       "      <th>capacity</th>\n",
       "    </tr>\n",
       "    <tr>\n",
       "      <th>cycle</th>\n",
       "      <th></th>\n",
       "    </tr>\n",
       "  </thead>\n",
       "  <tbody>\n",
       "    <tr>\n",
       "      <th>169</th>\n",
       "      <td>0</td>\n",
       "    </tr>\n",
       "    <tr>\n",
       "      <th>170</th>\n",
       "      <td>0</td>\n",
       "    </tr>\n",
       "  </tbody>\n",
       "</table>\n",
       "</div>"
      ],
      "text/plain": [
       "       capacity\n",
       "cycle          \n",
       "169           0\n",
       "170           0"
      ]
     },
     "execution_count": 3,
     "metadata": {},
     "output_type": "execute_result"
    }
   ],
   "source": [
    "capacity_counts = pd.DataFrame(df.groupby('cycle')['capacity'].nunique())\n",
    "zero_capacity_rows = capacity_counts[capacity_counts['capacity'] != 1]\n",
    "# capacity_counts\n",
    "zero_capacity_rows"
   ]
  },
  {
   "cell_type": "code",
   "execution_count": 4,
   "id": "cf6fa883",
   "metadata": {
    "scrolled": true
   },
   "outputs": [
    {
     "name": "stdout",
     "output_type": "stream",
     "text": [
      "The standard deviation of capacity is 0.1824.\n",
      "The average of capacity is 1.5603.\n",
      "This makes the standard deviation 11.69% of the mean\n"
     ]
    }
   ],
   "source": [
    "cap_std = df['capacity'].std()\n",
    "cap_mean = df['capacity'].mean()\n",
    "\n",
    "print(f\"The standard deviation of capacity is {round(cap_std, 4)}.\")\n",
    "print(f\"The average of capacity is {round(cap_mean, 4)}.\")\n",
    "print(f\"This makes the standard deviation {round(cap_std/cap_mean*100,2)}% of the mean\")"
   ]
  },
  {
   "cell_type": "markdown",
   "id": "09d459e3",
   "metadata": {},
   "source": [
    "The above cell shows that there is a singular battery capacity for each cycle except for 169 and 170.\n",
    "For now we shall remove those two cycles as there is a large amount of deviation."
   ]
  },
  {
   "cell_type": "code",
   "execution_count": 5,
   "id": "925ee0d8",
   "metadata": {},
   "outputs": [
    {
     "data": {
      "text/html": [
       "<div>\n",
       "<style scoped>\n",
       "    .dataframe tbody tr th:only-of-type {\n",
       "        vertical-align: middle;\n",
       "    }\n",
       "\n",
       "    .dataframe tbody tr th {\n",
       "        vertical-align: top;\n",
       "    }\n",
       "\n",
       "    .dataframe thead th {\n",
       "        text-align: right;\n",
       "    }\n",
       "</style>\n",
       "<table border=\"1\" class=\"dataframe\">\n",
       "  <thead>\n",
       "    <tr style=\"text-align: right;\">\n",
       "      <th></th>\n",
       "      <th>cycle</th>\n",
       "      <th>ambient_temperature</th>\n",
       "      <th>datetime</th>\n",
       "      <th>voltage_measured</th>\n",
       "      <th>current_measured</th>\n",
       "      <th>temperature_measured</th>\n",
       "      <th>current</th>\n",
       "      <th>voltage</th>\n",
       "      <th>time</th>\n",
       "      <th>capacity</th>\n",
       "    </tr>\n",
       "  </thead>\n",
       "  <tbody>\n",
       "    <tr>\n",
       "      <th>0</th>\n",
       "      <td>1</td>\n",
       "      <td>24</td>\n",
       "      <td>2008-04-02 13:08:17</td>\n",
       "      <td>3.873017</td>\n",
       "      <td>-0.001201</td>\n",
       "      <td>24.655358</td>\n",
       "      <td>0.000</td>\n",
       "      <td>0.003</td>\n",
       "      <td>0.000</td>\n",
       "      <td>1.856487</td>\n",
       "    </tr>\n",
       "    <tr>\n",
       "      <th>1</th>\n",
       "      <td>1</td>\n",
       "      <td>24</td>\n",
       "      <td>2008-04-02 13:08:17</td>\n",
       "      <td>4.206466</td>\n",
       "      <td>0.060136</td>\n",
       "      <td>24.241571</td>\n",
       "      <td>0.057</td>\n",
       "      <td>4.250</td>\n",
       "      <td>5314.703</td>\n",
       "      <td>1.856487</td>\n",
       "    </tr>\n",
       "    <tr>\n",
       "      <th>2</th>\n",
       "      <td>1</td>\n",
       "      <td>24</td>\n",
       "      <td>2008-04-02 13:08:17</td>\n",
       "      <td>4.206558</td>\n",
       "      <td>0.057209</td>\n",
       "      <td>24.230457</td>\n",
       "      <td>0.057</td>\n",
       "      <td>4.250</td>\n",
       "      <td>5329.485</td>\n",
       "      <td>1.856487</td>\n",
       "    </tr>\n",
       "    <tr>\n",
       "      <th>3</th>\n",
       "      <td>1</td>\n",
       "      <td>24</td>\n",
       "      <td>2008-04-02 13:08:17</td>\n",
       "      <td>4.205512</td>\n",
       "      <td>0.050194</td>\n",
       "      <td>24.241984</td>\n",
       "      <td>0.047</td>\n",
       "      <td>4.245</td>\n",
       "      <td>5344.282</td>\n",
       "      <td>1.856487</td>\n",
       "    </tr>\n",
       "    <tr>\n",
       "      <th>4</th>\n",
       "      <td>1</td>\n",
       "      <td>24</td>\n",
       "      <td>2008-04-02 13:08:17</td>\n",
       "      <td>4.205301</td>\n",
       "      <td>0.047004</td>\n",
       "      <td>24.226732</td>\n",
       "      <td>0.047</td>\n",
       "      <td>4.245</td>\n",
       "      <td>5359.141</td>\n",
       "      <td>1.856487</td>\n",
       "    </tr>\n",
       "  </tbody>\n",
       "</table>\n",
       "</div>"
      ],
      "text/plain": [
       "   cycle  ambient_temperature            datetime  voltage_measured  \\\n",
       "0      1                   24 2008-04-02 13:08:17          3.873017   \n",
       "1      1                   24 2008-04-02 13:08:17          4.206466   \n",
       "2      1                   24 2008-04-02 13:08:17          4.206558   \n",
       "3      1                   24 2008-04-02 13:08:17          4.205512   \n",
       "4      1                   24 2008-04-02 13:08:17          4.205301   \n",
       "\n",
       "   current_measured  temperature_measured  current  voltage      time  \\\n",
       "0         -0.001201             24.655358    0.000    0.003     0.000   \n",
       "1          0.060136             24.241571    0.057    4.250  5314.703   \n",
       "2          0.057209             24.230457    0.057    4.250  5329.485   \n",
       "3          0.050194             24.241984    0.047    4.245  5344.282   \n",
       "4          0.047004             24.226732    0.047    4.245  5359.141   \n",
       "\n",
       "   capacity  \n",
       "0  1.856487  \n",
       "1  1.856487  \n",
       "2  1.856487  \n",
       "3  1.856487  \n",
       "4  1.856487  "
      ]
     },
     "execution_count": 5,
     "metadata": {},
     "output_type": "execute_result"
    }
   ],
   "source": [
    "df = df[df['cycle'] <  169]\n",
    "caps = pd.DataFrame(df.groupby('cycle')['capacity'].max())\n",
    "temp = df.merge(caps, on='cycle', how='left').ffill()\n",
    "temp = temp.drop([\"capacity_x\"], axis = 1).rename(columns = {\"capacity_y\" : \"capacity\"})\n",
    "df = temp\n",
    "temp.head()"
   ]
  },
  {
   "cell_type": "code",
   "execution_count": 6,
   "id": "6d28ea6a-9c47-470d-8bc6-1aea4975390c",
   "metadata": {},
   "outputs": [
    {
     "name": "stdout",
     "output_type": "stream",
     "text": [
      "The number of unique vlaues for ambient_temperature is: 1 \n",
      "The Maximum value for voltage_measured is: 8.393141180564633 \n"
     ]
    }
   ],
   "source": [
    "print(f\"The number of unique vlaues for ambient_temperature is: {df['ambient_temperature'].nunique()} \")\n",
    "\n",
    "print(f\"The Maximum value for voltage_measured is: {df['voltage_measured'].max()} \")"
   ]
  },
  {
   "cell_type": "markdown",
   "id": "7c60beee-afcf-4042-9060-cbac729431e9",
   "metadata": {},
   "source": [
    "This shows that there is a consistency of ambient temperature in this dataset. This will be a limitation in the final model. We also need to check whether this voltage (which seems high)  is an outlier or not"
   ]
  },
  {
   "cell_type": "code",
   "execution_count": 7,
   "id": "2e792e1b-0a21-4219-8de7-d7902b7fd128",
   "metadata": {},
   "outputs": [
    {
     "data": {
      "image/png": "[encoded data removed]",
      "text/plain": [
       "<Figure size 640x480 with 1 Axes>"
      ]
     },
     "metadata": {},
     "output_type": "display_data"
    }
   ],
   "source": [
    "plt.hist(df['voltage_measured'], bins = 100)\n",
    "plt.xlabel('Voltage Measured')\n",
    "plt.ylabel('Frequency')\n",
    "plt.title('Distribution of Voltage Measured')\n",
    "plt.ylim(0,4)\n",
    "plt.show()"
   ]
  },
  {
   "cell_type": "markdown",
   "id": "c91c6c3b-72c0-43e5-b643-6a58e5f14bcd",
   "metadata": {},
   "source": [
    "As shown above, there is only a singular value above 4.xxxx, making the maximum vlaue shown above a clear outlier. We need to remove this value and so shall remove it."
   ]
  },
  {
   "cell_type": "code",
   "execution_count": 8,
   "id": "9c3434ca-4638-4d83-9b28-a11f3806dd78",
   "metadata": {},
   "outputs": [],
   "source": [
    "value = df['voltage_measured'].max()\n",
    "df = df[df['voltage_measured'] != value]"
   ]
  },
  {
   "cell_type": "code",
   "execution_count": 9,
   "id": "87434cf7-f281-492c-87b0-24dbbd815b0e",
   "metadata": {},
   "outputs": [
    {
     "data": {
      "image/png": "[encoded data removed]",
      "text/plain": [
       "<Figure size 640x480 with 1 Axes>"
      ]
     },
     "metadata": {},
     "output_type": "display_data"
    }
   ],
   "source": [
    "plt.hist(df['voltage_measured'], bins = 100)\n",
    "plt.xlabel('Voltage Measured')\n",
    "plt.ylabel('Frequency')\n",
    "plt.title('Distribution of Voltage Measured')\n",
    "plt.ylim(0,50)\n",
    "plt.show()"
   ]
  },
  {
   "cell_type": "code",
   "execution_count": 10,
   "id": "16eb80d2-12f0-436d-81bd-b50e5f6f8c63",
   "metadata": {},
   "outputs": [
    {
     "data": {
      "text/plain": [
       "<matplotlib.collections.PathCollection at 0x1603558b5e0>"
      ]
     },
     "execution_count": 10,
     "metadata": {},
     "output_type": "execute_result"
    },
    {
     "data": {
      "image/png": "[encoded data removed]",
      "text/plain": [
       "<Figure size 640x480 with 1 Axes>"
      ]
     },
     "metadata": {},
     "output_type": "display_data"
    }
   ],
   "source": [
    "cycle = 5\n",
    "plt.scatter(df[df['cycle'] == cycle]['datetime'], df[df['cycle'] == cycle]['voltage_measured'])"
   ]
  },
  {
   "cell_type": "code",
   "execution_count": 11,
   "id": "14ae22c4-cc45-435f-9c32-c2c2430f6ff8",
   "metadata": {},
   "outputs": [
    {
     "data": {
      "text/html": [
       "<div>\n",
       "<style scoped>\n",
       "    .dataframe tbody tr th:only-of-type {\n",
       "        vertical-align: middle;\n",
       "    }\n",
       "\n",
       "    .dataframe tbody tr th {\n",
       "        vertical-align: top;\n",
       "    }\n",
       "\n",
       "    .dataframe thead th {\n",
       "        text-align: right;\n",
       "    }\n",
       "</style>\n",
       "<table border=\"1\" class=\"dataframe\">\n",
       "  <thead>\n",
       "    <tr style=\"text-align: right;\">\n",
       "      <th></th>\n",
       "      <th>cycle</th>\n",
       "      <th>ambient_temperature</th>\n",
       "      <th>datetime</th>\n",
       "      <th>voltage_measured</th>\n",
       "      <th>current_measured</th>\n",
       "      <th>temperature_measured</th>\n",
       "      <th>current</th>\n",
       "      <th>voltage</th>\n",
       "      <th>time</th>\n",
       "      <th>capacity</th>\n",
       "      <th>SOC</th>\n",
       "    </tr>\n",
       "  </thead>\n",
       "  <tbody>\n",
       "    <tr>\n",
       "      <th>0</th>\n",
       "      <td>1</td>\n",
       "      <td>24</td>\n",
       "      <td>2008-04-02 13:08:17</td>\n",
       "      <td>3.873017</td>\n",
       "      <td>-0.001201</td>\n",
       "      <td>24.655358</td>\n",
       "      <td>0.000</td>\n",
       "      <td>0.003</td>\n",
       "      <td>0.000</td>\n",
       "      <td>1.856487</td>\n",
       "      <td>0.726910</td>\n",
       "    </tr>\n",
       "    <tr>\n",
       "      <th>1</th>\n",
       "      <td>1</td>\n",
       "      <td>24</td>\n",
       "      <td>2008-04-02 13:08:17</td>\n",
       "      <td>4.206466</td>\n",
       "      <td>0.060136</td>\n",
       "      <td>24.241571</td>\n",
       "      <td>0.057</td>\n",
       "      <td>4.250</td>\n",
       "      <td>5314.703</td>\n",
       "      <td>1.856487</td>\n",
       "      <td>0.933546</td>\n",
       "    </tr>\n",
       "    <tr>\n",
       "      <th>2</th>\n",
       "      <td>1</td>\n",
       "      <td>24</td>\n",
       "      <td>2008-04-02 13:08:17</td>\n",
       "      <td>4.206558</td>\n",
       "      <td>0.057209</td>\n",
       "      <td>24.230457</td>\n",
       "      <td>0.057</td>\n",
       "      <td>4.250</td>\n",
       "      <td>5329.485</td>\n",
       "      <td>1.856487</td>\n",
       "      <td>0.933602</td>\n",
       "    </tr>\n",
       "    <tr>\n",
       "      <th>3</th>\n",
       "      <td>1</td>\n",
       "      <td>24</td>\n",
       "      <td>2008-04-02 13:08:17</td>\n",
       "      <td>4.205512</td>\n",
       "      <td>0.050194</td>\n",
       "      <td>24.241984</td>\n",
       "      <td>0.047</td>\n",
       "      <td>4.245</td>\n",
       "      <td>5344.282</td>\n",
       "      <td>1.856487</td>\n",
       "      <td>0.932955</td>\n",
       "    </tr>\n",
       "    <tr>\n",
       "      <th>4</th>\n",
       "      <td>1</td>\n",
       "      <td>24</td>\n",
       "      <td>2008-04-02 13:08:17</td>\n",
       "      <td>4.205301</td>\n",
       "      <td>0.047004</td>\n",
       "      <td>24.226732</td>\n",
       "      <td>0.047</td>\n",
       "      <td>4.245</td>\n",
       "      <td>5359.141</td>\n",
       "      <td>1.856487</td>\n",
       "      <td>0.932824</td>\n",
       "    </tr>\n",
       "  </tbody>\n",
       "</table>\n",
       "</div>"
      ],
      "text/plain": [
       "   cycle  ambient_temperature            datetime  voltage_measured  \\\n",
       "0      1                   24 2008-04-02 13:08:17          3.873017   \n",
       "1      1                   24 2008-04-02 13:08:17          4.206466   \n",
       "2      1                   24 2008-04-02 13:08:17          4.206558   \n",
       "3      1                   24 2008-04-02 13:08:17          4.205512   \n",
       "4      1                   24 2008-04-02 13:08:17          4.205301   \n",
       "\n",
       "   current_measured  temperature_measured  current  voltage      time  \\\n",
       "0         -0.001201             24.655358    0.000    0.003     0.000   \n",
       "1          0.060136             24.241571    0.057    4.250  5314.703   \n",
       "2          0.057209             24.230457    0.057    4.250  5329.485   \n",
       "3          0.050194             24.241984    0.047    4.245  5344.282   \n",
       "4          0.047004             24.226732    0.047    4.245  5359.141   \n",
       "\n",
       "   capacity       SOC  \n",
       "0  1.856487  0.726910  \n",
       "1  1.856487  0.933546  \n",
       "2  1.856487  0.933602  \n",
       "3  1.856487  0.932955  \n",
       "4  1.856487  0.932824  "
      ]
     },
     "execution_count": 11,
     "metadata": {},
     "output_type": "execute_result"
    }
   ],
   "source": [
    "with warnings.catch_warnings():\n",
    "    warnings.simplefilter(\"ignore\")\n",
    "    df['SOC'] = ((df['voltage_measured'] - 2.7)/(df['voltage_measured'].max() - 2.7))\n",
    "\n",
    "df.head()"
   ]
  },
  {
   "cell_type": "markdown",
   "id": "00ffc1e0",
   "metadata": {},
   "source": [
    "# Machine Learning (DBN)\n",
    "\n",
    "Now we begin to build our Deep Belief Network"
   ]
  },
  {
   "cell_type": "code",
   "execution_count": 12,
   "id": "aa6e2121",
   "metadata": {
    "tags": []
   },
   "outputs": [],
   "source": [
    "import tensorflow as tf\n",
    "from tensorflow.keras.models import load_model, Model\n",
    "from tensorflow.keras.layers import Input, Dense\n",
    "from sklearn.metrics import accuracy_score, mean_squared_error, mean_absolute_error, r2_score\n",
    "from tensorflow import keras"
   ]
  },
  {
   "cell_type": "code",
   "execution_count": 13,
   "id": "443de402-83dd-4cd7-abd8-24ec938cba6e",
   "metadata": {},
   "outputs": [],
   "source": [
    "gpus = tf.config.experimental.list_physical_devices('GPU')\n",
    "for gpu in gpus:\n",
    "    tf.config.experimental.set_memory_growth(gpu, True)"
   ]
  },
  {
   "cell_type": "code",
   "execution_count": 14,
   "id": "a32a554c-65e7-4a40-86f3-1c9d92cc5059",
   "metadata": {},
   "outputs": [
    {
     "data": {
      "text/plain": [
       "[PhysicalDevice(name='/physical_device:GPU:0', device_type='GPU')]"
      ]
     },
     "execution_count": 14,
     "metadata": {},
     "output_type": "execute_result"
    }
   ],
   "source": [
    "tf.config.experimental.list_physical_devices('GPU')"
   ]
  },
  {
   "cell_type": "code",
   "execution_count": 15,
   "id": "5f63aae9-e107-4ad5-9b19-165a14911984",
   "metadata": {},
   "outputs": [],
   "source": [
    "prep_df = df.drop(['datetime', 'ambient_temperature', 'capacity'], axis = 1)\n",
    "train_dataset = prep_df.sample(frac=0.8, random_state = 0)\n",
    "test_dataset = prep_df.drop(train_dataset.index)"
   ]
  },
  {
   "cell_type": "code",
   "execution_count": 16,
   "id": "128da8c4-19bc-469d-b316-d8d9e5335f5d",
   "metadata": {},
   "outputs": [
    {
     "data": {
      "text/html": [
       "<div>\n",
       "<style scoped>\n",
       "    .dataframe tbody tr th:only-of-type {\n",
       "        vertical-align: middle;\n",
       "    }\n",
       "\n",
       "    .dataframe tbody tr th {\n",
       "        vertical-align: top;\n",
       "    }\n",
       "\n",
       "    .dataframe thead th {\n",
       "        text-align: right;\n",
       "    }\n",
       "</style>\n",
       "<table border=\"1\" class=\"dataframe\">\n",
       "  <thead>\n",
       "    <tr style=\"text-align: right;\">\n",
       "      <th></th>\n",
       "      <th>count</th>\n",
       "      <th>mean</th>\n",
       "      <th>std</th>\n",
       "      <th>min</th>\n",
       "      <th>25%</th>\n",
       "      <th>50%</th>\n",
       "      <th>75%</th>\n",
       "      <th>max</th>\n",
       "    </tr>\n",
       "  </thead>\n",
       "  <tbody>\n",
       "    <tr>\n",
       "      <th>cycle</th>\n",
       "      <td>470278.0</td>\n",
       "      <td>95.409326</td>\n",
       "      <td>42.773550</td>\n",
       "      <td>1.000000</td>\n",
       "      <td>60.000000</td>\n",
       "      <td>96.000000</td>\n",
       "      <td>132.000000</td>\n",
       "      <td>168.000000</td>\n",
       "    </tr>\n",
       "    <tr>\n",
       "      <th>voltage_measured</th>\n",
       "      <td>470278.0</td>\n",
       "      <td>4.103417</td>\n",
       "      <td>0.213920</td>\n",
       "      <td>2.471315</td>\n",
       "      <td>4.087951</td>\n",
       "      <td>4.205138</td>\n",
       "      <td>4.205908</td>\n",
       "      <td>4.313703</td>\n",
       "    </tr>\n",
       "    <tr>\n",
       "      <th>current_measured</th>\n",
       "      <td>470278.0</td>\n",
       "      <td>0.368397</td>\n",
       "      <td>0.909215</td>\n",
       "      <td>-4.479660</td>\n",
       "      <td>0.039570</td>\n",
       "      <td>0.171744</td>\n",
       "      <td>1.262769</td>\n",
       "      <td>1.530376</td>\n",
       "    </tr>\n",
       "    <tr>\n",
       "      <th>temperature_measured</th>\n",
       "      <td>470278.0</td>\n",
       "      <td>26.375034</td>\n",
       "      <td>2.778459</td>\n",
       "      <td>23.214802</td>\n",
       "      <td>24.489700</td>\n",
       "      <td>25.483258</td>\n",
       "      <td>27.353311</td>\n",
       "      <td>41.436500</td>\n",
       "    </tr>\n",
       "    <tr>\n",
       "      <th>current</th>\n",
       "      <td>470278.0</td>\n",
       "      <td>0.635259</td>\n",
       "      <td>0.737868</td>\n",
       "      <td>-4.468000</td>\n",
       "      <td>0.057000</td>\n",
       "      <td>0.261000</td>\n",
       "      <td>1.498000</td>\n",
       "      <td>1.998400</td>\n",
       "    </tr>\n",
       "    <tr>\n",
       "      <th>voltage</th>\n",
       "      <td>470278.0</td>\n",
       "      <td>4.021590</td>\n",
       "      <td>1.212991</td>\n",
       "      <td>0.000000</td>\n",
       "      <td>4.240000</td>\n",
       "      <td>4.305000</td>\n",
       "      <td>4.656000</td>\n",
       "      <td>5.002000</td>\n",
       "    </tr>\n",
       "    <tr>\n",
       "      <th>time</th>\n",
       "      <td>470278.0</td>\n",
       "      <td>4764.131279</td>\n",
       "      <td>3149.310763</td>\n",
       "      <td>0.000000</td>\n",
       "      <td>1925.250000</td>\n",
       "      <td>4465.765000</td>\n",
       "      <td>7505.461250</td>\n",
       "      <td>10807.328000</td>\n",
       "    </tr>\n",
       "    <tr>\n",
       "      <th>SOC</th>\n",
       "      <td>470278.0</td>\n",
       "      <td>0.869687</td>\n",
       "      <td>0.132564</td>\n",
       "      <td>-0.141715</td>\n",
       "      <td>0.860103</td>\n",
       "      <td>0.932723</td>\n",
       "      <td>0.933200</td>\n",
       "      <td>1.000000</td>\n",
       "    </tr>\n",
       "  </tbody>\n",
       "</table>\n",
       "</div>"
      ],
      "text/plain": [
       "                         count         mean          std        min  \\\n",
       "cycle                 470278.0    95.409326    42.773550   1.000000   \n",
       "voltage_measured      470278.0     4.103417     0.213920   2.471315   \n",
       "current_measured      470278.0     0.368397     0.909215  -4.479660   \n",
       "temperature_measured  470278.0    26.375034     2.778459  23.214802   \n",
       "current               470278.0     0.635259     0.737868  -4.468000   \n",
       "voltage               470278.0     4.021590     1.212991   0.000000   \n",
       "time                  470278.0  4764.131279  3149.310763   0.000000   \n",
       "SOC                   470278.0     0.869687     0.132564  -0.141715   \n",
       "\n",
       "                              25%          50%          75%           max  \n",
       "cycle                   60.000000    96.000000   132.000000    168.000000  \n",
       "voltage_measured         4.087951     4.205138     4.205908      4.313703  \n",
       "current_measured         0.039570     0.171744     1.262769      1.530376  \n",
       "temperature_measured    24.489700    25.483258    27.353311     41.436500  \n",
       "current                  0.057000     0.261000     1.498000      1.998400  \n",
       "voltage                  4.240000     4.305000     4.656000      5.002000  \n",
       "time                  1925.250000  4465.765000  7505.461250  10807.328000  \n",
       "SOC                      0.860103     0.932723     0.933200      1.000000  "
      ]
     },
     "execution_count": 16,
     "metadata": {},
     "output_type": "execute_result"
    }
   ],
   "source": [
    "train_dataset.describe().transpose()"
   ]
  },
  {
   "cell_type": "markdown",
   "id": "a444c734-292f-456a-9ce2-d7bbad31a537",
   "metadata": {},
   "source": [
    "## Normalisation\n",
    "\n",
    "Here we will normalise the values to give equal weight to each feature"
   ]
  },
  {
   "cell_type": "code",
   "execution_count": 17,
   "id": "6510a98a-d85f-4413-9ee2-065547e1d499",
   "metadata": {},
   "outputs": [
    {
     "data": {
      "text/html": [
       "<div>\n",
       "<style scoped>\n",
       "    .dataframe tbody tr th:only-of-type {\n",
       "        vertical-align: middle;\n",
       "    }\n",
       "\n",
       "    .dataframe tbody tr th {\n",
       "        vertical-align: top;\n",
       "    }\n",
       "\n",
       "    .dataframe thead th {\n",
       "        text-align: right;\n",
       "    }\n",
       "</style>\n",
       "<table border=\"1\" class=\"dataframe\">\n",
       "  <thead>\n",
       "    <tr style=\"text-align: right;\">\n",
       "      <th></th>\n",
       "      <th>cycle</th>\n",
       "      <th>voltage_measured</th>\n",
       "      <th>current_measured</th>\n",
       "      <th>temperature_measured</th>\n",
       "      <th>current</th>\n",
       "      <th>voltage</th>\n",
       "      <th>time</th>\n",
       "      <th>SOC</th>\n",
       "    </tr>\n",
       "  </thead>\n",
       "  <tbody>\n",
       "    <tr>\n",
       "      <th>489564</th>\n",
       "      <td>1.135998</td>\n",
       "      <td>-0.142636</td>\n",
       "      <td>1.256754</td>\n",
       "      <td>0.213179</td>\n",
       "      <td>1.169235</td>\n",
       "      <td>0.656567</td>\n",
       "      <td>-1.209409</td>\n",
       "      <td>-0.142636</td>\n",
       "    </tr>\n",
       "    <tr>\n",
       "      <th>383689</th>\n",
       "      <td>0.528146</td>\n",
       "      <td>0.460087</td>\n",
       "      <td>-0.403915</td>\n",
       "      <td>-0.702922</td>\n",
       "      <td>-0.860939</td>\n",
       "      <td>-3.312958</td>\n",
       "      <td>1.751353</td>\n",
       "      <td>0.460087</td>\n",
       "    </tr>\n",
       "    <tr>\n",
       "      <th>580550</th>\n",
       "      <td>1.673714</td>\n",
       "      <td>0.477688</td>\n",
       "      <td>-0.315403</td>\n",
       "      <td>-0.783657</td>\n",
       "      <td>-0.752518</td>\n",
       "      <td>0.197372</td>\n",
       "      <td>0.651658</td>\n",
       "      <td>0.477688</td>\n",
       "    </tr>\n",
       "    <tr>\n",
       "      <th>110451</th>\n",
       "      <td>-1.038243</td>\n",
       "      <td>0.484764</td>\n",
       "      <td>-0.370965</td>\n",
       "      <td>-0.158375</td>\n",
       "      <td>-0.818926</td>\n",
       "      <td>0.180059</td>\n",
       "      <td>1.414345</td>\n",
       "      <td>0.484764</td>\n",
       "    </tr>\n",
       "    <tr>\n",
       "      <th>354821</th>\n",
       "      <td>0.364493</td>\n",
       "      <td>0.483930</td>\n",
       "      <td>0.786718</td>\n",
       "      <td>1.419882</td>\n",
       "      <td>0.594606</td>\n",
       "      <td>0.598858</td>\n",
       "      <td>-0.741414</td>\n",
       "      <td>0.483930</td>\n",
       "    </tr>\n",
       "  </tbody>\n",
       "</table>\n",
       "</div>"
      ],
      "text/plain": [
       "           cycle  voltage_measured  current_measured  temperature_measured  \\\n",
       "489564  1.135998         -0.142636          1.256754              0.213179   \n",
       "383689  0.528146          0.460087         -0.403915             -0.702922   \n",
       "580550  1.673714          0.477688         -0.315403             -0.783657   \n",
       "110451 -1.038243          0.484764         -0.370965             -0.158375   \n",
       "354821  0.364493          0.483930          0.786718              1.419882   \n",
       "\n",
       "         current   voltage      time       SOC  \n",
       "489564  1.169235  0.656567 -1.209409 -0.142636  \n",
       "383689 -0.860939 -3.312958  1.751353  0.460087  \n",
       "580550 -0.752518  0.197372  0.651658  0.477688  \n",
       "110451 -0.818926  0.180059  1.414345  0.484764  \n",
       "354821  0.594606  0.598858 -0.741414  0.483930  "
      ]
     },
     "execution_count": 17,
     "metadata": {},
     "output_type": "execute_result"
    }
   ],
   "source": [
    "# Test data is *not* used when calculating the mean and std.\n",
    "mean = train_dataset.mean(axis=0)\n",
    "std = train_dataset.std(axis=0)\n",
    "train_dataset = (train_dataset - mean) / std\n",
    "test_dataset = (test_dataset - mean) / std\n",
    "\n",
    "train_dataset.head()  # First training sample, normalized"
   ]
  },
  {
   "cell_type": "code",
   "execution_count": 18,
   "id": "49a4877c-50cb-4c76-80d4-6c227aee6226",
   "metadata": {},
   "outputs": [
    {
     "name": "stdout",
     "output_type": "stream",
     "text": [
      "cycle                   1.135998\n",
      "voltage_measured       -0.142636\n",
      "current_measured        1.256754\n",
      "temperature_measured    0.213179\n",
      "current                 1.169235\n",
      "voltage                 0.656567\n",
      "time                   -1.209409\n",
      "SOC                    -0.142636\n",
      "Name: 489564, dtype: float64\n",
      "--------------------------\n",
      "cycle                   1.135998\n",
      "voltage_measured       -0.142636\n",
      "current_measured        1.256754\n",
      "temperature_measured    0.213179\n",
      "current                 1.169235\n",
      "voltage                 0.656567\n",
      "time                   -1.209409\n",
      "Name: 489564, dtype: float64\n"
     ]
    }
   ],
   "source": [
    "# These are the features\n",
    "train_features = train_dataset.copy()\n",
    "test_features = test_dataset.copy()\n",
    "print(train_features.iloc[0])\n",
    "# These contain the target variables\n",
    "train_labels = train_features.pop('SOC')\n",
    "test_labels = test_features.pop('SOC')\n",
    "print('--------------------------')\n",
    "print(train_features.iloc[0])"
   ]
  },
  {
   "cell_type": "code",
   "execution_count": 19,
   "id": "e9f4d9ad-ae4d-4282-8519-d7f552c489f8",
   "metadata": {},
   "outputs": [
    {
     "data": {
      "text/html": [
       "<div>\n",
       "<style scoped>\n",
       "    .dataframe tbody tr th:only-of-type {\n",
       "        vertical-align: middle;\n",
       "    }\n",
       "\n",
       "    .dataframe tbody tr th {\n",
       "        vertical-align: top;\n",
       "    }\n",
       "\n",
       "    .dataframe thead th {\n",
       "        text-align: right;\n",
       "    }\n",
       "</style>\n",
       "<table border=\"1\" class=\"dataframe\">\n",
       "  <thead>\n",
       "    <tr style=\"text-align: right;\">\n",
       "      <th></th>\n",
       "      <th>cycle</th>\n",
       "      <th>voltage_measured</th>\n",
       "      <th>current_measured</th>\n",
       "      <th>temperature_measured</th>\n",
       "      <th>current</th>\n",
       "      <th>voltage</th>\n",
       "      <th>time</th>\n",
       "      <th>SOC</th>\n",
       "    </tr>\n",
       "  </thead>\n",
       "  <tbody>\n",
       "    <tr>\n",
       "      <th>489564</th>\n",
       "      <td>1.135998</td>\n",
       "      <td>-0.142636</td>\n",
       "      <td>1.256754</td>\n",
       "      <td>0.213179</td>\n",
       "      <td>1.169235</td>\n",
       "      <td>0.656567</td>\n",
       "      <td>-1.209409</td>\n",
       "      <td>-0.142636</td>\n",
       "    </tr>\n",
       "    <tr>\n",
       "      <th>383689</th>\n",
       "      <td>0.528146</td>\n",
       "      <td>0.460087</td>\n",
       "      <td>-0.403915</td>\n",
       "      <td>-0.702922</td>\n",
       "      <td>-0.860939</td>\n",
       "      <td>-3.312958</td>\n",
       "      <td>1.751353</td>\n",
       "      <td>0.460087</td>\n",
       "    </tr>\n",
       "    <tr>\n",
       "      <th>580550</th>\n",
       "      <td>1.673714</td>\n",
       "      <td>0.477688</td>\n",
       "      <td>-0.315403</td>\n",
       "      <td>-0.783657</td>\n",
       "      <td>-0.752518</td>\n",
       "      <td>0.197372</td>\n",
       "      <td>0.651658</td>\n",
       "      <td>0.477688</td>\n",
       "    </tr>\n",
       "    <tr>\n",
       "      <th>110451</th>\n",
       "      <td>-1.038243</td>\n",
       "      <td>0.484764</td>\n",
       "      <td>-0.370965</td>\n",
       "      <td>-0.158375</td>\n",
       "      <td>-0.818926</td>\n",
       "      <td>0.180059</td>\n",
       "      <td>1.414345</td>\n",
       "      <td>0.484764</td>\n",
       "    </tr>\n",
       "    <tr>\n",
       "      <th>354821</th>\n",
       "      <td>0.364493</td>\n",
       "      <td>0.483930</td>\n",
       "      <td>0.786718</td>\n",
       "      <td>1.419882</td>\n",
       "      <td>0.594606</td>\n",
       "      <td>0.598858</td>\n",
       "      <td>-0.741414</td>\n",
       "      <td>0.483930</td>\n",
       "    </tr>\n",
       "  </tbody>\n",
       "</table>\n",
       "</div>"
      ],
      "text/plain": [
       "           cycle  voltage_measured  current_measured  temperature_measured  \\\n",
       "489564  1.135998         -0.142636          1.256754              0.213179   \n",
       "383689  0.528146          0.460087         -0.403915             -0.702922   \n",
       "580550  1.673714          0.477688         -0.315403             -0.783657   \n",
       "110451 -1.038243          0.484764         -0.370965             -0.158375   \n",
       "354821  0.364493          0.483930          0.786718              1.419882   \n",
       "\n",
       "         current   voltage      time       SOC  \n",
       "489564  1.169235  0.656567 -1.209409 -0.142636  \n",
       "383689 -0.860939 -3.312958  1.751353  0.460087  \n",
       "580550 -0.752518  0.197372  0.651658  0.477688  \n",
       "110451 -0.818926  0.180059  1.414345  0.484764  \n",
       "354821  0.594606  0.598858 -0.741414  0.483930  "
      ]
     },
     "execution_count": 19,
     "metadata": {},
     "output_type": "execute_result"
    }
   ],
   "source": [
    "train_dataset.head()"
   ]
  },
  {
   "cell_type": "code",
   "execution_count": 20,
   "id": "2b74046f-f7c7-423a-9c8b-b05057120f59",
   "metadata": {},
   "outputs": [
    {
     "data": {
      "text/plain": [
       "7"
      ]
     },
     "execution_count": 20,
     "metadata": {},
     "output_type": "execute_result"
    }
   ],
   "source": [
    "num_rows = train_features.shape[1]\n",
    "num_rows"
   ]
  },
  {
   "cell_type": "markdown",
   "id": "7402ec9c-e773-48e3-83c2-12004905635e",
   "metadata": {},
   "source": [
    "## Regression with DBN"
   ]
  },
  {
   "cell_type": "code",
   "execution_count": 40,
   "id": "bb0ceff5-99e0-41ab-9ff8-57aef0c51511",
   "metadata": {},
   "outputs": [],
   "source": [
    "def build_and_compile_model():\n",
    "    # Define the model architecture\n",
    "    model = keras.models.Sequential()\n",
    "\n",
    "    # Input layer\n",
    "    model.add(Dense(64, input_dim=num_rows, activation='relu'))\n",
    "\n",
    "    # Hidden layers\n",
    "    model.add(Dense(128, activation='relu'))\n",
    "    model.add(Dense(128, activation='relu'))\n",
    "\n",
    "    # Output layer - since we're doing regression, we have a single output node with no activation function\n",
    "    model.add(Dense(1))\n",
    "\n",
    "    # Compile the model - using Mean Squared Error (MSE) as the loss function for regression\n",
    "    model.compile(optimizer=keras.optimizers.Adam(), loss='mean_squared_error', \n",
    "                  metrics=['mean_squared_error', 'mean_absolute_error'])\n",
    "    return model\n",
    "                 \n",
    "\n",
    "def plot_loss(history, title):\n",
    "    plt.plot(history.history['loss'], label='loss')\n",
    "    plt.plot(history.history['val_loss'], label='val_loss')\n",
    "    # plt.ylim([0, 1])\n",
    "    plt.xlabel('Epoch')\n",
    "    plt.ylabel('Error [SOC]')\n",
    "    plt.title(title)\n",
    "    plt.legend()\n",
    "    plt.grid(True)"
   ]
  },
  {
   "cell_type": "code",
   "execution_count": 41,
   "id": "323a757d-033e-4648-b1c2-d4f6c22573b5",
   "metadata": {},
   "outputs": [
    {
     "name": "stdout",
     "output_type": "stream",
     "text": [
      "Model: \"sequential_1\"\n",
      "_________________________________________________________________\n",
      " Layer (type)                Output Shape              Param #   \n",
      "=================================================================\n",
      " dense_4 (Dense)             (None, 64)                512       \n",
      "                                                                 \n",
      " dense_5 (Dense)             (None, 128)               8320      \n",
      "                                                                 \n",
      " dense_6 (Dense)             (None, 128)               16512     \n",
      "                                                                 \n",
      " dense_7 (Dense)             (None, 1)                 129       \n",
      "                                                                 \n",
      "=================================================================\n",
      "Total params: 25,473\n",
      "Trainable params: 25,473\n",
      "Non-trainable params: 0\n",
      "_________________________________________________________________\n"
     ]
    }
   ],
   "source": [
    "dbn_model = build_and_compile_model()\n",
    "dbn_model.summary()"
   ]
  },
  {
   "cell_type": "code",
   "execution_count": 45,
   "id": "84dbf431-7dde-4b94-91db-2c2c0ee994a6",
   "metadata": {},
   "outputs": [],
   "source": [
    "epochs = 40\n",
    "checkpoint_filepath = os.path.join('checkpoints', 'DBN_SOC{epoch:02d}-{val_loss:.4f}.h5')\n",
    "model_checkpoint_callback = keras.callbacks.ModelCheckpoint(\n",
    "    filepath=checkpoint_filepath,\n",
    "    save_weights_only=True,\n",
    "    monitor='mean_squared_error',\n",
    "    mode='min',\n",
    "    save_best_only=True)\n",
    "\n",
    "if 'history' not in locals():\n",
    "    print('New History array has been created')\n",
    "    history =  []"
   ]
  },
  {
   "cell_type": "code",
   "execution_count": 53,
   "id": "25d39640-219b-4b4a-9dd3-f14afd0d2f97",
   "metadata": {},
   "outputs": [
    {
     "name": "stdout",
     "output_type": "stream",
     "text": [
      "Epoch 1/40\n",
      "11757/11757 [==============================] - 61s 5ms/step - loss: 8.4620e-05 - mean_squared_error: 8.4620e-05 - mean_absolute_error: 0.0036 - val_loss: 3.6121e-05 - val_mean_squared_error: 3.6121e-05 - val_mean_absolute_error: 0.0035\n",
      "Epoch 2/40\n",
      "11757/11757 [==============================] - 60s 5ms/step - loss: 5.1630e-05 - mean_squared_error: 5.1630e-05 - mean_absolute_error: 0.0032 - val_loss: 4.4346e-05 - val_mean_squared_error: 4.4346e-05 - val_mean_absolute_error: 0.0038\n",
      "Epoch 3/40\n",
      "11757/11757 [==============================] - 62s 5ms/step - loss: 6.4997e-05 - mean_squared_error: 6.4997e-05 - mean_absolute_error: 0.0027 - val_loss: 2.8128e-04 - val_mean_squared_error: 2.8128e-04 - val_mean_absolute_error: 0.0094\n",
      "Epoch 4/40\n",
      "11757/11757 [==============================] - 61s 5ms/step - loss: 4.0650e-05 - mean_squared_error: 4.0650e-05 - mean_absolute_error: 0.0022 - val_loss: 3.2130e-06 - val_mean_squared_error: 3.2130e-06 - val_mean_absolute_error: 0.0013\n",
      "Epoch 5/40\n",
      "11757/11757 [==============================] - 58s 5ms/step - loss: 4.0351e-05 - mean_squared_error: 4.0351e-05 - mean_absolute_error: 0.0020 - val_loss: 5.0482e-06 - val_mean_squared_error: 5.0482e-06 - val_mean_absolute_error: 0.0014\n",
      "Epoch 6/40\n",
      "11757/11757 [==============================] - 57s 5ms/step - loss: 2.5686e-05 - mean_squared_error: 2.5686e-05 - mean_absolute_error: 0.0017 - val_loss: 4.9177e-06 - val_mean_squared_error: 4.9177e-06 - val_mean_absolute_error: 0.0013\n",
      "Epoch 7/40\n",
      "11757/11757 [==============================] - 57s 5ms/step - loss: 3.1356e-05 - mean_squared_error: 3.1356e-05 - mean_absolute_error: 0.0015 - val_loss: 2.4001e-04 - val_mean_squared_error: 2.4001e-04 - val_mean_absolute_error: 0.0071\n",
      "Epoch 8/40\n",
      "11757/11757 [==============================] - 57s 5ms/step - loss: 2.5986e-05 - mean_squared_error: 2.5986e-05 - mean_absolute_error: 0.0015 - val_loss: 1.7897e-06 - val_mean_squared_error: 1.7897e-06 - val_mean_absolute_error: 0.0011\n",
      "Epoch 9/40\n",
      "11757/11757 [==============================] - 59s 5ms/step - loss: 2.2986e-05 - mean_squared_error: 2.2986e-05 - mean_absolute_error: 0.0014 - val_loss: 1.0259e-05 - val_mean_squared_error: 1.0259e-05 - val_mean_absolute_error: 0.0021\n",
      "Epoch 10/40\n",
      "11757/11757 [==============================] - 62s 5ms/step - loss: 1.9289e-05 - mean_squared_error: 1.9289e-05 - mean_absolute_error: 0.0013 - val_loss: 3.8000e-06 - val_mean_squared_error: 3.8000e-06 - val_mean_absolute_error: 0.0014\n",
      "Epoch 11/40\n",
      "11757/11757 [==============================] - 59s 5ms/step - loss: 2.8898e-05 - mean_squared_error: 2.8898e-05 - mean_absolute_error: 0.0013 - val_loss: 4.5033e-07 - val_mean_squared_error: 4.5033e-07 - val_mean_absolute_error: 4.6117e-04\n",
      "Epoch 12/40\n",
      "11757/11757 [==============================] - 57s 5ms/step - loss: 1.6943e-05 - mean_squared_error: 1.6943e-05 - mean_absolute_error: 0.0012 - val_loss: 1.4173e-06 - val_mean_squared_error: 1.4173e-06 - val_mean_absolute_error: 6.3601e-04\n",
      "Epoch 13/40\n",
      "11757/11757 [==============================] - 54s 5ms/step - loss: 1.8794e-05 - mean_squared_error: 1.8794e-05 - mean_absolute_error: 0.0013 - val_loss: 3.3089e-07 - val_mean_squared_error: 3.3089e-07 - val_mean_absolute_error: 3.2672e-04\n",
      "Epoch 14/40\n",
      "11757/11757 [==============================] - 54s 5ms/step - loss: 1.7720e-05 - mean_squared_error: 1.7720e-05 - mean_absolute_error: 0.0012 - val_loss: 8.8046e-07 - val_mean_squared_error: 8.8046e-07 - val_mean_absolute_error: 5.6756e-04\n",
      "Epoch 15/40\n",
      "11757/11757 [==============================] - 55s 5ms/step - loss: 1.8700e-05 - mean_squared_error: 1.8700e-05 - mean_absolute_error: 0.0013 - val_loss: 3.9152e-06 - val_mean_squared_error: 3.9152e-06 - val_mean_absolute_error: 0.0012\n",
      "Epoch 16/40\n",
      "11757/11757 [==============================] - 55s 5ms/step - loss: 1.5033e-05 - mean_squared_error: 1.5033e-05 - mean_absolute_error: 0.0011 - val_loss: 4.1258e-07 - val_mean_squared_error: 4.1258e-07 - val_mean_absolute_error: 4.9089e-04\n",
      "Epoch 17/40\n",
      "11757/11757 [==============================] - 55s 5ms/step - loss: 1.2321e-05 - mean_squared_error: 1.2321e-05 - mean_absolute_error: 0.0012 - val_loss: 2.5312e-07 - val_mean_squared_error: 2.5312e-07 - val_mean_absolute_error: 3.1132e-04\n",
      "Epoch 18/40\n",
      "11757/11757 [==============================] - 55s 5ms/step - loss: 1.9390e-05 - mean_squared_error: 1.9390e-05 - mean_absolute_error: 0.0011 - val_loss: 5.9995e-07 - val_mean_squared_error: 5.9995e-07 - val_mean_absolute_error: 4.9712e-04\n",
      "Epoch 19/40\n",
      "11757/11757 [==============================] - 55s 5ms/step - loss: 1.5859e-05 - mean_squared_error: 1.5859e-05 - mean_absolute_error: 0.0012 - val_loss: 9.4644e-05 - val_mean_squared_error: 9.4644e-05 - val_mean_absolute_error: 0.0058\n",
      "Epoch 20/40\n",
      "11757/11757 [==============================] - 56s 5ms/step - loss: 2.0821e-05 - mean_squared_error: 2.0821e-05 - mean_absolute_error: 0.0011 - val_loss: 3.8768e-07 - val_mean_squared_error: 3.8768e-07 - val_mean_absolute_error: 3.5392e-04\n",
      "Epoch 21/40\n",
      "11757/11757 [==============================] - 53s 5ms/step - loss: 1.3249e-05 - mean_squared_error: 1.3249e-05 - mean_absolute_error: 0.0011 - val_loss: 5.4853e-07 - val_mean_squared_error: 5.4853e-07 - val_mean_absolute_error: 4.2515e-04\n",
      "Epoch 22/40\n",
      "11757/11757 [==============================] - 52s 4ms/step - loss: 1.3427e-05 - mean_squared_error: 1.3427e-05 - mean_absolute_error: 0.0011 - val_loss: 1.9580e-05 - val_mean_squared_error: 1.9580e-05 - val_mean_absolute_error: 0.0024\n",
      "Epoch 23/40\n",
      "11757/11757 [==============================] - 52s 4ms/step - loss: 2.0441e-05 - mean_squared_error: 2.0441e-05 - mean_absolute_error: 0.0010 - val_loss: 6.4750e-07 - val_mean_squared_error: 6.4750e-07 - val_mean_absolute_error: 6.1881e-04\n",
      "Epoch 24/40\n",
      "11757/11757 [==============================] - 54s 5ms/step - loss: 1.2769e-05 - mean_squared_error: 1.2769e-05 - mean_absolute_error: 0.0011 - val_loss: 1.0820e-06 - val_mean_squared_error: 1.0820e-06 - val_mean_absolute_error: 8.5149e-04\n",
      "Epoch 25/40\n",
      "11757/11757 [==============================] - 53s 5ms/step - loss: 1.0827e-05 - mean_squared_error: 1.0827e-05 - mean_absolute_error: 0.0011 - val_loss: 2.0896e-05 - val_mean_squared_error: 2.0896e-05 - val_mean_absolute_error: 0.0019\n",
      "Epoch 26/40\n",
      "11757/11757 [==============================] - 53s 5ms/step - loss: 1.2979e-05 - mean_squared_error: 1.2979e-05 - mean_absolute_error: 0.0011 - val_loss: 1.6888e-06 - val_mean_squared_error: 1.6888e-06 - val_mean_absolute_error: 0.0011\n",
      "Epoch 27/40\n",
      "11757/11757 [==============================] - 55s 5ms/step - loss: 1.0741e-05 - mean_squared_error: 1.0741e-05 - mean_absolute_error: 0.0011 - val_loss: 9.9628e-06 - val_mean_squared_error: 9.9628e-06 - val_mean_absolute_error: 0.0020\n",
      "Epoch 28/40\n",
      "11757/11757 [==============================] - 54s 5ms/step - loss: 1.3434e-05 - mean_squared_error: 1.3434e-05 - mean_absolute_error: 0.0010 - val_loss: 3.4841e-07 - val_mean_squared_error: 3.4841e-07 - val_mean_absolute_error: 4.5672e-04\n",
      "Epoch 29/40\n",
      "11757/11757 [==============================] - 53s 4ms/step - loss: 1.3500e-05 - mean_squared_error: 1.3500e-05 - mean_absolute_error: 0.0010 - val_loss: 3.8887e-07 - val_mean_squared_error: 3.8887e-07 - val_mean_absolute_error: 4.2084e-04\n",
      "Epoch 30/40\n",
      "11757/11757 [==============================] - 53s 4ms/step - loss: 8.6401e-06 - mean_squared_error: 8.6401e-06 - mean_absolute_error: 0.0010 - val_loss: 3.1042e-06 - val_mean_squared_error: 3.1042e-06 - val_mean_absolute_error: 0.0010\n",
      "Epoch 31/40\n",
      "11757/11757 [==============================] - 53s 4ms/step - loss: 1.0058e-05 - mean_squared_error: 1.0058e-05 - mean_absolute_error: 0.0010 - val_loss: 3.4290e-05 - val_mean_squared_error: 3.4290e-05 - val_mean_absolute_error: 0.0031\n",
      "Epoch 32/40\n",
      "11757/11757 [==============================] - 53s 4ms/step - loss: 1.1683e-05 - mean_squared_error: 1.1683e-05 - mean_absolute_error: 0.0010 - val_loss: 3.8804e-07 - val_mean_squared_error: 3.8804e-07 - val_mean_absolute_error: 4.6497e-04\n",
      "Epoch 33/40\n",
      "11757/11757 [==============================] - 53s 4ms/step - loss: 9.8816e-06 - mean_squared_error: 9.8816e-06 - mean_absolute_error: 9.5127e-04 - val_loss: 5.1828e-07 - val_mean_squared_error: 5.1828e-07 - val_mean_absolute_error: 4.5170e-04\n",
      "Epoch 34/40\n",
      "11757/11757 [==============================] - 52s 4ms/step - loss: 1.1495e-05 - mean_squared_error: 1.1495e-05 - mean_absolute_error: 0.0010 - val_loss: 2.3587e-07 - val_mean_squared_error: 2.3587e-07 - val_mean_absolute_error: 3.4099e-04\n",
      "Epoch 35/40\n",
      "11757/11757 [==============================] - 53s 4ms/step - loss: 1.0981e-05 - mean_squared_error: 1.0981e-05 - mean_absolute_error: 0.0010 - val_loss: 4.0448e-07 - val_mean_squared_error: 4.0448e-07 - val_mean_absolute_error: 4.2610e-04\n",
      "Epoch 36/40\n",
      "11757/11757 [==============================] - 53s 4ms/step - loss: 1.5062e-05 - mean_squared_error: 1.5062e-05 - mean_absolute_error: 9.3017e-04 - val_loss: 7.7728e-06 - val_mean_squared_error: 7.7728e-06 - val_mean_absolute_error: 0.0016\n",
      "Epoch 37/40\n",
      "11757/11757 [==============================] - 53s 5ms/step - loss: 1.1571e-05 - mean_squared_error: 1.1571e-05 - mean_absolute_error: 0.0010 - val_loss: 1.2435e-06 - val_mean_squared_error: 1.2435e-06 - val_mean_absolute_error: 7.6271e-04\n",
      "Epoch 38/40\n",
      "11757/11757 [==============================] - 53s 4ms/step - loss: 9.7501e-06 - mean_squared_error: 9.7501e-06 - mean_absolute_error: 0.0010 - val_loss: 4.9883e-06 - val_mean_squared_error: 4.9883e-06 - val_mean_absolute_error: 0.0013\n",
      "Epoch 39/40\n",
      "11757/11757 [==============================] - 53s 4ms/step - loss: 1.1479e-05 - mean_squared_error: 1.1479e-05 - mean_absolute_error: 0.0010 - val_loss: 1.7820e-07 - val_mean_squared_error: 1.7820e-07 - val_mean_absolute_error: 2.7408e-04\n",
      "Epoch 40/40\n",
      "11757/11757 [==============================] - 52s 4ms/step - loss: 9.6654e-06 - mean_squared_error: 9.6654e-06 - mean_absolute_error: 0.0010 - val_loss: 1.4090e-06 - val_mean_squared_error: 1.4090e-06 - val_mean_absolute_error: 9.2543e-04\n",
      "CPU times: total: 6min 14s\n",
      "Wall time: 36min 48s\n"
     ]
    }
   ],
   "source": [
    "%%time\n",
    "history.append(dbn_model.fit(\n",
    "    train_features,\n",
    "    train_labels,\n",
    "    validation_split = 0.2,\n",
    "    epochs = epochs,\n",
    "    callbacks = model_checkpoint_callback))"
   ]
  },
  {
   "cell_type": "code",
   "execution_count": 54,
   "id": "7e99486c-417e-4d01-91c9-a8193950739d",
   "metadata": {},
   "outputs": [
    {
     "data": {
      "image/png": "[encoded data removed]",
      "text/plain": [
       "<Figure size 640x480 with 1 Axes>"
      ]
     },
     "metadata": {},
     "output_type": "display_data"
    }
   ],
   "source": [
    "plot_loss(history[-1], 'Deep Belief Network (SOC)')"
   ]
  },
  {
   "cell_type": "code",
   "execution_count": 55,
   "id": "ad55aab2-c9ce-47c3-aa04-f152a3ce58f9",
   "metadata": {},
   "outputs": [],
   "source": [
    "test_results = {}\n",
    "test_results['dbn_model'] = dbn_model.evaluate(test_features, test_labels, verbose=0)"
   ]
  },
  {
   "cell_type": "code",
   "execution_count": 21,
   "id": "269b1a15-24f7-42ca-ada6-b607531d110f",
   "metadata": {},
   "outputs": [],
   "source": [
    "model_path = os.path.join(\"models\",\"DBN_SOC_02.keras\")"
   ]
  },
  {
   "cell_type": "code",
   "execution_count": 57,
   "id": "a69720ad-383e-49a4-857e-ff6a29d130af",
   "metadata": {},
   "outputs": [],
   "source": [
    "dbn_model.save(model_path)"
   ]
  },
  {
   "cell_type": "markdown",
   "id": "ce33ae5f-b04c-4eff-b3c7-ac0d22fa8f7f",
   "metadata": {
    "tags": []
   },
   "source": [
    "### Performance"
   ]
  },
  {
   "cell_type": "code",
   "execution_count": 22,
   "id": "e68595b8-2e7f-4368-8105-e792a88ffb9d",
   "metadata": {},
   "outputs": [],
   "source": [
    "dbn_model = tf.keras.models.load_model(model_path)"
   ]
  },
  {
   "cell_type": "code",
   "execution_count": 23,
   "id": "3f1c1010-c46c-465b-a1fb-266e3e196c8a",
   "metadata": {},
   "outputs": [
    {
     "name": "stdout",
     "output_type": "stream",
     "text": [
      "3675/3675 [==============================] - 9s 2ms/step\n"
     ]
    }
   ],
   "source": [
    "test_predictions = dbn_model.predict(test_features).flatten()"
   ]
  },
  {
   "cell_type": "code",
   "execution_count": 24,
   "id": "c5b48cd8-3f3f-42d3-ab48-3bbf8b07a02d",
   "metadata": {},
   "outputs": [
    {
     "data": {
      "image/png": "[encoded data removed]",
      "text/plain": [
       "<Figure size 640x480 with 1 Axes>"
      ]
     },
     "metadata": {},
     "output_type": "display_data"
    }
   ],
   "source": [
    "a = plt.axes(aspect='equal')\n",
    "plt.scatter(test_labels, test_predictions)\n",
    "plt.xlabel('True Values [SOC]')\n",
    "plt.ylabel('Predictions [SOC]')\n",
    "lims = [-0.2, 1.2]\n",
    "plt.xlim(lims)\n",
    "plt.ylim(lims)\n",
    "_ = plt.plot(lims, lims)"
   ]
  },
  {
   "cell_type": "code",
   "execution_count": 25,
   "id": "e58fb751-61db-4ae6-b927-e4377cea626b",
   "metadata": {},
   "outputs": [
    {
     "data": {
      "image/png": "[encoded data removed]",
      "text/plain": [
       "<Figure size 640x480 with 1 Axes>"
      ]
     },
     "metadata": {},
     "output_type": "display_data"
    }
   ],
   "source": [
    "error = test_predictions - test_labels\n",
    "plt.hist(error, bins=25)\n",
    "plt.xlabel('Prediction Error [SOC]')\n",
    "_ = plt.ylabel('Count')"
   ]
  },
  {
   "cell_type": "code",
   "execution_count": 27,
   "id": "f06e1185-09c1-4f85-ad7f-fbe50f54a523",
   "metadata": {},
   "outputs": [
    {
     "name": "stdout",
     "output_type": "stream",
     "text": [
      "MSE: 1.4263933327219569e-06\n",
      "RMSE: 0.0011943170988987627\n",
      "MAE: 0.0009283793443047292\n",
      "R2 Score: 0.9999985636587748\n"
     ]
    }
   ],
   "source": [
    "# Calculate metrics\n",
    "mse = mean_squared_error(test_labels, test_predictions)\n",
    "rmse = np.sqrt(mse)\n",
    "mae = mean_absolute_error(test_labels, test_predictions)\n",
    "r2 = r2_score(test_labels, test_predictions)\n",
    "\n",
    "print(f'MSE: {mse}')\n",
    "print(f'RMSE: {rmse}')\n",
    "print(f'MAE: {mae}')\n",
    "print(f'R2 Score: {r2}')"
   ]
  },
  {
   "cell_type": "code",
   "execution_count": null,
   "id": "c95138e9-134a-444b-aaaa-d597b0f8f0f6",
   "metadata": {},
   "outputs": [],
   "source": []
  }
 ],
 "metadata": {
  "kernelspec": {
   "display_name": "DeepNN",
   "language": "python",
   "name": "deepnn"
  },
  "language_info": {
   "codemirror_mode": {
    "name": "ipython",
    "version": 3
   },
   "file_extension": ".py",
   "mimetype": "text/x-python",
   "name": "python",
   "nbconvert_exporter": "python",
   "pygments_lexer": "ipython3",
   "version": "3.9.13"
  }
 },
 "nbformat": 4,
 "nbformat_minor": 5
}
