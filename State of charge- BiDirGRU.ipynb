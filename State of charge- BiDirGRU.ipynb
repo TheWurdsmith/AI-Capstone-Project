{
 "cells": [
  {
   "cell_type": "markdown",
   "id": "926969bb",
   "metadata": {},
   "source": [
    "# Data Preparation\n",
    "\n",
    "In this sectiono we load in and prepare the data for our machine learning."
   ]
  },
  {
   "cell_type": "code",
   "execution_count": 1,
   "id": "7b1d5fb9-458d-4350-85ff-d49cdd8b3769",
   "metadata": {
    "tags": []
   },
   "outputs": [],
   "source": [
    "# !pip install scipy\n",
    "# !pip install pandas\n",
    "# !pip install scikit-learn"
   ]
  },
  {
   "cell_type": "code",
   "execution_count": 2,
   "id": "e720c4bf-6d3e-4f48-8a2f-416e28cfe2f9",
   "metadata": {
    "tags": []
   },
   "outputs": [],
   "source": [
    "# !conda install -c conda-forge cudatoolkit=11.2 cudnn=8.1.0\n",
    "# # Anything above 2.10 is not supported on the GPU on Windows Native\n",
    "# !pip install \"tensorflow<2.11\"\n"
   ]
  },
  {
   "cell_type": "code",
   "execution_count": 3,
   "id": "e308abf2-77f3-4efa-9fe8-5e33b9329973",
   "metadata": {
    "tags": []
   },
   "outputs": [],
   "source": [
    "# !pip list\n",
    "# !pip install -q seaborn"
   ]
  },
  {
   "cell_type": "code",
   "execution_count": 1,
   "id": "bae6688c",
   "metadata": {},
   "outputs": [],
   "source": [
    "import os\n",
    "import scipy.io as sio\n",
    "import pandas as pd\n",
    "from scipy.io import loadmat\n",
    "import datetime\n",
    "from pandas import DataFrame\n",
    "import matplotlib.pyplot as plt\n",
    "import numpy as np\n",
    "import seaborn as sns\n",
    "from sklearn.preprocessing import MinMaxScaler\n",
    "import warnings\n",
    "from sklearn.metrics import mean_squared_error, mean_absolute_error, r2_score\n",
    "\n",
    "np.set_printoptions(precision=3, suppress=True)"
   ]
  },
  {
   "cell_type": "code",
   "execution_count": 2,
   "id": "a5600b8f-f370-438f-8496-ee50efeb6dad",
   "metadata": {},
   "outputs": [],
   "source": [
    "def plot_history(history):\n",
    "    plt.figure()\n",
    "    plt.xlabel('Epoch')\n",
    "    plt.ylabel('Mean Abs Error')\n",
    "    plt.plot(history.epoch, np.array(history.history['mae']), \n",
    "             label='Train')\n",
    "    plt.plot(history.epoch, np.array(history.history['val_mae']),\n",
    "             label = 'Val')\n",
    "    plt.legend()\n",
    "    # plt.ylim([0,max(history.history['val_mae']) + 1])\n",
    "    \n",
    "def plot_prediction(test_labels, test_predictions):\n",
    "    plt.figure()\n",
    "    plt.scatter(test_labels, test_predictions)\n",
    "    plt.xlabel('True Values')\n",
    "    plt.ylabel('Predictions')\n",
    "    plt.axis('equal')\n",
    "    plt.xlim(plt.xlim())\n",
    "    plt.ylim(plt.ylim())\n",
    "    _ = plt.plot([-100, 100],[-100,100])\n",
    "    \n",
    "    plt.figure()\n",
    "    error = test_predictions - test_labels\n",
    "    plt.hist(error, bins = 50)\n",
    "    plt.xlabel(\"Prediction Error\")\n",
    "    _ = plt.ylabel(\"Count\")"
   ]
  },
  {
   "cell_type": "markdown",
   "id": "ab2a9a82",
   "metadata": {},
   "source": [
    "## Ingesting the data\n",
    "\n",
    "The following data is from a Nasa dataset with n refferring to the iteration number of the dataset used. \n",
    "\n",
    "    Voltage_measured: Fuel Cell terminal voltage (Volts)\n",
    "    Current_measured: Fuel Cell output current (Amps)\n",
    "    Temperature_measured: Fuel Cell temperature (degree C)\n",
    "    Current_load: Current measured at load (Amps)\n",
    "    Voltage_load: Voltage measured at load (Volts)\n",
    "    Time: Time vector for the cycle (seconds)\n",
    "    Capacity: Fuel Cell capacity (Ahr) for discharge till 2.7V\n",
    "    Datetime: the date and time of the start of the cycle\n",
    "    Ambient_temperature: Temperature in which the fuel cell is stored (degree C)\n",
    "    Cycle: Charge cycle of the fuel cell\n"
   ]
  },
  {
   "cell_type": "code",
   "execution_count": 3,
   "id": "aed8bdba",
   "metadata": {},
   "outputs": [
    {
     "data": {
      "text/html": [
       "<div>\n",
       "<style scoped>\n",
       "    .dataframe tbody tr th:only-of-type {\n",
       "        vertical-align: middle;\n",
       "    }\n",
       "\n",
       "    .dataframe tbody tr th {\n",
       "        vertical-align: top;\n",
       "    }\n",
       "\n",
       "    .dataframe thead th {\n",
       "        text-align: right;\n",
       "    }\n",
       "</style>\n",
       "<table border=\"1\" class=\"dataframe\">\n",
       "  <thead>\n",
       "    <tr style=\"text-align: right;\">\n",
       "      <th></th>\n",
       "      <th>cycle</th>\n",
       "      <th>ambient_temperature</th>\n",
       "      <th>datetime</th>\n",
       "      <th>voltage_measured</th>\n",
       "      <th>current_measured</th>\n",
       "      <th>temperature_measured</th>\n",
       "      <th>current</th>\n",
       "      <th>voltage</th>\n",
       "      <th>time</th>\n",
       "      <th>capacity</th>\n",
       "    </tr>\n",
       "  </thead>\n",
       "  <tbody>\n",
       "    <tr>\n",
       "      <th>0</th>\n",
       "      <td>1</td>\n",
       "      <td>24</td>\n",
       "      <td>2008-04-02 13:08:17</td>\n",
       "      <td>3.873017</td>\n",
       "      <td>-0.001201</td>\n",
       "      <td>24.655358</td>\n",
       "      <td>0.000</td>\n",
       "      <td>0.003</td>\n",
       "      <td>0.000</td>\n",
       "      <td>NaN</td>\n",
       "    </tr>\n",
       "    <tr>\n",
       "      <th>1</th>\n",
       "      <td>1</td>\n",
       "      <td>24</td>\n",
       "      <td>2008-04-02 13:08:17</td>\n",
       "      <td>4.206466</td>\n",
       "      <td>0.060136</td>\n",
       "      <td>24.241571</td>\n",
       "      <td>0.057</td>\n",
       "      <td>4.250</td>\n",
       "      <td>5314.703</td>\n",
       "      <td>NaN</td>\n",
       "    </tr>\n",
       "    <tr>\n",
       "      <th>2</th>\n",
       "      <td>1</td>\n",
       "      <td>24</td>\n",
       "      <td>2008-04-02 13:08:17</td>\n",
       "      <td>4.206558</td>\n",
       "      <td>0.057209</td>\n",
       "      <td>24.230457</td>\n",
       "      <td>0.057</td>\n",
       "      <td>4.250</td>\n",
       "      <td>5329.485</td>\n",
       "      <td>NaN</td>\n",
       "    </tr>\n",
       "    <tr>\n",
       "      <th>3</th>\n",
       "      <td>1</td>\n",
       "      <td>24</td>\n",
       "      <td>2008-04-02 13:08:17</td>\n",
       "      <td>4.205512</td>\n",
       "      <td>0.050194</td>\n",
       "      <td>24.241984</td>\n",
       "      <td>0.047</td>\n",
       "      <td>4.245</td>\n",
       "      <td>5344.282</td>\n",
       "      <td>NaN</td>\n",
       "    </tr>\n",
       "    <tr>\n",
       "      <th>4</th>\n",
       "      <td>1</td>\n",
       "      <td>24</td>\n",
       "      <td>2008-04-02 13:08:17</td>\n",
       "      <td>4.205301</td>\n",
       "      <td>0.047004</td>\n",
       "      <td>24.226732</td>\n",
       "      <td>0.047</td>\n",
       "      <td>4.245</td>\n",
       "      <td>5359.141</td>\n",
       "      <td>NaN</td>\n",
       "    </tr>\n",
       "  </tbody>\n",
       "</table>\n",
       "</div>"
      ],
      "text/plain": [
       "   cycle  ambient_temperature            datetime  voltage_measured  \\\n",
       "0      1                   24 2008-04-02 13:08:17          3.873017   \n",
       "1      1                   24 2008-04-02 13:08:17          4.206466   \n",
       "2      1                   24 2008-04-02 13:08:17          4.206558   \n",
       "3      1                   24 2008-04-02 13:08:17          4.205512   \n",
       "4      1                   24 2008-04-02 13:08:17          4.205301   \n",
       "\n",
       "   current_measured  temperature_measured  current  voltage      time  \\\n",
       "0         -0.001201             24.655358    0.000    0.003     0.000   \n",
       "1          0.060136             24.241571    0.057    4.250  5314.703   \n",
       "2          0.057209             24.230457    0.057    4.250  5329.485   \n",
       "3          0.050194             24.241984    0.047    4.245  5344.282   \n",
       "4          0.047004             24.226732    0.047    4.245  5359.141   \n",
       "\n",
       "   capacity  \n",
       "0       NaN  \n",
       "1       NaN  \n",
       "2       NaN  \n",
       "3       NaN  \n",
       "4       NaN  "
      ]
     },
     "execution_count": 3,
     "metadata": {},
     "output_type": "execute_result"
    }
   ],
   "source": [
    "n = 'B0005'\n",
    "df = pd.read_csv('data_frames/' + 'NASA_cycle_dataset_' + n +'.csv',\n",
    "                 parse_dates = [\"datetime\"]).drop([\"Unnamed: 0\"], axis = 1)\n",
    "df.head()"
   ]
  },
  {
   "cell_type": "markdown",
   "id": "cba4f3c8",
   "metadata": {},
   "source": [
    "## Beginning Data engineering\n",
    "\n",
    "In the Below cells we are attempting to fill in the missing values. A brief look at the dataset showed that each cycle potentially had a capacity for at least one of its rows. \n",
    "\n",
    "First we test that theory:"
   ]
  },
  {
   "cell_type": "code",
   "execution_count": 4,
   "id": "6ca09c7e",
   "metadata": {},
   "outputs": [
    {
     "data": {
      "text/html": [
       "<div>\n",
       "<style scoped>\n",
       "    .dataframe tbody tr th:only-of-type {\n",
       "        vertical-align: middle;\n",
       "    }\n",
       "\n",
       "    .dataframe tbody tr th {\n",
       "        vertical-align: top;\n",
       "    }\n",
       "\n",
       "    .dataframe thead th {\n",
       "        text-align: right;\n",
       "    }\n",
       "</style>\n",
       "<table border=\"1\" class=\"dataframe\">\n",
       "  <thead>\n",
       "    <tr style=\"text-align: right;\">\n",
       "      <th></th>\n",
       "      <th>capacity</th>\n",
       "    </tr>\n",
       "    <tr>\n",
       "      <th>cycle</th>\n",
       "      <th></th>\n",
       "    </tr>\n",
       "  </thead>\n",
       "  <tbody>\n",
       "    <tr>\n",
       "      <th>169</th>\n",
       "      <td>0</td>\n",
       "    </tr>\n",
       "    <tr>\n",
       "      <th>170</th>\n",
       "      <td>0</td>\n",
       "    </tr>\n",
       "  </tbody>\n",
       "</table>\n",
       "</div>"
      ],
      "text/plain": [
       "       capacity\n",
       "cycle          \n",
       "169           0\n",
       "170           0"
      ]
     },
     "execution_count": 4,
     "metadata": {},
     "output_type": "execute_result"
    }
   ],
   "source": [
    "capacity_counts = pd.DataFrame(df.groupby('cycle')['capacity'].nunique())\n",
    "zero_capacity_rows = capacity_counts[capacity_counts['capacity'] != 1]\n",
    "# capacity_counts\n",
    "zero_capacity_rows"
   ]
  },
  {
   "cell_type": "code",
   "execution_count": 5,
   "id": "cf6fa883",
   "metadata": {
    "scrolled": true
   },
   "outputs": [
    {
     "name": "stdout",
     "output_type": "stream",
     "text": [
      "The standard deviation of capacity is 0.1824.\n",
      "The average of capacity is 1.5603.\n",
      "This makes the standard deviation 11.69% of the mean\n"
     ]
    }
   ],
   "source": [
    "cap_std = df['capacity'].std()\n",
    "cap_mean = df['capacity'].mean()\n",
    "\n",
    "print(f\"The standard deviation of capacity is {round(cap_std, 4)}.\")\n",
    "print(f\"The average of capacity is {round(cap_mean, 4)}.\")\n",
    "print(f\"This makes the standard deviation {round(cap_std/cap_mean*100,2)}% of the mean\")"
   ]
  },
  {
   "cell_type": "markdown",
   "id": "09d459e3",
   "metadata": {},
   "source": [
    "The above cell shows that there is a singular battery capacity for each cycle except for 169 and 170.\n",
    "For now we shall remove those two cycles as there is a large amount of deviation."
   ]
  },
  {
   "cell_type": "code",
   "execution_count": 6,
   "id": "925ee0d8",
   "metadata": {},
   "outputs": [
    {
     "data": {
      "text/html": [
       "<div>\n",
       "<style scoped>\n",
       "    .dataframe tbody tr th:only-of-type {\n",
       "        vertical-align: middle;\n",
       "    }\n",
       "\n",
       "    .dataframe tbody tr th {\n",
       "        vertical-align: top;\n",
       "    }\n",
       "\n",
       "    .dataframe thead th {\n",
       "        text-align: right;\n",
       "    }\n",
       "</style>\n",
       "<table border=\"1\" class=\"dataframe\">\n",
       "  <thead>\n",
       "    <tr style=\"text-align: right;\">\n",
       "      <th></th>\n",
       "      <th>cycle</th>\n",
       "      <th>ambient_temperature</th>\n",
       "      <th>datetime</th>\n",
       "      <th>voltage_measured</th>\n",
       "      <th>current_measured</th>\n",
       "      <th>temperature_measured</th>\n",
       "      <th>current</th>\n",
       "      <th>voltage</th>\n",
       "      <th>time</th>\n",
       "      <th>capacity</th>\n",
       "    </tr>\n",
       "  </thead>\n",
       "  <tbody>\n",
       "    <tr>\n",
       "      <th>0</th>\n",
       "      <td>1</td>\n",
       "      <td>24</td>\n",
       "      <td>2008-04-02 13:08:17</td>\n",
       "      <td>3.873017</td>\n",
       "      <td>-0.001201</td>\n",
       "      <td>24.655358</td>\n",
       "      <td>0.000</td>\n",
       "      <td>0.003</td>\n",
       "      <td>0.000</td>\n",
       "      <td>1.856487</td>\n",
       "    </tr>\n",
       "    <tr>\n",
       "      <th>1</th>\n",
       "      <td>1</td>\n",
       "      <td>24</td>\n",
       "      <td>2008-04-02 13:08:17</td>\n",
       "      <td>4.206466</td>\n",
       "      <td>0.060136</td>\n",
       "      <td>24.241571</td>\n",
       "      <td>0.057</td>\n",
       "      <td>4.250</td>\n",
       "      <td>5314.703</td>\n",
       "      <td>1.856487</td>\n",
       "    </tr>\n",
       "    <tr>\n",
       "      <th>2</th>\n",
       "      <td>1</td>\n",
       "      <td>24</td>\n",
       "      <td>2008-04-02 13:08:17</td>\n",
       "      <td>4.206558</td>\n",
       "      <td>0.057209</td>\n",
       "      <td>24.230457</td>\n",
       "      <td>0.057</td>\n",
       "      <td>4.250</td>\n",
       "      <td>5329.485</td>\n",
       "      <td>1.856487</td>\n",
       "    </tr>\n",
       "    <tr>\n",
       "      <th>3</th>\n",
       "      <td>1</td>\n",
       "      <td>24</td>\n",
       "      <td>2008-04-02 13:08:17</td>\n",
       "      <td>4.205512</td>\n",
       "      <td>0.050194</td>\n",
       "      <td>24.241984</td>\n",
       "      <td>0.047</td>\n",
       "      <td>4.245</td>\n",
       "      <td>5344.282</td>\n",
       "      <td>1.856487</td>\n",
       "    </tr>\n",
       "    <tr>\n",
       "      <th>4</th>\n",
       "      <td>1</td>\n",
       "      <td>24</td>\n",
       "      <td>2008-04-02 13:08:17</td>\n",
       "      <td>4.205301</td>\n",
       "      <td>0.047004</td>\n",
       "      <td>24.226732</td>\n",
       "      <td>0.047</td>\n",
       "      <td>4.245</td>\n",
       "      <td>5359.141</td>\n",
       "      <td>1.856487</td>\n",
       "    </tr>\n",
       "  </tbody>\n",
       "</table>\n",
       "</div>"
      ],
      "text/plain": [
       "   cycle  ambient_temperature            datetime  voltage_measured  \\\n",
       "0      1                   24 2008-04-02 13:08:17          3.873017   \n",
       "1      1                   24 2008-04-02 13:08:17          4.206466   \n",
       "2      1                   24 2008-04-02 13:08:17          4.206558   \n",
       "3      1                   24 2008-04-02 13:08:17          4.205512   \n",
       "4      1                   24 2008-04-02 13:08:17          4.205301   \n",
       "\n",
       "   current_measured  temperature_measured  current  voltage      time  \\\n",
       "0         -0.001201             24.655358    0.000    0.003     0.000   \n",
       "1          0.060136             24.241571    0.057    4.250  5314.703   \n",
       "2          0.057209             24.230457    0.057    4.250  5329.485   \n",
       "3          0.050194             24.241984    0.047    4.245  5344.282   \n",
       "4          0.047004             24.226732    0.047    4.245  5359.141   \n",
       "\n",
       "   capacity  \n",
       "0  1.856487  \n",
       "1  1.856487  \n",
       "2  1.856487  \n",
       "3  1.856487  \n",
       "4  1.856487  "
      ]
     },
     "execution_count": 6,
     "metadata": {},
     "output_type": "execute_result"
    }
   ],
   "source": [
    "df = df[df['cycle'] <  169]\n",
    "caps = pd.DataFrame(df.groupby('cycle')['capacity'].max())\n",
    "temp = df.merge(caps, on='cycle', how='left').ffill()\n",
    "temp = temp.drop([\"capacity_x\"], axis = 1).rename(columns = {\"capacity_y\" : \"capacity\"})\n",
    "df = temp\n",
    "temp.head()"
   ]
  },
  {
   "cell_type": "code",
   "execution_count": 7,
   "id": "6d28ea6a-9c47-470d-8bc6-1aea4975390c",
   "metadata": {},
   "outputs": [
    {
     "name": "stdout",
     "output_type": "stream",
     "text": [
      "The number of unique vlaues for ambient_temperature is: 1 \n",
      "The Maximum value for voltage_measured is: 8.393141180564633 \n"
     ]
    }
   ],
   "source": [
    "print(f\"The number of unique vlaues for ambient_temperature is: {df['ambient_temperature'].nunique()} \")\n",
    "\n",
    "print(f\"The Maximum value for voltage_measured is: {df['voltage_measured'].max()} \")"
   ]
  },
  {
   "cell_type": "markdown",
   "id": "7c60beee-afcf-4042-9060-cbac729431e9",
   "metadata": {},
   "source": [
    "This shows that there is a consistency of ambient temperature in this dataset. This will be a limitation in the final model. We also need to check whether this voltage (which seems high)  is an outlier or not"
   ]
  },
  {
   "cell_type": "code",
   "execution_count": 8,
   "id": "2e792e1b-0a21-4219-8de7-d7902b7fd128",
   "metadata": {},
   "outputs": [
    {
     "data": {
      "image/png": "[encoded data removed]",
      "text/plain": [
       "<Figure size 640x480 with 1 Axes>"
      ]
     },
     "metadata": {},
     "output_type": "display_data"
    }
   ],
   "source": [
    "plt.hist(df['voltage_measured'], bins = 100)\n",
    "plt.xlabel('Voltage Measured')\n",
    "plt.ylabel('Frequency')\n",
    "plt.title('Distribution of Voltage Measured')\n",
    "plt.ylim(0,4)\n",
    "plt.show()"
   ]
  },
  {
   "cell_type": "markdown",
   "id": "c91c6c3b-72c0-43e5-b643-6a58e5f14bcd",
   "metadata": {},
   "source": [
    "As shown above, there is only a singular value above 4.xxxx, making the maximum vlaue shown above a clear outlier. We need to remove this value and so shall remove it."
   ]
  },
  {
   "cell_type": "code",
   "execution_count": 9,
   "id": "9c3434ca-4638-4d83-9b28-a11f3806dd78",
   "metadata": {},
   "outputs": [],
   "source": [
    "value = df['voltage_measured'].max()\n",
    "df = df[df['voltage_measured'] != value]"
   ]
  },
  {
   "cell_type": "code",
   "execution_count": 10,
   "id": "87434cf7-f281-492c-87b0-24dbbd815b0e",
   "metadata": {},
   "outputs": [
    {
     "data": {
      "image/png": "[encoded data removed]",
      "text/plain": [
       "<Figure size 640x480 with 1 Axes>"
      ]
     },
     "metadata": {},
     "output_type": "display_data"
    }
   ],
   "source": [
    "plt.hist(df['voltage_measured'], bins = 100)\n",
    "plt.xlabel('Voltage Measured')\n",
    "plt.ylabel('Frequency')\n",
    "plt.title('Distribution of Voltage Measured')\n",
    "plt.ylim(0,50)\n",
    "plt.show()"
   ]
  },
  {
   "cell_type": "code",
   "execution_count": 11,
   "id": "16eb80d2-12f0-436d-81bd-b50e5f6f8c63",
   "metadata": {},
   "outputs": [
    {
     "data": {
      "text/plain": [
       "<matplotlib.collections.PathCollection at 0x2ae81069550>"
      ]
     },
     "execution_count": 11,
     "metadata": {},
     "output_type": "execute_result"
    },
    {
     "data": {
      "image/png": "[encoded data removed]",
      "text/plain": [
       "<Figure size 640x480 with 1 Axes>"
      ]
     },
     "metadata": {},
     "output_type": "display_data"
    }
   ],
   "source": [
    "cycle = 5\n",
    "plt.scatter(df[df['cycle'] == cycle]['datetime'], df[df['cycle'] == cycle]['voltage_measured'])"
   ]
  },
  {
   "cell_type": "code",
   "execution_count": 12,
   "id": "14ae22c4-cc45-435f-9c32-c2c2430f6ff8",
   "metadata": {},
   "outputs": [
    {
     "data": {
      "text/html": [
       "<div>\n",
       "<style scoped>\n",
       "    .dataframe tbody tr th:only-of-type {\n",
       "        vertical-align: middle;\n",
       "    }\n",
       "\n",
       "    .dataframe tbody tr th {\n",
       "        vertical-align: top;\n",
       "    }\n",
       "\n",
       "    .dataframe thead th {\n",
       "        text-align: right;\n",
       "    }\n",
       "</style>\n",
       "<table border=\"1\" class=\"dataframe\">\n",
       "  <thead>\n",
       "    <tr style=\"text-align: right;\">\n",
       "      <th></th>\n",
       "      <th>cycle</th>\n",
       "      <th>ambient_temperature</th>\n",
       "      <th>datetime</th>\n",
       "      <th>voltage_measured</th>\n",
       "      <th>current_measured</th>\n",
       "      <th>temperature_measured</th>\n",
       "      <th>current</th>\n",
       "      <th>voltage</th>\n",
       "      <th>time</th>\n",
       "      <th>capacity</th>\n",
       "      <th>SOC</th>\n",
       "    </tr>\n",
       "  </thead>\n",
       "  <tbody>\n",
       "    <tr>\n",
       "      <th>0</th>\n",
       "      <td>1</td>\n",
       "      <td>24</td>\n",
       "      <td>2008-04-02 13:08:17</td>\n",
       "      <td>3.873017</td>\n",
       "      <td>-0.001201</td>\n",
       "      <td>24.655358</td>\n",
       "      <td>0.000</td>\n",
       "      <td>0.003</td>\n",
       "      <td>0.000</td>\n",
       "      <td>1.856487</td>\n",
       "      <td>0.726910</td>\n",
       "    </tr>\n",
       "    <tr>\n",
       "      <th>1</th>\n",
       "      <td>1</td>\n",
       "      <td>24</td>\n",
       "      <td>2008-04-02 13:08:17</td>\n",
       "      <td>4.206466</td>\n",
       "      <td>0.060136</td>\n",
       "      <td>24.241571</td>\n",
       "      <td>0.057</td>\n",
       "      <td>4.250</td>\n",
       "      <td>5314.703</td>\n",
       "      <td>1.856487</td>\n",
       "      <td>0.933546</td>\n",
       "    </tr>\n",
       "    <tr>\n",
       "      <th>2</th>\n",
       "      <td>1</td>\n",
       "      <td>24</td>\n",
       "      <td>2008-04-02 13:08:17</td>\n",
       "      <td>4.206558</td>\n",
       "      <td>0.057209</td>\n",
       "      <td>24.230457</td>\n",
       "      <td>0.057</td>\n",
       "      <td>4.250</td>\n",
       "      <td>5329.485</td>\n",
       "      <td>1.856487</td>\n",
       "      <td>0.933602</td>\n",
       "    </tr>\n",
       "    <tr>\n",
       "      <th>3</th>\n",
       "      <td>1</td>\n",
       "      <td>24</td>\n",
       "      <td>2008-04-02 13:08:17</td>\n",
       "      <td>4.205512</td>\n",
       "      <td>0.050194</td>\n",
       "      <td>24.241984</td>\n",
       "      <td>0.047</td>\n",
       "      <td>4.245</td>\n",
       "      <td>5344.282</td>\n",
       "      <td>1.856487</td>\n",
       "      <td>0.932955</td>\n",
       "    </tr>\n",
       "    <tr>\n",
       "      <th>4</th>\n",
       "      <td>1</td>\n",
       "      <td>24</td>\n",
       "      <td>2008-04-02 13:08:17</td>\n",
       "      <td>4.205301</td>\n",
       "      <td>0.047004</td>\n",
       "      <td>24.226732</td>\n",
       "      <td>0.047</td>\n",
       "      <td>4.245</td>\n",
       "      <td>5359.141</td>\n",
       "      <td>1.856487</td>\n",
       "      <td>0.932824</td>\n",
       "    </tr>\n",
       "  </tbody>\n",
       "</table>\n",
       "</div>"
      ],
      "text/plain": [
       "   cycle  ambient_temperature            datetime  voltage_measured  \\\n",
       "0      1                   24 2008-04-02 13:08:17          3.873017   \n",
       "1      1                   24 2008-04-02 13:08:17          4.206466   \n",
       "2      1                   24 2008-04-02 13:08:17          4.206558   \n",
       "3      1                   24 2008-04-02 13:08:17          4.205512   \n",
       "4      1                   24 2008-04-02 13:08:17          4.205301   \n",
       "\n",
       "   current_measured  temperature_measured  current  voltage      time  \\\n",
       "0         -0.001201             24.655358    0.000    0.003     0.000   \n",
       "1          0.060136             24.241571    0.057    4.250  5314.703   \n",
       "2          0.057209             24.230457    0.057    4.250  5329.485   \n",
       "3          0.050194             24.241984    0.047    4.245  5344.282   \n",
       "4          0.047004             24.226732    0.047    4.245  5359.141   \n",
       "\n",
       "   capacity       SOC  \n",
       "0  1.856487  0.726910  \n",
       "1  1.856487  0.933546  \n",
       "2  1.856487  0.933602  \n",
       "3  1.856487  0.932955  \n",
       "4  1.856487  0.932824  "
      ]
     },
     "execution_count": 12,
     "metadata": {},
     "output_type": "execute_result"
    }
   ],
   "source": [
    "with warnings.catch_warnings():\n",
    "    warnings.simplefilter(\"ignore\")\n",
    "    df['SOC'] = ((df['voltage_measured'] - 2.7)/(df['voltage_measured'].max() - 2.7))\n",
    "\n",
    "df.head()"
   ]
  },
  {
   "cell_type": "markdown",
   "id": "00ffc1e0",
   "metadata": {},
   "source": [
    "# Machine Learning (GRU)\n",
    "\n",
    "Now we begin to build our Gated Recurrent Unit Neural Network"
   ]
  },
  {
   "cell_type": "code",
   "execution_count": 26,
   "id": "aa6e2121",
   "metadata": {
    "tags": []
   },
   "outputs": [],
   "source": [
    "import tensorflow as tf\n",
    "from tensorflow.keras.models import Sequential, load_model\n",
    "from tensorflow.keras.layers import Dense, Bidirectional\n",
    "from sklearn.metrics import accuracy_score\n",
    "from tensorflow import keras\n",
    "from sklearn.model_selection import train_test_split"
   ]
  },
  {
   "cell_type": "code",
   "execution_count": 15,
   "id": "443de402-83dd-4cd7-abd8-24ec938cba6e",
   "metadata": {},
   "outputs": [],
   "source": [
    "gpus = tf.config.experimental.list_physical_devices('GPU')\n",
    "for gpu in gpus:\n",
    "    tf.config.experimental.set_memory_growth(gpu, True)"
   ]
  },
  {
   "cell_type": "code",
   "execution_count": 16,
   "id": "a32a554c-65e7-4a40-86f3-1c9d92cc5059",
   "metadata": {},
   "outputs": [
    {
     "data": {
      "text/plain": [
       "[PhysicalDevice(name='/physical_device:GPU:0', device_type='GPU')]"
      ]
     },
     "execution_count": 16,
     "metadata": {},
     "output_type": "execute_result"
    }
   ],
   "source": [
    "tf.config.experimental.list_physical_devices('GPU')"
   ]
  },
  {
   "cell_type": "code",
   "execution_count": 17,
   "id": "5f63aae9-e107-4ad5-9b19-165a14911984",
   "metadata": {},
   "outputs": [],
   "source": [
    "prep_df = df.drop(['datetime', 'ambient_temperature'], axis = 1)"
   ]
  },
  {
   "cell_type": "code",
   "execution_count": 18,
   "id": "5116d0d8-8a74-455d-86d4-378be0c852aa",
   "metadata": {},
   "outputs": [],
   "source": [
    "X = df[[\"cycle\", \"voltage_measured\", \"current_measured\", \"temperature_measured\", \"current\", \"voltage\", \"time\"]]\n",
    "y = df[\"SOC\"]"
   ]
  },
  {
   "cell_type": "markdown",
   "id": "a444c734-292f-456a-9ce2-d7bbad31a537",
   "metadata": {},
   "source": [
    "## Normalisation\n",
    "\n",
    "Here we will normalise the values to give equal weight to each feature"
   ]
  },
  {
   "cell_type": "code",
   "execution_count": 19,
   "id": "9f8628c1-ae67-44c2-b042-0e65cf665386",
   "metadata": {},
   "outputs": [],
   "source": [
    "# Normalize the input features\n",
    "scaler = MinMaxScaler()\n",
    "X = scaler.fit_transform(X)"
   ]
  },
  {
   "cell_type": "code",
   "execution_count": 20,
   "id": "08975357-8e82-4a67-8351-572ee8e1238a",
   "metadata": {},
   "outputs": [],
   "source": [
    "# Reshape data for the RNN\n",
    "X = X.reshape(X.shape[0], 1, X.shape[1])"
   ]
  },
  {
   "cell_type": "markdown",
   "id": "bff2a650-7197-4168-ae9e-aa9565ddc898",
   "metadata": {},
   "source": [
    "### Splitting the Dataset for training"
   ]
  },
  {
   "cell_type": "code",
   "execution_count": 21,
   "id": "312840ea-c2b3-4f5d-9c67-14d3f70d4764",
   "metadata": {
    "tags": []
   },
   "outputs": [],
   "source": [
    "X_train, X_test, y_train, y_test = train_test_split(X, y, test_size=0.2, random_state=42)"
   ]
  },
  {
   "cell_type": "markdown",
   "id": "7402ec9c-e773-48e3-83c2-12004905635e",
   "metadata": {},
   "source": [
    "## Regression with GRU"
   ]
  },
  {
   "cell_type": "code",
   "execution_count": 27,
   "id": "bb0ceff5-99e0-41ab-9ff8-57aef0c51511",
   "metadata": {},
   "outputs": [],
   "source": [
    "def create_BiDirGRU():\n",
    "    model = keras.Sequential()\n",
    "    model.add(Bidirectional(keras.layers.GRU(64, input_shape=(X_train.shape[1], X_train.shape[2]), activation='tanh')))\n",
    "    model.add(keras.layers.Dense(1))\n",
    "    \n",
    "    model.compile(loss='mean_squared_error', optimizer='adam', metrics=['mean_squared_error', 'mean_absolute_error'])\n",
    "    return model\n",
    "\n",
    "def plot_loss(history, title):\n",
    "    plt.plot(history.history['loss'], label='loss')\n",
    "    plt.plot(history.history['val_loss'], label='val_loss')\n",
    "    # plt.ylim([0, 1])\n",
    "    plt.xlabel('Epoch')\n",
    "    plt.ylabel('Error [SOC]')\n",
    "    plt.title(title)\n",
    "    plt.legend()\n",
    "    plt.grid(True)"
   ]
  },
  {
   "cell_type": "code",
   "execution_count": 28,
   "id": "323a757d-033e-4648-b1c2-d4f6c22573b5",
   "metadata": {},
   "outputs": [
    {
     "name": "stdout",
     "output_type": "stream",
     "text": [
      "Model: \"sequential_1\"\n",
      "_________________________________________________________________\n",
      " Layer (type)                Output Shape              Param #   \n",
      "=================================================================\n",
      " bidirectional (Bidirectiona  (None, 128)              28032     \n",
      " l)                                                              \n",
      "                                                                 \n",
      " dense (Dense)               (None, 1)                 129       \n",
      "                                                                 \n",
      "=================================================================\n",
      "Total params: 28,161\n",
      "Trainable params: 28,161\n",
      "Non-trainable params: 0\n",
      "_________________________________________________________________\n"
     ]
    }
   ],
   "source": [
    "bdgru_model = create_BiDirGRU()\n",
    "\n",
    "bdgru_model.build(input_shape=(None, X_train.shape[1], X_train.shape[2]))\n",
    "\n",
    "bdgru_model.summary()"
   ]
  },
  {
   "cell_type": "code",
   "execution_count": 32,
   "id": "84dbf431-7dde-4b94-91db-2c2c0ee994a6",
   "metadata": {},
   "outputs": [],
   "source": [
    "epochs = 40\n",
    "checkpoint_filepath = os.path.join('checkpoints','BiDirGRU_SOC_01{epoch:02d}-{val_loss:.4f}.h5')\n",
    "model_checkpoint_callback = keras.callbacks.ModelCheckpoint(\n",
    "    filepath=checkpoint_filepath,\n",
    "    save_weights_only=True,\n",
    "    monitor='mean_squared_error',\n",
    "    mode='min',\n",
    "    save_best_only=True)\n",
    "\n",
    "if 'history' not in locals():\n",
    "    print('New History array has been created')\n",
    "    history =  []"
   ]
  },
  {
   "cell_type": "code",
   "execution_count": 33,
   "id": "25d39640-219b-4b4a-9dd3-f14afd0d2f97",
   "metadata": {},
   "outputs": [
    {
     "name": "stdout",
     "output_type": "stream",
     "text": [
      "Epoch 1/40\n",
      "11757/11757 [==============================] - 119s 10ms/step - loss: 2.3692e-06 - mean_squared_error: 2.3692e-06 - mean_absolute_error: 0.0011 - val_loss: 5.0953e-06 - val_mean_squared_error: 5.0953e-06 - val_mean_absolute_error: 0.0022\n",
      "Epoch 2/40\n",
      "11757/11757 [==============================] - 117s 10ms/step - loss: 1.8574e-06 - mean_squared_error: 1.8574e-06 - mean_absolute_error: 9.4161e-04 - val_loss: 1.5825e-07 - val_mean_squared_error: 1.5825e-07 - val_mean_absolute_error: 2.9127e-04\n",
      "Epoch 3/40\n",
      "11757/11757 [==============================] - 116s 10ms/step - loss: 1.5194e-06 - mean_squared_error: 1.5194e-06 - mean_absolute_error: 8.9251e-04 - val_loss: 3.8026e-07 - val_mean_squared_error: 3.8026e-07 - val_mean_absolute_error: 5.8715e-04\n",
      "Epoch 4/40\n",
      "11757/11757 [==============================] - 117s 10ms/step - loss: 1.2820e-06 - mean_squared_error: 1.2820e-06 - mean_absolute_error: 8.0979e-04 - val_loss: 8.9417e-07 - val_mean_squared_error: 8.9417e-07 - val_mean_absolute_error: 8.5332e-04\n",
      "Epoch 5/40\n",
      "11757/11757 [==============================] - 114s 10ms/step - loss: 1.1847e-06 - mean_squared_error: 1.1847e-06 - mean_absolute_error: 7.6266e-04 - val_loss: 2.2183e-06 - val_mean_squared_error: 2.2183e-06 - val_mean_absolute_error: 0.0013\n",
      "Epoch 6/40\n",
      "11757/11757 [==============================] - 115s 10ms/step - loss: 1.0488e-06 - mean_squared_error: 1.0488e-06 - mean_absolute_error: 7.2389e-04 - val_loss: 5.7924e-08 - val_mean_squared_error: 5.7924e-08 - val_mean_absolute_error: 1.9424e-04\n",
      "Epoch 7/40\n",
      "11757/11757 [==============================] - 117s 10ms/step - loss: 9.5739e-07 - mean_squared_error: 9.5739e-07 - mean_absolute_error: 7.0148e-04 - val_loss: 6.5575e-06 - val_mean_squared_error: 6.5575e-06 - val_mean_absolute_error: 0.0025\n",
      "Epoch 8/40\n",
      "11757/11757 [==============================] - 116s 10ms/step - loss: 9.2317e-07 - mean_squared_error: 9.2317e-07 - mean_absolute_error: 6.5045e-04 - val_loss: 7.3880e-08 - val_mean_squared_error: 7.3880e-08 - val_mean_absolute_error: 2.3019e-04\n",
      "Epoch 9/40\n",
      "11757/11757 [==============================] - 117s 10ms/step - loss: 8.4284e-07 - mean_squared_error: 8.4284e-07 - mean_absolute_error: 6.3428e-04 - val_loss: 4.2026e-07 - val_mean_squared_error: 4.2026e-07 - val_mean_absolute_error: 6.0319e-04\n",
      "Epoch 10/40\n",
      "11757/11757 [==============================] - 113s 10ms/step - loss: 8.0162e-07 - mean_squared_error: 8.0162e-07 - mean_absolute_error: 6.1726e-04 - val_loss: 5.7868e-08 - val_mean_squared_error: 5.7868e-08 - val_mean_absolute_error: 2.0036e-04\n",
      "Epoch 11/40\n",
      "11757/11757 [==============================] - 98s 8ms/step - loss: 7.5796e-07 - mean_squared_error: 7.5796e-07 - mean_absolute_error: 6.2660e-04 - val_loss: 1.6005e-08 - val_mean_squared_error: 1.6005e-08 - val_mean_absolute_error: 9.2357e-05\n",
      "Epoch 12/40\n",
      "11757/11757 [==============================] - 97s 8ms/step - loss: 7.1385e-07 - mean_squared_error: 7.1385e-07 - mean_absolute_error: 6.0407e-04 - val_loss: 3.8858e-07 - val_mean_squared_error: 3.8858e-07 - val_mean_absolute_error: 6.0316e-04\n",
      "Epoch 13/40\n",
      "11757/11757 [==============================] - 97s 8ms/step - loss: 7.0246e-07 - mean_squared_error: 7.0246e-07 - mean_absolute_error: 5.8483e-04 - val_loss: 2.1839e-07 - val_mean_squared_error: 2.1839e-07 - val_mean_absolute_error: 4.4333e-04\n",
      "Epoch 14/40\n",
      "11757/11757 [==============================] - 98s 8ms/step - loss: 6.8907e-07 - mean_squared_error: 6.8907e-07 - mean_absolute_error: 5.5884e-04 - val_loss: 2.2081e-07 - val_mean_squared_error: 2.2081e-07 - val_mean_absolute_error: 4.3767e-04\n",
      "Epoch 15/40\n",
      "11757/11757 [==============================] - 100s 8ms/step - loss: 6.3612e-07 - mean_squared_error: 6.3612e-07 - mean_absolute_error: 5.7637e-04 - val_loss: 3.3648e-07 - val_mean_squared_error: 3.3648e-07 - val_mean_absolute_error: 5.6399e-04\n",
      "Epoch 16/40\n",
      "11757/11757 [==============================] - 101s 9ms/step - loss: 6.3461e-07 - mean_squared_error: 6.3461e-07 - mean_absolute_error: 5.6205e-04 - val_loss: 1.3493e-06 - val_mean_squared_error: 1.3493e-06 - val_mean_absolute_error: 0.0011\n",
      "Epoch 17/40\n",
      "11757/11757 [==============================] - 99s 8ms/step - loss: 5.9568e-07 - mean_squared_error: 5.9568e-07 - mean_absolute_error: 5.4211e-04 - val_loss: 1.8671e-07 - val_mean_squared_error: 1.8671e-07 - val_mean_absolute_error: 4.1680e-04\n",
      "Epoch 18/40\n",
      "11757/11757 [==============================] - 100s 9ms/step - loss: 5.7490e-07 - mean_squared_error: 5.7490e-07 - mean_absolute_error: 5.4943e-04 - val_loss: 8.8098e-07 - val_mean_squared_error: 8.8098e-07 - val_mean_absolute_error: 9.0750e-04\n",
      "Epoch 19/40\n",
      "11757/11757 [==============================] - 98s 8ms/step - loss: 5.5573e-07 - mean_squared_error: 5.5573e-07 - mean_absolute_error: 5.4148e-04 - val_loss: 6.2723e-07 - val_mean_squared_error: 6.2723e-07 - val_mean_absolute_error: 7.6847e-04\n",
      "Epoch 20/40\n",
      "11757/11757 [==============================] - 99s 8ms/step - loss: 5.3502e-07 - mean_squared_error: 5.3502e-07 - mean_absolute_error: 5.1758e-04 - val_loss: 1.9814e-08 - val_mean_squared_error: 1.9814e-08 - val_mean_absolute_error: 1.2139e-04\n",
      "Epoch 21/40\n",
      "11757/11757 [==============================] - 104s 9ms/step - loss: 5.2161e-07 - mean_squared_error: 5.2161e-07 - mean_absolute_error: 5.2162e-04 - val_loss: 1.1472e-07 - val_mean_squared_error: 1.1472e-07 - val_mean_absolute_error: 2.7647e-04\n",
      "Epoch 22/40\n",
      "11757/11757 [==============================] - 97s 8ms/step - loss: 5.1275e-07 - mean_squared_error: 5.1275e-07 - mean_absolute_error: 5.0674e-04 - val_loss: 3.3129e-06 - val_mean_squared_error: 3.3129e-06 - val_mean_absolute_error: 0.0018\n",
      "Epoch 23/40\n",
      "11757/11757 [==============================] - 95s 8ms/step - loss: 4.9792e-07 - mean_squared_error: 4.9792e-07 - mean_absolute_error: 5.2029e-04 - val_loss: 7.1693e-08 - val_mean_squared_error: 7.1693e-08 - val_mean_absolute_error: 2.0649e-04\n",
      "Epoch 24/40\n",
      "11757/11757 [==============================] - 96s 8ms/step - loss: 4.7590e-07 - mean_squared_error: 4.7590e-07 - mean_absolute_error: 4.9291e-04 - val_loss: 4.0013e-07 - val_mean_squared_error: 4.0013e-07 - val_mean_absolute_error: 6.2022e-04\n",
      "Epoch 25/40\n",
      "11757/11757 [==============================] - 100s 8ms/step - loss: 4.8130e-07 - mean_squared_error: 4.8130e-07 - mean_absolute_error: 5.0401e-04 - val_loss: 2.1431e-07 - val_mean_squared_error: 2.1431e-07 - val_mean_absolute_error: 4.4453e-04\n",
      "Epoch 26/40\n",
      "11757/11757 [==============================] - 97s 8ms/step - loss: 4.4173e-07 - mean_squared_error: 4.4173e-07 - mean_absolute_error: 4.7872e-04 - val_loss: 1.1681e-07 - val_mean_squared_error: 1.1681e-07 - val_mean_absolute_error: 3.1778e-04\n",
      "Epoch 27/40\n",
      "11757/11757 [==============================] - 96s 8ms/step - loss: 4.5103e-07 - mean_squared_error: 4.5103e-07 - mean_absolute_error: 4.8124e-04 - val_loss: 1.4975e-07 - val_mean_squared_error: 1.4975e-07 - val_mean_absolute_error: 3.7505e-04\n",
      "Epoch 28/40\n",
      "11757/11757 [==============================] - 97s 8ms/step - loss: 4.3284e-07 - mean_squared_error: 4.3284e-07 - mean_absolute_error: 4.7010e-04 - val_loss: 3.8015e-08 - val_mean_squared_error: 3.8015e-08 - val_mean_absolute_error: 1.6944e-04\n",
      "Epoch 29/40\n",
      "11757/11757 [==============================] - 97s 8ms/step - loss: 4.2400e-07 - mean_squared_error: 4.2400e-07 - mean_absolute_error: 4.8013e-04 - val_loss: 1.2810e-08 - val_mean_squared_error: 1.2810e-08 - val_mean_absolute_error: 7.2745e-05\n",
      "Epoch 30/40\n",
      "11757/11757 [==============================] - 99s 8ms/step - loss: 4.1560e-07 - mean_squared_error: 4.1560e-07 - mean_absolute_error: 4.6470e-04 - val_loss: 5.8520e-08 - val_mean_squared_error: 5.8520e-08 - val_mean_absolute_error: 2.0554e-04\n",
      "Epoch 31/40\n",
      "11757/11757 [==============================] - 102s 9ms/step - loss: 4.1247e-07 - mean_squared_error: 4.1247e-07 - mean_absolute_error: 4.6789e-04 - val_loss: 1.4109e-07 - val_mean_squared_error: 1.4109e-07 - val_mean_absolute_error: 3.4765e-04\n",
      "Epoch 32/40\n",
      "11757/11757 [==============================] - 103s 9ms/step - loss: 3.9007e-07 - mean_squared_error: 3.9007e-07 - mean_absolute_error: 4.5521e-04 - val_loss: 3.9725e-07 - val_mean_squared_error: 3.9725e-07 - val_mean_absolute_error: 6.0345e-04\n",
      "Epoch 33/40\n",
      "11757/11757 [==============================] - 101s 9ms/step - loss: 3.8825e-07 - mean_squared_error: 3.8825e-07 - mean_absolute_error: 4.5519e-04 - val_loss: 2.4709e-08 - val_mean_squared_error: 2.4709e-08 - val_mean_absolute_error: 1.0500e-04\n",
      "Epoch 34/40\n",
      "11757/11757 [==============================] - 98s 8ms/step - loss: 3.7886e-07 - mean_squared_error: 3.7886e-07 - mean_absolute_error: 4.4891e-04 - val_loss: 1.0033e-06 - val_mean_squared_error: 1.0033e-06 - val_mean_absolute_error: 9.7234e-04\n",
      "Epoch 35/40\n",
      "11757/11757 [==============================] - 96s 8ms/step - loss: 3.7026e-07 - mean_squared_error: 3.7026e-07 - mean_absolute_error: 4.4197e-04 - val_loss: 2.9702e-07 - val_mean_squared_error: 2.9702e-07 - val_mean_absolute_error: 5.1825e-04\n",
      "Epoch 36/40\n",
      "11757/11757 [==============================] - 94s 8ms/step - loss: 3.6352e-07 - mean_squared_error: 3.6352e-07 - mean_absolute_error: 4.4504e-04 - val_loss: 1.6987e-07 - val_mean_squared_error: 1.6987e-07 - val_mean_absolute_error: 3.8473e-04\n",
      "Epoch 37/40\n",
      "11757/11757 [==============================] - 94s 8ms/step - loss: 3.5648e-07 - mean_squared_error: 3.5648e-07 - mean_absolute_error: 4.3702e-04 - val_loss: 3.0261e-07 - val_mean_squared_error: 3.0261e-07 - val_mean_absolute_error: 5.3771e-04\n",
      "Epoch 38/40\n",
      "11757/11757 [==============================] - 96s 8ms/step - loss: 3.4848e-07 - mean_squared_error: 3.4848e-07 - mean_absolute_error: 4.3728e-04 - val_loss: 7.3752e-08 - val_mean_squared_error: 7.3752e-08 - val_mean_absolute_error: 2.0569e-04\n",
      "Epoch 39/40\n",
      "11757/11757 [==============================] - 98s 8ms/step - loss: 3.3907e-07 - mean_squared_error: 3.3907e-07 - mean_absolute_error: 4.2951e-04 - val_loss: 3.3312e-08 - val_mean_squared_error: 3.3312e-08 - val_mean_absolute_error: 1.5210e-04\n",
      "Epoch 40/40\n",
      "11757/11757 [==============================] - 101s 9ms/step - loss: 3.4097e-07 - mean_squared_error: 3.4097e-07 - mean_absolute_error: 4.2505e-04 - val_loss: 1.2530e-07 - val_mean_squared_error: 1.2530e-07 - val_mean_absolute_error: 3.4125e-04\n",
      "CPU times: total: 9min 55s\n",
      "Wall time: 1h 8min 31s\n"
     ]
    }
   ],
   "source": [
    "%%time\n",
    "history.append(bdgru_model.fit(\n",
    "    X_train,\n",
    "    y_train,\n",
    "    batch_size=32,\n",
    "    validation_split = 0.2,\n",
    "    epochs = epochs,\n",
    "    callbacks = model_checkpoint_callback))"
   ]
  },
  {
   "cell_type": "code",
   "execution_count": 34,
   "id": "7e99486c-417e-4d01-91c9-a8193950739d",
   "metadata": {},
   "outputs": [
    {
     "data": {
      "image/png": "[encoded data removed]",
      "text/plain": [
       "<Figure size 640x480 with 1 Axes>"
      ]
     },
     "metadata": {},
     "output_type": "display_data"
    }
   ],
   "source": [
    "plot_loss(history[-1], 'Bidirectional GRU Network Loss (SOC)')"
   ]
  },
  {
   "cell_type": "code",
   "execution_count": 35,
   "id": "874e52f1-86b2-41c1-8504-ce61828ec960",
   "metadata": {},
   "outputs": [],
   "source": [
    "model_path = os.path.join(\"models\",\"BiDirGRU_SOC_01.keras\")"
   ]
  },
  {
   "cell_type": "code",
   "execution_count": 36,
   "id": "fcca8ee6-ee1a-4cb0-9f02-7906f4f520e9",
   "metadata": {},
   "outputs": [],
   "source": [
    "bdgru_model.save(model_path)"
   ]
  },
  {
   "cell_type": "markdown",
   "id": "ce33ae5f-b04c-4eff-b3c7-ac0d22fa8f7f",
   "metadata": {},
   "source": [
    "### Performance"
   ]
  },
  {
   "cell_type": "code",
   "execution_count": 37,
   "id": "fd8bb91d-981d-421e-bbc9-08aa77a03b41",
   "metadata": {},
   "outputs": [],
   "source": [
    "bdgru_model = tf.keras.models.load_model(model_path)"
   ]
  },
  {
   "cell_type": "code",
   "execution_count": 38,
   "id": "3f1c1010-c46c-465b-a1fb-266e3e196c8a",
   "metadata": {},
   "outputs": [
    {
     "name": "stdout",
     "output_type": "stream",
     "text": [
      "3675/3675 [==============================] - 26s 7ms/step\n"
     ]
    }
   ],
   "source": [
    "test_predictions = bdgru_model.predict(X_test).flatten()"
   ]
  },
  {
   "cell_type": "code",
   "execution_count": 1,
   "id": "c5b48cd8-3f3f-42d3-ab48-3bbf8b07a02d",
   "metadata": {},
   "outputs": [
    {
     "ename": "NameError",
     "evalue": "name 'plt' is not defined",
     "output_type": "error",
     "traceback": [
      "\u001b[1;31m---------------------------------------------------------------------------\u001b[0m",
      "\u001b[1;31mNameError\u001b[0m                                 Traceback (most recent call last)",
      "Cell \u001b[1;32mIn[1], line 1\u001b[0m\n\u001b[1;32m----> 1\u001b[0m a \u001b[38;5;241m=\u001b[39m \u001b[43mplt\u001b[49m\u001b[38;5;241m.\u001b[39maxes(aspect\u001b[38;5;241m=\u001b[39m\u001b[38;5;124m'\u001b[39m\u001b[38;5;124mequal\u001b[39m\u001b[38;5;124m'\u001b[39m)\n\u001b[0;32m      2\u001b[0m plt\u001b[38;5;241m.\u001b[39mscatter(y_test, test_predictions)\n\u001b[0;32m      3\u001b[0m plt\u001b[38;5;241m.\u001b[39mxlabel(\u001b[38;5;124m'\u001b[39m\u001b[38;5;124mTrue Values [SOC]\u001b[39m\u001b[38;5;124m'\u001b[39m)\n",
      "\u001b[1;31mNameError\u001b[0m: name 'plt' is not defined"
     ]
    }
   ],
   "source": [
    "a = plt.axes(aspect='equal')\n",
    "plt.scatter(y_test, test_predictions)\n",
    "plt.xlabel('True Values [SOC]')\n",
    "plt.ylabel('Predictions [SOC]')\n",
    "# lims = [1.2, 2]\n",
    "# plt.xlim(lims)\n",
    "# plt.ylim(lims)\n",
    "# _ = plt.plot(lims, lims)"
   ]
  },
  {
   "cell_type": "code",
   "execution_count": 43,
   "id": "e58fb751-61db-4ae6-b927-e4377cea626b",
   "metadata": {},
   "outputs": [
    {
     "data": {
      "image/png": "[encoded data removed]",
      "text/plain": [
       "<Figure size 640x480 with 1 Axes>"
      ]
     },
     "metadata": {},
     "output_type": "display_data"
    }
   ],
   "source": [
    "error = test_predictions - y_test\n",
    "plt.hist(error, bins=25)\n",
    "plt.xlabel('Prediction Error [SOC]')\n",
    "_ = plt.ylabel('Count')"
   ]
  },
  {
   "cell_type": "code",
   "execution_count": 44,
   "id": "5d0a5184-921e-437d-8e3b-05ad957c1ff2",
   "metadata": {},
   "outputs": [
    {
     "name": "stdout",
     "output_type": "stream",
     "text": [
      "MSE: 1.2526551100667619e-07\n",
      "RMSE: 0.0003539286806782917\n",
      "MAE: 0.0003411068945758556\n",
      "R2 Score: 0.9999928952443088\n"
     ]
    }
   ],
   "source": [
    "# Calculate metrics\n",
    "mse = mean_squared_error(y_test, test_predictions)\n",
    "rmse = np.sqrt(mse)\n",
    "mae = mean_absolute_error(y_test, test_predictions)\n",
    "r2 = r2_score(y_test, test_predictions)\n",
    "\n",
    "print(f'MSE: {mse}')\n",
    "print(f'RMSE: {rmse}')\n",
    "print(f'MAE: {mae}')\n",
    "print(f'R2 Score: {r2}')"
   ]
  },
  {
   "cell_type": "code",
   "execution_count": null,
   "id": "6284d6c6-995a-4407-8721-9f64da134f15",
   "metadata": {},
   "outputs": [],
   "source": []
  }
 ],
 "metadata": {
  "kernelspec": {
   "display_name": "DeepNN",
   "language": "python",
   "name": "deepnn"
  },
  "language_info": {
   "codemirror_mode": {
    "name": "ipython",
    "version": 3
   },
   "file_extension": ".py",
   "mimetype": "text/x-python",
   "name": "python",
   "nbconvert_exporter": "python",
   "pygments_lexer": "ipython3",
   "version": "3.9.13"
  }
 },
 "nbformat": 4,
 "nbformat_minor": 5
}
