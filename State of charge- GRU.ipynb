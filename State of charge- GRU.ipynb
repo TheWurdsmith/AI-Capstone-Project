{
 "cells": [
  {
   "cell_type": "markdown",
   "id": "926969bb",
   "metadata": {},
   "source": [
    "# Data Preparation\n",
    "\n",
    "In this sectiono we load in and prepare the data for our machine learning."
   ]
  },
  {
   "cell_type": "code",
   "execution_count": 1,
   "id": "7b1d5fb9-458d-4350-85ff-d49cdd8b3769",
   "metadata": {
    "tags": []
   },
   "outputs": [],
   "source": [
    "# !pip install scipy\n",
    "# !pip install pandas\n",
    "# !pip install scikit-learn"
   ]
  },
  {
   "cell_type": "code",
   "execution_count": 2,
   "id": "e720c4bf-6d3e-4f48-8a2f-416e28cfe2f9",
   "metadata": {
    "tags": []
   },
   "outputs": [],
   "source": [
    "# !conda install -c conda-forge cudatoolkit=11.2 cudnn=8.1.0\n",
    "# # Anything above 2.10 is not supported on the GPU on Windows Native\n",
    "# !pip install \"tensorflow<2.11\"\n"
   ]
  },
  {
   "cell_type": "code",
   "execution_count": 3,
   "id": "e308abf2-77f3-4efa-9fe8-5e33b9329973",
   "metadata": {
    "tags": []
   },
   "outputs": [],
   "source": [
    "# !pip list\n",
    "# !pip install -q seaborn"
   ]
  },
  {
   "cell_type": "code",
   "execution_count": 4,
   "id": "bae6688c",
   "metadata": {},
   "outputs": [],
   "source": [
    "import os\n",
    "import scipy.io as sio\n",
    "import pandas as pd\n",
    "from scipy.io import loadmat\n",
    "import datetime\n",
    "from pandas import DataFrame\n",
    "import matplotlib.pyplot as plt\n",
    "import numpy as np\n",
    "import seaborn as sns\n",
    "from sklearn.preprocessing import MinMaxScaler\n",
    "import warnings\n",
    "from sklearn.metrics import mean_squared_error, mean_absolute_error, r2_score\n",
    "\n",
    "np.set_printoptions(precision=3, suppress=True)"
   ]
  },
  {
   "cell_type": "code",
   "execution_count": 5,
   "id": "a5600b8f-f370-438f-8496-ee50efeb6dad",
   "metadata": {},
   "outputs": [],
   "source": [
    "def plot_history(history):\n",
    "    plt.figure()\n",
    "    plt.xlabel('Epoch')\n",
    "    plt.ylabel('Mean Abs Error')\n",
    "    plt.plot(history.epoch, np.array(history.history['mae']), \n",
    "             label='Train')\n",
    "    plt.plot(history.epoch, np.array(history.history['val_mae']),\n",
    "             label = 'Val')\n",
    "    plt.legend()\n",
    "    # plt.ylim([0,max(history.history['val_mae']) + 1])\n",
    "    \n",
    "def plot_prediction(test_labels, test_predictions):\n",
    "    plt.figure()\n",
    "    plt.scatter(test_labels, test_predictions)\n",
    "    plt.xlabel('True Values')\n",
    "    plt.ylabel('Predictions')\n",
    "    plt.axis('equal')\n",
    "    plt.xlim(plt.xlim())\n",
    "    plt.ylim(plt.ylim())\n",
    "    _ = plt.plot([-100, 100],[-100,100])\n",
    "    \n",
    "    plt.figure()\n",
    "    error = test_predictions - test_labels\n",
    "    plt.hist(error, bins = 50)\n",
    "    plt.xlabel(\"Prediction Error\")\n",
    "    _ = plt.ylabel(\"Count\")"
   ]
  },
  {
   "cell_type": "markdown",
   "id": "ab2a9a82",
   "metadata": {},
   "source": [
    "## Ingesting the data\n",
    "\n",
    "The following data is from a Nasa dataset with n refferring to the iteration number of the dataset used. \n",
    "\n",
    "    Voltage_measured: Fuel Cell terminal voltage (Volts)\n",
    "    Current_measured: Fuel Cell output current (Amps)\n",
    "    Temperature_measured: Fuel Cell temperature (degree C)\n",
    "    Current_load: Current measured at load (Amps)\n",
    "    Voltage_load: Voltage measured at load (Volts)\n",
    "    Time: Time vector for the cycle (seconds)\n",
    "    Capacity: Fuel Cell capacity (Ahr) for discharge till 2.7V\n",
    "    Datetime: the date and time of the start of the cycle\n",
    "    Ambient_temperature: Temperature in which the fuel cell is stored (degree C)\n",
    "    Cycle: Charge cycle of the fuel cell\n"
   ]
  },
  {
   "cell_type": "code",
   "execution_count": 6,
   "id": "aed8bdba",
   "metadata": {},
   "outputs": [
    {
     "data": {
      "text/html": [
       "<div>\n",
       "<style scoped>\n",
       "    .dataframe tbody tr th:only-of-type {\n",
       "        vertical-align: middle;\n",
       "    }\n",
       "\n",
       "    .dataframe tbody tr th {\n",
       "        vertical-align: top;\n",
       "    }\n",
       "\n",
       "    .dataframe thead th {\n",
       "        text-align: right;\n",
       "    }\n",
       "</style>\n",
       "<table border=\"1\" class=\"dataframe\">\n",
       "  <thead>\n",
       "    <tr style=\"text-align: right;\">\n",
       "      <th></th>\n",
       "      <th>cycle</th>\n",
       "      <th>ambient_temperature</th>\n",
       "      <th>datetime</th>\n",
       "      <th>voltage_measured</th>\n",
       "      <th>current_measured</th>\n",
       "      <th>temperature_measured</th>\n",
       "      <th>current</th>\n",
       "      <th>voltage</th>\n",
       "      <th>time</th>\n",
       "      <th>capacity</th>\n",
       "    </tr>\n",
       "  </thead>\n",
       "  <tbody>\n",
       "    <tr>\n",
       "      <th>0</th>\n",
       "      <td>1</td>\n",
       "      <td>24</td>\n",
       "      <td>2008-04-02 13:08:17</td>\n",
       "      <td>3.873017</td>\n",
       "      <td>-0.001201</td>\n",
       "      <td>24.655358</td>\n",
       "      <td>0.000</td>\n",
       "      <td>0.003</td>\n",
       "      <td>0.000</td>\n",
       "      <td>NaN</td>\n",
       "    </tr>\n",
       "    <tr>\n",
       "      <th>1</th>\n",
       "      <td>1</td>\n",
       "      <td>24</td>\n",
       "      <td>2008-04-02 13:08:17</td>\n",
       "      <td>4.206466</td>\n",
       "      <td>0.060136</td>\n",
       "      <td>24.241571</td>\n",
       "      <td>0.057</td>\n",
       "      <td>4.250</td>\n",
       "      <td>5314.703</td>\n",
       "      <td>NaN</td>\n",
       "    </tr>\n",
       "    <tr>\n",
       "      <th>2</th>\n",
       "      <td>1</td>\n",
       "      <td>24</td>\n",
       "      <td>2008-04-02 13:08:17</td>\n",
       "      <td>4.206558</td>\n",
       "      <td>0.057209</td>\n",
       "      <td>24.230457</td>\n",
       "      <td>0.057</td>\n",
       "      <td>4.250</td>\n",
       "      <td>5329.485</td>\n",
       "      <td>NaN</td>\n",
       "    </tr>\n",
       "    <tr>\n",
       "      <th>3</th>\n",
       "      <td>1</td>\n",
       "      <td>24</td>\n",
       "      <td>2008-04-02 13:08:17</td>\n",
       "      <td>4.205512</td>\n",
       "      <td>0.050194</td>\n",
       "      <td>24.241984</td>\n",
       "      <td>0.047</td>\n",
       "      <td>4.245</td>\n",
       "      <td>5344.282</td>\n",
       "      <td>NaN</td>\n",
       "    </tr>\n",
       "    <tr>\n",
       "      <th>4</th>\n",
       "      <td>1</td>\n",
       "      <td>24</td>\n",
       "      <td>2008-04-02 13:08:17</td>\n",
       "      <td>4.205301</td>\n",
       "      <td>0.047004</td>\n",
       "      <td>24.226732</td>\n",
       "      <td>0.047</td>\n",
       "      <td>4.245</td>\n",
       "      <td>5359.141</td>\n",
       "      <td>NaN</td>\n",
       "    </tr>\n",
       "  </tbody>\n",
       "</table>\n",
       "</div>"
      ],
      "text/plain": [
       "   cycle  ambient_temperature            datetime  voltage_measured  \\\n",
       "0      1                   24 2008-04-02 13:08:17          3.873017   \n",
       "1      1                   24 2008-04-02 13:08:17          4.206466   \n",
       "2      1                   24 2008-04-02 13:08:17          4.206558   \n",
       "3      1                   24 2008-04-02 13:08:17          4.205512   \n",
       "4      1                   24 2008-04-02 13:08:17          4.205301   \n",
       "\n",
       "   current_measured  temperature_measured  current  voltage      time  \\\n",
       "0         -0.001201             24.655358    0.000    0.003     0.000   \n",
       "1          0.060136             24.241571    0.057    4.250  5314.703   \n",
       "2          0.057209             24.230457    0.057    4.250  5329.485   \n",
       "3          0.050194             24.241984    0.047    4.245  5344.282   \n",
       "4          0.047004             24.226732    0.047    4.245  5359.141   \n",
       "\n",
       "   capacity  \n",
       "0       NaN  \n",
       "1       NaN  \n",
       "2       NaN  \n",
       "3       NaN  \n",
       "4       NaN  "
      ]
     },
     "execution_count": 6,
     "metadata": {},
     "output_type": "execute_result"
    }
   ],
   "source": [
    "n = 'B0005'\n",
    "df = pd.read_csv('data_frames/' + 'NASA_cycle_dataset_' + n +'.csv',\n",
    "                 parse_dates = [\"datetime\"]).drop([\"Unnamed: 0\"], axis = 1)\n",
    "df.head()"
   ]
  },
  {
   "cell_type": "markdown",
   "id": "cba4f3c8",
   "metadata": {},
   "source": [
    "## Beginning Data engineering\n",
    "\n",
    "In the Below cells we are attempting to fill in the missing values. A brief look at the dataset showed that each cycle potentially had a capacity for at least one of its rows. \n",
    "\n",
    "First we test that theory:"
   ]
  },
  {
   "cell_type": "code",
   "execution_count": 7,
   "id": "6ca09c7e",
   "metadata": {},
   "outputs": [
    {
     "data": {
      "text/html": [
       "<div>\n",
       "<style scoped>\n",
       "    .dataframe tbody tr th:only-of-type {\n",
       "        vertical-align: middle;\n",
       "    }\n",
       "\n",
       "    .dataframe tbody tr th {\n",
       "        vertical-align: top;\n",
       "    }\n",
       "\n",
       "    .dataframe thead th {\n",
       "        text-align: right;\n",
       "    }\n",
       "</style>\n",
       "<table border=\"1\" class=\"dataframe\">\n",
       "  <thead>\n",
       "    <tr style=\"text-align: right;\">\n",
       "      <th></th>\n",
       "      <th>capacity</th>\n",
       "    </tr>\n",
       "    <tr>\n",
       "      <th>cycle</th>\n",
       "      <th></th>\n",
       "    </tr>\n",
       "  </thead>\n",
       "  <tbody>\n",
       "    <tr>\n",
       "      <th>169</th>\n",
       "      <td>0</td>\n",
       "    </tr>\n",
       "    <tr>\n",
       "      <th>170</th>\n",
       "      <td>0</td>\n",
       "    </tr>\n",
       "  </tbody>\n",
       "</table>\n",
       "</div>"
      ],
      "text/plain": [
       "       capacity\n",
       "cycle          \n",
       "169           0\n",
       "170           0"
      ]
     },
     "execution_count": 7,
     "metadata": {},
     "output_type": "execute_result"
    }
   ],
   "source": [
    "capacity_counts = pd.DataFrame(df.groupby('cycle')['capacity'].nunique())\n",
    "zero_capacity_rows = capacity_counts[capacity_counts['capacity'] != 1]\n",
    "# capacity_counts\n",
    "zero_capacity_rows"
   ]
  },
  {
   "cell_type": "code",
   "execution_count": 8,
   "id": "cf6fa883",
   "metadata": {
    "scrolled": true
   },
   "outputs": [
    {
     "name": "stdout",
     "output_type": "stream",
     "text": [
      "The standard deviation of capacity is 0.1824.\n",
      "The average of capacity is 1.5603.\n",
      "This makes the standard deviation 11.69% of the mean\n"
     ]
    }
   ],
   "source": [
    "cap_std = df['capacity'].std()\n",
    "cap_mean = df['capacity'].mean()\n",
    "\n",
    "print(f\"The standard deviation of capacity is {round(cap_std, 4)}.\")\n",
    "print(f\"The average of capacity is {round(cap_mean, 4)}.\")\n",
    "print(f\"This makes the standard deviation {round(cap_std/cap_mean*100,2)}% of the mean\")"
   ]
  },
  {
   "cell_type": "markdown",
   "id": "09d459e3",
   "metadata": {},
   "source": [
    "The above cell shows that there is a singular battery capacity for each cycle except for 169 and 170.\n",
    "For now we shall remove those two cycles as there is a large amount of deviation."
   ]
  },
  {
   "cell_type": "code",
   "execution_count": 9,
   "id": "925ee0d8",
   "metadata": {},
   "outputs": [
    {
     "data": {
      "text/html": [
       "<div>\n",
       "<style scoped>\n",
       "    .dataframe tbody tr th:only-of-type {\n",
       "        vertical-align: middle;\n",
       "    }\n",
       "\n",
       "    .dataframe tbody tr th {\n",
       "        vertical-align: top;\n",
       "    }\n",
       "\n",
       "    .dataframe thead th {\n",
       "        text-align: right;\n",
       "    }\n",
       "</style>\n",
       "<table border=\"1\" class=\"dataframe\">\n",
       "  <thead>\n",
       "    <tr style=\"text-align: right;\">\n",
       "      <th></th>\n",
       "      <th>cycle</th>\n",
       "      <th>ambient_temperature</th>\n",
       "      <th>datetime</th>\n",
       "      <th>voltage_measured</th>\n",
       "      <th>current_measured</th>\n",
       "      <th>temperature_measured</th>\n",
       "      <th>current</th>\n",
       "      <th>voltage</th>\n",
       "      <th>time</th>\n",
       "      <th>capacity</th>\n",
       "    </tr>\n",
       "  </thead>\n",
       "  <tbody>\n",
       "    <tr>\n",
       "      <th>0</th>\n",
       "      <td>1</td>\n",
       "      <td>24</td>\n",
       "      <td>2008-04-02 13:08:17</td>\n",
       "      <td>3.873017</td>\n",
       "      <td>-0.001201</td>\n",
       "      <td>24.655358</td>\n",
       "      <td>0.000</td>\n",
       "      <td>0.003</td>\n",
       "      <td>0.000</td>\n",
       "      <td>1.856487</td>\n",
       "    </tr>\n",
       "    <tr>\n",
       "      <th>1</th>\n",
       "      <td>1</td>\n",
       "      <td>24</td>\n",
       "      <td>2008-04-02 13:08:17</td>\n",
       "      <td>4.206466</td>\n",
       "      <td>0.060136</td>\n",
       "      <td>24.241571</td>\n",
       "      <td>0.057</td>\n",
       "      <td>4.250</td>\n",
       "      <td>5314.703</td>\n",
       "      <td>1.856487</td>\n",
       "    </tr>\n",
       "    <tr>\n",
       "      <th>2</th>\n",
       "      <td>1</td>\n",
       "      <td>24</td>\n",
       "      <td>2008-04-02 13:08:17</td>\n",
       "      <td>4.206558</td>\n",
       "      <td>0.057209</td>\n",
       "      <td>24.230457</td>\n",
       "      <td>0.057</td>\n",
       "      <td>4.250</td>\n",
       "      <td>5329.485</td>\n",
       "      <td>1.856487</td>\n",
       "    </tr>\n",
       "    <tr>\n",
       "      <th>3</th>\n",
       "      <td>1</td>\n",
       "      <td>24</td>\n",
       "      <td>2008-04-02 13:08:17</td>\n",
       "      <td>4.205512</td>\n",
       "      <td>0.050194</td>\n",
       "      <td>24.241984</td>\n",
       "      <td>0.047</td>\n",
       "      <td>4.245</td>\n",
       "      <td>5344.282</td>\n",
       "      <td>1.856487</td>\n",
       "    </tr>\n",
       "    <tr>\n",
       "      <th>4</th>\n",
       "      <td>1</td>\n",
       "      <td>24</td>\n",
       "      <td>2008-04-02 13:08:17</td>\n",
       "      <td>4.205301</td>\n",
       "      <td>0.047004</td>\n",
       "      <td>24.226732</td>\n",
       "      <td>0.047</td>\n",
       "      <td>4.245</td>\n",
       "      <td>5359.141</td>\n",
       "      <td>1.856487</td>\n",
       "    </tr>\n",
       "  </tbody>\n",
       "</table>\n",
       "</div>"
      ],
      "text/plain": [
       "   cycle  ambient_temperature            datetime  voltage_measured  \\\n",
       "0      1                   24 2008-04-02 13:08:17          3.873017   \n",
       "1      1                   24 2008-04-02 13:08:17          4.206466   \n",
       "2      1                   24 2008-04-02 13:08:17          4.206558   \n",
       "3      1                   24 2008-04-02 13:08:17          4.205512   \n",
       "4      1                   24 2008-04-02 13:08:17          4.205301   \n",
       "\n",
       "   current_measured  temperature_measured  current  voltage      time  \\\n",
       "0         -0.001201             24.655358    0.000    0.003     0.000   \n",
       "1          0.060136             24.241571    0.057    4.250  5314.703   \n",
       "2          0.057209             24.230457    0.057    4.250  5329.485   \n",
       "3          0.050194             24.241984    0.047    4.245  5344.282   \n",
       "4          0.047004             24.226732    0.047    4.245  5359.141   \n",
       "\n",
       "   capacity  \n",
       "0  1.856487  \n",
       "1  1.856487  \n",
       "2  1.856487  \n",
       "3  1.856487  \n",
       "4  1.856487  "
      ]
     },
     "execution_count": 9,
     "metadata": {},
     "output_type": "execute_result"
    }
   ],
   "source": [
    "df = df[df['cycle'] <  169]\n",
    "caps = pd.DataFrame(df.groupby('cycle')['capacity'].max())\n",
    "temp = df.merge(caps, on='cycle', how='left').ffill()\n",
    "temp = temp.drop([\"capacity_x\"], axis = 1).rename(columns = {\"capacity_y\" : \"capacity\"})\n",
    "df = temp\n",
    "temp.head()"
   ]
  },
  {
   "cell_type": "code",
   "execution_count": 10,
   "id": "6d28ea6a-9c47-470d-8bc6-1aea4975390c",
   "metadata": {},
   "outputs": [
    {
     "name": "stdout",
     "output_type": "stream",
     "text": [
      "The number of unique vlaues for ambient_temperature is: 1 \n",
      "The Maximum value for voltage_measured is: 8.393141180564633 \n"
     ]
    }
   ],
   "source": [
    "print(f\"The number of unique vlaues for ambient_temperature is: {df['ambient_temperature'].nunique()} \")\n",
    "\n",
    "print(f\"The Maximum value for voltage_measured is: {df['voltage_measured'].max()} \")"
   ]
  },
  {
   "cell_type": "markdown",
   "id": "7c60beee-afcf-4042-9060-cbac729431e9",
   "metadata": {},
   "source": [
    "This shows that there is a consistency of ambient temperature in this dataset. This will be a limitation in the final model. We also need to check whether this voltage (which seems high)  is an outlier or not"
   ]
  },
  {
   "cell_type": "code",
   "execution_count": 11,
   "id": "2e792e1b-0a21-4219-8de7-d7902b7fd128",
   "metadata": {},
   "outputs": [
    {
     "data": {
      "image/png": "[encoded data removed]",
      "text/plain": [
       "<Figure size 640x480 with 1 Axes>"
      ]
     },
     "metadata": {},
     "output_type": "display_data"
    }
   ],
   "source": [
    "plt.hist(df['voltage_measured'], bins = 100)\n",
    "plt.xlabel('Voltage Measured')\n",
    "plt.ylabel('Frequency')\n",
    "plt.title('Distribution of Voltage Measured')\n",
    "plt.ylim(0,4)\n",
    "plt.show()"
   ]
  },
  {
   "cell_type": "markdown",
   "id": "c91c6c3b-72c0-43e5-b643-6a58e5f14bcd",
   "metadata": {},
   "source": [
    "As shown above, there is only a singular value above 4.xxxx, making the maximum vlaue shown above a clear outlier. We need to remove this value and so shall remove it."
   ]
  },
  {
   "cell_type": "code",
   "execution_count": 12,
   "id": "9c3434ca-4638-4d83-9b28-a11f3806dd78",
   "metadata": {},
   "outputs": [],
   "source": [
    "value = df['voltage_measured'].max()\n",
    "df = df[df['voltage_measured'] != value]"
   ]
  },
  {
   "cell_type": "code",
   "execution_count": 13,
   "id": "87434cf7-f281-492c-87b0-24dbbd815b0e",
   "metadata": {},
   "outputs": [
    {
     "data": {
      "image/png": "[encoded data removed]",
      "text/plain": [
       "<Figure size 640x480 with 1 Axes>"
      ]
     },
     "metadata": {},
     "output_type": "display_data"
    }
   ],
   "source": [
    "plt.hist(df['voltage_measured'], bins = 100)\n",
    "plt.xlabel('Voltage Measured')\n",
    "plt.ylabel('Frequency')\n",
    "plt.title('Distribution of Voltage Measured')\n",
    "plt.ylim(0,50)\n",
    "plt.show()"
   ]
  },
  {
   "cell_type": "code",
   "execution_count": 14,
   "id": "16eb80d2-12f0-436d-81bd-b50e5f6f8c63",
   "metadata": {},
   "outputs": [
    {
     "data": {
      "text/plain": [
       "<matplotlib.collections.PathCollection at 0x2a54ddc74f0>"
      ]
     },
     "execution_count": 14,
     "metadata": {},
     "output_type": "execute_result"
    },
    {
     "data": {
      "image/png": "[encoded data removed]",
      "text/plain": [
       "<Figure size 640x480 with 1 Axes>"
      ]
     },
     "metadata": {},
     "output_type": "display_data"
    }
   ],
   "source": [
    "cycle = 5\n",
    "plt.scatter(df[df['cycle'] == cycle]['datetime'], df[df['cycle'] == cycle]['voltage_measured'])"
   ]
  },
  {
   "cell_type": "code",
   "execution_count": 15,
   "id": "14ae22c4-cc45-435f-9c32-c2c2430f6ff8",
   "metadata": {},
   "outputs": [
    {
     "data": {
      "text/html": [
       "<div>\n",
       "<style scoped>\n",
       "    .dataframe tbody tr th:only-of-type {\n",
       "        vertical-align: middle;\n",
       "    }\n",
       "\n",
       "    .dataframe tbody tr th {\n",
       "        vertical-align: top;\n",
       "    }\n",
       "\n",
       "    .dataframe thead th {\n",
       "        text-align: right;\n",
       "    }\n",
       "</style>\n",
       "<table border=\"1\" class=\"dataframe\">\n",
       "  <thead>\n",
       "    <tr style=\"text-align: right;\">\n",
       "      <th></th>\n",
       "      <th>cycle</th>\n",
       "      <th>ambient_temperature</th>\n",
       "      <th>datetime</th>\n",
       "      <th>voltage_measured</th>\n",
       "      <th>current_measured</th>\n",
       "      <th>temperature_measured</th>\n",
       "      <th>current</th>\n",
       "      <th>voltage</th>\n",
       "      <th>time</th>\n",
       "      <th>capacity</th>\n",
       "      <th>SOC</th>\n",
       "    </tr>\n",
       "  </thead>\n",
       "  <tbody>\n",
       "    <tr>\n",
       "      <th>0</th>\n",
       "      <td>1</td>\n",
       "      <td>24</td>\n",
       "      <td>2008-04-02 13:08:17</td>\n",
       "      <td>3.873017</td>\n",
       "      <td>-0.001201</td>\n",
       "      <td>24.655358</td>\n",
       "      <td>0.000</td>\n",
       "      <td>0.003</td>\n",
       "      <td>0.000</td>\n",
       "      <td>1.856487</td>\n",
       "      <td>0.726910</td>\n",
       "    </tr>\n",
       "    <tr>\n",
       "      <th>1</th>\n",
       "      <td>1</td>\n",
       "      <td>24</td>\n",
       "      <td>2008-04-02 13:08:17</td>\n",
       "      <td>4.206466</td>\n",
       "      <td>0.060136</td>\n",
       "      <td>24.241571</td>\n",
       "      <td>0.057</td>\n",
       "      <td>4.250</td>\n",
       "      <td>5314.703</td>\n",
       "      <td>1.856487</td>\n",
       "      <td>0.933546</td>\n",
       "    </tr>\n",
       "    <tr>\n",
       "      <th>2</th>\n",
       "      <td>1</td>\n",
       "      <td>24</td>\n",
       "      <td>2008-04-02 13:08:17</td>\n",
       "      <td>4.206558</td>\n",
       "      <td>0.057209</td>\n",
       "      <td>24.230457</td>\n",
       "      <td>0.057</td>\n",
       "      <td>4.250</td>\n",
       "      <td>5329.485</td>\n",
       "      <td>1.856487</td>\n",
       "      <td>0.933602</td>\n",
       "    </tr>\n",
       "    <tr>\n",
       "      <th>3</th>\n",
       "      <td>1</td>\n",
       "      <td>24</td>\n",
       "      <td>2008-04-02 13:08:17</td>\n",
       "      <td>4.205512</td>\n",
       "      <td>0.050194</td>\n",
       "      <td>24.241984</td>\n",
       "      <td>0.047</td>\n",
       "      <td>4.245</td>\n",
       "      <td>5344.282</td>\n",
       "      <td>1.856487</td>\n",
       "      <td>0.932955</td>\n",
       "    </tr>\n",
       "    <tr>\n",
       "      <th>4</th>\n",
       "      <td>1</td>\n",
       "      <td>24</td>\n",
       "      <td>2008-04-02 13:08:17</td>\n",
       "      <td>4.205301</td>\n",
       "      <td>0.047004</td>\n",
       "      <td>24.226732</td>\n",
       "      <td>0.047</td>\n",
       "      <td>4.245</td>\n",
       "      <td>5359.141</td>\n",
       "      <td>1.856487</td>\n",
       "      <td>0.932824</td>\n",
       "    </tr>\n",
       "  </tbody>\n",
       "</table>\n",
       "</div>"
      ],
      "text/plain": [
       "   cycle  ambient_temperature            datetime  voltage_measured  \\\n",
       "0      1                   24 2008-04-02 13:08:17          3.873017   \n",
       "1      1                   24 2008-04-02 13:08:17          4.206466   \n",
       "2      1                   24 2008-04-02 13:08:17          4.206558   \n",
       "3      1                   24 2008-04-02 13:08:17          4.205512   \n",
       "4      1                   24 2008-04-02 13:08:17          4.205301   \n",
       "\n",
       "   current_measured  temperature_measured  current  voltage      time  \\\n",
       "0         -0.001201             24.655358    0.000    0.003     0.000   \n",
       "1          0.060136             24.241571    0.057    4.250  5314.703   \n",
       "2          0.057209             24.230457    0.057    4.250  5329.485   \n",
       "3          0.050194             24.241984    0.047    4.245  5344.282   \n",
       "4          0.047004             24.226732    0.047    4.245  5359.141   \n",
       "\n",
       "   capacity       SOC  \n",
       "0  1.856487  0.726910  \n",
       "1  1.856487  0.933546  \n",
       "2  1.856487  0.933602  \n",
       "3  1.856487  0.932955  \n",
       "4  1.856487  0.932824  "
      ]
     },
     "execution_count": 15,
     "metadata": {},
     "output_type": "execute_result"
    }
   ],
   "source": [
    "with warnings.catch_warnings():\n",
    "    warnings.simplefilter(\"ignore\")\n",
    "    df['SOC'] = ((df['voltage_measured'] - 2.7)/(df['voltage_measured'].max() - 2.7))\n",
    "\n",
    "df.head()"
   ]
  },
  {
   "cell_type": "markdown",
   "id": "00ffc1e0",
   "metadata": {},
   "source": [
    "# Machine Learning (GRU)\n",
    "\n",
    "Now we begin to build our Gated Recurrent Unit Neural Network"
   ]
  },
  {
   "cell_type": "code",
   "execution_count": 16,
   "id": "aa6e2121",
   "metadata": {
    "tags": []
   },
   "outputs": [],
   "source": [
    "import tensorflow as tf\n",
    "from tensorflow.keras.models import Sequential, load_model\n",
    "from tensorflow.keras.layers import Dense\n",
    "from sklearn.metrics import accuracy_score\n",
    "from tensorflow import keras\n",
    "from sklearn.model_selection import train_test_split"
   ]
  },
  {
   "cell_type": "code",
   "execution_count": 17,
   "id": "443de402-83dd-4cd7-abd8-24ec938cba6e",
   "metadata": {},
   "outputs": [],
   "source": [
    "gpus = tf.config.experimental.list_physical_devices('GPU')\n",
    "for gpu in gpus:\n",
    "    tf.config.experimental.set_memory_growth(gpu, True)"
   ]
  },
  {
   "cell_type": "code",
   "execution_count": 18,
   "id": "a32a554c-65e7-4a40-86f3-1c9d92cc5059",
   "metadata": {},
   "outputs": [
    {
     "data": {
      "text/plain": [
       "[PhysicalDevice(name='/physical_device:GPU:0', device_type='GPU')]"
      ]
     },
     "execution_count": 18,
     "metadata": {},
     "output_type": "execute_result"
    }
   ],
   "source": [
    "tf.config.experimental.list_physical_devices('GPU')"
   ]
  },
  {
   "cell_type": "code",
   "execution_count": 19,
   "id": "5f63aae9-e107-4ad5-9b19-165a14911984",
   "metadata": {},
   "outputs": [],
   "source": [
    "prep_df = df.drop(['datetime', 'ambient_temperature'], axis = 1)"
   ]
  },
  {
   "cell_type": "code",
   "execution_count": 20,
   "id": "5116d0d8-8a74-455d-86d4-378be0c852aa",
   "metadata": {},
   "outputs": [],
   "source": [
    "X = df[[\"cycle\", \"voltage_measured\", \"current_measured\", \"temperature_measured\", \"current\", \"voltage\", \"time\"]]\n",
    "y = df[\"SOC\"]"
   ]
  },
  {
   "cell_type": "markdown",
   "id": "a444c734-292f-456a-9ce2-d7bbad31a537",
   "metadata": {},
   "source": [
    "## Normalisation\n",
    "\n",
    "Here we will normalise the values to give equal weight to each feature"
   ]
  },
  {
   "cell_type": "code",
   "execution_count": 21,
   "id": "9f8628c1-ae67-44c2-b042-0e65cf665386",
   "metadata": {},
   "outputs": [],
   "source": [
    "# Normalize the input features\n",
    "scaler = MinMaxScaler()\n",
    "X = scaler.fit_transform(X)"
   ]
  },
  {
   "cell_type": "code",
   "execution_count": 22,
   "id": "08975357-8e82-4a67-8351-572ee8e1238a",
   "metadata": {},
   "outputs": [],
   "source": [
    "# Reshape data for the RNN\n",
    "X = X.reshape(X.shape[0], 1, X.shape[1])"
   ]
  },
  {
   "cell_type": "markdown",
   "id": "bff2a650-7197-4168-ae9e-aa9565ddc898",
   "metadata": {},
   "source": [
    "### Splitting the Dataset for training"
   ]
  },
  {
   "cell_type": "code",
   "execution_count": 23,
   "id": "312840ea-c2b3-4f5d-9c67-14d3f70d4764",
   "metadata": {
    "tags": []
   },
   "outputs": [],
   "source": [
    "X_train, X_test, y_train, y_test = train_test_split(X, y, test_size=0.2, random_state=42)"
   ]
  },
  {
   "cell_type": "markdown",
   "id": "7402ec9c-e773-48e3-83c2-12004905635e",
   "metadata": {},
   "source": [
    "## Regression with GRU"
   ]
  },
  {
   "cell_type": "code",
   "execution_count": 24,
   "id": "bb0ceff5-99e0-41ab-9ff8-57aef0c51511",
   "metadata": {},
   "outputs": [],
   "source": [
    "def create_GRU():\n",
    "    model = keras.Sequential()\n",
    "    model.add(keras.layers.GRU(64, input_shape=(X_train.shape[1], X_train.shape[2]), activation='tanh'))\n",
    "    model.add(keras.layers.Dense(1))\n",
    "    \n",
    "    model.compile(loss='mean_squared_error', optimizer='adam', \n",
    "                  metrics=['mean_squared_error', 'mean_absolute_error'])\n",
    "    return model\n",
    "\n",
    "def plot_loss(history, title):\n",
    "    plt.plot(history.history['loss'], label='loss')\n",
    "    plt.plot(history.history['val_loss'], label='val_loss')\n",
    "    # plt.ylim([0, 1])\n",
    "    plt.xlabel('Epoch')\n",
    "    plt.ylabel('Error [SOC]')\n",
    "    plt.title(title)\n",
    "    plt.legend()\n",
    "    plt.grid(True)"
   ]
  },
  {
   "cell_type": "code",
   "execution_count": 25,
   "id": "323a757d-033e-4648-b1c2-d4f6c22573b5",
   "metadata": {},
   "outputs": [
    {
     "name": "stdout",
     "output_type": "stream",
     "text": [
      "Model: \"sequential\"\n",
      "_________________________________________________________________\n",
      " Layer (type)                Output Shape              Param #   \n",
      "=================================================================\n",
      " gru (GRU)                   (None, 64)                14016     \n",
      "                                                                 \n",
      " dense (Dense)               (None, 1)                 65        \n",
      "                                                                 \n",
      "=================================================================\n",
      "Total params: 14,081\n",
      "Trainable params: 14,081\n",
      "Non-trainable params: 0\n",
      "_________________________________________________________________\n"
     ]
    }
   ],
   "source": [
    "gru_model = create_GRU()\n",
    "\n",
    "gru_model.summary()"
   ]
  },
  {
   "cell_type": "code",
   "execution_count": 26,
   "id": "84dbf431-7dde-4b94-91db-2c2c0ee994a6",
   "metadata": {},
   "outputs": [
    {
     "name": "stdout",
     "output_type": "stream",
     "text": [
      "New History array has been created\n"
     ]
    }
   ],
   "source": [
    "epochs = 40\n",
    "checkpoint_filepath = os.path.join('checkpoints','GRU_SOC_01{epoch:02d}-{val_loss:.4f}.h5')\n",
    "model_checkpoint_callback = keras.callbacks.ModelCheckpoint(\n",
    "    filepath=checkpoint_filepath,\n",
    "    save_weights_only=True,\n",
    "    monitor='mean_squared_error',\n",
    "    mode='min',\n",
    "    save_best_only=True)\n",
    "\n",
    "if 'history' not in locals():\n",
    "    print('New History array has been created')\n",
    "    history =  []"
   ]
  },
  {
   "cell_type": "code",
   "execution_count": 27,
   "id": "25d39640-219b-4b4a-9dd3-f14afd0d2f97",
   "metadata": {},
   "outputs": [
    {
     "name": "stdout",
     "output_type": "stream",
     "text": [
      "Epoch 1/40\n",
      "11757/11757 [==============================] - 79s 6ms/step - loss: 9.1175e-04 - mean_squared_error: 9.1175e-04 - mean_absolute_error: 0.0064 - val_loss: 1.8520e-05 - val_mean_squared_error: 1.8520e-05 - val_mean_absolute_error: 0.0042\n",
      "Epoch 2/40\n",
      "11757/11757 [==============================] - 71s 6ms/step - loss: 1.8453e-06 - mean_squared_error: 1.8453e-06 - mean_absolute_error: 0.0010 - val_loss: 9.8740e-08 - val_mean_squared_error: 9.8740e-08 - val_mean_absolute_error: 1.7971e-04\n",
      "Epoch 3/40\n",
      "11757/11757 [==============================] - 71s 6ms/step - loss: 1.4068e-06 - mean_squared_error: 1.4068e-06 - mean_absolute_error: 8.8801e-04 - val_loss: 1.8121e-06 - val_mean_squared_error: 1.8121e-06 - val_mean_absolute_error: 0.0013\n",
      "Epoch 4/40\n",
      "11757/11757 [==============================] - 75s 6ms/step - loss: 1.1998e-06 - mean_squared_error: 1.1998e-06 - mean_absolute_error: 7.7805e-04 - val_loss: 1.4639e-06 - val_mean_squared_error: 1.4639e-06 - val_mean_absolute_error: 0.0012\n",
      "Epoch 5/40\n",
      "11757/11757 [==============================] - 72s 6ms/step - loss: 1.0280e-06 - mean_squared_error: 1.0280e-06 - mean_absolute_error: 7.4431e-04 - val_loss: 2.4097e-06 - val_mean_squared_error: 2.4097e-06 - val_mean_absolute_error: 0.0015\n",
      "Epoch 6/40\n",
      "11757/11757 [==============================] - 72s 6ms/step - loss: 9.4014e-07 - mean_squared_error: 9.4014e-07 - mean_absolute_error: 6.8677e-04 - val_loss: 2.2608e-07 - val_mean_squared_error: 2.2608e-07 - val_mean_absolute_error: 4.3737e-04\n",
      "Epoch 7/40\n",
      "11757/11757 [==============================] - 74s 6ms/step - loss: 8.3749e-07 - mean_squared_error: 8.3749e-07 - mean_absolute_error: 6.5927e-04 - val_loss: 5.1984e-07 - val_mean_squared_error: 5.1984e-07 - val_mean_absolute_error: 7.0078e-04\n",
      "Epoch 8/40\n",
      "11757/11757 [==============================] - 73s 6ms/step - loss: 7.8661e-07 - mean_squared_error: 7.8661e-07 - mean_absolute_error: 6.3568e-04 - val_loss: 1.6354e-06 - val_mean_squared_error: 1.6354e-06 - val_mean_absolute_error: 0.0012\n",
      "Epoch 9/40\n",
      "11757/11757 [==============================] - 74s 6ms/step - loss: 7.2167e-07 - mean_squared_error: 7.2167e-07 - mean_absolute_error: 6.2256e-04 - val_loss: 4.7922e-07 - val_mean_squared_error: 4.7922e-07 - val_mean_absolute_error: 6.7150e-04\n",
      "Epoch 10/40\n",
      "11757/11757 [==============================] - 72s 6ms/step - loss: 6.7965e-07 - mean_squared_error: 6.7965e-07 - mean_absolute_error: 6.0953e-04 - val_loss: 5.5910e-07 - val_mean_squared_error: 5.5910e-07 - val_mean_absolute_error: 7.2686e-04\n",
      "Epoch 11/40\n",
      "11757/11757 [==============================] - 73s 6ms/step - loss: 6.4478e-07 - mean_squared_error: 6.4478e-07 - mean_absolute_error: 5.9431e-04 - val_loss: 2.7100e-06 - val_mean_squared_error: 2.7100e-06 - val_mean_absolute_error: 0.0016\n",
      "Epoch 12/40\n",
      "11757/11757 [==============================] - 72s 6ms/step - loss: 6.3035e-07 - mean_squared_error: 6.3035e-07 - mean_absolute_error: 5.7248e-04 - val_loss: 6.6875e-08 - val_mean_squared_error: 6.6875e-08 - val_mean_absolute_error: 2.1821e-04\n",
      "Epoch 13/40\n",
      "11757/11757 [==============================] - 73s 6ms/step - loss: 5.9251e-07 - mean_squared_error: 5.9251e-07 - mean_absolute_error: 5.5089e-04 - val_loss: 1.0190e-07 - val_mean_squared_error: 1.0190e-07 - val_mean_absolute_error: 2.9143e-04\n",
      "Epoch 14/40\n",
      "11757/11757 [==============================] - 70s 6ms/step - loss: 5.5778e-07 - mean_squared_error: 5.5778e-07 - mean_absolute_error: 5.5318e-04 - val_loss: 6.2477e-07 - val_mean_squared_error: 6.2477e-07 - val_mean_absolute_error: 7.2394e-04\n",
      "Epoch 15/40\n",
      "11757/11757 [==============================] - 69s 6ms/step - loss: 5.3969e-07 - mean_squared_error: 5.3969e-07 - mean_absolute_error: 5.3974e-04 - val_loss: 3.4186e-07 - val_mean_squared_error: 3.4186e-07 - val_mean_absolute_error: 5.6682e-04\n",
      "Epoch 16/40\n",
      "11757/11757 [==============================] - 69s 6ms/step - loss: 5.2229e-07 - mean_squared_error: 5.2229e-07 - mean_absolute_error: 5.2814e-04 - val_loss: 6.6974e-08 - val_mean_squared_error: 6.6974e-08 - val_mean_absolute_error: 2.2688e-04\n",
      "Epoch 17/40\n",
      "11757/11757 [==============================] - 70s 6ms/step - loss: 5.0685e-07 - mean_squared_error: 5.0685e-07 - mean_absolute_error: 5.2495e-04 - val_loss: 8.1727e-07 - val_mean_squared_error: 8.1727e-07 - val_mean_absolute_error: 8.8689e-04\n",
      "Epoch 18/40\n",
      "11757/11757 [==============================] - 70s 6ms/step - loss: 4.9059e-07 - mean_squared_error: 4.9059e-07 - mean_absolute_error: 5.1131e-04 - val_loss: 4.7108e-08 - val_mean_squared_error: 4.7108e-08 - val_mean_absolute_error: 1.5710e-04\n",
      "Epoch 19/40\n",
      "11757/11757 [==============================] - 69s 6ms/step - loss: 4.6868e-07 - mean_squared_error: 4.6868e-07 - mean_absolute_error: 5.1328e-04 - val_loss: 9.3793e-07 - val_mean_squared_error: 9.3793e-07 - val_mean_absolute_error: 9.0518e-04\n",
      "Epoch 20/40\n",
      "11757/11757 [==============================] - 69s 6ms/step - loss: 4.5024e-07 - mean_squared_error: 4.5024e-07 - mean_absolute_error: 4.9923e-04 - val_loss: 8.0514e-07 - val_mean_squared_error: 8.0514e-07 - val_mean_absolute_error: 8.8276e-04\n",
      "Epoch 21/40\n",
      "11757/11757 [==============================] - 69s 6ms/step - loss: 4.4153e-07 - mean_squared_error: 4.4153e-07 - mean_absolute_error: 4.9185e-04 - val_loss: 1.4141e-07 - val_mean_squared_error: 1.4141e-07 - val_mean_absolute_error: 3.4024e-04\n",
      "Epoch 22/40\n",
      "11757/11757 [==============================] - 69s 6ms/step - loss: 4.2560e-07 - mean_squared_error: 4.2560e-07 - mean_absolute_error: 4.8582e-04 - val_loss: 4.0757e-08 - val_mean_squared_error: 4.0757e-08 - val_mean_absolute_error: 1.3767e-04\n",
      "Epoch 23/40\n",
      "11757/11757 [==============================] - 72s 6ms/step - loss: 4.1259e-07 - mean_squared_error: 4.1259e-07 - mean_absolute_error: 4.7388e-04 - val_loss: 5.8175e-08 - val_mean_squared_error: 5.8175e-08 - val_mean_absolute_error: 2.0185e-04\n",
      "Epoch 24/40\n",
      "11757/11757 [==============================] - 72s 6ms/step - loss: 4.0198e-07 - mean_squared_error: 4.0198e-07 - mean_absolute_error: 4.7644e-04 - val_loss: 8.5130e-08 - val_mean_squared_error: 8.5130e-08 - val_mean_absolute_error: 2.6867e-04\n",
      "Epoch 25/40\n",
      "11757/11757 [==============================] - 73s 6ms/step - loss: 3.9456e-07 - mean_squared_error: 3.9456e-07 - mean_absolute_error: 4.7508e-04 - val_loss: 7.8345e-07 - val_mean_squared_error: 7.8345e-07 - val_mean_absolute_error: 8.6188e-04\n",
      "Epoch 26/40\n",
      "11757/11757 [==============================] - 80s 7ms/step - loss: 3.9176e-07 - mean_squared_error: 3.9176e-07 - mean_absolute_error: 4.5571e-04 - val_loss: 2.3205e-08 - val_mean_squared_error: 2.3205e-08 - val_mean_absolute_error: 9.1010e-05\n",
      "Epoch 27/40\n",
      "11757/11757 [==============================] - 80s 7ms/step - loss: 3.6798e-07 - mean_squared_error: 3.6798e-07 - mean_absolute_error: 4.5593e-04 - val_loss: 1.9303e-07 - val_mean_squared_error: 1.9303e-07 - val_mean_absolute_error: 4.1823e-04\n",
      "Epoch 28/40\n",
      "11757/11757 [==============================] - 84s 7ms/step - loss: 3.6848e-07 - mean_squared_error: 3.6848e-07 - mean_absolute_error: 4.5880e-04 - val_loss: 3.9461e-07 - val_mean_squared_error: 3.9461e-07 - val_mean_absolute_error: 6.1439e-04\n",
      "Epoch 29/40\n",
      "11757/11757 [==============================] - 89s 8ms/step - loss: 3.6106e-07 - mean_squared_error: 3.6106e-07 - mean_absolute_error: 4.4650e-04 - val_loss: 9.8942e-08 - val_mean_squared_error: 9.8942e-08 - val_mean_absolute_error: 2.8149e-04\n",
      "Epoch 30/40\n",
      "11757/11757 [==============================] - 92s 8ms/step - loss: 3.4954e-07 - mean_squared_error: 3.4954e-07 - mean_absolute_error: 4.4072e-04 - val_loss: 4.6145e-08 - val_mean_squared_error: 4.6145e-08 - val_mean_absolute_error: 1.8597e-04\n",
      "Epoch 31/40\n",
      "11757/11757 [==============================] - 84s 7ms/step - loss: 3.3933e-07 - mean_squared_error: 3.3933e-07 - mean_absolute_error: 4.4717e-04 - val_loss: 2.1266e-08 - val_mean_squared_error: 2.1266e-08 - val_mean_absolute_error: 1.0072e-04\n",
      "Epoch 32/40\n",
      "11757/11757 [==============================] - 85s 7ms/step - loss: 3.3903e-07 - mean_squared_error: 3.3903e-07 - mean_absolute_error: 4.3556e-04 - val_loss: 1.5363e-07 - val_mean_squared_error: 1.5363e-07 - val_mean_absolute_error: 3.6767e-04\n",
      "Epoch 33/40\n",
      "11757/11757 [==============================] - 85s 7ms/step - loss: 3.3106e-07 - mean_squared_error: 3.3106e-07 - mean_absolute_error: 4.3374e-04 - val_loss: 9.3044e-08 - val_mean_squared_error: 9.3044e-08 - val_mean_absolute_error: 2.7338e-04\n",
      "Epoch 34/40\n",
      "11757/11757 [==============================] - 82s 7ms/step - loss: 3.2150e-07 - mean_squared_error: 3.2150e-07 - mean_absolute_error: 4.2727e-04 - val_loss: 1.6460e-07 - val_mean_squared_error: 1.6460e-07 - val_mean_absolute_error: 3.8924e-04\n",
      "Epoch 35/40\n",
      "11757/11757 [==============================] - 84s 7ms/step - loss: 3.1881e-07 - mean_squared_error: 3.1881e-07 - mean_absolute_error: 4.2748e-04 - val_loss: 8.2041e-08 - val_mean_squared_error: 8.2041e-08 - val_mean_absolute_error: 2.5896e-04\n",
      "Epoch 36/40\n",
      "11757/11757 [==============================] - 87s 7ms/step - loss: 3.1464e-07 - mean_squared_error: 3.1464e-07 - mean_absolute_error: 4.2011e-04 - val_loss: 1.7727e-07 - val_mean_squared_error: 1.7727e-07 - val_mean_absolute_error: 4.0074e-04\n",
      "Epoch 37/40\n",
      "11757/11757 [==============================] - 80s 7ms/step - loss: 3.0721e-07 - mean_squared_error: 3.0721e-07 - mean_absolute_error: 4.1479e-04 - val_loss: 1.7237e-07 - val_mean_squared_error: 1.7237e-07 - val_mean_absolute_error: 3.8594e-04\n",
      "Epoch 38/40\n",
      "11757/11757 [==============================] - 85s 7ms/step - loss: 3.0268e-07 - mean_squared_error: 3.0268e-07 - mean_absolute_error: 4.1052e-04 - val_loss: 5.8426e-08 - val_mean_squared_error: 5.8426e-08 - val_mean_absolute_error: 2.1516e-04\n",
      "Epoch 39/40\n",
      "11757/11757 [==============================] - 86s 7ms/step - loss: 2.9579e-07 - mean_squared_error: 2.9579e-07 - mean_absolute_error: 4.0289e-04 - val_loss: 2.4392e-08 - val_mean_squared_error: 2.4392e-08 - val_mean_absolute_error: 1.1928e-04\n",
      "Epoch 40/40\n",
      "11757/11757 [==============================] - 81s 7ms/step - loss: 2.9247e-07 - mean_squared_error: 2.9247e-07 - mean_absolute_error: 4.0721e-04 - val_loss: 2.8163e-08 - val_mean_squared_error: 2.8163e-08 - val_mean_absolute_error: 1.2062e-04\n",
      "CPU times: total: 3min 53s\n",
      "Wall time: 50min 57s\n"
     ]
    }
   ],
   "source": [
    "%%time\n",
    "history.append(gru_model.fit(\n",
    "    X_train,\n",
    "    y_train,\n",
    "    batch_size=32,\n",
    "    validation_split = 0.2,\n",
    "    epochs = epochs,\n",
    "    callbacks = model_checkpoint_callback))"
   ]
  },
  {
   "cell_type": "code",
   "execution_count": 28,
   "id": "7e99486c-417e-4d01-91c9-a8193950739d",
   "metadata": {},
   "outputs": [
    {
     "data": {
      "image/png": "[encoded data removed]",
      "text/plain": [
       "<Figure size 640x480 with 1 Axes>"
      ]
     },
     "metadata": {},
     "output_type": "display_data"
    }
   ],
   "source": [
    "plot_loss(history[-1], 'GRU Network (SOC)')"
   ]
  },
  {
   "cell_type": "code",
   "execution_count": 29,
   "id": "874e52f1-86b2-41c1-8504-ce61828ec960",
   "metadata": {},
   "outputs": [],
   "source": [
    "model_path = os.path.join(\"models\",\"GRU_SOC_01.keras\")"
   ]
  },
  {
   "cell_type": "code",
   "execution_count": 30,
   "id": "fcca8ee6-ee1a-4cb0-9f02-7906f4f520e9",
   "metadata": {},
   "outputs": [],
   "source": [
    "gru_model.save(model_path)"
   ]
  },
  {
   "cell_type": "markdown",
   "id": "ce33ae5f-b04c-4eff-b3c7-ac0d22fa8f7f",
   "metadata": {},
   "source": [
    "### Performance"
   ]
  },
  {
   "cell_type": "code",
   "execution_count": 31,
   "id": "fd8bb91d-981d-421e-bbc9-08aa77a03b41",
   "metadata": {},
   "outputs": [],
   "source": [
    "gru_model = tf.keras.models.load_model(model_path)"
   ]
  },
  {
   "cell_type": "code",
   "execution_count": 32,
   "id": "3f1c1010-c46c-465b-a1fb-266e3e196c8a",
   "metadata": {},
   "outputs": [
    {
     "name": "stdout",
     "output_type": "stream",
     "text": [
      "3675/3675 [==============================] - 13s 3ms/step\n"
     ]
    }
   ],
   "source": [
    "test_predictions = gru_model.predict(X_test).flatten()"
   ]
  },
  {
   "cell_type": "code",
   "execution_count": 37,
   "id": "c5b48cd8-3f3f-42d3-ab48-3bbf8b07a02d",
   "metadata": {},
   "outputs": [
    {
     "data": {
      "image/png": "[encoded data removed]",
      "text/plain": [
       "<Figure size 640x480 with 1 Axes>"
      ]
     },
     "metadata": {},
     "output_type": "display_data"
    }
   ],
   "source": [
    "a = plt.axes(aspect='equal')\n",
    "plt.scatter(y_test, test_predictions)\n",
    "plt.xlabel('True Values [SOC]')\n",
    "plt.ylabel('Predictions [SOC]')\n",
    "lims = [-0.2, 1.2]\n",
    "plt.xlim(lims)\n",
    "plt.ylim(lims)\n",
    "_ = plt.plot(lims, lims)"
   ]
  },
  {
   "cell_type": "code",
   "execution_count": 40,
   "id": "e58fb751-61db-4ae6-b927-e4377cea626b",
   "metadata": {},
   "outputs": [
    {
     "data": {
      "image/png": "[encoded data removed]",
      "text/plain": [
       "<Figure size 640x480 with 1 Axes>"
      ]
     },
     "metadata": {},
     "output_type": "display_data"
    }
   ],
   "source": [
    "error = test_predictions - y_test\n",
    "plt.hist(error, bins=25)\n",
    "plt.xlabel('Prediction Error [SOC]')\n",
    "_ = plt.ylabel('Count')"
   ]
  },
  {
   "cell_type": "code",
   "execution_count": 41,
   "id": "5d0a5184-921e-437d-8e3b-05ad957c1ff2",
   "metadata": {},
   "outputs": [
    {
     "name": "stdout",
     "output_type": "stream",
     "text": [
      "MSE: 2.8238792856960414e-08\n",
      "RMSE: 0.0001680440205927019\n",
      "MAE: 0.00012119986023816015\n",
      "R2 Score: 0.9999983983642213\n"
     ]
    }
   ],
   "source": [
    "# Calculate metrics\n",
    "mse = mean_squared_error(y_test, test_predictions)\n",
    "rmse = np.sqrt(mse)\n",
    "mae = mean_absolute_error(y_test, test_predictions)\n",
    "r2 = r2_score(y_test, test_predictions)\n",
    "\n",
    "print(f'MSE: {mse}')\n",
    "print(f'RMSE: {rmse}')\n",
    "print(f'MAE: {mae}')\n",
    "print(f'R2 Score: {r2}')"
   ]
  },
  {
   "cell_type": "code",
   "execution_count": null,
   "id": "edb77555-7cf4-4893-999e-f27d14c76793",
   "metadata": {},
   "outputs": [],
   "source": []
  }
 ],
 "metadata": {
  "kernelspec": {
   "display_name": "DeepNN",
   "language": "python",
   "name": "deepnn"
  },
  "language_info": {
   "codemirror_mode": {
    "name": "ipython",
    "version": 3
   },
   "file_extension": ".py",
   "mimetype": "text/x-python",
   "name": "python",
   "nbconvert_exporter": "python",
   "pygments_lexer": "ipython3",
   "version": "3.9.13"
  }
 },
 "nbformat": 4,
 "nbformat_minor": 5
}
