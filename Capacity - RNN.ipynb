{
 "cells": [
  {
   "cell_type": "markdown",
   "id": "926969bb",
   "metadata": {},
   "source": [
    "# Data Preparation\n",
    "\n",
    "In this sectiono we load in and prepare the data for our machine learning."
   ]
  },
  {
   "cell_type": "code",
   "execution_count": null,
   "id": "a3acceff-7937-4f9d-a260-740f987a16dd",
   "metadata": {
    "collapsed": true,
    "jupyter": {
     "outputs_hidden": true
    },
    "tags": []
   },
   "outputs": [],
   "source": [
    "# !pip install scipy\n",
    "# !pip install pandas\n",
    "# !pip install scikit-learn"
   ]
  },
  {
   "cell_type": "code",
   "execution_count": null,
   "id": "fb9f4eb1-3d38-43a5-8c00-a948670e69e9",
   "metadata": {
    "collapsed": true,
    "jupyter": {
     "outputs_hidden": true
    },
    "tags": []
   },
   "outputs": [],
   "source": [
    "# !conda install -c conda-forge cudatoolkit=11.2 cudnn=8.1.0\n",
    "# # Anything above 2.10 is not supported on the GPU on Windows Native\n",
    "# !pip install \"tensorflow<2.11\"\n"
   ]
  },
  {
   "cell_type": "markdown",
   "id": "88ebaaf0-21c3-487d-bcf7-839fb02830e3",
   "metadata": {
    "jupyter": {
     "outputs_hidden": true
    },
    "tags": []
   },
   "source": [
    "<!-- !pip list\n",
    "!pip install -q seaborn -->"
   ]
  },
  {
   "cell_type": "code",
   "execution_count": 1,
   "id": "bae6688c",
   "metadata": {},
   "outputs": [],
   "source": [
    "import os\n",
    "import scipy.io as sio\n",
    "import pandas as pd\n",
    "from scipy.io import loadmat\n",
    "import datetime\n",
    "from pandas import DataFrame\n",
    "import matplotlib.pyplot as plt\n",
    "import numpy as np\n",
    "import seaborn as sns\n",
    "from sklearn.preprocessing import MinMaxScaler\n",
    "\n",
    "np.set_printoptions(precision=3, suppress=True)"
   ]
  },
  {
   "cell_type": "markdown",
   "id": "ab2a9a82",
   "metadata": {},
   "source": [
    "## Ingesting the data\n",
    "\n",
    "The following data is from a Nasa dataset with n refferring to the iteration number of the dataset used. \n",
    "Temperature is in celcius\n",
    "Voltage is in volts\n",
    "Current is in Amps"
   ]
  },
  {
   "cell_type": "code",
   "execution_count": 2,
   "id": "aed8bdba",
   "metadata": {},
   "outputs": [
    {
     "data": {
      "text/html": [
       "<div>\n",
       "<style scoped>\n",
       "    .dataframe tbody tr th:only-of-type {\n",
       "        vertical-align: middle;\n",
       "    }\n",
       "\n",
       "    .dataframe tbody tr th {\n",
       "        vertical-align: top;\n",
       "    }\n",
       "\n",
       "    .dataframe thead th {\n",
       "        text-align: right;\n",
       "    }\n",
       "</style>\n",
       "<table border=\"1\" class=\"dataframe\">\n",
       "  <thead>\n",
       "    <tr style=\"text-align: right;\">\n",
       "      <th></th>\n",
       "      <th>cycle</th>\n",
       "      <th>ambient_temperature</th>\n",
       "      <th>datetime</th>\n",
       "      <th>voltage_measured</th>\n",
       "      <th>current_measured</th>\n",
       "      <th>temperature_measured</th>\n",
       "      <th>current</th>\n",
       "      <th>voltage</th>\n",
       "      <th>time</th>\n",
       "      <th>capacity</th>\n",
       "    </tr>\n",
       "  </thead>\n",
       "  <tbody>\n",
       "    <tr>\n",
       "      <th>0</th>\n",
       "      <td>1</td>\n",
       "      <td>24</td>\n",
       "      <td>2008-04-02 13:08:17</td>\n",
       "      <td>3.873017</td>\n",
       "      <td>-0.001201</td>\n",
       "      <td>24.655358</td>\n",
       "      <td>0.000</td>\n",
       "      <td>0.003</td>\n",
       "      <td>0.000</td>\n",
       "      <td>NaN</td>\n",
       "    </tr>\n",
       "    <tr>\n",
       "      <th>1</th>\n",
       "      <td>1</td>\n",
       "      <td>24</td>\n",
       "      <td>2008-04-02 13:08:17</td>\n",
       "      <td>4.206466</td>\n",
       "      <td>0.060136</td>\n",
       "      <td>24.241571</td>\n",
       "      <td>0.057</td>\n",
       "      <td>4.250</td>\n",
       "      <td>5314.703</td>\n",
       "      <td>NaN</td>\n",
       "    </tr>\n",
       "    <tr>\n",
       "      <th>2</th>\n",
       "      <td>1</td>\n",
       "      <td>24</td>\n",
       "      <td>2008-04-02 13:08:17</td>\n",
       "      <td>4.206558</td>\n",
       "      <td>0.057209</td>\n",
       "      <td>24.230457</td>\n",
       "      <td>0.057</td>\n",
       "      <td>4.250</td>\n",
       "      <td>5329.485</td>\n",
       "      <td>NaN</td>\n",
       "    </tr>\n",
       "    <tr>\n",
       "      <th>3</th>\n",
       "      <td>1</td>\n",
       "      <td>24</td>\n",
       "      <td>2008-04-02 13:08:17</td>\n",
       "      <td>4.205512</td>\n",
       "      <td>0.050194</td>\n",
       "      <td>24.241984</td>\n",
       "      <td>0.047</td>\n",
       "      <td>4.245</td>\n",
       "      <td>5344.282</td>\n",
       "      <td>NaN</td>\n",
       "    </tr>\n",
       "    <tr>\n",
       "      <th>4</th>\n",
       "      <td>1</td>\n",
       "      <td>24</td>\n",
       "      <td>2008-04-02 13:08:17</td>\n",
       "      <td>4.205301</td>\n",
       "      <td>0.047004</td>\n",
       "      <td>24.226732</td>\n",
       "      <td>0.047</td>\n",
       "      <td>4.245</td>\n",
       "      <td>5359.141</td>\n",
       "      <td>NaN</td>\n",
       "    </tr>\n",
       "  </tbody>\n",
       "</table>\n",
       "</div>"
      ],
      "text/plain": [
       "   cycle  ambient_temperature            datetime  voltage_measured  \\\n",
       "0      1                   24 2008-04-02 13:08:17          3.873017   \n",
       "1      1                   24 2008-04-02 13:08:17          4.206466   \n",
       "2      1                   24 2008-04-02 13:08:17          4.206558   \n",
       "3      1                   24 2008-04-02 13:08:17          4.205512   \n",
       "4      1                   24 2008-04-02 13:08:17          4.205301   \n",
       "\n",
       "   current_measured  temperature_measured  current  voltage      time  \\\n",
       "0         -0.001201             24.655358    0.000    0.003     0.000   \n",
       "1          0.060136             24.241571    0.057    4.250  5314.703   \n",
       "2          0.057209             24.230457    0.057    4.250  5329.485   \n",
       "3          0.050194             24.241984    0.047    4.245  5344.282   \n",
       "4          0.047004             24.226732    0.047    4.245  5359.141   \n",
       "\n",
       "   capacity  \n",
       "0       NaN  \n",
       "1       NaN  \n",
       "2       NaN  \n",
       "3       NaN  \n",
       "4       NaN  "
      ]
     },
     "execution_count": 2,
     "metadata": {},
     "output_type": "execute_result"
    }
   ],
   "source": [
    "n = 'B0005'\n",
    "df = pd.read_csv('data_frames/' + 'NASA_cycle_dataset_' + n +'.csv',\n",
    "                 parse_dates = [\"datetime\"]).drop([\"Unnamed: 0\"], axis = 1)\n",
    "df.head()"
   ]
  },
  {
   "cell_type": "code",
   "execution_count": 3,
   "id": "14069abc-5a5b-41d9-a7f9-9d4398d8d412",
   "metadata": {},
   "outputs": [
    {
     "data": {
      "text/plain": [
       "(591458, 10)"
      ]
     },
     "execution_count": 3,
     "metadata": {},
     "output_type": "execute_result"
    }
   ],
   "source": [
    "df.shape"
   ]
  },
  {
   "cell_type": "markdown",
   "id": "cba4f3c8",
   "metadata": {},
   "source": [
    "## Beginning Data engineering\n",
    "\n",
    "In the Below cells we are attempting to fill in the missing values. A brief look at the dataset showed that each cycle potentially had a capacity for at least one of its rows. \n",
    "\n",
    "First we test that theory:"
   ]
  },
  {
   "cell_type": "code",
   "execution_count": 4,
   "id": "6ca09c7e",
   "metadata": {},
   "outputs": [
    {
     "data": {
      "text/html": [
       "<div>\n",
       "<style scoped>\n",
       "    .dataframe tbody tr th:only-of-type {\n",
       "        vertical-align: middle;\n",
       "    }\n",
       "\n",
       "    .dataframe tbody tr th {\n",
       "        vertical-align: top;\n",
       "    }\n",
       "\n",
       "    .dataframe thead th {\n",
       "        text-align: right;\n",
       "    }\n",
       "</style>\n",
       "<table border=\"1\" class=\"dataframe\">\n",
       "  <thead>\n",
       "    <tr style=\"text-align: right;\">\n",
       "      <th></th>\n",
       "      <th>capacity</th>\n",
       "    </tr>\n",
       "    <tr>\n",
       "      <th>cycle</th>\n",
       "      <th></th>\n",
       "    </tr>\n",
       "  </thead>\n",
       "  <tbody>\n",
       "    <tr>\n",
       "      <th>169</th>\n",
       "      <td>0</td>\n",
       "    </tr>\n",
       "    <tr>\n",
       "      <th>170</th>\n",
       "      <td>0</td>\n",
       "    </tr>\n",
       "  </tbody>\n",
       "</table>\n",
       "</div>"
      ],
      "text/plain": [
       "       capacity\n",
       "cycle          \n",
       "169           0\n",
       "170           0"
      ]
     },
     "execution_count": 4,
     "metadata": {},
     "output_type": "execute_result"
    }
   ],
   "source": [
    "capacity_counts = pd.DataFrame(df.groupby('cycle')['capacity'].nunique())\n",
    "zero_capacity_rows = capacity_counts[capacity_counts['capacity'] != 1]\n",
    "# capacity_counts\n",
    "zero_capacity_rows"
   ]
  },
  {
   "cell_type": "code",
   "execution_count": 5,
   "id": "cf6fa883",
   "metadata": {
    "scrolled": true
   },
   "outputs": [
    {
     "name": "stdout",
     "output_type": "stream",
     "text": [
      "The standard deviation of capacity is 0.1824.\n",
      "The average of capacity is 1.5603.\n",
      "This makes the standard deviation 11.69% of the mean\n"
     ]
    }
   ],
   "source": [
    "cap_std = df['capacity'].std()\n",
    "cap_mean = df['capacity'].mean()\n",
    "\n",
    "print(f\"The standard deviation of capacity is {round(cap_std, 4)}.\")\n",
    "print(f\"The average of capacity is {round(cap_mean, 4)}.\")\n",
    "print(f\"This makes the standard deviation {round(cap_std/cap_mean*100,2)}% of the mean\")"
   ]
  },
  {
   "cell_type": "markdown",
   "id": "09d459e3",
   "metadata": {},
   "source": [
    "The above cell shows that there is a singular battery capacity for each cycle except for 169 and 170.\n",
    "For now we shall remove those two cycles as there is a large amount of deviation."
   ]
  },
  {
   "cell_type": "code",
   "execution_count": 6,
   "id": "925ee0d8",
   "metadata": {},
   "outputs": [
    {
     "data": {
      "text/html": [
       "<div>\n",
       "<style scoped>\n",
       "    .dataframe tbody tr th:only-of-type {\n",
       "        vertical-align: middle;\n",
       "    }\n",
       "\n",
       "    .dataframe tbody tr th {\n",
       "        vertical-align: top;\n",
       "    }\n",
       "\n",
       "    .dataframe thead th {\n",
       "        text-align: right;\n",
       "    }\n",
       "</style>\n",
       "<table border=\"1\" class=\"dataframe\">\n",
       "  <thead>\n",
       "    <tr style=\"text-align: right;\">\n",
       "      <th></th>\n",
       "      <th>cycle</th>\n",
       "      <th>ambient_temperature</th>\n",
       "      <th>datetime</th>\n",
       "      <th>voltage_measured</th>\n",
       "      <th>current_measured</th>\n",
       "      <th>temperature_measured</th>\n",
       "      <th>current</th>\n",
       "      <th>voltage</th>\n",
       "      <th>time</th>\n",
       "      <th>capacity</th>\n",
       "    </tr>\n",
       "  </thead>\n",
       "  <tbody>\n",
       "    <tr>\n",
       "      <th>0</th>\n",
       "      <td>1</td>\n",
       "      <td>24</td>\n",
       "      <td>2008-04-02 13:08:17</td>\n",
       "      <td>3.873017</td>\n",
       "      <td>-0.001201</td>\n",
       "      <td>24.655358</td>\n",
       "      <td>0.000</td>\n",
       "      <td>0.003</td>\n",
       "      <td>0.000</td>\n",
       "      <td>1.856487</td>\n",
       "    </tr>\n",
       "    <tr>\n",
       "      <th>1</th>\n",
       "      <td>1</td>\n",
       "      <td>24</td>\n",
       "      <td>2008-04-02 13:08:17</td>\n",
       "      <td>4.206466</td>\n",
       "      <td>0.060136</td>\n",
       "      <td>24.241571</td>\n",
       "      <td>0.057</td>\n",
       "      <td>4.250</td>\n",
       "      <td>5314.703</td>\n",
       "      <td>1.856487</td>\n",
       "    </tr>\n",
       "    <tr>\n",
       "      <th>2</th>\n",
       "      <td>1</td>\n",
       "      <td>24</td>\n",
       "      <td>2008-04-02 13:08:17</td>\n",
       "      <td>4.206558</td>\n",
       "      <td>0.057209</td>\n",
       "      <td>24.230457</td>\n",
       "      <td>0.057</td>\n",
       "      <td>4.250</td>\n",
       "      <td>5329.485</td>\n",
       "      <td>1.856487</td>\n",
       "    </tr>\n",
       "    <tr>\n",
       "      <th>3</th>\n",
       "      <td>1</td>\n",
       "      <td>24</td>\n",
       "      <td>2008-04-02 13:08:17</td>\n",
       "      <td>4.205512</td>\n",
       "      <td>0.050194</td>\n",
       "      <td>24.241984</td>\n",
       "      <td>0.047</td>\n",
       "      <td>4.245</td>\n",
       "      <td>5344.282</td>\n",
       "      <td>1.856487</td>\n",
       "    </tr>\n",
       "    <tr>\n",
       "      <th>4</th>\n",
       "      <td>1</td>\n",
       "      <td>24</td>\n",
       "      <td>2008-04-02 13:08:17</td>\n",
       "      <td>4.205301</td>\n",
       "      <td>0.047004</td>\n",
       "      <td>24.226732</td>\n",
       "      <td>0.047</td>\n",
       "      <td>4.245</td>\n",
       "      <td>5359.141</td>\n",
       "      <td>1.856487</td>\n",
       "    </tr>\n",
       "  </tbody>\n",
       "</table>\n",
       "</div>"
      ],
      "text/plain": [
       "   cycle  ambient_temperature            datetime  voltage_measured  \\\n",
       "0      1                   24 2008-04-02 13:08:17          3.873017   \n",
       "1      1                   24 2008-04-02 13:08:17          4.206466   \n",
       "2      1                   24 2008-04-02 13:08:17          4.206558   \n",
       "3      1                   24 2008-04-02 13:08:17          4.205512   \n",
       "4      1                   24 2008-04-02 13:08:17          4.205301   \n",
       "\n",
       "   current_measured  temperature_measured  current  voltage      time  \\\n",
       "0         -0.001201             24.655358    0.000    0.003     0.000   \n",
       "1          0.060136             24.241571    0.057    4.250  5314.703   \n",
       "2          0.057209             24.230457    0.057    4.250  5329.485   \n",
       "3          0.050194             24.241984    0.047    4.245  5344.282   \n",
       "4          0.047004             24.226732    0.047    4.245  5359.141   \n",
       "\n",
       "   capacity  \n",
       "0  1.856487  \n",
       "1  1.856487  \n",
       "2  1.856487  \n",
       "3  1.856487  \n",
       "4  1.856487  "
      ]
     },
     "execution_count": 6,
     "metadata": {},
     "output_type": "execute_result"
    }
   ],
   "source": [
    "df = df[df['cycle'] <  169]\n",
    "caps = pd.DataFrame(df.groupby('cycle')['capacity'].max())\n",
    "temp = df.merge(caps, on='cycle', how='left').ffill()\n",
    "temp = temp.drop([\"capacity_x\"], axis = 1).rename(columns = {\"capacity_y\" : \"capacity\"})\n",
    "df = temp\n",
    "temp.head()"
   ]
  },
  {
   "cell_type": "code",
   "execution_count": 7,
   "id": "6d28ea6a-9c47-470d-8bc6-1aea4975390c",
   "metadata": {},
   "outputs": [
    {
     "data": {
      "text/plain": [
       "1"
      ]
     },
     "execution_count": 7,
     "metadata": {},
     "output_type": "execute_result"
    }
   ],
   "source": [
    "df['ambient_temperature'].nunique()"
   ]
  },
  {
   "cell_type": "markdown",
   "id": "587122ec-5f4e-4bc6-a1a5-dca6affb9aca",
   "metadata": {},
   "source": [
    "df.sort_values('datetime', inplace=True)"
   ]
  },
  {
   "cell_type": "markdown",
   "id": "e85de66c-729d-45f4-ac2c-747e47b1e6c6",
   "metadata": {},
   "source": [
    "plt.plot(df[df['datetime'] < '2008-04-18']['datetime'])\n",
    "num_dates = df[df['datetime'] < '2008-04-18']['datetime']\n",
    "print(f'{(len(num_dates)/df.shape[0])*100}%')"
   ]
  },
  {
   "cell_type": "markdown",
   "id": "eb4f585b-9025-4a40-8c9b-ee70345432a4",
   "metadata": {},
   "source": [
    "df['TimeDifference'] = df[df['datetime'] < '2008-04-18']['datetime'].diff().dt.total_seconds()"
   ]
  },
  {
   "cell_type": "markdown",
   "id": "8c2b6d10-74da-4a6b-8369-e975ece8585d",
   "metadata": {},
   "source": [
    "len(df['capacity'])"
   ]
  },
  {
   "cell_type": "markdown",
   "id": "00ffc1e0",
   "metadata": {},
   "source": [
    "# Machine Learning (RNN)\n",
    "\n",
    "Now we begin to build our Recurrent Neural Network"
   ]
  },
  {
   "cell_type": "code",
   "execution_count": 23,
   "id": "aa6e2121",
   "metadata": {
    "tags": []
   },
   "outputs": [],
   "source": [
    "import tensorflow as tf\n",
    "from tensorflow.keras.models import Sequential, load_model\n",
    "from tensorflow.keras.layers import Dense\n",
    "from sklearn.metrics import accuracy_score, mean_squared_error, mean_absolute_error, r2_score\n",
    "from sklearn.model_selection import train_test_split\n",
    "from tensorflow import keras\n",
    "import warnings"
   ]
  },
  {
   "cell_type": "code",
   "execution_count": 9,
   "id": "443de402-83dd-4cd7-abd8-24ec938cba6e",
   "metadata": {},
   "outputs": [],
   "source": [
    "gpus = tf.config.experimental.list_physical_devices('GPU')\n",
    "for gpu in gpus:\n",
    "    tf.config.experimental.set_memory_growth(gpu, True)"
   ]
  },
  {
   "cell_type": "code",
   "execution_count": 10,
   "id": "a32a554c-65e7-4a40-86f3-1c9d92cc5059",
   "metadata": {},
   "outputs": [
    {
     "data": {
      "text/plain": [
       "[PhysicalDevice(name='/physical_device:GPU:0', device_type='GPU')]"
      ]
     },
     "execution_count": 10,
     "metadata": {},
     "output_type": "execute_result"
    }
   ],
   "source": [
    "tf.config.experimental.list_physical_devices('GPU')"
   ]
  },
  {
   "cell_type": "markdown",
   "id": "977dac35-26d1-4a1b-a2be-85c1286ce2b3",
   "metadata": {},
   "source": [
    "time_steps = int(df['TimeDifference'].mean())"
   ]
  },
  {
   "cell_type": "code",
   "execution_count": 11,
   "id": "cc1e23e0-d20a-4ad3-82f8-9d74520ac750",
   "metadata": {},
   "outputs": [],
   "source": [
    "prep_df = df.drop(['datetime', 'ambient_temperature'], axis = 1)"
   ]
  },
  {
   "cell_type": "code",
   "execution_count": 12,
   "id": "f7427e41-c01d-44c5-b5f8-70450cb96ff2",
   "metadata": {},
   "outputs": [],
   "source": [
    "X = df[[\"cycle\", \"voltage_measured\", \"current_measured\", \"temperature_measured\", \"current\", \"voltage\", \"time\"]]\n",
    "y = df[\"capacity\"]"
   ]
  },
  {
   "cell_type": "markdown",
   "id": "62cd8ec2-30fc-4f16-8638-376fbfdac743",
   "metadata": {},
   "source": [
    "## Normalisation"
   ]
  },
  {
   "cell_type": "code",
   "execution_count": 13,
   "id": "43495f24-1165-45e9-ab53-85755d1d16ac",
   "metadata": {},
   "outputs": [],
   "source": [
    "# Normalize the input features\n",
    "scaler = MinMaxScaler()\n",
    "X = scaler.fit_transform(X)"
   ]
  },
  {
   "cell_type": "code",
   "execution_count": 14,
   "id": "6f25877d-6aa5-4936-ae51-fccb0124586b",
   "metadata": {},
   "outputs": [],
   "source": [
    "# Reshape data for the RNN\n",
    "X = X.reshape(X.shape[0], 1, X.shape[1])"
   ]
  },
  {
   "cell_type": "markdown",
   "id": "012175da-d2a9-4953-80d0-ce590a7438ae",
   "metadata": {},
   "source": [
    "### Splitting the Dataset for training"
   ]
  },
  {
   "cell_type": "code",
   "execution_count": 15,
   "id": "016b2d84-c77d-4a6e-971b-cbd99cecee6f",
   "metadata": {},
   "outputs": [],
   "source": [
    "X_train, X_test, y_train, y_test = train_test_split(X, y, test_size=0.2, random_state=42)"
   ]
  },
  {
   "cell_type": "markdown",
   "id": "7402ec9c-e773-48e3-83c2-12004905635e",
   "metadata": {},
   "source": [
    "## Regression with RNN"
   ]
  },
  {
   "cell_type": "code",
   "execution_count": 16,
   "id": "bb0ceff5-99e0-41ab-9ff8-57aef0c51511",
   "metadata": {},
   "outputs": [],
   "source": [
    "def create_RNN():\n",
    "    model = keras.Sequential()\n",
    "    model.add(keras.layers.SimpleRNN(64, input_shape=(X_train.shape[1], X_train.shape[2]), activation='tanh'))\n",
    "    model.add(keras.layers.Dense(1))\n",
    "    \n",
    "    model.compile(loss='mean_squared_error', optimizer='adam', metrics=['mean_squared_error', 'mean_absolute_error'])\n",
    "    return model\n",
    "\n",
    "def plot_loss(history, title):\n",
    "    plt.plot(history.history['loss'], label='loss')\n",
    "    plt.plot(history.history['val_loss'], label='val_loss')\n",
    "    # plt.ylim([0, 1])\n",
    "    plt.xlabel('Epoch')\n",
    "    plt.ylabel('Error [Capacity]')\n",
    "    plt.title(title)\n",
    "    plt.legend()\n",
    "    plt.grid(True)"
   ]
  },
  {
   "cell_type": "code",
   "execution_count": 25,
   "id": "323a757d-033e-4648-b1c2-d4f6c22573b5",
   "metadata": {},
   "outputs": [
    {
     "name": "stdout",
     "output_type": "stream",
     "text": [
      "Model: \"sequential\"\n",
      "_________________________________________________________________\n",
      " Layer (type)                Output Shape              Param #   \n",
      "=================================================================\n",
      " simple_rnn (SimpleRNN)      (None, 64)                4608      \n",
      "                                                                 \n",
      " dense (Dense)               (None, 1)                 65        \n",
      "                                                                 \n",
      "=================================================================\n",
      "Total params: 4,673\n",
      "Trainable params: 4,673\n",
      "Non-trainable params: 0\n",
      "_________________________________________________________________\n"
     ]
    }
   ],
   "source": [
    "rnn_model = create_RNN()\n",
    "\n",
    "rnn_model.summary()"
   ]
  },
  {
   "cell_type": "code",
   "execution_count": 42,
   "id": "ebaa933d-51e0-47dd-97eb-5b2cb38b0923",
   "metadata": {},
   "outputs": [],
   "source": [
    "epochs = 40\n",
    "checkpoint_filepath = os.path.join('checkpoints', 'RNN{epoch:02d}-{val_loss:.4f}.h5')\n",
    "model_checkpoint_callback = keras.callbacks.ModelCheckpoint(\n",
    "    filepath=checkpoint_filepath,\n",
    "    save_weights_only=True,\n",
    "    monitor='mean_squared_error',\n",
    "    mode='min',\n",
    "    save_best_only=True)\n",
    "\n",
    "if 'history' not in locals():\n",
    "    print('New History array has been created')\n",
    "    history =  []"
   ]
  },
  {
   "cell_type": "code",
   "execution_count": 43,
   "id": "25d39640-219b-4b4a-9dd3-f14afd0d2f97",
   "metadata": {
    "tags": []
   },
   "outputs": [
    {
     "name": "stdout",
     "output_type": "stream",
     "text": [
      "Epoch 1/40\n",
      "11757/11757 [==============================] - 56s 5ms/step - loss: 2.0662e-04 - mean_squared_error: 2.0662e-04 - mean_absolute_error: 0.0104 - val_loss: 2.4471e-04 - val_mean_squared_error: 2.4471e-04 - val_mean_absolute_error: 0.0128\n",
      "Epoch 2/40\n",
      "11757/11757 [==============================] - 54s 5ms/step - loss: 2.0042e-04 - mean_squared_error: 2.0042e-04 - mean_absolute_error: 0.0101 - val_loss: 2.3297e-04 - val_mean_squared_error: 2.3297e-04 - val_mean_absolute_error: 0.0125\n",
      "Epoch 3/40\n",
      "11757/11757 [==============================] - 55s 5ms/step - loss: 1.9898e-04 - mean_squared_error: 1.9898e-04 - mean_absolute_error: 0.0101 - val_loss: 2.6705e-04 - val_mean_squared_error: 2.6705e-04 - val_mean_absolute_error: 0.0137\n",
      "Epoch 4/40\n",
      "11757/11757 [==============================] - 59s 5ms/step - loss: 1.9500e-04 - mean_squared_error: 1.9500e-04 - mean_absolute_error: 0.0099 - val_loss: 1.8926e-04 - val_mean_squared_error: 1.8926e-04 - val_mean_absolute_error: 0.0089\n",
      "Epoch 5/40\n",
      "11757/11757 [==============================] - 54s 5ms/step - loss: 1.9330e-04 - mean_squared_error: 1.9330e-04 - mean_absolute_error: 0.0099 - val_loss: 2.0596e-04 - val_mean_squared_error: 2.0596e-04 - val_mean_absolute_error: 0.0093\n",
      "Epoch 6/40\n",
      "11757/11757 [==============================] - 58s 5ms/step - loss: 1.9131e-04 - mean_squared_error: 1.9131e-04 - mean_absolute_error: 0.0098 - val_loss: 1.8559e-04 - val_mean_squared_error: 1.8559e-04 - val_mean_absolute_error: 0.0087\n",
      "Epoch 7/40\n",
      "11757/11757 [==============================] - 54s 5ms/step - loss: 1.9074e-04 - mean_squared_error: 1.9074e-04 - mean_absolute_error: 0.0097 - val_loss: 1.8901e-04 - val_mean_squared_error: 1.8901e-04 - val_mean_absolute_error: 0.0089\n",
      "Epoch 8/40\n",
      "11757/11757 [==============================] - 60s 5ms/step - loss: 1.8932e-04 - mean_squared_error: 1.8932e-04 - mean_absolute_error: 0.0097 - val_loss: 1.7900e-04 - val_mean_squared_error: 1.7900e-04 - val_mean_absolute_error: 0.0089\n",
      "Epoch 9/40\n",
      "11757/11757 [==============================] - 59s 5ms/step - loss: 1.8863e-04 - mean_squared_error: 1.8863e-04 - mean_absolute_error: 0.0097 - val_loss: 1.6965e-04 - val_mean_squared_error: 1.6965e-04 - val_mean_absolute_error: 0.0086\n",
      "Epoch 10/40\n",
      "11757/11757 [==============================] - 60s 5ms/step - loss: 1.8710e-04 - mean_squared_error: 1.8710e-04 - mean_absolute_error: 0.0096 - val_loss: 1.7689e-04 - val_mean_squared_error: 1.7689e-04 - val_mean_absolute_error: 0.0091\n",
      "Epoch 11/40\n",
      "11757/11757 [==============================] - 56s 5ms/step - loss: 1.8580e-04 - mean_squared_error: 1.8580e-04 - mean_absolute_error: 0.0096 - val_loss: 1.8046e-04 - val_mean_squared_error: 1.8046e-04 - val_mean_absolute_error: 0.0090\n",
      "Epoch 12/40\n",
      "11757/11757 [==============================] - 59s 5ms/step - loss: 1.8367e-04 - mean_squared_error: 1.8367e-04 - mean_absolute_error: 0.0095 - val_loss: 1.7936e-04 - val_mean_squared_error: 1.7936e-04 - val_mean_absolute_error: 0.0087\n",
      "Epoch 13/40\n",
      "11757/11757 [==============================] - 60s 5ms/step - loss: 1.8024e-04 - mean_squared_error: 1.8024e-04 - mean_absolute_error: 0.0094 - val_loss: 1.6507e-04 - val_mean_squared_error: 1.6507e-04 - val_mean_absolute_error: 0.0085\n",
      "Epoch 14/40\n",
      "11757/11757 [==============================] - 59s 5ms/step - loss: 1.7645e-04 - mean_squared_error: 1.7645e-04 - mean_absolute_error: 0.0093 - val_loss: 1.7051e-04 - val_mean_squared_error: 1.7051e-04 - val_mean_absolute_error: 0.0094\n",
      "Epoch 15/40\n",
      "11757/11757 [==============================] - 65s 6ms/step - loss: 1.7532e-04 - mean_squared_error: 1.7532e-04 - mean_absolute_error: 0.0092 - val_loss: 1.7870e-04 - val_mean_squared_error: 1.7870e-04 - val_mean_absolute_error: 0.0101\n",
      "Epoch 16/40\n",
      "11757/11757 [==============================] - 53s 5ms/step - loss: 1.7317e-04 - mean_squared_error: 1.7317e-04 - mean_absolute_error: 0.0091 - val_loss: 1.7390e-04 - val_mean_squared_error: 1.7390e-04 - val_mean_absolute_error: 0.0087\n",
      "Epoch 17/40\n",
      "11757/11757 [==============================] - 54s 5ms/step - loss: 1.7220e-04 - mean_squared_error: 1.7220e-04 - mean_absolute_error: 0.0091 - val_loss: 1.7683e-04 - val_mean_squared_error: 1.7683e-04 - val_mean_absolute_error: 0.0100\n",
      "Epoch 18/40\n",
      "11757/11757 [==============================] - 55s 5ms/step - loss: 1.7098e-04 - mean_squared_error: 1.7098e-04 - mean_absolute_error: 0.0091 - val_loss: 1.5876e-04 - val_mean_squared_error: 1.5876e-04 - val_mean_absolute_error: 0.0082\n",
      "Epoch 19/40\n",
      "11757/11757 [==============================] - 55s 5ms/step - loss: 1.7048e-04 - mean_squared_error: 1.7048e-04 - mean_absolute_error: 0.0090 - val_loss: 1.5632e-04 - val_mean_squared_error: 1.5632e-04 - val_mean_absolute_error: 0.0082\n",
      "Epoch 20/40\n",
      "11757/11757 [==============================] - 55s 5ms/step - loss: 1.6991e-04 - mean_squared_error: 1.6991e-04 - mean_absolute_error: 0.0090 - val_loss: 1.5761e-04 - val_mean_squared_error: 1.5761e-04 - val_mean_absolute_error: 0.0083\n",
      "Epoch 21/40\n",
      "11757/11757 [==============================] - 54s 5ms/step - loss: 1.6870e-04 - mean_squared_error: 1.6870e-04 - mean_absolute_error: 0.0090 - val_loss: 1.5758e-04 - val_mean_squared_error: 1.5758e-04 - val_mean_absolute_error: 0.0083\n",
      "Epoch 22/40\n",
      "11757/11757 [==============================] - 54s 5ms/step - loss: 1.6848e-04 - mean_squared_error: 1.6848e-04 - mean_absolute_error: 0.0090 - val_loss: 1.6354e-04 - val_mean_squared_error: 1.6354e-04 - val_mean_absolute_error: 0.0084\n",
      "Epoch 23/40\n",
      "11757/11757 [==============================] - 52s 4ms/step - loss: 1.6756e-04 - mean_squared_error: 1.6756e-04 - mean_absolute_error: 0.0089 - val_loss: 1.6770e-04 - val_mean_squared_error: 1.6770e-04 - val_mean_absolute_error: 0.0088\n",
      "Epoch 24/40\n",
      "11757/11757 [==============================] - 52s 4ms/step - loss: 1.6778e-04 - mean_squared_error: 1.6778e-04 - mean_absolute_error: 0.0089 - val_loss: 1.6949e-04 - val_mean_squared_error: 1.6949e-04 - val_mean_absolute_error: 0.0096\n",
      "Epoch 25/40\n",
      "11757/11757 [==============================] - 56s 5ms/step - loss: 1.6553e-04 - mean_squared_error: 1.6553e-04 - mean_absolute_error: 0.0089 - val_loss: 1.6596e-04 - val_mean_squared_error: 1.6596e-04 - val_mean_absolute_error: 0.0094\n",
      "Epoch 26/40\n",
      "11757/11757 [==============================] - 54s 5ms/step - loss: 1.6483e-04 - mean_squared_error: 1.6483e-04 - mean_absolute_error: 0.0089 - val_loss: 1.5771e-04 - val_mean_squared_error: 1.5771e-04 - val_mean_absolute_error: 0.0084\n",
      "Epoch 27/40\n",
      "11757/11757 [==============================] - 54s 5ms/step - loss: 1.6294e-04 - mean_squared_error: 1.6294e-04 - mean_absolute_error: 0.0088 - val_loss: 1.5205e-04 - val_mean_squared_error: 1.5205e-04 - val_mean_absolute_error: 0.0084\n",
      "Epoch 28/40\n",
      "11757/11757 [==============================] - 54s 5ms/step - loss: 1.6201e-04 - mean_squared_error: 1.6201e-04 - mean_absolute_error: 0.0087 - val_loss: 1.5362e-04 - val_mean_squared_error: 1.5362e-04 - val_mean_absolute_error: 0.0084\n",
      "Epoch 29/40\n",
      "11757/11757 [==============================] - 58s 5ms/step - loss: 1.6134e-04 - mean_squared_error: 1.6134e-04 - mean_absolute_error: 0.0087 - val_loss: 1.6850e-04 - val_mean_squared_error: 1.6850e-04 - val_mean_absolute_error: 0.0084\n",
      "Epoch 30/40\n",
      "11757/11757 [==============================] - 59s 5ms/step - loss: 1.5996e-04 - mean_squared_error: 1.5996e-04 - mean_absolute_error: 0.0087 - val_loss: 1.4783e-04 - val_mean_squared_error: 1.4783e-04 - val_mean_absolute_error: 0.0081\n",
      "Epoch 31/40\n",
      "11757/11757 [==============================] - 54s 5ms/step - loss: 1.5951e-04 - mean_squared_error: 1.5951e-04 - mean_absolute_error: 0.0087 - val_loss: 1.5680e-04 - val_mean_squared_error: 1.5680e-04 - val_mean_absolute_error: 0.0089\n",
      "Epoch 32/40\n",
      "11757/11757 [==============================] - 53s 5ms/step - loss: 1.5896e-04 - mean_squared_error: 1.5896e-04 - mean_absolute_error: 0.0087 - val_loss: 1.5509e-04 - val_mean_squared_error: 1.5509e-04 - val_mean_absolute_error: 0.0085\n",
      "Epoch 33/40\n",
      "11757/11757 [==============================] - 56s 5ms/step - loss: 1.5820e-04 - mean_squared_error: 1.5820e-04 - mean_absolute_error: 0.0086 - val_loss: 1.5171e-04 - val_mean_squared_error: 1.5171e-04 - val_mean_absolute_error: 0.0082\n",
      "Epoch 34/40\n",
      "11757/11757 [==============================] - 53s 4ms/step - loss: 1.5717e-04 - mean_squared_error: 1.5717e-04 - mean_absolute_error: 0.0086 - val_loss: 1.5052e-04 - val_mean_squared_error: 1.5052e-04 - val_mean_absolute_error: 0.0079\n",
      "Epoch 35/40\n",
      "11757/11757 [==============================] - 53s 4ms/step - loss: 1.5681e-04 - mean_squared_error: 1.5681e-04 - mean_absolute_error: 0.0086 - val_loss: 1.5101e-04 - val_mean_squared_error: 1.5101e-04 - val_mean_absolute_error: 0.0078\n",
      "Epoch 36/40\n",
      "11757/11757 [==============================] - 60s 5ms/step - loss: 1.5608e-04 - mean_squared_error: 1.5608e-04 - mean_absolute_error: 0.0086 - val_loss: 1.6539e-04 - val_mean_squared_error: 1.6539e-04 - val_mean_absolute_error: 0.0096\n",
      "Epoch 37/40\n",
      "11757/11757 [==============================] - 62s 5ms/step - loss: 1.5588e-04 - mean_squared_error: 1.5588e-04 - mean_absolute_error: 0.0086 - val_loss: 1.4781e-04 - val_mean_squared_error: 1.4781e-04 - val_mean_absolute_error: 0.0081\n",
      "Epoch 38/40\n",
      "11757/11757 [==============================] - 58s 5ms/step - loss: 1.5523e-04 - mean_squared_error: 1.5523e-04 - mean_absolute_error: 0.0085 - val_loss: 1.7697e-04 - val_mean_squared_error: 1.7697e-04 - val_mean_absolute_error: 0.0088\n",
      "Epoch 39/40\n",
      "11757/11757 [==============================] - 60s 5ms/step - loss: 1.5482e-04 - mean_squared_error: 1.5482e-04 - mean_absolute_error: 0.0085 - val_loss: 1.4997e-04 - val_mean_squared_error: 1.4997e-04 - val_mean_absolute_error: 0.0085\n",
      "Epoch 40/40\n",
      "11757/11757 [==============================] - 59s 5ms/step - loss: 1.5458e-04 - mean_squared_error: 1.5458e-04 - mean_absolute_error: 0.0085 - val_loss: 1.6074e-04 - val_mean_squared_error: 1.6074e-04 - val_mean_absolute_error: 0.0095\n",
      "CPU times: total: 4min 35s\n",
      "Wall time: 37min 34s\n"
     ]
    }
   ],
   "source": [
    "%%time\n",
    "history.append(rnn_model.fit(\n",
    "    X_train,\n",
    "    y_train,\n",
    "    batch_size=32,\n",
    "    validation_split = 0.2,\n",
    "    epochs = epochs,\n",
    "    callbacks = model_checkpoint_callback))"
   ]
  },
  {
   "cell_type": "code",
   "execution_count": 51,
   "id": "7e99486c-417e-4d01-91c9-a8193950739d",
   "metadata": {},
   "outputs": [
    {
     "data": {
      "image/png": "[encoded data removed]",
      "text/plain": [
       "<Figure size 640x480 with 1 Axes>"
      ]
     },
     "metadata": {},
     "output_type": "display_data"
    }
   ],
   "source": [
    "plot_loss(history[-1], \"RNN Loss Capacity\")"
   ]
  },
  {
   "cell_type": "code",
   "execution_count": 52,
   "id": "ad55aab2-c9ce-47c3-aa04-f152a3ce58f9",
   "metadata": {},
   "outputs": [],
   "source": [
    "test_results = {}\n",
    "test_results['rnn_model'] = rnn_model.evaluate(X_test, y_test, verbose=0)"
   ]
  },
  {
   "cell_type": "markdown",
   "id": "57e37c1d-7d47-4db8-8c4c-3857e4db17a8",
   "metadata": {},
   "source": [
    "## Performance"
   ]
  },
  {
   "cell_type": "code",
   "execution_count": 17,
   "id": "2fedbce9-b4a7-43b5-a2d8-a70a2d1781f5",
   "metadata": {
    "tags": []
   },
   "outputs": [],
   "source": [
    "model_path = os.path.join(\"models\",\"RNN_01.keras\")"
   ]
  },
  {
   "cell_type": "code",
   "execution_count": 54,
   "id": "4e00b353-0c12-4f19-bdd7-d696b4f2d13e",
   "metadata": {},
   "outputs": [],
   "source": [
    "rnn_model.save(model_path)"
   ]
  },
  {
   "cell_type": "markdown",
   "id": "96c5b5a9-216a-4cbf-906c-b3776c9c58a3",
   "metadata": {},
   "source": [
    "### Make Predictions"
   ]
  },
  {
   "cell_type": "code",
   "execution_count": 18,
   "id": "db76cd0b-f6c6-4c99-9353-c431d60ed86f",
   "metadata": {},
   "outputs": [],
   "source": [
    "rnn_model = tf.keras.models.load_model(model_path)"
   ]
  },
  {
   "cell_type": "code",
   "execution_count": 19,
   "id": "cdb801dc-bc2f-4411-bedb-1793bb10abd2",
   "metadata": {},
   "outputs": [
    {
     "name": "stdout",
     "output_type": "stream",
     "text": [
      "3675/3675 [==============================] - 9s 2ms/step\n"
     ]
    }
   ],
   "source": [
    "test_predictions = rnn_model.predict(X_test).flatten()"
   ]
  },
  {
   "cell_type": "code",
   "execution_count": 20,
   "id": "82f4b444-a160-498f-a233-5af02da958a5",
   "metadata": {},
   "outputs": [
    {
     "data": {
      "image/png": "[encoded data removed]",
      "text/plain": [
       "<Figure size 640x480 with 1 Axes>"
      ]
     },
     "metadata": {},
     "output_type": "display_data"
    }
   ],
   "source": [
    "a = plt.axes(aspect='equal')\n",
    "plt.scatter(y_test, test_predictions)\n",
    "plt.xlabel('True Values [capacity]')\n",
    "plt.ylabel('Predictions [capacity]')\n",
    "lims = [1.2, 2]\n",
    "plt.xlim(lims)\n",
    "plt.ylim(lims)\n",
    "_ = plt.plot(lims, lims)"
   ]
  },
  {
   "cell_type": "code",
   "execution_count": 21,
   "id": "fc52077c-9266-4430-8286-54943cc2b369",
   "metadata": {},
   "outputs": [
    {
     "data": {
      "image/png": "[encoded data removed]",
      "text/plain": [
       "<Figure size 640x480 with 1 Axes>"
      ]
     },
     "metadata": {},
     "output_type": "display_data"
    }
   ],
   "source": [
    "error = test_predictions - y_test\n",
    "plt.hist(error, bins=25)\n",
    "plt.xlabel('Prediction Error [capacity]')\n",
    "_ = plt.ylabel('Count')"
   ]
  },
  {
   "cell_type": "code",
   "execution_count": 25,
   "id": "738f33ac-b267-4f31-8fd1-744763987bea",
   "metadata": {},
   "outputs": [
    {
     "name": "stdout",
     "output_type": "stream",
     "text": [
      "MSE: 0.00015930537905667883\n",
      "RMSE: 0.012621623471514227\n",
      "MAE: 0.009504847461360686\n",
      "R2 Score: 0.9946061574344381\n"
     ]
    }
   ],
   "source": [
    "# Calculate metrics\n",
    "mse = mean_squared_error(y_test, test_predictions)\n",
    "rmse = np.sqrt(mse)\n",
    "mae = mean_absolute_error(y_test, test_predictions)\n",
    "r2 = r2_score(y_test, test_predictions)\n",
    "\n",
    "print(f'MSE: {mse}')\n",
    "print(f'RMSE: {rmse}')\n",
    "print(f'MAE: {mae}')\n",
    "print(f'R2 Score: {r2}')"
   ]
  },
  {
   "cell_type": "code",
   "execution_count": null,
   "id": "5ce0fd75-e14a-4fc4-a397-f5811d4a0069",
   "metadata": {},
   "outputs": [],
   "source": []
  }
 ],
 "metadata": {
  "kernelspec": {
   "display_name": "DeepNN",
   "language": "python",
   "name": "deepnn"
  },
  "language_info": {
   "codemirror_mode": {
    "name": "ipython",
    "version": 3
   },
   "file_extension": ".py",
   "mimetype": "text/x-python",
   "name": "python",
   "nbconvert_exporter": "python",
   "pygments_lexer": "ipython3",
   "version": "3.9.13"
  }
 },
 "nbformat": 4,
 "nbformat_minor": 5
}
