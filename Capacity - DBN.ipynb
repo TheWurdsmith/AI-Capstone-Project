{
 "cells": [
  {
   "cell_type": "markdown",
   "id": "926969bb",
   "metadata": {},
   "source": [
    "# Data Preparation\n",
    "\n",
    "In this sectiono we load in and prepare the data for our machine learning."
   ]
  },
  {
   "cell_type": "markdown",
   "id": "0230a716-0cb7-4ca5-b699-3ea85c0a250a",
   "metadata": {},
   "source": [
    "https://github.com/albertbup/deep-belief-network"
   ]
  },
  {
   "cell_type": "code",
   "execution_count": 1,
   "id": "7b1d5fb9-458d-4350-85ff-d49cdd8b3769",
   "metadata": {
    "tags": []
   },
   "outputs": [],
   "source": [
    "# !pip install scipy\n",
    "# !pip install pandas\n",
    "# !pip install scikit-learn"
   ]
  },
  {
   "cell_type": "code",
   "execution_count": 2,
   "id": "3edc0c56-2881-4c28-99af-5be9173c78a5",
   "metadata": {
    "tags": []
   },
   "outputs": [],
   "source": [
    "# !conda install -c conda-forge cudatoolkit=11.2 cudnn=8.1.0\n",
    "# # Anything above 2.10 is not supported on the GPU on Windows Native\n",
    "# !pip install \"tensorflow<2.11\"\n"
   ]
  },
  {
   "cell_type": "code",
   "execution_count": 3,
   "id": "bae6688c",
   "metadata": {},
   "outputs": [],
   "source": [
    "import os\n",
    "import scipy.io as sio\n",
    "import pandas as pd\n",
    "from scipy.io import loadmat\n",
    "import datetime\n",
    "from pandas import DataFrame\n",
    "import matplotlib.pyplot as plt\n",
    "import numpy as np\n",
    "import seaborn as sns\n",
    "\n",
    "np.set_printoptions(precision=3, suppress=True)"
   ]
  },
  {
   "cell_type": "markdown",
   "id": "ab2a9a82",
   "metadata": {},
   "source": [
    "## Ingesting the data\n",
    "\n",
    "The following data is from a Nasa dataset with n refferring to the iteration number of the dataset used. \n",
    "Temperature is in celcius\n",
    "Voltage is in volts\n",
    "Current is in Amps"
   ]
  },
  {
   "cell_type": "code",
   "execution_count": 4,
   "id": "aed8bdba",
   "metadata": {},
   "outputs": [
    {
     "data": {
      "text/html": [
       "<div>\n",
       "<style scoped>\n",
       "    .dataframe tbody tr th:only-of-type {\n",
       "        vertical-align: middle;\n",
       "    }\n",
       "\n",
       "    .dataframe tbody tr th {\n",
       "        vertical-align: top;\n",
       "    }\n",
       "\n",
       "    .dataframe thead th {\n",
       "        text-align: right;\n",
       "    }\n",
       "</style>\n",
       "<table border=\"1\" class=\"dataframe\">\n",
       "  <thead>\n",
       "    <tr style=\"text-align: right;\">\n",
       "      <th></th>\n",
       "      <th>cycle</th>\n",
       "      <th>ambient_temperature</th>\n",
       "      <th>datetime</th>\n",
       "      <th>voltage_measured</th>\n",
       "      <th>current_measured</th>\n",
       "      <th>temperature_measured</th>\n",
       "      <th>current</th>\n",
       "      <th>voltage</th>\n",
       "      <th>time</th>\n",
       "      <th>capacity</th>\n",
       "    </tr>\n",
       "  </thead>\n",
       "  <tbody>\n",
       "    <tr>\n",
       "      <th>0</th>\n",
       "      <td>1</td>\n",
       "      <td>24</td>\n",
       "      <td>2008-04-02 13:08:17</td>\n",
       "      <td>3.873017</td>\n",
       "      <td>-0.001201</td>\n",
       "      <td>24.655358</td>\n",
       "      <td>0.000</td>\n",
       "      <td>0.003</td>\n",
       "      <td>0.000</td>\n",
       "      <td>NaN</td>\n",
       "    </tr>\n",
       "    <tr>\n",
       "      <th>1</th>\n",
       "      <td>1</td>\n",
       "      <td>24</td>\n",
       "      <td>2008-04-02 13:08:17</td>\n",
       "      <td>4.206466</td>\n",
       "      <td>0.060136</td>\n",
       "      <td>24.241571</td>\n",
       "      <td>0.057</td>\n",
       "      <td>4.250</td>\n",
       "      <td>5314.703</td>\n",
       "      <td>NaN</td>\n",
       "    </tr>\n",
       "    <tr>\n",
       "      <th>2</th>\n",
       "      <td>1</td>\n",
       "      <td>24</td>\n",
       "      <td>2008-04-02 13:08:17</td>\n",
       "      <td>4.206558</td>\n",
       "      <td>0.057209</td>\n",
       "      <td>24.230457</td>\n",
       "      <td>0.057</td>\n",
       "      <td>4.250</td>\n",
       "      <td>5329.485</td>\n",
       "      <td>NaN</td>\n",
       "    </tr>\n",
       "    <tr>\n",
       "      <th>3</th>\n",
       "      <td>1</td>\n",
       "      <td>24</td>\n",
       "      <td>2008-04-02 13:08:17</td>\n",
       "      <td>4.205512</td>\n",
       "      <td>0.050194</td>\n",
       "      <td>24.241984</td>\n",
       "      <td>0.047</td>\n",
       "      <td>4.245</td>\n",
       "      <td>5344.282</td>\n",
       "      <td>NaN</td>\n",
       "    </tr>\n",
       "    <tr>\n",
       "      <th>4</th>\n",
       "      <td>1</td>\n",
       "      <td>24</td>\n",
       "      <td>2008-04-02 13:08:17</td>\n",
       "      <td>4.205301</td>\n",
       "      <td>0.047004</td>\n",
       "      <td>24.226732</td>\n",
       "      <td>0.047</td>\n",
       "      <td>4.245</td>\n",
       "      <td>5359.141</td>\n",
       "      <td>NaN</td>\n",
       "    </tr>\n",
       "  </tbody>\n",
       "</table>\n",
       "</div>"
      ],
      "text/plain": [
       "   cycle  ambient_temperature            datetime  voltage_measured  \\\n",
       "0      1                   24 2008-04-02 13:08:17          3.873017   \n",
       "1      1                   24 2008-04-02 13:08:17          4.206466   \n",
       "2      1                   24 2008-04-02 13:08:17          4.206558   \n",
       "3      1                   24 2008-04-02 13:08:17          4.205512   \n",
       "4      1                   24 2008-04-02 13:08:17          4.205301   \n",
       "\n",
       "   current_measured  temperature_measured  current  voltage      time  \\\n",
       "0         -0.001201             24.655358    0.000    0.003     0.000   \n",
       "1          0.060136             24.241571    0.057    4.250  5314.703   \n",
       "2          0.057209             24.230457    0.057    4.250  5329.485   \n",
       "3          0.050194             24.241984    0.047    4.245  5344.282   \n",
       "4          0.047004             24.226732    0.047    4.245  5359.141   \n",
       "\n",
       "   capacity  \n",
       "0       NaN  \n",
       "1       NaN  \n",
       "2       NaN  \n",
       "3       NaN  \n",
       "4       NaN  "
      ]
     },
     "execution_count": 4,
     "metadata": {},
     "output_type": "execute_result"
    }
   ],
   "source": [
    "n = 'B0005'\n",
    "df = pd.read_csv('data_frames/' + 'NASA_cycle_dataset_' + n +'.csv',\n",
    "                 parse_dates = [\"datetime\"]).drop([\"Unnamed: 0\"], axis = 1)\n",
    "df.head()"
   ]
  },
  {
   "cell_type": "markdown",
   "id": "cba4f3c8",
   "metadata": {},
   "source": [
    "## Beginning Data engineering\n",
    "\n",
    "In the Below cells we are attempting to fill in the missing values. A brief look at the dataset showed that each cycle potentially had a capacity for at least one of its rows. \n",
    "\n",
    "First we test that theory:"
   ]
  },
  {
   "cell_type": "code",
   "execution_count": 5,
   "id": "6ca09c7e",
   "metadata": {},
   "outputs": [
    {
     "data": {
      "text/html": [
       "<div>\n",
       "<style scoped>\n",
       "    .dataframe tbody tr th:only-of-type {\n",
       "        vertical-align: middle;\n",
       "    }\n",
       "\n",
       "    .dataframe tbody tr th {\n",
       "        vertical-align: top;\n",
       "    }\n",
       "\n",
       "    .dataframe thead th {\n",
       "        text-align: right;\n",
       "    }\n",
       "</style>\n",
       "<table border=\"1\" class=\"dataframe\">\n",
       "  <thead>\n",
       "    <tr style=\"text-align: right;\">\n",
       "      <th></th>\n",
       "      <th>capacity</th>\n",
       "    </tr>\n",
       "    <tr>\n",
       "      <th>cycle</th>\n",
       "      <th></th>\n",
       "    </tr>\n",
       "  </thead>\n",
       "  <tbody>\n",
       "    <tr>\n",
       "      <th>169</th>\n",
       "      <td>0</td>\n",
       "    </tr>\n",
       "    <tr>\n",
       "      <th>170</th>\n",
       "      <td>0</td>\n",
       "    </tr>\n",
       "  </tbody>\n",
       "</table>\n",
       "</div>"
      ],
      "text/plain": [
       "       capacity\n",
       "cycle          \n",
       "169           0\n",
       "170           0"
      ]
     },
     "execution_count": 5,
     "metadata": {},
     "output_type": "execute_result"
    }
   ],
   "source": [
    "capacity_counts = pd.DataFrame(df.groupby('cycle')['capacity'].nunique())\n",
    "zero_capacity_rows = capacity_counts[capacity_counts['capacity'] != 1]\n",
    "# capacity_counts\n",
    "zero_capacity_rows"
   ]
  },
  {
   "cell_type": "markdown",
   "id": "09d459e3",
   "metadata": {},
   "source": [
    "The above cell shows that there is a singular battery capacity for each cycle except for 169 and 170.\n",
    "For now we shall remove those two cycles as there is a large amount of deviation."
   ]
  },
  {
   "cell_type": "code",
   "execution_count": 6,
   "id": "cf6fa883",
   "metadata": {
    "scrolled": true
   },
   "outputs": [
    {
     "name": "stdout",
     "output_type": "stream",
     "text": [
      "The standard deviation of capacity is 0.1824.\n",
      "The average of capacity is 1.5603.\n",
      "This makes the standard deviation 11.69% of the mean\n"
     ]
    }
   ],
   "source": [
    "cap_std = df['capacity'].std()\n",
    "cap_mean = df['capacity'].mean()\n",
    "\n",
    "print(f\"The standard deviation of capacity is {round(cap_std, 4)}.\")\n",
    "print(f\"The average of capacity is {round(cap_mean, 4)}.\")\n",
    "print(f\"This makes the standard deviation {round(cap_std/cap_mean*100,2)}% of the mean\")"
   ]
  },
  {
   "cell_type": "code",
   "execution_count": 7,
   "id": "925ee0d8",
   "metadata": {},
   "outputs": [
    {
     "data": {
      "text/html": [
       "<div>\n",
       "<style scoped>\n",
       "    .dataframe tbody tr th:only-of-type {\n",
       "        vertical-align: middle;\n",
       "    }\n",
       "\n",
       "    .dataframe tbody tr th {\n",
       "        vertical-align: top;\n",
       "    }\n",
       "\n",
       "    .dataframe thead th {\n",
       "        text-align: right;\n",
       "    }\n",
       "</style>\n",
       "<table border=\"1\" class=\"dataframe\">\n",
       "  <thead>\n",
       "    <tr style=\"text-align: right;\">\n",
       "      <th></th>\n",
       "      <th>cycle</th>\n",
       "      <th>ambient_temperature</th>\n",
       "      <th>datetime</th>\n",
       "      <th>voltage_measured</th>\n",
       "      <th>current_measured</th>\n",
       "      <th>temperature_measured</th>\n",
       "      <th>current</th>\n",
       "      <th>voltage</th>\n",
       "      <th>time</th>\n",
       "      <th>capacity</th>\n",
       "    </tr>\n",
       "  </thead>\n",
       "  <tbody>\n",
       "    <tr>\n",
       "      <th>0</th>\n",
       "      <td>1</td>\n",
       "      <td>24</td>\n",
       "      <td>2008-04-02 13:08:17</td>\n",
       "      <td>3.873017</td>\n",
       "      <td>-0.001201</td>\n",
       "      <td>24.655358</td>\n",
       "      <td>0.000</td>\n",
       "      <td>0.003</td>\n",
       "      <td>0.000</td>\n",
       "      <td>1.856487</td>\n",
       "    </tr>\n",
       "    <tr>\n",
       "      <th>1</th>\n",
       "      <td>1</td>\n",
       "      <td>24</td>\n",
       "      <td>2008-04-02 13:08:17</td>\n",
       "      <td>4.206466</td>\n",
       "      <td>0.060136</td>\n",
       "      <td>24.241571</td>\n",
       "      <td>0.057</td>\n",
       "      <td>4.250</td>\n",
       "      <td>5314.703</td>\n",
       "      <td>1.856487</td>\n",
       "    </tr>\n",
       "    <tr>\n",
       "      <th>2</th>\n",
       "      <td>1</td>\n",
       "      <td>24</td>\n",
       "      <td>2008-04-02 13:08:17</td>\n",
       "      <td>4.206558</td>\n",
       "      <td>0.057209</td>\n",
       "      <td>24.230457</td>\n",
       "      <td>0.057</td>\n",
       "      <td>4.250</td>\n",
       "      <td>5329.485</td>\n",
       "      <td>1.856487</td>\n",
       "    </tr>\n",
       "    <tr>\n",
       "      <th>3</th>\n",
       "      <td>1</td>\n",
       "      <td>24</td>\n",
       "      <td>2008-04-02 13:08:17</td>\n",
       "      <td>4.205512</td>\n",
       "      <td>0.050194</td>\n",
       "      <td>24.241984</td>\n",
       "      <td>0.047</td>\n",
       "      <td>4.245</td>\n",
       "      <td>5344.282</td>\n",
       "      <td>1.856487</td>\n",
       "    </tr>\n",
       "    <tr>\n",
       "      <th>4</th>\n",
       "      <td>1</td>\n",
       "      <td>24</td>\n",
       "      <td>2008-04-02 13:08:17</td>\n",
       "      <td>4.205301</td>\n",
       "      <td>0.047004</td>\n",
       "      <td>24.226732</td>\n",
       "      <td>0.047</td>\n",
       "      <td>4.245</td>\n",
       "      <td>5359.141</td>\n",
       "      <td>1.856487</td>\n",
       "    </tr>\n",
       "  </tbody>\n",
       "</table>\n",
       "</div>"
      ],
      "text/plain": [
       "   cycle  ambient_temperature            datetime  voltage_measured  \\\n",
       "0      1                   24 2008-04-02 13:08:17          3.873017   \n",
       "1      1                   24 2008-04-02 13:08:17          4.206466   \n",
       "2      1                   24 2008-04-02 13:08:17          4.206558   \n",
       "3      1                   24 2008-04-02 13:08:17          4.205512   \n",
       "4      1                   24 2008-04-02 13:08:17          4.205301   \n",
       "\n",
       "   current_measured  temperature_measured  current  voltage      time  \\\n",
       "0         -0.001201             24.655358    0.000    0.003     0.000   \n",
       "1          0.060136             24.241571    0.057    4.250  5314.703   \n",
       "2          0.057209             24.230457    0.057    4.250  5329.485   \n",
       "3          0.050194             24.241984    0.047    4.245  5344.282   \n",
       "4          0.047004             24.226732    0.047    4.245  5359.141   \n",
       "\n",
       "   capacity  \n",
       "0  1.856487  \n",
       "1  1.856487  \n",
       "2  1.856487  \n",
       "3  1.856487  \n",
       "4  1.856487  "
      ]
     },
     "execution_count": 7,
     "metadata": {},
     "output_type": "execute_result"
    }
   ],
   "source": [
    "df = df[df['cycle'] <  169]\n",
    "caps = pd.DataFrame(df.groupby('cycle')['capacity'].max())\n",
    "temp = df.merge(caps, on='cycle', how='left').ffill()\n",
    "temp = temp.drop([\"capacity_x\"], axis = 1).rename(columns = {\"capacity_y\" : \"capacity\"})\n",
    "df = temp\n",
    "temp.head()"
   ]
  },
  {
   "cell_type": "code",
   "execution_count": 8,
   "id": "6d28ea6a-9c47-470d-8bc6-1aea4975390c",
   "metadata": {},
   "outputs": [
    {
     "data": {
      "text/plain": [
       "1"
      ]
     },
     "execution_count": 8,
     "metadata": {},
     "output_type": "execute_result"
    }
   ],
   "source": [
    "df['ambient_temperature'].nunique()"
   ]
  },
  {
   "cell_type": "markdown",
   "id": "00ffc1e0",
   "metadata": {},
   "source": [
    "# Machine Learning (DBN)\n",
    "\n",
    "Now we begin to build our Deep Belief Network"
   ]
  },
  {
   "cell_type": "code",
   "execution_count": 30,
   "id": "aa6e2121",
   "metadata": {
    "tags": []
   },
   "outputs": [],
   "source": [
    "import tensorflow as tf\n",
    "from tensorflow.keras.models import load_model, Model\n",
    "from tensorflow.keras.layers import Input, Dense\n",
    "from sklearn.metrics import accuracy_score, mean_squared_error, mean_absolute_error, r2_score\n",
    "from tensorflow import keras\n",
    "import warnings"
   ]
  },
  {
   "cell_type": "code",
   "execution_count": 10,
   "id": "443de402-83dd-4cd7-abd8-24ec938cba6e",
   "metadata": {},
   "outputs": [],
   "source": [
    "gpus = tf.config.experimental.list_physical_devices('GPU')\n",
    "for gpu in gpus:\n",
    "    tf.config.experimental.set_memory_growth(gpu, True)"
   ]
  },
  {
   "cell_type": "code",
   "execution_count": 11,
   "id": "a32a554c-65e7-4a40-86f3-1c9d92cc5059",
   "metadata": {},
   "outputs": [
    {
     "data": {
      "text/plain": [
       "[PhysicalDevice(name='/physical_device:GPU:0', device_type='GPU')]"
      ]
     },
     "execution_count": 11,
     "metadata": {},
     "output_type": "execute_result"
    }
   ],
   "source": [
    "tf.config.experimental.list_physical_devices('GPU')"
   ]
  },
  {
   "cell_type": "code",
   "execution_count": 12,
   "id": "5f63aae9-e107-4ad5-9b19-165a14911984",
   "metadata": {},
   "outputs": [],
   "source": [
    "prep_df = df.drop(['datetime', 'ambient_temperature'], axis = 1)\n",
    "train_dataset = prep_df.sample(frac=0.8, random_state = 0)\n",
    "test_dataset = prep_df.drop(train_dataset.index)"
   ]
  },
  {
   "cell_type": "code",
   "execution_count": 13,
   "id": "4f16da49-b1af-4e23-92ef-73643944df47",
   "metadata": {},
   "outputs": [
    {
     "data": {
      "text/plain": [
       "(587849, 8)"
      ]
     },
     "execution_count": 13,
     "metadata": {},
     "output_type": "execute_result"
    }
   ],
   "source": [
    "prep_df.shape"
   ]
  },
  {
   "cell_type": "code",
   "execution_count": 14,
   "id": "128da8c4-19bc-469d-b316-d8d9e5335f5d",
   "metadata": {
    "tags": []
   },
   "outputs": [
    {
     "data": {
      "text/html": [
       "<div>\n",
       "<style scoped>\n",
       "    .dataframe tbody tr th:only-of-type {\n",
       "        vertical-align: middle;\n",
       "    }\n",
       "\n",
       "    .dataframe tbody tr th {\n",
       "        vertical-align: top;\n",
       "    }\n",
       "\n",
       "    .dataframe thead th {\n",
       "        text-align: right;\n",
       "    }\n",
       "</style>\n",
       "<table border=\"1\" class=\"dataframe\">\n",
       "  <thead>\n",
       "    <tr style=\"text-align: right;\">\n",
       "      <th></th>\n",
       "      <th>count</th>\n",
       "      <th>mean</th>\n",
       "      <th>std</th>\n",
       "      <th>min</th>\n",
       "      <th>25%</th>\n",
       "      <th>50%</th>\n",
       "      <th>75%</th>\n",
       "      <th>max</th>\n",
       "    </tr>\n",
       "  </thead>\n",
       "  <tbody>\n",
       "    <tr>\n",
       "      <th>cycle</th>\n",
       "      <td>470279.0</td>\n",
       "      <td>95.409219</td>\n",
       "      <td>42.773598</td>\n",
       "      <td>1.000000</td>\n",
       "      <td>60.000000</td>\n",
       "      <td>96.000000</td>\n",
       "      <td>132.000000</td>\n",
       "      <td>168.000000</td>\n",
       "    </tr>\n",
       "    <tr>\n",
       "      <th>voltage_measured</th>\n",
       "      <td>470279.0</td>\n",
       "      <td>4.103417</td>\n",
       "      <td>0.213988</td>\n",
       "      <td>2.471315</td>\n",
       "      <td>4.087904</td>\n",
       "      <td>4.205138</td>\n",
       "      <td>4.205908</td>\n",
       "      <td>8.393141</td>\n",
       "    </tr>\n",
       "    <tr>\n",
       "      <th>current_measured</th>\n",
       "      <td>470279.0</td>\n",
       "      <td>0.368345</td>\n",
       "      <td>0.909263</td>\n",
       "      <td>-4.479660</td>\n",
       "      <td>0.039531</td>\n",
       "      <td>0.171773</td>\n",
       "      <td>1.262020</td>\n",
       "      <td>1.530376</td>\n",
       "    </tr>\n",
       "    <tr>\n",
       "      <th>temperature_measured</th>\n",
       "      <td>470279.0</td>\n",
       "      <td>26.375203</td>\n",
       "      <td>2.778615</td>\n",
       "      <td>23.214802</td>\n",
       "      <td>24.489668</td>\n",
       "      <td>25.483638</td>\n",
       "      <td>27.353169</td>\n",
       "      <td>41.450232</td>\n",
       "    </tr>\n",
       "    <tr>\n",
       "      <th>current</th>\n",
       "      <td>470279.0</td>\n",
       "      <td>0.635250</td>\n",
       "      <td>0.737908</td>\n",
       "      <td>-4.468000</td>\n",
       "      <td>0.057000</td>\n",
       "      <td>0.261000</td>\n",
       "      <td>1.498000</td>\n",
       "      <td>1.998400</td>\n",
       "    </tr>\n",
       "    <tr>\n",
       "      <th>voltage</th>\n",
       "      <td>470279.0</td>\n",
       "      <td>4.021478</td>\n",
       "      <td>1.213135</td>\n",
       "      <td>0.000000</td>\n",
       "      <td>4.240000</td>\n",
       "      <td>4.305000</td>\n",
       "      <td>4.656000</td>\n",
       "      <td>5.002000</td>\n",
       "    </tr>\n",
       "    <tr>\n",
       "      <th>time</th>\n",
       "      <td>470279.0</td>\n",
       "      <td>4763.490005</td>\n",
       "      <td>3149.187573</td>\n",
       "      <td>0.000000</td>\n",
       "      <td>1925.390000</td>\n",
       "      <td>4464.735000</td>\n",
       "      <td>7504.617000</td>\n",
       "      <td>10807.328000</td>\n",
       "    </tr>\n",
       "    <tr>\n",
       "      <th>capacity</th>\n",
       "      <td>470279.0</td>\n",
       "      <td>1.531792</td>\n",
       "      <td>0.171983</td>\n",
       "      <td>1.287453</td>\n",
       "      <td>1.370513</td>\n",
       "      <td>1.511898</td>\n",
       "      <td>1.694580</td>\n",
       "      <td>1.856487</td>\n",
       "    </tr>\n",
       "  </tbody>\n",
       "</table>\n",
       "</div>"
      ],
      "text/plain": [
       "                         count         mean          std        min  \\\n",
       "cycle                 470279.0    95.409219    42.773598   1.000000   \n",
       "voltage_measured      470279.0     4.103417     0.213988   2.471315   \n",
       "current_measured      470279.0     0.368345     0.909263  -4.479660   \n",
       "temperature_measured  470279.0    26.375203     2.778615  23.214802   \n",
       "current               470279.0     0.635250     0.737908  -4.468000   \n",
       "voltage               470279.0     4.021478     1.213135   0.000000   \n",
       "time                  470279.0  4763.490005  3149.187573   0.000000   \n",
       "capacity              470279.0     1.531792     0.171983   1.287453   \n",
       "\n",
       "                              25%          50%          75%           max  \n",
       "cycle                   60.000000    96.000000   132.000000    168.000000  \n",
       "voltage_measured         4.087904     4.205138     4.205908      8.393141  \n",
       "current_measured         0.039531     0.171773     1.262020      1.530376  \n",
       "temperature_measured    24.489668    25.483638    27.353169     41.450232  \n",
       "current                  0.057000     0.261000     1.498000      1.998400  \n",
       "voltage                  4.240000     4.305000     4.656000      5.002000  \n",
       "time                  1925.390000  4464.735000  7504.617000  10807.328000  \n",
       "capacity                 1.370513     1.511898     1.694580      1.856487  "
      ]
     },
     "execution_count": 14,
     "metadata": {},
     "output_type": "execute_result"
    }
   ],
   "source": [
    "train_dataset.describe().transpose()"
   ]
  },
  {
   "cell_type": "markdown",
   "id": "a444c734-292f-456a-9ce2-d7bbad31a537",
   "metadata": {},
   "source": [
    "## Normalisation\n",
    "\n",
    "Here we will normalise the values to give equal weight to each feature"
   ]
  },
  {
   "cell_type": "code",
   "execution_count": 15,
   "id": "29b047f0-0235-48fa-99ce-ffeddbecd0fb",
   "metadata": {},
   "outputs": [
    {
     "data": {
      "text/html": [
       "<div>\n",
       "<style scoped>\n",
       "    .dataframe tbody tr th:only-of-type {\n",
       "        vertical-align: middle;\n",
       "    }\n",
       "\n",
       "    .dataframe tbody tr th {\n",
       "        vertical-align: top;\n",
       "    }\n",
       "\n",
       "    .dataframe thead th {\n",
       "        text-align: right;\n",
       "    }\n",
       "</style>\n",
       "<table border=\"1\" class=\"dataframe\">\n",
       "  <thead>\n",
       "    <tr style=\"text-align: right;\">\n",
       "      <th></th>\n",
       "      <th>cycle</th>\n",
       "      <th>voltage_measured</th>\n",
       "      <th>current_measured</th>\n",
       "      <th>temperature_measured</th>\n",
       "      <th>current</th>\n",
       "      <th>voltage</th>\n",
       "      <th>time</th>\n",
       "      <th>capacity</th>\n",
       "    </tr>\n",
       "  </thead>\n",
       "  <tbody>\n",
       "    <tr>\n",
       "      <th>489563</th>\n",
       "      <td>1.135999</td>\n",
       "      <td>-0.143625</td>\n",
       "      <td>1.256087</td>\n",
       "      <td>0.209200</td>\n",
       "      <td>1.171893</td>\n",
       "      <td>0.656582</td>\n",
       "      <td>-1.210051</td>\n",
       "      <td>-1.150031</td>\n",
       "    </tr>\n",
       "    <tr>\n",
       "      <th>383688</th>\n",
       "      <td>0.528148</td>\n",
       "      <td>0.459574</td>\n",
       "      <td>-0.405123</td>\n",
       "      <td>-0.703511</td>\n",
       "      <td>-0.860880</td>\n",
       "      <td>-3.312475</td>\n",
       "      <td>1.750762</td>\n",
       "      <td>-0.693171</td>\n",
       "    </tr>\n",
       "    <tr>\n",
       "      <th>580550</th>\n",
       "      <td>1.673714</td>\n",
       "      <td>0.477536</td>\n",
       "      <td>-0.315329</td>\n",
       "      <td>-0.783674</td>\n",
       "      <td>-0.752465</td>\n",
       "      <td>0.197441</td>\n",
       "      <td>0.651887</td>\n",
       "      <td>-1.295344</td>\n",
       "    </tr>\n",
       "    <tr>\n",
       "      <th>110450</th>\n",
       "      <td>-1.038239</td>\n",
       "      <td>0.484418</td>\n",
       "      <td>-0.371263</td>\n",
       "      <td>-0.158716</td>\n",
       "      <td>-0.818869</td>\n",
       "      <td>0.180130</td>\n",
       "      <td>1.413676</td>\n",
       "      <td>1.309582</td>\n",
       "    </tr>\n",
       "    <tr>\n",
       "      <th>354820</th>\n",
       "      <td>0.364495</td>\n",
       "      <td>0.485901</td>\n",
       "      <td>0.844907</td>\n",
       "      <td>1.435609</td>\n",
       "      <td>0.670476</td>\n",
       "      <td>0.621137</td>\n",
       "      <td>-0.755598</td>\n",
       "      <td>-0.541457</td>\n",
       "    </tr>\n",
       "  </tbody>\n",
       "</table>\n",
       "</div>"
      ],
      "text/plain": [
       "           cycle  voltage_measured  current_measured  temperature_measured  \\\n",
       "489563  1.135999         -0.143625          1.256087              0.209200   \n",
       "383688  0.528148          0.459574         -0.405123             -0.703511   \n",
       "580550  1.673714          0.477536         -0.315329             -0.783674   \n",
       "110450 -1.038239          0.484418         -0.371263             -0.158716   \n",
       "354820  0.364495          0.485901          0.844907              1.435609   \n",
       "\n",
       "         current   voltage      time  capacity  \n",
       "489563  1.171893  0.656582 -1.210051 -1.150031  \n",
       "383688 -0.860880 -3.312475  1.750762 -0.693171  \n",
       "580550 -0.752465  0.197441  0.651887 -1.295344  \n",
       "110450 -0.818869  0.180130  1.413676  1.309582  \n",
       "354820  0.670476  0.621137 -0.755598 -0.541457  "
      ]
     },
     "execution_count": 15,
     "metadata": {},
     "output_type": "execute_result"
    }
   ],
   "source": [
    "# Test data is *not* used when calculating the mean and std.\n",
    "mean = train_dataset.mean(axis=0)\n",
    "std = train_dataset.std(axis=0)\n",
    "train_dataset = (train_dataset - mean) / std\n",
    "test_dataset = (test_dataset - mean) / std\n",
    "\n",
    "train_dataset.head()  # First training sample, normalized"
   ]
  },
  {
   "cell_type": "code",
   "execution_count": 16,
   "id": "0acbef51-0768-4e9d-9b4b-f0982aadcf85",
   "metadata": {},
   "outputs": [
    {
     "name": "stdout",
     "output_type": "stream",
     "text": [
      "cycle                   1.135999\n",
      "voltage_measured       -0.143625\n",
      "current_measured        1.256087\n",
      "temperature_measured    0.209200\n",
      "current                 1.171893\n",
      "voltage                 0.656582\n",
      "time                   -1.210051\n",
      "capacity               -1.150031\n",
      "Name: 489563, dtype: float64\n",
      "--------------------------\n",
      "cycle                   1.135999\n",
      "voltage_measured       -0.143625\n",
      "current_measured        1.256087\n",
      "temperature_measured    0.209200\n",
      "current                 1.171893\n",
      "voltage                 0.656582\n",
      "time                   -1.210051\n",
      "Name: 489563, dtype: float64\n"
     ]
    }
   ],
   "source": [
    "# These are the features\n",
    "train_features = train_dataset.copy()\n",
    "test_features = test_dataset.copy()\n",
    "print(train_features.iloc[0])\n",
    "# These contain the target variables\n",
    "train_labels = train_features.pop('capacity')\n",
    "test_labels = test_features.pop('capacity')\n",
    "print('--------------------------')\n",
    "print(train_features.iloc[0])"
   ]
  },
  {
   "cell_type": "code",
   "execution_count": 17,
   "id": "0743513f-3b6d-45ad-aca2-d5a98fda598c",
   "metadata": {},
   "outputs": [
    {
     "data": {
      "text/html": [
       "<div>\n",
       "<style scoped>\n",
       "    .dataframe tbody tr th:only-of-type {\n",
       "        vertical-align: middle;\n",
       "    }\n",
       "\n",
       "    .dataframe tbody tr th {\n",
       "        vertical-align: top;\n",
       "    }\n",
       "\n",
       "    .dataframe thead th {\n",
       "        text-align: right;\n",
       "    }\n",
       "</style>\n",
       "<table border=\"1\" class=\"dataframe\">\n",
       "  <thead>\n",
       "    <tr style=\"text-align: right;\">\n",
       "      <th></th>\n",
       "      <th>cycle</th>\n",
       "      <th>voltage_measured</th>\n",
       "      <th>current_measured</th>\n",
       "      <th>temperature_measured</th>\n",
       "      <th>current</th>\n",
       "      <th>voltage</th>\n",
       "      <th>time</th>\n",
       "      <th>capacity</th>\n",
       "    </tr>\n",
       "  </thead>\n",
       "  <tbody>\n",
       "    <tr>\n",
       "      <th>489563</th>\n",
       "      <td>1.135999</td>\n",
       "      <td>-0.143625</td>\n",
       "      <td>1.256087</td>\n",
       "      <td>0.209200</td>\n",
       "      <td>1.171893</td>\n",
       "      <td>0.656582</td>\n",
       "      <td>-1.210051</td>\n",
       "      <td>-1.150031</td>\n",
       "    </tr>\n",
       "    <tr>\n",
       "      <th>383688</th>\n",
       "      <td>0.528148</td>\n",
       "      <td>0.459574</td>\n",
       "      <td>-0.405123</td>\n",
       "      <td>-0.703511</td>\n",
       "      <td>-0.860880</td>\n",
       "      <td>-3.312475</td>\n",
       "      <td>1.750762</td>\n",
       "      <td>-0.693171</td>\n",
       "    </tr>\n",
       "    <tr>\n",
       "      <th>580550</th>\n",
       "      <td>1.673714</td>\n",
       "      <td>0.477536</td>\n",
       "      <td>-0.315329</td>\n",
       "      <td>-0.783674</td>\n",
       "      <td>-0.752465</td>\n",
       "      <td>0.197441</td>\n",
       "      <td>0.651887</td>\n",
       "      <td>-1.295344</td>\n",
       "    </tr>\n",
       "    <tr>\n",
       "      <th>110450</th>\n",
       "      <td>-1.038239</td>\n",
       "      <td>0.484418</td>\n",
       "      <td>-0.371263</td>\n",
       "      <td>-0.158716</td>\n",
       "      <td>-0.818869</td>\n",
       "      <td>0.180130</td>\n",
       "      <td>1.413676</td>\n",
       "      <td>1.309582</td>\n",
       "    </tr>\n",
       "    <tr>\n",
       "      <th>354820</th>\n",
       "      <td>0.364495</td>\n",
       "      <td>0.485901</td>\n",
       "      <td>0.844907</td>\n",
       "      <td>1.435609</td>\n",
       "      <td>0.670476</td>\n",
       "      <td>0.621137</td>\n",
       "      <td>-0.755598</td>\n",
       "      <td>-0.541457</td>\n",
       "    </tr>\n",
       "  </tbody>\n",
       "</table>\n",
       "</div>"
      ],
      "text/plain": [
       "           cycle  voltage_measured  current_measured  temperature_measured  \\\n",
       "489563  1.135999         -0.143625          1.256087              0.209200   \n",
       "383688  0.528148          0.459574         -0.405123             -0.703511   \n",
       "580550  1.673714          0.477536         -0.315329             -0.783674   \n",
       "110450 -1.038239          0.484418         -0.371263             -0.158716   \n",
       "354820  0.364495          0.485901          0.844907              1.435609   \n",
       "\n",
       "         current   voltage      time  capacity  \n",
       "489563  1.171893  0.656582 -1.210051 -1.150031  \n",
       "383688 -0.860880 -3.312475  1.750762 -0.693171  \n",
       "580550 -0.752465  0.197441  0.651887 -1.295344  \n",
       "110450 -0.818869  0.180130  1.413676  1.309582  \n",
       "354820  0.670476  0.621137 -0.755598 -0.541457  "
      ]
     },
     "execution_count": 17,
     "metadata": {},
     "output_type": "execute_result"
    }
   ],
   "source": [
    "train_dataset.head()"
   ]
  },
  {
   "cell_type": "code",
   "execution_count": 18,
   "id": "0086ae6a-e38c-46b6-8d02-486333b86e21",
   "metadata": {},
   "outputs": [
    {
     "data": {
      "text/plain": [
       "7"
      ]
     },
     "execution_count": 18,
     "metadata": {},
     "output_type": "execute_result"
    }
   ],
   "source": [
    "num_rows = train_features.shape[1]\n",
    "num_rows"
   ]
  },
  {
   "cell_type": "markdown",
   "id": "7402ec9c-e773-48e3-83c2-12004905635e",
   "metadata": {},
   "source": [
    "## Regression with DBN"
   ]
  },
  {
   "cell_type": "code",
   "execution_count": 19,
   "id": "bb0ceff5-99e0-41ab-9ff8-57aef0c51511",
   "metadata": {},
   "outputs": [],
   "source": [
    "def build_and_compile_model():\n",
    "    # Define the model architecture\n",
    "    model = keras.models.Sequential()\n",
    "\n",
    "    # Input layer\n",
    "    model.add(Dense(64, input_dim=num_rows, activation='relu'))\n",
    "\n",
    "    # Hidden layers\n",
    "    model.add(Dense(128, activation='relu'))\n",
    "    model.add(Dense(128, activation='relu'))\n",
    "\n",
    "    # Output layer - since we're doing regression, we have a single output node with no activation function\n",
    "    model.add(Dense(1))\n",
    "\n",
    "    # Compile the model - using Mean Squared Error (MSE) as the loss function for regression\n",
    "    model.compile(optimizer=keras.optimizers.Adam(), loss='mean_squared_error', \n",
    "                  metrics=['mean_squared_error', 'mean_absolute_error'])\n",
    "    return model\n",
    "\n",
    "def plot_loss(history, title):\n",
    "    plt.plot(history.history['loss'], label='loss')\n",
    "    plt.plot(history.history['val_loss'], label='val_loss')\n",
    "    # plt.ylim([0, 1])\n",
    "    plt.xlabel('Epoch')\n",
    "    plt.ylabel('Error [Capacity]')\n",
    "    plt.title(title)\n",
    "    plt.legend()\n",
    "    plt.grid(True)"
   ]
  },
  {
   "cell_type": "code",
   "execution_count": 20,
   "id": "323a757d-033e-4648-b1c2-d4f6c22573b5",
   "metadata": {},
   "outputs": [
    {
     "name": "stdout",
     "output_type": "stream",
     "text": [
      "Model: \"sequential\"\n",
      "_________________________________________________________________\n",
      " Layer (type)                Output Shape              Param #   \n",
      "=================================================================\n",
      " dense (Dense)               (None, 64)                512       \n",
      "                                                                 \n",
      " dense_1 (Dense)             (None, 128)               8320      \n",
      "                                                                 \n",
      " dense_2 (Dense)             (None, 128)               16512     \n",
      "                                                                 \n",
      " dense_3 (Dense)             (None, 1)                 129       \n",
      "                                                                 \n",
      "=================================================================\n",
      "Total params: 25,473\n",
      "Trainable params: 25,473\n",
      "Non-trainable params: 0\n",
      "_________________________________________________________________\n"
     ]
    }
   ],
   "source": [
    "dbn_model = build_and_compile_model()\n",
    "dbn_model.summary()"
   ]
  },
  {
   "cell_type": "code",
   "execution_count": 21,
   "id": "b62bef3e-142a-43dd-b400-88cbe1cdc8fa",
   "metadata": {},
   "outputs": [
    {
     "name": "stdout",
     "output_type": "stream",
     "text": [
      "New History array has been created\n"
     ]
    }
   ],
   "source": [
    "epochs = 30\n",
    "checkpoint_filepath = os.path.join('checkpoints', 'DBN{epoch:02d}-{val_loss:.4f}.h5')\n",
    "model_checkpoint_callback = keras.callbacks.ModelCheckpoint(\n",
    "    filepath=checkpoint_filepath,\n",
    "    save_weights_only=True,\n",
    "    monitor='mean_squared_error',\n",
    "    mode='min',\n",
    "    save_best_only=True)\n",
    "\n",
    "if 'history' not in locals():\n",
    "    print('New History array has been created')\n",
    "    history =  []"
   ]
  },
  {
   "cell_type": "code",
   "execution_count": 22,
   "id": "25d39640-219b-4b4a-9dd3-f14afd0d2f97",
   "metadata": {
    "tags": []
   },
   "outputs": [
    {
     "name": "stdout",
     "output_type": "stream",
     "text": [
      "Epoch 1/30\n",
      "11757/11757 [==============================] - 63s 5ms/step - loss: 0.0063 - mean_squared_error: 0.0063 - mean_absolute_error: 0.0532 - val_loss: 0.0040 - val_mean_squared_error: 0.0040 - val_mean_absolute_error: 0.0472\n",
      "Epoch 2/30\n",
      "11757/11757 [==============================] - 61s 5ms/step - loss: 0.0032 - mean_squared_error: 0.0032 - mean_absolute_error: 0.0384 - val_loss: 0.0027 - val_mean_squared_error: 0.0027 - val_mean_absolute_error: 0.0369\n",
      "Epoch 3/30\n",
      "11757/11757 [==============================] - 59s 5ms/step - loss: 0.0026 - mean_squared_error: 0.0026 - mean_absolute_error: 0.0337 - val_loss: 0.0027 - val_mean_squared_error: 0.0027 - val_mean_absolute_error: 0.0343\n",
      "Epoch 4/30\n",
      "11757/11757 [==============================] - 59s 5ms/step - loss: 0.0028 - mean_squared_error: 0.0028 - mean_absolute_error: 0.0315 - val_loss: 0.0018 - val_mean_squared_error: 0.0018 - val_mean_absolute_error: 0.0282\n",
      "Epoch 5/30\n",
      "11757/11757 [==============================] - 60s 5ms/step - loss: 0.0020 - mean_squared_error: 0.0020 - mean_absolute_error: 0.0291 - val_loss: 0.0016 - val_mean_squared_error: 0.0016 - val_mean_absolute_error: 0.0261\n",
      "Epoch 6/30\n",
      "11757/11757 [==============================] - 59s 5ms/step - loss: 0.0020 - mean_squared_error: 0.0020 - mean_absolute_error: 0.0277 - val_loss: 0.0018 - val_mean_squared_error: 0.0018 - val_mean_absolute_error: 0.0273\n",
      "Epoch 7/30\n",
      "11757/11757 [==============================] - 60s 5ms/step - loss: 0.0017 - mean_squared_error: 0.0017 - mean_absolute_error: 0.0257 - val_loss: 0.0014 - val_mean_squared_error: 0.0014 - val_mean_absolute_error: 0.0230\n",
      "Epoch 8/30\n",
      "11757/11757 [==============================] - 59s 5ms/step - loss: 0.0016 - mean_squared_error: 0.0016 - mean_absolute_error: 0.0246 - val_loss: 0.0014 - val_mean_squared_error: 0.0014 - val_mean_absolute_error: 0.0238\n",
      "Epoch 9/30\n",
      "11757/11757 [==============================] - 60s 5ms/step - loss: 0.0015 - mean_squared_error: 0.0015 - mean_absolute_error: 0.0239 - val_loss: 0.0013 - val_mean_squared_error: 0.0013 - val_mean_absolute_error: 0.0205\n",
      "Epoch 10/30\n",
      "11757/11757 [==============================] - 60s 5ms/step - loss: 0.0014 - mean_squared_error: 0.0014 - mean_absolute_error: 0.0230 - val_loss: 0.0021 - val_mean_squared_error: 0.0021 - val_mean_absolute_error: 0.0290\n",
      "Epoch 11/30\n",
      "11757/11757 [==============================] - 59s 5ms/step - loss: 0.0013 - mean_squared_error: 0.0013 - mean_absolute_error: 0.0222 - val_loss: 0.0011 - val_mean_squared_error: 0.0011 - val_mean_absolute_error: 0.0212\n",
      "Epoch 12/30\n",
      "11757/11757 [==============================] - 58s 5ms/step - loss: 0.0014 - mean_squared_error: 0.0014 - mean_absolute_error: 0.0219 - val_loss: 0.0013 - val_mean_squared_error: 0.0013 - val_mean_absolute_error: 0.0243\n",
      "Epoch 13/30\n",
      "11757/11757 [==============================] - 59s 5ms/step - loss: 0.0012 - mean_squared_error: 0.0012 - mean_absolute_error: 0.0212 - val_loss: 0.0012 - val_mean_squared_error: 0.0012 - val_mean_absolute_error: 0.0222\n",
      "Epoch 14/30\n",
      "11757/11757 [==============================] - 58s 5ms/step - loss: 0.0012 - mean_squared_error: 0.0012 - mean_absolute_error: 0.0207 - val_loss: 0.0011 - val_mean_squared_error: 0.0011 - val_mean_absolute_error: 0.0212\n",
      "Epoch 15/30\n",
      "11757/11757 [==============================] - 60s 5ms/step - loss: 0.0011 - mean_squared_error: 0.0011 - mean_absolute_error: 0.0203 - val_loss: 0.0011 - val_mean_squared_error: 0.0011 - val_mean_absolute_error: 0.0195\n",
      "Epoch 16/30\n",
      "11757/11757 [==============================] - 58s 5ms/step - loss: 0.0011 - mean_squared_error: 0.0011 - mean_absolute_error: 0.0197 - val_loss: 0.0017 - val_mean_squared_error: 0.0017 - val_mean_absolute_error: 0.0229\n",
      "Epoch 17/30\n",
      "11757/11757 [==============================] - 60s 5ms/step - loss: 0.0010 - mean_squared_error: 0.0010 - mean_absolute_error: 0.0193 - val_loss: 0.0013 - val_mean_squared_error: 0.0013 - val_mean_absolute_error: 0.0201\n",
      "Epoch 18/30\n",
      "11757/11757 [==============================] - 60s 5ms/step - loss: 9.6461e-04 - mean_squared_error: 9.6461e-04 - mean_absolute_error: 0.0186 - val_loss: 9.4010e-04 - val_mean_squared_error: 9.4010e-04 - val_mean_absolute_error: 0.0182\n",
      "Epoch 19/30\n",
      "11757/11757 [==============================] - 57s 5ms/step - loss: 9.3143e-04 - mean_squared_error: 9.3143e-04 - mean_absolute_error: 0.0182 - val_loss: 0.0011 - val_mean_squared_error: 0.0011 - val_mean_absolute_error: 0.0206\n",
      "Epoch 20/30\n",
      "11757/11757 [==============================] - 56s 5ms/step - loss: 9.2252e-04 - mean_squared_error: 9.2252e-04 - mean_absolute_error: 0.0180 - val_loss: 7.6004e-04 - val_mean_squared_error: 7.6004e-04 - val_mean_absolute_error: 0.0165\n",
      "Epoch 21/30\n",
      "11757/11757 [==============================] - 55s 5ms/step - loss: 8.6900e-04 - mean_squared_error: 8.6900e-04 - mean_absolute_error: 0.0175 - val_loss: 0.0013 - val_mean_squared_error: 0.0013 - val_mean_absolute_error: 0.0228\n",
      "Epoch 22/30\n",
      "11757/11757 [==============================] - 55s 5ms/step - loss: 8.7318e-04 - mean_squared_error: 8.7318e-04 - mean_absolute_error: 0.0173 - val_loss: 8.6735e-04 - val_mean_squared_error: 8.6735e-04 - val_mean_absolute_error: 0.0173\n",
      "Epoch 23/30\n",
      "11757/11757 [==============================] - 55s 5ms/step - loss: 8.6995e-04 - mean_squared_error: 8.6995e-04 - mean_absolute_error: 0.0172 - val_loss: 8.7293e-04 - val_mean_squared_error: 8.7293e-04 - val_mean_absolute_error: 0.0184\n",
      "Epoch 24/30\n",
      "11757/11757 [==============================] - 55s 5ms/step - loss: 8.0300e-04 - mean_squared_error: 8.0300e-04 - mean_absolute_error: 0.0167 - val_loss: 7.2996e-04 - val_mean_squared_error: 7.2996e-04 - val_mean_absolute_error: 0.0150\n",
      "Epoch 25/30\n",
      "11757/11757 [==============================] - 54s 5ms/step - loss: 8.0109e-04 - mean_squared_error: 8.0109e-04 - mean_absolute_error: 0.0166 - val_loss: 8.6466e-04 - val_mean_squared_error: 8.6466e-04 - val_mean_absolute_error: 0.0179\n",
      "Epoch 26/30\n",
      "11757/11757 [==============================] - 55s 5ms/step - loss: 8.0468e-04 - mean_squared_error: 8.0468e-04 - mean_absolute_error: 0.0162 - val_loss: 7.8405e-04 - val_mean_squared_error: 7.8405e-04 - val_mean_absolute_error: 0.0152\n",
      "Epoch 27/30\n",
      "11757/11757 [==============================] - 55s 5ms/step - loss: 7.5885e-04 - mean_squared_error: 7.5885e-04 - mean_absolute_error: 0.0161 - val_loss: 7.0902e-04 - val_mean_squared_error: 7.0902e-04 - val_mean_absolute_error: 0.0146\n",
      "Epoch 28/30\n",
      "11757/11757 [==============================] - 55s 5ms/step - loss: 7.9570e-04 - mean_squared_error: 7.9570e-04 - mean_absolute_error: 0.0160 - val_loss: 6.4922e-04 - val_mean_squared_error: 6.4922e-04 - val_mean_absolute_error: 0.0149\n",
      "Epoch 29/30\n",
      "11757/11757 [==============================] - 55s 5ms/step - loss: 7.5825e-04 - mean_squared_error: 7.5825e-04 - mean_absolute_error: 0.0159 - val_loss: 6.4310e-04 - val_mean_squared_error: 6.4310e-04 - val_mean_absolute_error: 0.0153\n",
      "Epoch 30/30\n",
      "11757/11757 [==============================] - 54s 5ms/step - loss: 7.7567e-04 - mean_squared_error: 7.7567e-04 - mean_absolute_error: 0.0162 - val_loss: 6.7176e-04 - val_mean_squared_error: 6.7176e-04 - val_mean_absolute_error: 0.0146\n",
      "CPU times: total: 4min 46s\n",
      "Wall time: 28min 53s\n"
     ]
    }
   ],
   "source": [
    "%%time\n",
    "history.append(dbn_model.fit(\n",
    "    train_features,\n",
    "    train_labels,\n",
    "    validation_split = 0.2,\n",
    "    epochs = epochs,\n",
    "    callbacks = model_checkpoint_callback))"
   ]
  },
  {
   "cell_type": "code",
   "execution_count": 23,
   "id": "7e99486c-417e-4d01-91c9-a8193950739d",
   "metadata": {},
   "outputs": [
    {
     "data": {
      "image/png": "[encoded data removed]",
      "text/plain": [
       "<Figure size 640x480 with 1 Axes>"
      ]
     },
     "metadata": {},
     "output_type": "display_data"
    }
   ],
   "source": [
    "plot_loss(history[-1], \"DBN Test\")"
   ]
  },
  {
   "cell_type": "code",
   "execution_count": 24,
   "id": "e567e271-bafd-4300-80c7-42efe7fbbfe2",
   "metadata": {},
   "outputs": [],
   "source": [
    "model_path = os.path.join('models', 'DBN_03.keras')"
   ]
  },
  {
   "cell_type": "code",
   "execution_count": 25,
   "id": "d004e572-d20f-405f-8591-8adcefc2aca1",
   "metadata": {},
   "outputs": [],
   "source": [
    "dbn_model.save(model_path)"
   ]
  },
  {
   "cell_type": "markdown",
   "id": "57e37c1d-7d47-4db8-8c4c-3857e4db17a8",
   "metadata": {},
   "source": [
    "### Performance"
   ]
  },
  {
   "cell_type": "code",
   "execution_count": 26,
   "id": "8c5fd18b-b6a9-4f73-a3a0-b3bfdf45eb5f",
   "metadata": {},
   "outputs": [],
   "source": [
    "dbn_model = keras.models.load_model(model_path)"
   ]
  },
  {
   "cell_type": "markdown",
   "id": "96c5b5a9-216a-4cbf-906c-b3776c9c58a3",
   "metadata": {},
   "source": [
    "### Make Predictions"
   ]
  },
  {
   "cell_type": "code",
   "execution_count": 27,
   "id": "cdb801dc-bc2f-4411-bedb-1793bb10abd2",
   "metadata": {},
   "outputs": [
    {
     "name": "stdout",
     "output_type": "stream",
     "text": [
      "3675/3675 [==============================] - 5s 1ms/step\n"
     ]
    }
   ],
   "source": [
    "test_predictions = dbn_model.predict(test_features).flatten()"
   ]
  },
  {
   "cell_type": "code",
   "execution_count": 28,
   "id": "82f4b444-a160-498f-a233-5af02da958a5",
   "metadata": {},
   "outputs": [
    {
     "data": {
      "image/png": "[encoded data removed]",
      "text/plain": [
       "<Figure size 640x480 with 1 Axes>"
      ]
     },
     "metadata": {},
     "output_type": "display_data"
    }
   ],
   "source": [
    "a = plt.axes(aspect='equal')\n",
    "plt.scatter(test_labels, test_predictions)\n",
    "plt.xlabel('True Values [capacity]')\n",
    "plt.ylabel('Predictions [capacity]')\n",
    "lims = [1.2, 2]\n",
    "plt.xlim(lims)\n",
    "plt.ylim(lims)\n",
    "_ = plt.plot(lims, lims)"
   ]
  },
  {
   "cell_type": "code",
   "execution_count": 29,
   "id": "fc52077c-9266-4430-8286-54943cc2b369",
   "metadata": {},
   "outputs": [
    {
     "data": {
      "image/png": "[encoded data removed]",
      "text/plain": [
       "<Figure size 640x480 with 1 Axes>"
      ]
     },
     "metadata": {},
     "output_type": "display_data"
    }
   ],
   "source": [
    "error = test_predictions - test_labels\n",
    "plt.hist(error, bins=25)\n",
    "plt.xlabel('Prediction Error [capacity]')\n",
    "_ = plt.ylabel('Count')"
   ]
  },
  {
   "cell_type": "code",
   "execution_count": 31,
   "id": "58dbe04e-fe31-4a79-967c-83f66e37c408",
   "metadata": {},
   "outputs": [
    {
     "name": "stdout",
     "output_type": "stream",
     "text": [
      "MSE: 0.0006616374990073729\n",
      "RMSE: 0.025722315195319666\n",
      "MAE: 0.014658870390223304\n",
      "R2 Score: 0.9993382360759323\n"
     ]
    }
   ],
   "source": [
    "# Calculate metrics\n",
    "mse = mean_squared_error(test_labels, test_predictions)\n",
    "rmse = np.sqrt(mse)\n",
    "mae = mean_absolute_error(test_labels, test_predictions)\n",
    "r2 = r2_score(test_labels, test_predictions)\n",
    "\n",
    "print(f'MSE: {mse}')\n",
    "print(f'RMSE: {rmse}')\n",
    "print(f'MAE: {mae}')\n",
    "print(f'R2 Score: {r2}')"
   ]
  },
  {
   "cell_type": "code",
   "execution_count": null,
   "id": "535310fe-e580-4f6a-9e09-a68a336f84b5",
   "metadata": {},
   "outputs": [],
   "source": []
  }
 ],
 "metadata": {
  "kernelspec": {
   "display_name": "DeepNN",
   "language": "python",
   "name": "deepnn"
  },
  "language_info": {
   "codemirror_mode": {
    "name": "ipython",
    "version": 3
   },
   "file_extension": ".py",
   "mimetype": "text/x-python",
   "name": "python",
   "nbconvert_exporter": "python",
   "pygments_lexer": "ipython3",
   "version": "3.9.13"
  }
 },
 "nbformat": 4,
 "nbformat_minor": 5
}
