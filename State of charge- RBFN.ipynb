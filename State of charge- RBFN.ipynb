{
 "cells": [
  {
   "cell_type": "markdown",
   "id": "926969bb",
   "metadata": {},
   "source": [
    "# Data Preparation\n",
    "\n",
    "In this sectiono we load in and prepare the data for our machine learning."
   ]
  },
  {
   "cell_type": "code",
   "execution_count": 1,
   "id": "7b1d5fb9-458d-4350-85ff-d49cdd8b3769",
   "metadata": {
    "tags": []
   },
   "outputs": [],
   "source": [
    "# !pip install scipy\n",
    "# !pip install pandas\n",
    "# !pip install scikit-learn"
   ]
  },
  {
   "cell_type": "code",
   "execution_count": 2,
   "id": "e720c4bf-6d3e-4f48-8a2f-416e28cfe2f9",
   "metadata": {
    "tags": []
   },
   "outputs": [],
   "source": [
    "# !conda install -c conda-forge cudatoolkit=11.2 cudnn=8.1.0\n",
    "# # Anything above 2.10 is not supported on the GPU on Windows Native\n",
    "# !pip install \"tensorflow<2.11\"\n"
   ]
  },
  {
   "cell_type": "code",
   "execution_count": 3,
   "id": "e308abf2-77f3-4efa-9fe8-5e33b9329973",
   "metadata": {
    "tags": []
   },
   "outputs": [],
   "source": [
    "# !pip list\n",
    "# !pip install -q seaborn"
   ]
  },
  {
   "cell_type": "code",
   "execution_count": 4,
   "id": "bae6688c",
   "metadata": {},
   "outputs": [],
   "source": [
    "import os\n",
    "import scipy.io as sio\n",
    "import pandas as pd\n",
    "from scipy.io import loadmat\n",
    "import datetime\n",
    "from pandas import DataFrame\n",
    "import matplotlib.pyplot as plt\n",
    "import numpy as np\n",
    "import seaborn as sns\n",
    "import warnings\n",
    "\n",
    "np.set_printoptions(precision=3, suppress=True)"
   ]
  },
  {
   "cell_type": "markdown",
   "id": "ab2a9a82",
   "metadata": {},
   "source": [
    "## Ingesting the data\n",
    "\n",
    "The following data is from a Nasa dataset with n refferring to the iteration number of the dataset used. \n",
    "\n",
    "    Voltage_measured: Fuel Cell terminal voltage (Volts)\n",
    "    Current_measured: Fuel Cell output current (Amps)\n",
    "    Temperature_measured: Fuel Cell temperature (degree C)\n",
    "    Current_load: Current measured at load (Amps)\n",
    "    Voltage_load: Voltage measured at load (Volts)\n",
    "    Time: Time vector for the cycle (seconds)\n",
    "    Capacity: Fuel Cell capacity (Ahr) for discharge till 2.7V\n",
    "    Datetime: the date and time of the start of the cycle\n",
    "    Ambient_temperature: Temperature in which the fuel cell is stored (degree C)\n",
    "    Cycle: Charge cycle of the fuel cell\n"
   ]
  },
  {
   "cell_type": "code",
   "execution_count": 5,
   "id": "aed8bdba",
   "metadata": {},
   "outputs": [
    {
     "data": {
      "text/html": [
       "<div>\n",
       "<style scoped>\n",
       "    .dataframe tbody tr th:only-of-type {\n",
       "        vertical-align: middle;\n",
       "    }\n",
       "\n",
       "    .dataframe tbody tr th {\n",
       "        vertical-align: top;\n",
       "    }\n",
       "\n",
       "    .dataframe thead th {\n",
       "        text-align: right;\n",
       "    }\n",
       "</style>\n",
       "<table border=\"1\" class=\"dataframe\">\n",
       "  <thead>\n",
       "    <tr style=\"text-align: right;\">\n",
       "      <th></th>\n",
       "      <th>cycle</th>\n",
       "      <th>ambient_temperature</th>\n",
       "      <th>datetime</th>\n",
       "      <th>voltage_measured</th>\n",
       "      <th>current_measured</th>\n",
       "      <th>temperature_measured</th>\n",
       "      <th>current</th>\n",
       "      <th>voltage</th>\n",
       "      <th>time</th>\n",
       "      <th>capacity</th>\n",
       "    </tr>\n",
       "  </thead>\n",
       "  <tbody>\n",
       "    <tr>\n",
       "      <th>0</th>\n",
       "      <td>1</td>\n",
       "      <td>24</td>\n",
       "      <td>2008-04-02 13:08:17</td>\n",
       "      <td>3.873017</td>\n",
       "      <td>-0.001201</td>\n",
       "      <td>24.655358</td>\n",
       "      <td>0.000</td>\n",
       "      <td>0.003</td>\n",
       "      <td>0.000</td>\n",
       "      <td>NaN</td>\n",
       "    </tr>\n",
       "    <tr>\n",
       "      <th>1</th>\n",
       "      <td>1</td>\n",
       "      <td>24</td>\n",
       "      <td>2008-04-02 13:08:17</td>\n",
       "      <td>4.206466</td>\n",
       "      <td>0.060136</td>\n",
       "      <td>24.241571</td>\n",
       "      <td>0.057</td>\n",
       "      <td>4.250</td>\n",
       "      <td>5314.703</td>\n",
       "      <td>NaN</td>\n",
       "    </tr>\n",
       "    <tr>\n",
       "      <th>2</th>\n",
       "      <td>1</td>\n",
       "      <td>24</td>\n",
       "      <td>2008-04-02 13:08:17</td>\n",
       "      <td>4.206558</td>\n",
       "      <td>0.057209</td>\n",
       "      <td>24.230457</td>\n",
       "      <td>0.057</td>\n",
       "      <td>4.250</td>\n",
       "      <td>5329.485</td>\n",
       "      <td>NaN</td>\n",
       "    </tr>\n",
       "    <tr>\n",
       "      <th>3</th>\n",
       "      <td>1</td>\n",
       "      <td>24</td>\n",
       "      <td>2008-04-02 13:08:17</td>\n",
       "      <td>4.205512</td>\n",
       "      <td>0.050194</td>\n",
       "      <td>24.241984</td>\n",
       "      <td>0.047</td>\n",
       "      <td>4.245</td>\n",
       "      <td>5344.282</td>\n",
       "      <td>NaN</td>\n",
       "    </tr>\n",
       "    <tr>\n",
       "      <th>4</th>\n",
       "      <td>1</td>\n",
       "      <td>24</td>\n",
       "      <td>2008-04-02 13:08:17</td>\n",
       "      <td>4.205301</td>\n",
       "      <td>0.047004</td>\n",
       "      <td>24.226732</td>\n",
       "      <td>0.047</td>\n",
       "      <td>4.245</td>\n",
       "      <td>5359.141</td>\n",
       "      <td>NaN</td>\n",
       "    </tr>\n",
       "  </tbody>\n",
       "</table>\n",
       "</div>"
      ],
      "text/plain": [
       "   cycle  ambient_temperature            datetime  voltage_measured  \\\n",
       "0      1                   24 2008-04-02 13:08:17          3.873017   \n",
       "1      1                   24 2008-04-02 13:08:17          4.206466   \n",
       "2      1                   24 2008-04-02 13:08:17          4.206558   \n",
       "3      1                   24 2008-04-02 13:08:17          4.205512   \n",
       "4      1                   24 2008-04-02 13:08:17          4.205301   \n",
       "\n",
       "   current_measured  temperature_measured  current  voltage      time  \\\n",
       "0         -0.001201             24.655358    0.000    0.003     0.000   \n",
       "1          0.060136             24.241571    0.057    4.250  5314.703   \n",
       "2          0.057209             24.230457    0.057    4.250  5329.485   \n",
       "3          0.050194             24.241984    0.047    4.245  5344.282   \n",
       "4          0.047004             24.226732    0.047    4.245  5359.141   \n",
       "\n",
       "   capacity  \n",
       "0       NaN  \n",
       "1       NaN  \n",
       "2       NaN  \n",
       "3       NaN  \n",
       "4       NaN  "
      ]
     },
     "execution_count": 5,
     "metadata": {},
     "output_type": "execute_result"
    }
   ],
   "source": [
    "n = 'B0005'\n",
    "df = pd.read_csv('data_frames/' + 'NASA_cycle_dataset_' + n +'.csv',\n",
    "                 parse_dates = [\"datetime\"]).drop([\"Unnamed: 0\"], axis = 1)\n",
    "df.head()"
   ]
  },
  {
   "cell_type": "markdown",
   "id": "cba4f3c8",
   "metadata": {},
   "source": [
    "## Beginning Data engineering\n",
    "\n",
    "In the Below cells we are attempting to fill in the missing values. A brief look at the dataset showed that each cycle potentially had a capacity for at least one of its rows. \n",
    "\n",
    "First we test that theory:"
   ]
  },
  {
   "cell_type": "code",
   "execution_count": 6,
   "id": "6ca09c7e",
   "metadata": {},
   "outputs": [
    {
     "data": {
      "text/html": [
       "<div>\n",
       "<style scoped>\n",
       "    .dataframe tbody tr th:only-of-type {\n",
       "        vertical-align: middle;\n",
       "    }\n",
       "\n",
       "    .dataframe tbody tr th {\n",
       "        vertical-align: top;\n",
       "    }\n",
       "\n",
       "    .dataframe thead th {\n",
       "        text-align: right;\n",
       "    }\n",
       "</style>\n",
       "<table border=\"1\" class=\"dataframe\">\n",
       "  <thead>\n",
       "    <tr style=\"text-align: right;\">\n",
       "      <th></th>\n",
       "      <th>capacity</th>\n",
       "    </tr>\n",
       "    <tr>\n",
       "      <th>cycle</th>\n",
       "      <th></th>\n",
       "    </tr>\n",
       "  </thead>\n",
       "  <tbody>\n",
       "    <tr>\n",
       "      <th>169</th>\n",
       "      <td>0</td>\n",
       "    </tr>\n",
       "    <tr>\n",
       "      <th>170</th>\n",
       "      <td>0</td>\n",
       "    </tr>\n",
       "  </tbody>\n",
       "</table>\n",
       "</div>"
      ],
      "text/plain": [
       "       capacity\n",
       "cycle          \n",
       "169           0\n",
       "170           0"
      ]
     },
     "execution_count": 6,
     "metadata": {},
     "output_type": "execute_result"
    }
   ],
   "source": [
    "capacity_counts = pd.DataFrame(df.groupby('cycle')['capacity'].nunique())\n",
    "zero_capacity_rows = capacity_counts[capacity_counts['capacity'] != 1]\n",
    "# capacity_counts\n",
    "zero_capacity_rows"
   ]
  },
  {
   "cell_type": "code",
   "execution_count": 7,
   "id": "cf6fa883",
   "metadata": {
    "scrolled": true
   },
   "outputs": [
    {
     "name": "stdout",
     "output_type": "stream",
     "text": [
      "The standard deviation of capacity is 0.1824.\n",
      "The average of capacity is 1.5603.\n",
      "This makes the standard deviation 11.69% of the mean\n"
     ]
    }
   ],
   "source": [
    "cap_std = df['capacity'].std()\n",
    "cap_mean = df['capacity'].mean()\n",
    "\n",
    "print(f\"The standard deviation of capacity is {round(cap_std, 4)}.\")\n",
    "print(f\"The average of capacity is {round(cap_mean, 4)}.\")\n",
    "print(f\"This makes the standard deviation {round(cap_std/cap_mean*100,2)}% of the mean\")"
   ]
  },
  {
   "cell_type": "markdown",
   "id": "09d459e3",
   "metadata": {},
   "source": [
    "The above cell shows that there is a singular battery capacity for each cycle except for 169 and 170.\n",
    "For now we shall remove those two cycles as there is a large amount of deviation."
   ]
  },
  {
   "cell_type": "code",
   "execution_count": 8,
   "id": "925ee0d8",
   "metadata": {},
   "outputs": [
    {
     "data": {
      "text/html": [
       "<div>\n",
       "<style scoped>\n",
       "    .dataframe tbody tr th:only-of-type {\n",
       "        vertical-align: middle;\n",
       "    }\n",
       "\n",
       "    .dataframe tbody tr th {\n",
       "        vertical-align: top;\n",
       "    }\n",
       "\n",
       "    .dataframe thead th {\n",
       "        text-align: right;\n",
       "    }\n",
       "</style>\n",
       "<table border=\"1\" class=\"dataframe\">\n",
       "  <thead>\n",
       "    <tr style=\"text-align: right;\">\n",
       "      <th></th>\n",
       "      <th>cycle</th>\n",
       "      <th>ambient_temperature</th>\n",
       "      <th>datetime</th>\n",
       "      <th>voltage_measured</th>\n",
       "      <th>current_measured</th>\n",
       "      <th>temperature_measured</th>\n",
       "      <th>current</th>\n",
       "      <th>voltage</th>\n",
       "      <th>time</th>\n",
       "      <th>capacity</th>\n",
       "    </tr>\n",
       "  </thead>\n",
       "  <tbody>\n",
       "    <tr>\n",
       "      <th>0</th>\n",
       "      <td>1</td>\n",
       "      <td>24</td>\n",
       "      <td>2008-04-02 13:08:17</td>\n",
       "      <td>3.873017</td>\n",
       "      <td>-0.001201</td>\n",
       "      <td>24.655358</td>\n",
       "      <td>0.000</td>\n",
       "      <td>0.003</td>\n",
       "      <td>0.000</td>\n",
       "      <td>1.856487</td>\n",
       "    </tr>\n",
       "    <tr>\n",
       "      <th>1</th>\n",
       "      <td>1</td>\n",
       "      <td>24</td>\n",
       "      <td>2008-04-02 13:08:17</td>\n",
       "      <td>4.206466</td>\n",
       "      <td>0.060136</td>\n",
       "      <td>24.241571</td>\n",
       "      <td>0.057</td>\n",
       "      <td>4.250</td>\n",
       "      <td>5314.703</td>\n",
       "      <td>1.856487</td>\n",
       "    </tr>\n",
       "    <tr>\n",
       "      <th>2</th>\n",
       "      <td>1</td>\n",
       "      <td>24</td>\n",
       "      <td>2008-04-02 13:08:17</td>\n",
       "      <td>4.206558</td>\n",
       "      <td>0.057209</td>\n",
       "      <td>24.230457</td>\n",
       "      <td>0.057</td>\n",
       "      <td>4.250</td>\n",
       "      <td>5329.485</td>\n",
       "      <td>1.856487</td>\n",
       "    </tr>\n",
       "    <tr>\n",
       "      <th>3</th>\n",
       "      <td>1</td>\n",
       "      <td>24</td>\n",
       "      <td>2008-04-02 13:08:17</td>\n",
       "      <td>4.205512</td>\n",
       "      <td>0.050194</td>\n",
       "      <td>24.241984</td>\n",
       "      <td>0.047</td>\n",
       "      <td>4.245</td>\n",
       "      <td>5344.282</td>\n",
       "      <td>1.856487</td>\n",
       "    </tr>\n",
       "    <tr>\n",
       "      <th>4</th>\n",
       "      <td>1</td>\n",
       "      <td>24</td>\n",
       "      <td>2008-04-02 13:08:17</td>\n",
       "      <td>4.205301</td>\n",
       "      <td>0.047004</td>\n",
       "      <td>24.226732</td>\n",
       "      <td>0.047</td>\n",
       "      <td>4.245</td>\n",
       "      <td>5359.141</td>\n",
       "      <td>1.856487</td>\n",
       "    </tr>\n",
       "  </tbody>\n",
       "</table>\n",
       "</div>"
      ],
      "text/plain": [
       "   cycle  ambient_temperature            datetime  voltage_measured  \\\n",
       "0      1                   24 2008-04-02 13:08:17          3.873017   \n",
       "1      1                   24 2008-04-02 13:08:17          4.206466   \n",
       "2      1                   24 2008-04-02 13:08:17          4.206558   \n",
       "3      1                   24 2008-04-02 13:08:17          4.205512   \n",
       "4      1                   24 2008-04-02 13:08:17          4.205301   \n",
       "\n",
       "   current_measured  temperature_measured  current  voltage      time  \\\n",
       "0         -0.001201             24.655358    0.000    0.003     0.000   \n",
       "1          0.060136             24.241571    0.057    4.250  5314.703   \n",
       "2          0.057209             24.230457    0.057    4.250  5329.485   \n",
       "3          0.050194             24.241984    0.047    4.245  5344.282   \n",
       "4          0.047004             24.226732    0.047    4.245  5359.141   \n",
       "\n",
       "   capacity  \n",
       "0  1.856487  \n",
       "1  1.856487  \n",
       "2  1.856487  \n",
       "3  1.856487  \n",
       "4  1.856487  "
      ]
     },
     "execution_count": 8,
     "metadata": {},
     "output_type": "execute_result"
    }
   ],
   "source": [
    "df = df[df['cycle'] <  169]\n",
    "caps = pd.DataFrame(df.groupby('cycle')['capacity'].max())\n",
    "temp = df.merge(caps, on='cycle', how='left').ffill()\n",
    "temp = temp.drop([\"capacity_x\"], axis = 1).rename(columns = {\"capacity_y\" : \"capacity\"})\n",
    "df = temp\n",
    "temp.head()"
   ]
  },
  {
   "cell_type": "code",
   "execution_count": 9,
   "id": "6d28ea6a-9c47-470d-8bc6-1aea4975390c",
   "metadata": {},
   "outputs": [
    {
     "name": "stdout",
     "output_type": "stream",
     "text": [
      "The number of unique vlaues for ambient_temperature is: 1 \n",
      "The Maximum value for voltage_measured is: 8.393141180564633 \n"
     ]
    }
   ],
   "source": [
    "print(f\"The number of unique vlaues for ambient_temperature is: {df['ambient_temperature'].nunique()} \")\n",
    "\n",
    "print(f\"The Maximum value for voltage_measured is: {df['voltage_measured'].max()} \")"
   ]
  },
  {
   "cell_type": "markdown",
   "id": "7c60beee-afcf-4042-9060-cbac729431e9",
   "metadata": {},
   "source": [
    "This shows that there is a consistency of ambient temperature in this dataset. This will be a limitation in the final model. We also need to check whether this voltage (which seems high)  is an outlier or not"
   ]
  },
  {
   "cell_type": "code",
   "execution_count": 10,
   "id": "2e792e1b-0a21-4219-8de7-d7902b7fd128",
   "metadata": {},
   "outputs": [
    {
     "data": {
      "image/png": "[encoded data removed]",
      "text/plain": [
       "<Figure size 640x480 with 1 Axes>"
      ]
     },
     "metadata": {},
     "output_type": "display_data"
    }
   ],
   "source": [
    "plt.hist(df['voltage_measured'], bins = 100)\n",
    "plt.xlabel('Voltage Measured')\n",
    "plt.ylabel('Frequency')\n",
    "plt.title('Distribution of Voltage Measured')\n",
    "plt.ylim(0,4)\n",
    "plt.show()"
   ]
  },
  {
   "cell_type": "markdown",
   "id": "c91c6c3b-72c0-43e5-b643-6a58e5f14bcd",
   "metadata": {},
   "source": [
    "As shown above, there is only a singular value above 4.xxxx, making the maximum vlaue shown above a clear outlier. We need to remove this value and so shall remove it."
   ]
  },
  {
   "cell_type": "code",
   "execution_count": 11,
   "id": "9c3434ca-4638-4d83-9b28-a11f3806dd78",
   "metadata": {},
   "outputs": [],
   "source": [
    "value = df['voltage_measured'].max()\n",
    "df = df[df['voltage_measured'] != value]"
   ]
  },
  {
   "cell_type": "code",
   "execution_count": 12,
   "id": "87434cf7-f281-492c-87b0-24dbbd815b0e",
   "metadata": {},
   "outputs": [
    {
     "data": {
      "image/png": "[encoded data removed]",
      "text/plain": [
       "<Figure size 640x480 with 1 Axes>"
      ]
     },
     "metadata": {},
     "output_type": "display_data"
    }
   ],
   "source": [
    "plt.hist(df['voltage_measured'], bins = 100)\n",
    "plt.xlabel('Voltage Measured')\n",
    "plt.ylabel('Frequency')\n",
    "plt.title('Distribution of Voltage Measured')\n",
    "plt.ylim(0,50)\n",
    "plt.show()"
   ]
  },
  {
   "cell_type": "code",
   "execution_count": 13,
   "id": "16eb80d2-12f0-436d-81bd-b50e5f6f8c63",
   "metadata": {},
   "outputs": [
    {
     "data": {
      "text/plain": [
       "<matplotlib.collections.PathCollection at 0x200e64f5ee0>"
      ]
     },
     "execution_count": 13,
     "metadata": {},
     "output_type": "execute_result"
    },
    {
     "data": {
      "image/png": "[encoded data removed]",
      "text/plain": [
       "<Figure size 640x480 with 1 Axes>"
      ]
     },
     "metadata": {},
     "output_type": "display_data"
    }
   ],
   "source": [
    "cycle = 5\n",
    "plt.scatter(df[df['cycle'] == cycle]['datetime'], df[df['cycle'] == cycle]['voltage_measured'])"
   ]
  },
  {
   "cell_type": "code",
   "execution_count": 14,
   "id": "14ae22c4-cc45-435f-9c32-c2c2430f6ff8",
   "metadata": {},
   "outputs": [
    {
     "data": {
      "text/html": [
       "<div>\n",
       "<style scoped>\n",
       "    .dataframe tbody tr th:only-of-type {\n",
       "        vertical-align: middle;\n",
       "    }\n",
       "\n",
       "    .dataframe tbody tr th {\n",
       "        vertical-align: top;\n",
       "    }\n",
       "\n",
       "    .dataframe thead th {\n",
       "        text-align: right;\n",
       "    }\n",
       "</style>\n",
       "<table border=\"1\" class=\"dataframe\">\n",
       "  <thead>\n",
       "    <tr style=\"text-align: right;\">\n",
       "      <th></th>\n",
       "      <th>cycle</th>\n",
       "      <th>ambient_temperature</th>\n",
       "      <th>datetime</th>\n",
       "      <th>voltage_measured</th>\n",
       "      <th>current_measured</th>\n",
       "      <th>temperature_measured</th>\n",
       "      <th>current</th>\n",
       "      <th>voltage</th>\n",
       "      <th>time</th>\n",
       "      <th>capacity</th>\n",
       "      <th>SOC</th>\n",
       "    </tr>\n",
       "  </thead>\n",
       "  <tbody>\n",
       "    <tr>\n",
       "      <th>0</th>\n",
       "      <td>1</td>\n",
       "      <td>24</td>\n",
       "      <td>2008-04-02 13:08:17</td>\n",
       "      <td>3.873017</td>\n",
       "      <td>-0.001201</td>\n",
       "      <td>24.655358</td>\n",
       "      <td>0.000</td>\n",
       "      <td>0.003</td>\n",
       "      <td>0.000</td>\n",
       "      <td>1.856487</td>\n",
       "      <td>0.726910</td>\n",
       "    </tr>\n",
       "    <tr>\n",
       "      <th>1</th>\n",
       "      <td>1</td>\n",
       "      <td>24</td>\n",
       "      <td>2008-04-02 13:08:17</td>\n",
       "      <td>4.206466</td>\n",
       "      <td>0.060136</td>\n",
       "      <td>24.241571</td>\n",
       "      <td>0.057</td>\n",
       "      <td>4.250</td>\n",
       "      <td>5314.703</td>\n",
       "      <td>1.856487</td>\n",
       "      <td>0.933546</td>\n",
       "    </tr>\n",
       "    <tr>\n",
       "      <th>2</th>\n",
       "      <td>1</td>\n",
       "      <td>24</td>\n",
       "      <td>2008-04-02 13:08:17</td>\n",
       "      <td>4.206558</td>\n",
       "      <td>0.057209</td>\n",
       "      <td>24.230457</td>\n",
       "      <td>0.057</td>\n",
       "      <td>4.250</td>\n",
       "      <td>5329.485</td>\n",
       "      <td>1.856487</td>\n",
       "      <td>0.933602</td>\n",
       "    </tr>\n",
       "    <tr>\n",
       "      <th>3</th>\n",
       "      <td>1</td>\n",
       "      <td>24</td>\n",
       "      <td>2008-04-02 13:08:17</td>\n",
       "      <td>4.205512</td>\n",
       "      <td>0.050194</td>\n",
       "      <td>24.241984</td>\n",
       "      <td>0.047</td>\n",
       "      <td>4.245</td>\n",
       "      <td>5344.282</td>\n",
       "      <td>1.856487</td>\n",
       "      <td>0.932955</td>\n",
       "    </tr>\n",
       "    <tr>\n",
       "      <th>4</th>\n",
       "      <td>1</td>\n",
       "      <td>24</td>\n",
       "      <td>2008-04-02 13:08:17</td>\n",
       "      <td>4.205301</td>\n",
       "      <td>0.047004</td>\n",
       "      <td>24.226732</td>\n",
       "      <td>0.047</td>\n",
       "      <td>4.245</td>\n",
       "      <td>5359.141</td>\n",
       "      <td>1.856487</td>\n",
       "      <td>0.932824</td>\n",
       "    </tr>\n",
       "  </tbody>\n",
       "</table>\n",
       "</div>"
      ],
      "text/plain": [
       "   cycle  ambient_temperature            datetime  voltage_measured  \\\n",
       "0      1                   24 2008-04-02 13:08:17          3.873017   \n",
       "1      1                   24 2008-04-02 13:08:17          4.206466   \n",
       "2      1                   24 2008-04-02 13:08:17          4.206558   \n",
       "3      1                   24 2008-04-02 13:08:17          4.205512   \n",
       "4      1                   24 2008-04-02 13:08:17          4.205301   \n",
       "\n",
       "   current_measured  temperature_measured  current  voltage      time  \\\n",
       "0         -0.001201             24.655358    0.000    0.003     0.000   \n",
       "1          0.060136             24.241571    0.057    4.250  5314.703   \n",
       "2          0.057209             24.230457    0.057    4.250  5329.485   \n",
       "3          0.050194             24.241984    0.047    4.245  5344.282   \n",
       "4          0.047004             24.226732    0.047    4.245  5359.141   \n",
       "\n",
       "   capacity       SOC  \n",
       "0  1.856487  0.726910  \n",
       "1  1.856487  0.933546  \n",
       "2  1.856487  0.933602  \n",
       "3  1.856487  0.932955  \n",
       "4  1.856487  0.932824  "
      ]
     },
     "execution_count": 14,
     "metadata": {},
     "output_type": "execute_result"
    }
   ],
   "source": [
    "with warnings.catch_warnings():\n",
    "    warnings.simplefilter(\"ignore\")\n",
    "    df['SOC'] = ((df['voltage_measured'] - 2.7)/(df['voltage_measured'].max() - 2.7))\n",
    "\n",
    "df.head()"
   ]
  },
  {
   "cell_type": "markdown",
   "id": "00ffc1e0",
   "metadata": {},
   "source": [
    "# Machine Learning (RBFN)\n",
    "\n",
    "Now we begin to build our Radial Bias Function Network\n",
    "\n",
    "https://www.kaggle.com/code/residentmario/radial-basis-networks-and-custom-keras-layers"
   ]
  },
  {
   "cell_type": "code",
   "execution_count": 15,
   "id": "aa6e2121",
   "metadata": {
    "tags": []
   },
   "outputs": [],
   "source": [
    "import tensorflow as tf\n",
    "from tensorflow.keras.models import Sequential, load_model\n",
    "from tensorflow.keras.layers import Dense, Activation, Dropout, Flatten, LSTM, RepeatVector, TimeDistributed, Layer\n",
    "from sklearn.metrics import accuracy_score, mean_squared_error, mean_absolute_error, r2_score\n",
    "from tensorflow import keras\n",
    "from keras import backend as K\n",
    "from keras.losses import binary_crossentropy\n",
    "import warnings"
   ]
  },
  {
   "cell_type": "code",
   "execution_count": 16,
   "id": "443de402-83dd-4cd7-abd8-24ec938cba6e",
   "metadata": {},
   "outputs": [],
   "source": [
    "gpus = tf.config.experimental.list_physical_devices('GPU')\n",
    "for gpu in gpus:\n",
    "    tf.config.experimental.set_memory_growth(gpu, True)"
   ]
  },
  {
   "cell_type": "code",
   "execution_count": 17,
   "id": "a32a554c-65e7-4a40-86f3-1c9d92cc5059",
   "metadata": {},
   "outputs": [
    {
     "data": {
      "text/plain": [
       "[PhysicalDevice(name='/physical_device:GPU:0', device_type='GPU')]"
      ]
     },
     "execution_count": 17,
     "metadata": {},
     "output_type": "execute_result"
    }
   ],
   "source": [
    "tf.config.experimental.list_physical_devices('GPU')"
   ]
  },
  {
   "cell_type": "code",
   "execution_count": 18,
   "id": "5f63aae9-e107-4ad5-9b19-165a14911984",
   "metadata": {},
   "outputs": [],
   "source": [
    "prep_df = df.drop(['datetime', 'ambient_temperature', 'capacity'], axis = 1)\n",
    "train_dataset = prep_df.sample(frac=0.8, random_state = 0)\n",
    "test_dataset = prep_df.drop(train_dataset.index)"
   ]
  },
  {
   "cell_type": "code",
   "execution_count": 19,
   "id": "128da8c4-19bc-469d-b316-d8d9e5335f5d",
   "metadata": {},
   "outputs": [
    {
     "data": {
      "text/html": [
       "<div>\n",
       "<style scoped>\n",
       "    .dataframe tbody tr th:only-of-type {\n",
       "        vertical-align: middle;\n",
       "    }\n",
       "\n",
       "    .dataframe tbody tr th {\n",
       "        vertical-align: top;\n",
       "    }\n",
       "\n",
       "    .dataframe thead th {\n",
       "        text-align: right;\n",
       "    }\n",
       "</style>\n",
       "<table border=\"1\" class=\"dataframe\">\n",
       "  <thead>\n",
       "    <tr style=\"text-align: right;\">\n",
       "      <th></th>\n",
       "      <th>count</th>\n",
       "      <th>mean</th>\n",
       "      <th>std</th>\n",
       "      <th>min</th>\n",
       "      <th>25%</th>\n",
       "      <th>50%</th>\n",
       "      <th>75%</th>\n",
       "      <th>max</th>\n",
       "    </tr>\n",
       "  </thead>\n",
       "  <tbody>\n",
       "    <tr>\n",
       "      <th>cycle</th>\n",
       "      <td>470278.0</td>\n",
       "      <td>95.409326</td>\n",
       "      <td>42.773550</td>\n",
       "      <td>1.000000</td>\n",
       "      <td>60.000000</td>\n",
       "      <td>96.000000</td>\n",
       "      <td>132.000000</td>\n",
       "      <td>168.000000</td>\n",
       "    </tr>\n",
       "    <tr>\n",
       "      <th>voltage_measured</th>\n",
       "      <td>470278.0</td>\n",
       "      <td>4.103417</td>\n",
       "      <td>0.213920</td>\n",
       "      <td>2.471315</td>\n",
       "      <td>4.087951</td>\n",
       "      <td>4.205138</td>\n",
       "      <td>4.205908</td>\n",
       "      <td>4.313703</td>\n",
       "    </tr>\n",
       "    <tr>\n",
       "      <th>current_measured</th>\n",
       "      <td>470278.0</td>\n",
       "      <td>0.368397</td>\n",
       "      <td>0.909215</td>\n",
       "      <td>-4.479660</td>\n",
       "      <td>0.039570</td>\n",
       "      <td>0.171744</td>\n",
       "      <td>1.262769</td>\n",
       "      <td>1.530376</td>\n",
       "    </tr>\n",
       "    <tr>\n",
       "      <th>temperature_measured</th>\n",
       "      <td>470278.0</td>\n",
       "      <td>26.375034</td>\n",
       "      <td>2.778459</td>\n",
       "      <td>23.214802</td>\n",
       "      <td>24.489700</td>\n",
       "      <td>25.483258</td>\n",
       "      <td>27.353311</td>\n",
       "      <td>41.436500</td>\n",
       "    </tr>\n",
       "    <tr>\n",
       "      <th>current</th>\n",
       "      <td>470278.0</td>\n",
       "      <td>0.635259</td>\n",
       "      <td>0.737868</td>\n",
       "      <td>-4.468000</td>\n",
       "      <td>0.057000</td>\n",
       "      <td>0.261000</td>\n",
       "      <td>1.498000</td>\n",
       "      <td>1.998400</td>\n",
       "    </tr>\n",
       "    <tr>\n",
       "      <th>voltage</th>\n",
       "      <td>470278.0</td>\n",
       "      <td>4.021590</td>\n",
       "      <td>1.212991</td>\n",
       "      <td>0.000000</td>\n",
       "      <td>4.240000</td>\n",
       "      <td>4.305000</td>\n",
       "      <td>4.656000</td>\n",
       "      <td>5.002000</td>\n",
       "    </tr>\n",
       "    <tr>\n",
       "      <th>time</th>\n",
       "      <td>470278.0</td>\n",
       "      <td>4764.131279</td>\n",
       "      <td>3149.310763</td>\n",
       "      <td>0.000000</td>\n",
       "      <td>1925.250000</td>\n",
       "      <td>4465.765000</td>\n",
       "      <td>7505.461250</td>\n",
       "      <td>10807.328000</td>\n",
       "    </tr>\n",
       "    <tr>\n",
       "      <th>SOC</th>\n",
       "      <td>470278.0</td>\n",
       "      <td>0.869687</td>\n",
       "      <td>0.132564</td>\n",
       "      <td>-0.141715</td>\n",
       "      <td>0.860103</td>\n",
       "      <td>0.932723</td>\n",
       "      <td>0.933200</td>\n",
       "      <td>1.000000</td>\n",
       "    </tr>\n",
       "  </tbody>\n",
       "</table>\n",
       "</div>"
      ],
      "text/plain": [
       "                         count         mean          std        min  \\\n",
       "cycle                 470278.0    95.409326    42.773550   1.000000   \n",
       "voltage_measured      470278.0     4.103417     0.213920   2.471315   \n",
       "current_measured      470278.0     0.368397     0.909215  -4.479660   \n",
       "temperature_measured  470278.0    26.375034     2.778459  23.214802   \n",
       "current               470278.0     0.635259     0.737868  -4.468000   \n",
       "voltage               470278.0     4.021590     1.212991   0.000000   \n",
       "time                  470278.0  4764.131279  3149.310763   0.000000   \n",
       "SOC                   470278.0     0.869687     0.132564  -0.141715   \n",
       "\n",
       "                              25%          50%          75%           max  \n",
       "cycle                   60.000000    96.000000   132.000000    168.000000  \n",
       "voltage_measured         4.087951     4.205138     4.205908      4.313703  \n",
       "current_measured         0.039570     0.171744     1.262769      1.530376  \n",
       "temperature_measured    24.489700    25.483258    27.353311     41.436500  \n",
       "current                  0.057000     0.261000     1.498000      1.998400  \n",
       "voltage                  4.240000     4.305000     4.656000      5.002000  \n",
       "time                  1925.250000  4465.765000  7505.461250  10807.328000  \n",
       "SOC                      0.860103     0.932723     0.933200      1.000000  "
      ]
     },
     "execution_count": 19,
     "metadata": {},
     "output_type": "execute_result"
    }
   ],
   "source": [
    "train_dataset.describe().transpose()"
   ]
  },
  {
   "cell_type": "code",
   "execution_count": 20,
   "id": "0acbef51-0768-4e9d-9b4b-f0982aadcf85",
   "metadata": {},
   "outputs": [
    {
     "name": "stdout",
     "output_type": "stream",
     "text": [
      "cycle                   144.000000\n",
      "voltage_measured          4.072904\n",
      "current_measured          1.511057\n",
      "temperature_measured     26.967343\n",
      "current                   1.498000\n",
      "voltage                   4.818000\n",
      "time                    955.328000\n",
      "SOC                       0.850779\n",
      "Name: 489564, dtype: float64\n",
      "--------------------------\n",
      "cycle                   144.000000\n",
      "voltage_measured          4.072904\n",
      "current_measured          1.511057\n",
      "temperature_measured     26.967343\n",
      "current                   1.498000\n",
      "voltage                   4.818000\n",
      "time                    955.328000\n",
      "Name: 489564, dtype: float64\n"
     ]
    }
   ],
   "source": [
    "# These are the features\n",
    "train_features = train_dataset.copy()\n",
    "test_features = test_dataset.copy()\n",
    "print(train_features.iloc[0])\n",
    "# These contain the target variables\n",
    "train_labels = train_features.pop('SOC')\n",
    "test_labels = test_features.pop('SOC')\n",
    "print('--------------------------')\n",
    "print(train_features.iloc[0])"
   ]
  },
  {
   "cell_type": "markdown",
   "id": "a444c734-292f-456a-9ce2-d7bbad31a537",
   "metadata": {},
   "source": [
    "## Normalisation\n",
    "\n",
    "Here we will normalise the values to give equal weight to each feature"
   ]
  },
  {
   "cell_type": "code",
   "execution_count": 21,
   "id": "29b047f0-0235-48fa-99ce-ffeddbecd0fb",
   "metadata": {},
   "outputs": [
    {
     "data": {
      "text/html": [
       "<div>\n",
       "<style scoped>\n",
       "    .dataframe tbody tr th:only-of-type {\n",
       "        vertical-align: middle;\n",
       "    }\n",
       "\n",
       "    .dataframe tbody tr th {\n",
       "        vertical-align: top;\n",
       "    }\n",
       "\n",
       "    .dataframe thead th {\n",
       "        text-align: right;\n",
       "    }\n",
       "</style>\n",
       "<table border=\"1\" class=\"dataframe\">\n",
       "  <thead>\n",
       "    <tr style=\"text-align: right;\">\n",
       "      <th></th>\n",
       "      <th>mean</th>\n",
       "      <th>std</th>\n",
       "    </tr>\n",
       "  </thead>\n",
       "  <tbody>\n",
       "    <tr>\n",
       "      <th>cycle</th>\n",
       "      <td>95.409326</td>\n",
       "      <td>42.773550</td>\n",
       "    </tr>\n",
       "    <tr>\n",
       "      <th>voltage_measured</th>\n",
       "      <td>4.103417</td>\n",
       "      <td>0.213920</td>\n",
       "    </tr>\n",
       "    <tr>\n",
       "      <th>current_measured</th>\n",
       "      <td>0.368397</td>\n",
       "      <td>0.909215</td>\n",
       "    </tr>\n",
       "    <tr>\n",
       "      <th>temperature_measured</th>\n",
       "      <td>26.375034</td>\n",
       "      <td>2.778459</td>\n",
       "    </tr>\n",
       "    <tr>\n",
       "      <th>current</th>\n",
       "      <td>0.635259</td>\n",
       "      <td>0.737868</td>\n",
       "    </tr>\n",
       "    <tr>\n",
       "      <th>voltage</th>\n",
       "      <td>4.021590</td>\n",
       "      <td>1.212991</td>\n",
       "    </tr>\n",
       "    <tr>\n",
       "      <th>time</th>\n",
       "      <td>4764.131279</td>\n",
       "      <td>3149.310763</td>\n",
       "    </tr>\n",
       "    <tr>\n",
       "      <th>SOC</th>\n",
       "      <td>0.869687</td>\n",
       "      <td>0.132564</td>\n",
       "    </tr>\n",
       "  </tbody>\n",
       "</table>\n",
       "</div>"
      ],
      "text/plain": [
       "                             mean          std\n",
       "cycle                   95.409326    42.773550\n",
       "voltage_measured         4.103417     0.213920\n",
       "current_measured         0.368397     0.909215\n",
       "temperature_measured    26.375034     2.778459\n",
       "current                  0.635259     0.737868\n",
       "voltage                  4.021590     1.212991\n",
       "time                  4764.131279  3149.310763\n",
       "SOC                      0.869687     0.132564"
      ]
     },
     "execution_count": 21,
     "metadata": {},
     "output_type": "execute_result"
    }
   ],
   "source": [
    "train_dataset.describe().transpose()[['mean', 'std']]"
   ]
  },
  {
   "cell_type": "code",
   "execution_count": 22,
   "id": "0743513f-3b6d-45ad-aca2-d5a98fda598c",
   "metadata": {},
   "outputs": [
    {
     "data": {
      "text/html": [
       "<div>\n",
       "<style scoped>\n",
       "    .dataframe tbody tr th:only-of-type {\n",
       "        vertical-align: middle;\n",
       "    }\n",
       "\n",
       "    .dataframe tbody tr th {\n",
       "        vertical-align: top;\n",
       "    }\n",
       "\n",
       "    .dataframe thead th {\n",
       "        text-align: right;\n",
       "    }\n",
       "</style>\n",
       "<table border=\"1\" class=\"dataframe\">\n",
       "  <thead>\n",
       "    <tr style=\"text-align: right;\">\n",
       "      <th></th>\n",
       "      <th>cycle</th>\n",
       "      <th>voltage_measured</th>\n",
       "      <th>current_measured</th>\n",
       "      <th>temperature_measured</th>\n",
       "      <th>current</th>\n",
       "      <th>voltage</th>\n",
       "      <th>time</th>\n",
       "      <th>SOC</th>\n",
       "    </tr>\n",
       "  </thead>\n",
       "  <tbody>\n",
       "    <tr>\n",
       "      <th>489564</th>\n",
       "      <td>144</td>\n",
       "      <td>4.072904</td>\n",
       "      <td>1.511057</td>\n",
       "      <td>26.967343</td>\n",
       "      <td>1.498</td>\n",
       "      <td>4.818</td>\n",
       "      <td>955.328</td>\n",
       "      <td>0.850779</td>\n",
       "    </tr>\n",
       "    <tr>\n",
       "      <th>383689</th>\n",
       "      <td>118</td>\n",
       "      <td>4.201838</td>\n",
       "      <td>0.001151</td>\n",
       "      <td>24.421995</td>\n",
       "      <td>0.000</td>\n",
       "      <td>0.003</td>\n",
       "      <td>10279.687</td>\n",
       "      <td>0.930678</td>\n",
       "    </tr>\n",
       "    <tr>\n",
       "      <th>580550</th>\n",
       "      <td>167</td>\n",
       "      <td>4.205604</td>\n",
       "      <td>0.081628</td>\n",
       "      <td>24.197675</td>\n",
       "      <td>0.080</td>\n",
       "      <td>4.261</td>\n",
       "      <td>6816.406</td>\n",
       "      <td>0.933011</td>\n",
       "    </tr>\n",
       "    <tr>\n",
       "      <th>110451</th>\n",
       "      <td>51</td>\n",
       "      <td>4.207118</td>\n",
       "      <td>0.031110</td>\n",
       "      <td>25.934996</td>\n",
       "      <td>0.031</td>\n",
       "      <td>4.240</td>\n",
       "      <td>9218.344</td>\n",
       "      <td>0.933950</td>\n",
       "    </tr>\n",
       "    <tr>\n",
       "      <th>354821</th>\n",
       "      <td>111</td>\n",
       "      <td>4.206939</td>\n",
       "      <td>1.083693</td>\n",
       "      <td>30.320120</td>\n",
       "      <td>1.074</td>\n",
       "      <td>4.748</td>\n",
       "      <td>2429.187</td>\n",
       "      <td>0.933839</td>\n",
       "    </tr>\n",
       "  </tbody>\n",
       "</table>\n",
       "</div>"
      ],
      "text/plain": [
       "        cycle  voltage_measured  current_measured  temperature_measured  \\\n",
       "489564    144          4.072904          1.511057             26.967343   \n",
       "383689    118          4.201838          0.001151             24.421995   \n",
       "580550    167          4.205604          0.081628             24.197675   \n",
       "110451     51          4.207118          0.031110             25.934996   \n",
       "354821    111          4.206939          1.083693             30.320120   \n",
       "\n",
       "        current  voltage       time       SOC  \n",
       "489564    1.498    4.818    955.328  0.850779  \n",
       "383689    0.000    0.003  10279.687  0.930678  \n",
       "580550    0.080    4.261   6816.406  0.933011  \n",
       "110451    0.031    4.240   9218.344  0.933950  \n",
       "354821    1.074    4.748   2429.187  0.933839  "
      ]
     },
     "execution_count": 22,
     "metadata": {},
     "output_type": "execute_result"
    }
   ],
   "source": [
    "train_dataset.head()"
   ]
  },
  {
   "cell_type": "markdown",
   "id": "6a7a8160-be18-4d14-b366-8ea8d7846492",
   "metadata": {},
   "source": [
    "## Regression with RBFN"
   ]
  },
  {
   "cell_type": "markdown",
   "id": "856d0e4f-e58f-4ce5-8b82-3186d9ba3d5c",
   "metadata": {},
   "source": [
    "### Preparing the Data"
   ]
  },
  {
   "cell_type": "code",
   "execution_count": 23,
   "id": "a3e7f0d0-2475-4203-a6ab-19dd6f3c55e9",
   "metadata": {},
   "outputs": [
    {
     "name": "stdout",
     "output_type": "stream",
     "text": [
      "(470278, 7)\n",
      "(7,)\n",
      "cycle                   144.000000\n",
      "voltage_measured          4.072904\n",
      "current_measured          1.511057\n",
      "temperature_measured     26.967343\n",
      "current                   1.498000\n",
      "voltage                   4.818000\n",
      "time                    955.328000\n",
      "Name: 489564, dtype: float64\n"
     ]
    }
   ],
   "source": [
    "print(train_features.shape)\n",
    "print(train_features.iloc[0].shape)\n",
    "print(train_features.iloc[0].squeeze())"
   ]
  },
  {
   "cell_type": "code",
   "execution_count": 24,
   "id": "9fd74ded-28bc-4ba8-a383-7b8ade5d432e",
   "metadata": {},
   "outputs": [
    {
     "name": "stdout",
     "output_type": "stream",
     "text": [
      "After reshape train data set shape:\n",
      " (470278, 7, 1)\n",
      "1 Sample shape:\n",
      " (7, 1)\n",
      "An example sample:\n",
      " [[144.   ]\n",
      " [  4.073]\n",
      " [  1.511]\n",
      " [ 26.967]\n",
      " [  1.498]\n",
      " [  4.818]\n",
      " [955.328]]\n"
     ]
    }
   ],
   "source": [
    "sample_size = train_features.shape[0] # number of samples in train set\n",
    "time_steps  = train_features.shape[1] # number of features in train set\n",
    "input_dimension = 1               # each feature is represented by 1 number\n",
    "\n",
    "train_features_reshaped = train_features.values.reshape(sample_size,time_steps,input_dimension)\n",
    "print(\"After reshape train data set shape:\\n\", train_features_reshaped.shape)\n",
    "print(\"1 Sample shape:\\n\",train_features_reshaped[0].shape)\n",
    "print(\"An example sample:\\n\", train_features_reshaped[0])"
   ]
  },
  {
   "cell_type": "code",
   "execution_count": 25,
   "id": "70a31e94-4f3a-4fc3-a3f1-2769e15684a9",
   "metadata": {},
   "outputs": [],
   "source": [
    "test_features_reshaped = test_features.values.reshape(test_features.shape[0],test_features.shape[1],1)\n",
    "n_timesteps = train_features_reshaped.shape[1] #7\n",
    "n_features  = train_features_reshaped.shape[2] #1"
   ]
  },
  {
   "cell_type": "code",
   "execution_count": 26,
   "id": "24e3723d-fef5-4376-9ddd-1ebe7c2aeaf8",
   "metadata": {},
   "outputs": [],
   "source": [
    "normalizer = keras.layers.Normalization(axis = 1)\n",
    "normalizer.adapt(np.array(train_features_reshaped))"
   ]
  },
  {
   "cell_type": "code",
   "execution_count": 27,
   "id": "8ba67867-b450-4790-bb7f-886da53ad36c",
   "metadata": {},
   "outputs": [],
   "source": [
    "train_features_reshaped = normalizer(train_features_reshaped)\n",
    "test_features_reshaped = normalizer(test_features_reshaped)"
   ]
  },
  {
   "cell_type": "markdown",
   "id": "03e76cf3-f2df-469c-be42-4120b89b9fcc",
   "metadata": {},
   "source": [
    "## Defining the model"
   ]
  },
  {
   "cell_type": "code",
   "execution_count": 42,
   "id": "c2453942-d22c-4e7c-80dc-9d5e22e78a04",
   "metadata": {},
   "outputs": [],
   "source": [
    "class RBFLayer(Layer):\n",
    "    def __init__(self, units, gamma, **kwargs):\n",
    "        super(RBFLayer, self).__init__(**kwargs)\n",
    "        self.units = units\n",
    "        self.gamma = K.cast_to_floatx(gamma)\n",
    "\n",
    "    def build(self, input_shape):\n",
    "#         print(input_shape)\n",
    "#         print(self.units)\n",
    "        self.mu = self.add_weight(name='mu',\n",
    "                                  shape=(int(input_shape[1]), self.units),\n",
    "                                  initializer='uniform',\n",
    "                                  trainable=True)\n",
    "        super(RBFLayer, self).build(input_shape)\n",
    "\n",
    "    def call(self, inputs):\n",
    "        diff = K.expand_dims(inputs) - self.mu\n",
    "        l2 = K.sum(K.pow(diff, 2), axis=1)\n",
    "        res = K.exp(-1 * self.gamma * l2)\n",
    "        return res\n",
    "\n",
    "    def compute_output_shape(self, input_shape):\n",
    "        return (input_shape[0], self.units)\n",
    "    \n",
    "    def get_config(self):\n",
    "        config = super(RBFLayer, self).get_config()\n",
    "        config.update({\n",
    "            'units': self.units,\n",
    "            'gamma': self.gamma,\n",
    "        })\n",
    "        return config"
   ]
  },
  {
   "cell_type": "code",
   "execution_count": 57,
   "id": "bb0ceff5-99e0-41ab-9ff8-57aef0c51511",
   "metadata": {},
   "outputs": [],
   "source": [
    "def build_and_compile_model(): \n",
    "    \n",
    "    model = Sequential()\n",
    "    model.add(Flatten(input_shape=(n_timesteps,n_features)))\n",
    "    model.add(RBFLayer(128, 1))\n",
    "    model.add(Dense(1, name='foo'))\n",
    "    model.compile(loss= 'mean_squared_error',\n",
    "                 optimizer = 'rmsprop', \n",
    "                 metrics=['mean_squared_error', 'mean_absolute_error'])\n",
    "    return model\n",
    "\n",
    "def plot_loss(history, title):\n",
    "    plt.plot(history.history['loss'], label='loss')\n",
    "    plt.plot(history.history['val_loss'], label='val_loss')\n",
    "    # plt.ylim([0, 1])\n",
    "    plt.xlabel('Epoch')\n",
    "    plt.ylabel('Error [SOC]')\n",
    "    plt.title(title)\n",
    "    plt.legend()\n",
    "    plt.grid(True)"
   ]
  },
  {
   "cell_type": "code",
   "execution_count": 58,
   "id": "323a757d-033e-4648-b1c2-d4f6c22573b5",
   "metadata": {},
   "outputs": [
    {
     "name": "stdout",
     "output_type": "stream",
     "text": [
      "Model: \"sequential_2\"\n",
      "_________________________________________________________________\n",
      " Layer (type)                Output Shape              Param #   \n",
      "=================================================================\n",
      " flatten_2 (Flatten)         (None, 7)                 0         \n",
      "                                                                 \n",
      " rbf_layer_2 (RBFLayer)      (None, 128)               896       \n",
      "                                                                 \n",
      " foo (Dense)                 (None, 1)                 129       \n",
      "                                                                 \n",
      "=================================================================\n",
      "Total params: 1,025\n",
      "Trainable params: 1,025\n",
      "Non-trainable params: 0\n",
      "_________________________________________________________________\n"
     ]
    }
   ],
   "source": [
    "rbfn_model = build_and_compile_model()\n",
    "rbfn_model.summary()"
   ]
  },
  {
   "cell_type": "code",
   "execution_count": 59,
   "id": "84dbf431-7dde-4b94-91db-2c2c0ee994a6",
   "metadata": {},
   "outputs": [],
   "source": [
    "epochs = 10\n",
    "checkpoint_filepath = os.path.join('checkpoints', 'RBFN_SOC{epoch:02d}-{val_loss:.4f}.h5')\n",
    "model_checkpoint_callback = keras.callbacks.ModelCheckpoint(\n",
    "    filepath=checkpoint_filepath,\n",
    "    save_weights_only=True,\n",
    "    monitor='mean_squared_error',\n",
    "    mode='min',\n",
    "    save_best_only=True)\n",
    "\n",
    "if 'history' not in locals():\n",
    "    print('New History array has been created')\n",
    "    history =  []"
   ]
  },
  {
   "cell_type": "code",
   "execution_count": 60,
   "id": "25d39640-219b-4b4a-9dd3-f14afd0d2f97",
   "metadata": {},
   "outputs": [
    {
     "name": "stdout",
     "output_type": "stream",
     "text": [
      "Epoch 1/10\n",
      "11757/11757 [==============================] - 134s 11ms/step - loss: 0.0361 - mean_squared_error: 0.0361 - mean_absolute_error: 0.1168 - val_loss: 0.0173 - val_mean_squared_error: 0.0173 - val_mean_absolute_error: 0.0875\n",
      "Epoch 2/10\n",
      "11757/11757 [==============================] - 128s 11ms/step - loss: 0.0177 - mean_squared_error: 0.0177 - mean_absolute_error: 0.0899 - val_loss: 0.0173 - val_mean_squared_error: 0.0173 - val_mean_absolute_error: 0.0918\n",
      "Epoch 3/10\n",
      "11757/11757 [==============================] - 127s 11ms/step - loss: 0.0177 - mean_squared_error: 0.0177 - mean_absolute_error: 0.0899 - val_loss: 0.0173 - val_mean_squared_error: 0.0173 - val_mean_absolute_error: 0.0898\n",
      "Epoch 4/10\n",
      "11757/11757 [==============================] - 131s 11ms/step - loss: 0.0177 - mean_squared_error: 0.0177 - mean_absolute_error: 0.0899 - val_loss: 0.0173 - val_mean_squared_error: 0.0173 - val_mean_absolute_error: 0.0866\n",
      "Epoch 5/10\n",
      "11757/11757 [==============================] - 117s 10ms/step - loss: 0.0177 - mean_squared_error: 0.0177 - mean_absolute_error: 0.0899 - val_loss: 0.0173 - val_mean_squared_error: 0.0173 - val_mean_absolute_error: 0.0890\n",
      "Epoch 6/10\n",
      "11757/11757 [==============================] - 122s 10ms/step - loss: 0.0177 - mean_squared_error: 0.0177 - mean_absolute_error: 0.0899 - val_loss: 0.0173 - val_mean_squared_error: 0.0173 - val_mean_absolute_error: 0.0867\n",
      "Epoch 7/10\n",
      "11757/11757 [==============================] - 118s 10ms/step - loss: 0.0177 - mean_squared_error: 0.0177 - mean_absolute_error: 0.0899 - val_loss: 0.0173 - val_mean_squared_error: 0.0173 - val_mean_absolute_error: 0.0881\n",
      "Epoch 8/10\n",
      "11757/11757 [==============================] - 118s 10ms/step - loss: 0.0177 - mean_squared_error: 0.0177 - mean_absolute_error: 0.0899 - val_loss: 0.0173 - val_mean_squared_error: 0.0173 - val_mean_absolute_error: 0.0905\n",
      "Epoch 9/10\n",
      "11757/11757 [==============================] - 118s 10ms/step - loss: 0.0177 - mean_squared_error: 0.0177 - mean_absolute_error: 0.0899 - val_loss: 0.0173 - val_mean_squared_error: 0.0173 - val_mean_absolute_error: 0.0887\n",
      "Epoch 10/10\n",
      "11757/11757 [==============================] - 121s 10ms/step - loss: 0.0177 - mean_squared_error: 0.0177 - mean_absolute_error: 0.0899 - val_loss: 0.0173 - val_mean_squared_error: 0.0173 - val_mean_absolute_error: 0.0919\n",
      "CPU times: total: 1min 45s\n",
      "Wall time: 20min 34s\n"
     ]
    }
   ],
   "source": [
    "%%time\n",
    "history.append(rbfn_model.fit(\n",
    "    train_features,\n",
    "    train_labels,\n",
    "    validation_split = 0.2,\n",
    "    epochs = epochs,\n",
    "    callbacks = model_checkpoint_callback))"
   ]
  },
  {
   "cell_type": "code",
   "execution_count": 61,
   "id": "7e99486c-417e-4d01-91c9-a8193950739d",
   "metadata": {},
   "outputs": [
    {
     "data": {
      "image/png": "[encoded data removed]",
      "text/plain": [
       "<Figure size 640x480 with 1 Axes>"
      ]
     },
     "metadata": {},
     "output_type": "display_data"
    }
   ],
   "source": [
    "plot_loss(history[-1], 'Radial Basis Function Model (SOC)')"
   ]
  },
  {
   "cell_type": "code",
   "execution_count": 62,
   "id": "269b1a15-24f7-42ca-ada6-b607531d110f",
   "metadata": {},
   "outputs": [],
   "source": [
    "model_path = os.path.join(\"models\",\"RBFN_SOC_02.keras\")"
   ]
  },
  {
   "cell_type": "code",
   "execution_count": 63,
   "id": "a69720ad-383e-49a4-857e-ff6a29d130af",
   "metadata": {},
   "outputs": [],
   "source": [
    "rbfn_model.save(model_path)"
   ]
  },
  {
   "cell_type": "markdown",
   "id": "ce33ae5f-b04c-4eff-b3c7-ac0d22fa8f7f",
   "metadata": {
    "tags": []
   },
   "source": [
    "### Performance"
   ]
  },
  {
   "cell_type": "code",
   "execution_count": 64,
   "id": "e68595b8-2e7f-4368-8105-e792a88ffb9d",
   "metadata": {},
   "outputs": [],
   "source": [
    "rbfn_model = tf.keras.models.load_model(model_path, custom_objects={'RBFLayer': RBFLayer})"
   ]
  },
  {
   "cell_type": "code",
   "execution_count": 65,
   "id": "3f1c1010-c46c-465b-a1fb-266e3e196c8a",
   "metadata": {},
   "outputs": [
    {
     "name": "stdout",
     "output_type": "stream",
     "text": [
      "3675/3675 [==============================] - 7s 2ms/step\n"
     ]
    }
   ],
   "source": [
    "test_predictions = rbfn_model.predict(test_features).flatten()"
   ]
  },
  {
   "cell_type": "code",
   "execution_count": 66,
   "id": "c5b48cd8-3f3f-42d3-ab48-3bbf8b07a02d",
   "metadata": {},
   "outputs": [
    {
     "data": {
      "image/png": "[encoded data removed]",
      "text/plain": [
       "<Figure size 640x480 with 1 Axes>"
      ]
     },
     "metadata": {},
     "output_type": "display_data"
    }
   ],
   "source": [
    "a = plt.axes(aspect='equal')\n",
    "plt.scatter(test_labels, test_predictions)\n",
    "plt.xlabel('True Values [SOC]')\n",
    "plt.ylabel('Predictions [SOC]')\n",
    "lims = [-0.2, 1.2]\n",
    "plt.xlim(lims)\n",
    "plt.ylim(lims)\n",
    "_ = plt.plot(lims, lims)"
   ]
  },
  {
   "cell_type": "code",
   "execution_count": 67,
   "id": "e58fb751-61db-4ae6-b927-e4377cea626b",
   "metadata": {},
   "outputs": [
    {
     "data": {
      "image/png": "[encoded data removed]",
      "text/plain": [
       "<Figure size 640x480 with 1 Axes>"
      ]
     },
     "metadata": {},
     "output_type": "display_data"
    }
   ],
   "source": [
    "error = test_predictions - test_labels\n",
    "plt.hist(error, bins=25)\n",
    "plt.xlabel('Prediction Error [SOC]')\n",
    "_ = plt.ylabel('Count')"
   ]
  },
  {
   "cell_type": "code",
   "execution_count": 68,
   "id": "455c099d-c70f-4878-95a3-3d67c71299cd",
   "metadata": {},
   "outputs": [
    {
     "name": "stdout",
     "output_type": "stream",
     "text": [
      "MSE: 0.017478735660422438\n",
      "RMSE: 0.1322071694743611\n",
      "MAE: 0.09211702799026579\n",
      "R2 Score: -0.0015530627202471337\n"
     ]
    }
   ],
   "source": [
    "# Calculate metrics\n",
    "mse = mean_squared_error(test_labels, test_predictions)\n",
    "rmse = np.sqrt(mse)\n",
    "mae = mean_absolute_error(test_labels, test_predictions)\n",
    "r2 = r2_score(test_labels, test_predictions)\n",
    "\n",
    "print(f'MSE: {mse}')\n",
    "print(f'RMSE: {rmse}')\n",
    "print(f'MAE: {mae}')\n",
    "print(f'R2 Score: {r2}')"
   ]
  },
  {
   "cell_type": "code",
   "execution_count": null,
   "id": "2f9e1df3-8482-43da-922e-956cad2f0514",
   "metadata": {},
   "outputs": [],
   "source": []
  }
 ],
 "metadata": {
  "kernelspec": {
   "display_name": "DeepNN",
   "language": "python",
   "name": "deepnn"
  },
  "language_info": {
   "codemirror_mode": {
    "name": "ipython",
    "version": 3
   },
   "file_extension": ".py",
   "mimetype": "text/x-python",
   "name": "python",
   "nbconvert_exporter": "python",
   "pygments_lexer": "ipython3",
   "version": "3.9.13"
  }
 },
 "nbformat": 4,
 "nbformat_minor": 5
}
