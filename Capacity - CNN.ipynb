{
 "cells": [
  {
   "cell_type": "markdown",
   "id": "926969bb",
   "metadata": {
    "tags": []
   },
   "source": [
    "# Data Preparation\n",
    "\n",
    "In this sectiono we load in and prepare the data for our machine learning."
   ]
  },
  {
   "cell_type": "markdown",
   "id": "37fc91fd-c019-4e51-b8a8-db79a3ed2875",
   "metadata": {
    "tags": []
   },
   "source": [
    "## Import Statements"
   ]
  },
  {
   "cell_type": "markdown",
   "id": "e3afa971-d479-4fdb-b312-6c14b62559fd",
   "metadata": {
    "jupyter": {
     "outputs_hidden": true
    },
    "tags": []
   },
   "source": [
    "!pip install scipy\n",
    "!pip install pandas\n",
    "!pip install scikit-learn"
   ]
  },
  {
   "cell_type": "markdown",
   "id": "aa7c8ead-e0b2-49ea-943f-ac6b6b98037e",
   "metadata": {
    "tags": []
   },
   "source": [
    "!conda install -c conda-forge cudatoolkit=11.2 cudnn=8.1.0\n",
    "# Anything above 2.10 is not supported on the GPU on Windows Native\n",
    "!pip install \"tensorflow<2.11\"\n"
   ]
  },
  {
   "cell_type": "markdown",
   "id": "814f5eec-58b1-449b-af43-95efd15b4490",
   "metadata": {
    "tags": []
   },
   "source": [
    "!pip list\n",
    "!pip install -q seaborn"
   ]
  },
  {
   "cell_type": "code",
   "execution_count": 2,
   "id": "bae6688c",
   "metadata": {},
   "outputs": [],
   "source": [
    "import os\n",
    "import scipy.io as sio\n",
    "import pandas as pd\n",
    "from scipy.io import loadmat\n",
    "import datetime\n",
    "from pandas import DataFrame\n",
    "import matplotlib.pyplot as plt\n",
    "import numpy as np\n",
    "import seaborn as sns\n",
    "\n",
    "np.set_printoptions(precision=3, suppress=True)"
   ]
  },
  {
   "cell_type": "code",
   "execution_count": 3,
   "id": "44d4c18f-9dbd-45d7-a444-ef018c1f716c",
   "metadata": {},
   "outputs": [],
   "source": [
    "def plot_history(history):\n",
    "    plt.figure()\n",
    "    plt.xlabel('Epoch')\n",
    "    plt.ylabel('Mean Abs Error')\n",
    "    plt.plot(history.epoch, np.array(history.history['mae']), \n",
    "             label='Train')\n",
    "    plt.plot(history.epoch, np.array(history.history['val_mae']),\n",
    "             label = 'Val')\n",
    "    plt.legend()\n",
    "    # plt.ylim([0,max(history.history['val_mae']) + 1])\n",
    "    \n",
    "def plot_prediction(test_labels, test_predictions):\n",
    "    plt.figure()\n",
    "    plt.scatter(test_labels, test_predictions)\n",
    "    plt.xlabel('True Values')\n",
    "    plt.ylabel('Predictions')\n",
    "    plt.axis('equal')\n",
    "    plt.xlim(plt.xlim())\n",
    "    plt.ylim(plt.ylim())\n",
    "    _ = plt.plot([-100, 100],[-100,100])\n",
    "    \n",
    "    plt.figure()\n",
    "    error = test_predictions - test_labels\n",
    "    plt.hist(error, bins = 50)\n",
    "    plt.xlabel(\"Prediction Error\")\n",
    "    _ = plt.ylabel(\"Count\")"
   ]
  },
  {
   "cell_type": "markdown",
   "id": "ab2a9a82",
   "metadata": {
    "tags": []
   },
   "source": [
    "## Ingesting the data\n",
    "\n",
    "The following data is from a Nasa dataset with n refferring to the iteration number of the dataset used. \n",
    "Temperature is in celcius\n",
    "Voltage is in volts\n",
    "Current is in Amps"
   ]
  },
  {
   "cell_type": "code",
   "execution_count": 4,
   "id": "aed8bdba",
   "metadata": {},
   "outputs": [
    {
     "data": {
      "text/html": [
       "<div>\n",
       "<style scoped>\n",
       "    .dataframe tbody tr th:only-of-type {\n",
       "        vertical-align: middle;\n",
       "    }\n",
       "\n",
       "    .dataframe tbody tr th {\n",
       "        vertical-align: top;\n",
       "    }\n",
       "\n",
       "    .dataframe thead th {\n",
       "        text-align: right;\n",
       "    }\n",
       "</style>\n",
       "<table border=\"1\" class=\"dataframe\">\n",
       "  <thead>\n",
       "    <tr style=\"text-align: right;\">\n",
       "      <th></th>\n",
       "      <th>cycle</th>\n",
       "      <th>ambient_temperature</th>\n",
       "      <th>datetime</th>\n",
       "      <th>voltage_measured</th>\n",
       "      <th>current_measured</th>\n",
       "      <th>temperature_measured</th>\n",
       "      <th>current</th>\n",
       "      <th>voltage</th>\n",
       "      <th>time</th>\n",
       "      <th>capacity</th>\n",
       "    </tr>\n",
       "  </thead>\n",
       "  <tbody>\n",
       "    <tr>\n",
       "      <th>0</th>\n",
       "      <td>1</td>\n",
       "      <td>24</td>\n",
       "      <td>2008-04-02 13:08:17</td>\n",
       "      <td>3.873017</td>\n",
       "      <td>-0.001201</td>\n",
       "      <td>24.655358</td>\n",
       "      <td>0.000</td>\n",
       "      <td>0.003</td>\n",
       "      <td>0.000</td>\n",
       "      <td>NaN</td>\n",
       "    </tr>\n",
       "    <tr>\n",
       "      <th>1</th>\n",
       "      <td>1</td>\n",
       "      <td>24</td>\n",
       "      <td>2008-04-02 13:08:17</td>\n",
       "      <td>4.206466</td>\n",
       "      <td>0.060136</td>\n",
       "      <td>24.241571</td>\n",
       "      <td>0.057</td>\n",
       "      <td>4.250</td>\n",
       "      <td>5314.703</td>\n",
       "      <td>NaN</td>\n",
       "    </tr>\n",
       "    <tr>\n",
       "      <th>2</th>\n",
       "      <td>1</td>\n",
       "      <td>24</td>\n",
       "      <td>2008-04-02 13:08:17</td>\n",
       "      <td>4.206558</td>\n",
       "      <td>0.057209</td>\n",
       "      <td>24.230457</td>\n",
       "      <td>0.057</td>\n",
       "      <td>4.250</td>\n",
       "      <td>5329.485</td>\n",
       "      <td>NaN</td>\n",
       "    </tr>\n",
       "    <tr>\n",
       "      <th>3</th>\n",
       "      <td>1</td>\n",
       "      <td>24</td>\n",
       "      <td>2008-04-02 13:08:17</td>\n",
       "      <td>4.205512</td>\n",
       "      <td>0.050194</td>\n",
       "      <td>24.241984</td>\n",
       "      <td>0.047</td>\n",
       "      <td>4.245</td>\n",
       "      <td>5344.282</td>\n",
       "      <td>NaN</td>\n",
       "    </tr>\n",
       "    <tr>\n",
       "      <th>4</th>\n",
       "      <td>1</td>\n",
       "      <td>24</td>\n",
       "      <td>2008-04-02 13:08:17</td>\n",
       "      <td>4.205301</td>\n",
       "      <td>0.047004</td>\n",
       "      <td>24.226732</td>\n",
       "      <td>0.047</td>\n",
       "      <td>4.245</td>\n",
       "      <td>5359.141</td>\n",
       "      <td>NaN</td>\n",
       "    </tr>\n",
       "  </tbody>\n",
       "</table>\n",
       "</div>"
      ],
      "text/plain": [
       "   cycle  ambient_temperature            datetime  voltage_measured  \\\n",
       "0      1                   24 2008-04-02 13:08:17          3.873017   \n",
       "1      1                   24 2008-04-02 13:08:17          4.206466   \n",
       "2      1                   24 2008-04-02 13:08:17          4.206558   \n",
       "3      1                   24 2008-04-02 13:08:17          4.205512   \n",
       "4      1                   24 2008-04-02 13:08:17          4.205301   \n",
       "\n",
       "   current_measured  temperature_measured  current  voltage      time  \\\n",
       "0         -0.001201             24.655358    0.000    0.003     0.000   \n",
       "1          0.060136             24.241571    0.057    4.250  5314.703   \n",
       "2          0.057209             24.230457    0.057    4.250  5329.485   \n",
       "3          0.050194             24.241984    0.047    4.245  5344.282   \n",
       "4          0.047004             24.226732    0.047    4.245  5359.141   \n",
       "\n",
       "   capacity  \n",
       "0       NaN  \n",
       "1       NaN  \n",
       "2       NaN  \n",
       "3       NaN  \n",
       "4       NaN  "
      ]
     },
     "execution_count": 4,
     "metadata": {},
     "output_type": "execute_result"
    }
   ],
   "source": [
    "n = 'B0005'\n",
    "df = pd.read_csv('data_frames/' + 'NASA_cycle_dataset_' + n +'.csv',\n",
    "                 parse_dates = [\"datetime\"]).drop([\"Unnamed: 0\"], axis = 1)\n",
    "df.head()"
   ]
  },
  {
   "cell_type": "markdown",
   "id": "cba4f3c8",
   "metadata": {
    "tags": []
   },
   "source": [
    "## Beginning Data engineering\n",
    "\n",
    "In the Below cells we are attempting to fill in the missing values. A brief look at the dataset showed that each cycle potentially had a capacity for at least one of its rows. \n",
    "\n",
    "First we test that theory:"
   ]
  },
  {
   "cell_type": "code",
   "execution_count": 5,
   "id": "6ca09c7e",
   "metadata": {},
   "outputs": [
    {
     "data": {
      "text/html": [
       "<div>\n",
       "<style scoped>\n",
       "    .dataframe tbody tr th:only-of-type {\n",
       "        vertical-align: middle;\n",
       "    }\n",
       "\n",
       "    .dataframe tbody tr th {\n",
       "        vertical-align: top;\n",
       "    }\n",
       "\n",
       "    .dataframe thead th {\n",
       "        text-align: right;\n",
       "    }\n",
       "</style>\n",
       "<table border=\"1\" class=\"dataframe\">\n",
       "  <thead>\n",
       "    <tr style=\"text-align: right;\">\n",
       "      <th></th>\n",
       "      <th>capacity</th>\n",
       "    </tr>\n",
       "    <tr>\n",
       "      <th>cycle</th>\n",
       "      <th></th>\n",
       "    </tr>\n",
       "  </thead>\n",
       "  <tbody>\n",
       "    <tr>\n",
       "      <th>169</th>\n",
       "      <td>0</td>\n",
       "    </tr>\n",
       "    <tr>\n",
       "      <th>170</th>\n",
       "      <td>0</td>\n",
       "    </tr>\n",
       "  </tbody>\n",
       "</table>\n",
       "</div>"
      ],
      "text/plain": [
       "       capacity\n",
       "cycle          \n",
       "169           0\n",
       "170           0"
      ]
     },
     "execution_count": 5,
     "metadata": {},
     "output_type": "execute_result"
    }
   ],
   "source": [
    "capacity_counts = pd.DataFrame(df.groupby('cycle')['capacity'].nunique())\n",
    "zero_capacity_rows = capacity_counts[capacity_counts['capacity'] != 1]\n",
    "# capacity_counts\n",
    "zero_capacity_rows"
   ]
  },
  {
   "cell_type": "code",
   "execution_count": 6,
   "id": "cf6fa883",
   "metadata": {
    "scrolled": true
   },
   "outputs": [
    {
     "name": "stdout",
     "output_type": "stream",
     "text": [
      "The standard deviation of capacity is 0.1824.\n",
      "The average of capacity is 1.5603.\n",
      "This makes the standard deviation 11.69% of the mean\n"
     ]
    }
   ],
   "source": [
    "cap_std = df['capacity'].std()\n",
    "cap_mean = df['capacity'].mean()\n",
    "\n",
    "print(f\"The standard deviation of capacity is {round(cap_std, 4)}.\")\n",
    "print(f\"The average of capacity is {round(cap_mean, 4)}.\")\n",
    "print(f\"This makes the standard deviation {round(cap_std/cap_mean*100,2)}% of the mean\")"
   ]
  },
  {
   "cell_type": "markdown",
   "id": "09d459e3",
   "metadata": {},
   "source": [
    "The above cell shows that there is a singular battery capacity for each cycle except for 169 and 170.\n",
    "For now we shall remove those two cycles as there is a large amount of deviation."
   ]
  },
  {
   "cell_type": "code",
   "execution_count": 7,
   "id": "925ee0d8",
   "metadata": {},
   "outputs": [
    {
     "data": {
      "text/html": [
       "<div>\n",
       "<style scoped>\n",
       "    .dataframe tbody tr th:only-of-type {\n",
       "        vertical-align: middle;\n",
       "    }\n",
       "\n",
       "    .dataframe tbody tr th {\n",
       "        vertical-align: top;\n",
       "    }\n",
       "\n",
       "    .dataframe thead th {\n",
       "        text-align: right;\n",
       "    }\n",
       "</style>\n",
       "<table border=\"1\" class=\"dataframe\">\n",
       "  <thead>\n",
       "    <tr style=\"text-align: right;\">\n",
       "      <th></th>\n",
       "      <th>cycle</th>\n",
       "      <th>ambient_temperature</th>\n",
       "      <th>datetime</th>\n",
       "      <th>voltage_measured</th>\n",
       "      <th>current_measured</th>\n",
       "      <th>temperature_measured</th>\n",
       "      <th>current</th>\n",
       "      <th>voltage</th>\n",
       "      <th>time</th>\n",
       "      <th>capacity</th>\n",
       "    </tr>\n",
       "  </thead>\n",
       "  <tbody>\n",
       "    <tr>\n",
       "      <th>0</th>\n",
       "      <td>1</td>\n",
       "      <td>24</td>\n",
       "      <td>2008-04-02 13:08:17</td>\n",
       "      <td>3.873017</td>\n",
       "      <td>-0.001201</td>\n",
       "      <td>24.655358</td>\n",
       "      <td>0.000</td>\n",
       "      <td>0.003</td>\n",
       "      <td>0.000</td>\n",
       "      <td>1.856487</td>\n",
       "    </tr>\n",
       "    <tr>\n",
       "      <th>1</th>\n",
       "      <td>1</td>\n",
       "      <td>24</td>\n",
       "      <td>2008-04-02 13:08:17</td>\n",
       "      <td>4.206466</td>\n",
       "      <td>0.060136</td>\n",
       "      <td>24.241571</td>\n",
       "      <td>0.057</td>\n",
       "      <td>4.250</td>\n",
       "      <td>5314.703</td>\n",
       "      <td>1.856487</td>\n",
       "    </tr>\n",
       "    <tr>\n",
       "      <th>2</th>\n",
       "      <td>1</td>\n",
       "      <td>24</td>\n",
       "      <td>2008-04-02 13:08:17</td>\n",
       "      <td>4.206558</td>\n",
       "      <td>0.057209</td>\n",
       "      <td>24.230457</td>\n",
       "      <td>0.057</td>\n",
       "      <td>4.250</td>\n",
       "      <td>5329.485</td>\n",
       "      <td>1.856487</td>\n",
       "    </tr>\n",
       "    <tr>\n",
       "      <th>3</th>\n",
       "      <td>1</td>\n",
       "      <td>24</td>\n",
       "      <td>2008-04-02 13:08:17</td>\n",
       "      <td>4.205512</td>\n",
       "      <td>0.050194</td>\n",
       "      <td>24.241984</td>\n",
       "      <td>0.047</td>\n",
       "      <td>4.245</td>\n",
       "      <td>5344.282</td>\n",
       "      <td>1.856487</td>\n",
       "    </tr>\n",
       "    <tr>\n",
       "      <th>4</th>\n",
       "      <td>1</td>\n",
       "      <td>24</td>\n",
       "      <td>2008-04-02 13:08:17</td>\n",
       "      <td>4.205301</td>\n",
       "      <td>0.047004</td>\n",
       "      <td>24.226732</td>\n",
       "      <td>0.047</td>\n",
       "      <td>4.245</td>\n",
       "      <td>5359.141</td>\n",
       "      <td>1.856487</td>\n",
       "    </tr>\n",
       "  </tbody>\n",
       "</table>\n",
       "</div>"
      ],
      "text/plain": [
       "   cycle  ambient_temperature            datetime  voltage_measured  \\\n",
       "0      1                   24 2008-04-02 13:08:17          3.873017   \n",
       "1      1                   24 2008-04-02 13:08:17          4.206466   \n",
       "2      1                   24 2008-04-02 13:08:17          4.206558   \n",
       "3      1                   24 2008-04-02 13:08:17          4.205512   \n",
       "4      1                   24 2008-04-02 13:08:17          4.205301   \n",
       "\n",
       "   current_measured  temperature_measured  current  voltage      time  \\\n",
       "0         -0.001201             24.655358    0.000    0.003     0.000   \n",
       "1          0.060136             24.241571    0.057    4.250  5314.703   \n",
       "2          0.057209             24.230457    0.057    4.250  5329.485   \n",
       "3          0.050194             24.241984    0.047    4.245  5344.282   \n",
       "4          0.047004             24.226732    0.047    4.245  5359.141   \n",
       "\n",
       "   capacity  \n",
       "0  1.856487  \n",
       "1  1.856487  \n",
       "2  1.856487  \n",
       "3  1.856487  \n",
       "4  1.856487  "
      ]
     },
     "execution_count": 7,
     "metadata": {},
     "output_type": "execute_result"
    }
   ],
   "source": [
    "df = df[df['cycle'] <  169]\n",
    "caps = pd.DataFrame(df.groupby('cycle')['capacity'].max())\n",
    "temp = df.merge(caps, on='cycle', how='left').ffill()\n",
    "temp = temp.drop([\"capacity_x\"], axis = 1).rename(columns = {\"capacity_y\" : \"capacity\"})\n",
    "df = temp\n",
    "temp.head()"
   ]
  },
  {
   "cell_type": "code",
   "execution_count": 8,
   "id": "6d28ea6a-9c47-470d-8bc6-1aea4975390c",
   "metadata": {},
   "outputs": [
    {
     "data": {
      "text/plain": [
       "1"
      ]
     },
     "execution_count": 8,
     "metadata": {},
     "output_type": "execute_result"
    }
   ],
   "source": [
    "df['ambient_temperature'].nunique()"
   ]
  },
  {
   "cell_type": "markdown",
   "id": "00ffc1e0",
   "metadata": {},
   "source": [
    "# Machine Learning (CNN)\n",
    "\n",
    "Now we begin to build our Convolutional Neural Network"
   ]
  },
  {
   "cell_type": "code",
   "execution_count": 9,
   "id": "aa6e2121",
   "metadata": {
    "tags": []
   },
   "outputs": [],
   "source": [
    "import tensorflow as tf\n",
    "from tensorflow.keras.models import Sequential, load_model\n",
    "from tensorflow.keras.layers import Dense\n",
    "from sklearn.metrics import accuracy_score, mean_squared_error, mean_absolute_error, r2_score\n",
    "from tensorflow import keras\n",
    "import warnings"
   ]
  },
  {
   "cell_type": "code",
   "execution_count": 10,
   "id": "443de402-83dd-4cd7-abd8-24ec938cba6e",
   "metadata": {},
   "outputs": [],
   "source": [
    "gpus = tf.config.experimental.list_physical_devices('GPU')\n",
    "for gpu in gpus:\n",
    "    tf.config.experimental.set_memory_growth(gpu, True)"
   ]
  },
  {
   "cell_type": "code",
   "execution_count": 11,
   "id": "a32a554c-65e7-4a40-86f3-1c9d92cc5059",
   "metadata": {},
   "outputs": [
    {
     "data": {
      "text/plain": [
       "[PhysicalDevice(name='/physical_device:GPU:0', device_type='GPU')]"
      ]
     },
     "execution_count": 11,
     "metadata": {},
     "output_type": "execute_result"
    }
   ],
   "source": [
    "tf.config.experimental.list_physical_devices('GPU')"
   ]
  },
  {
   "cell_type": "code",
   "execution_count": 12,
   "id": "5f63aae9-e107-4ad5-9b19-165a14911984",
   "metadata": {},
   "outputs": [],
   "source": [
    "prep_df = df.drop(['datetime', 'ambient_temperature'], axis = 1)\n",
    "train_dataset = prep_df.sample(frac=0.8, random_state = 0)\n",
    "test_dataset = prep_df.drop(train_dataset.index)"
   ]
  },
  {
   "cell_type": "markdown",
   "id": "533c21c9-c71b-4290-9373-f497a14cbf93",
   "metadata": {
    "tags": []
   },
   "source": [
    "with warnings.catch_warnings():\n",
    "    warnings.simplefilter(\"ignore\")\n",
    "    sns.pairplot(train_dataset.iloc[:,0:8], diag_kind='kde')"
   ]
  },
  {
   "cell_type": "code",
   "execution_count": 13,
   "id": "128da8c4-19bc-469d-b316-d8d9e5335f5d",
   "metadata": {},
   "outputs": [
    {
     "data": {
      "text/html": [
       "<div>\n",
       "<style scoped>\n",
       "    .dataframe tbody tr th:only-of-type {\n",
       "        vertical-align: middle;\n",
       "    }\n",
       "\n",
       "    .dataframe tbody tr th {\n",
       "        vertical-align: top;\n",
       "    }\n",
       "\n",
       "    .dataframe thead th {\n",
       "        text-align: right;\n",
       "    }\n",
       "</style>\n",
       "<table border=\"1\" class=\"dataframe\">\n",
       "  <thead>\n",
       "    <tr style=\"text-align: right;\">\n",
       "      <th></th>\n",
       "      <th>count</th>\n",
       "      <th>mean</th>\n",
       "      <th>std</th>\n",
       "      <th>min</th>\n",
       "      <th>25%</th>\n",
       "      <th>50%</th>\n",
       "      <th>75%</th>\n",
       "      <th>max</th>\n",
       "    </tr>\n",
       "  </thead>\n",
       "  <tbody>\n",
       "    <tr>\n",
       "      <th>cycle</th>\n",
       "      <td>470279.0</td>\n",
       "      <td>95.409219</td>\n",
       "      <td>42.773598</td>\n",
       "      <td>1.000000</td>\n",
       "      <td>60.000000</td>\n",
       "      <td>96.000000</td>\n",
       "      <td>132.000000</td>\n",
       "      <td>168.000000</td>\n",
       "    </tr>\n",
       "    <tr>\n",
       "      <th>voltage_measured</th>\n",
       "      <td>470279.0</td>\n",
       "      <td>4.103417</td>\n",
       "      <td>0.213988</td>\n",
       "      <td>2.471315</td>\n",
       "      <td>4.087904</td>\n",
       "      <td>4.205138</td>\n",
       "      <td>4.205908</td>\n",
       "      <td>8.393141</td>\n",
       "    </tr>\n",
       "    <tr>\n",
       "      <th>current_measured</th>\n",
       "      <td>470279.0</td>\n",
       "      <td>0.368345</td>\n",
       "      <td>0.909263</td>\n",
       "      <td>-4.479660</td>\n",
       "      <td>0.039531</td>\n",
       "      <td>0.171773</td>\n",
       "      <td>1.262020</td>\n",
       "      <td>1.530376</td>\n",
       "    </tr>\n",
       "    <tr>\n",
       "      <th>temperature_measured</th>\n",
       "      <td>470279.0</td>\n",
       "      <td>26.375203</td>\n",
       "      <td>2.778615</td>\n",
       "      <td>23.214802</td>\n",
       "      <td>24.489668</td>\n",
       "      <td>25.483638</td>\n",
       "      <td>27.353169</td>\n",
       "      <td>41.450232</td>\n",
       "    </tr>\n",
       "    <tr>\n",
       "      <th>current</th>\n",
       "      <td>470279.0</td>\n",
       "      <td>0.635250</td>\n",
       "      <td>0.737908</td>\n",
       "      <td>-4.468000</td>\n",
       "      <td>0.057000</td>\n",
       "      <td>0.261000</td>\n",
       "      <td>1.498000</td>\n",
       "      <td>1.998400</td>\n",
       "    </tr>\n",
       "    <tr>\n",
       "      <th>voltage</th>\n",
       "      <td>470279.0</td>\n",
       "      <td>4.021478</td>\n",
       "      <td>1.213135</td>\n",
       "      <td>0.000000</td>\n",
       "      <td>4.240000</td>\n",
       "      <td>4.305000</td>\n",
       "      <td>4.656000</td>\n",
       "      <td>5.002000</td>\n",
       "    </tr>\n",
       "    <tr>\n",
       "      <th>time</th>\n",
       "      <td>470279.0</td>\n",
       "      <td>4763.490005</td>\n",
       "      <td>3149.187573</td>\n",
       "      <td>0.000000</td>\n",
       "      <td>1925.390000</td>\n",
       "      <td>4464.735000</td>\n",
       "      <td>7504.617000</td>\n",
       "      <td>10807.328000</td>\n",
       "    </tr>\n",
       "    <tr>\n",
       "      <th>capacity</th>\n",
       "      <td>470279.0</td>\n",
       "      <td>1.531792</td>\n",
       "      <td>0.171983</td>\n",
       "      <td>1.287453</td>\n",
       "      <td>1.370513</td>\n",
       "      <td>1.511898</td>\n",
       "      <td>1.694580</td>\n",
       "      <td>1.856487</td>\n",
       "    </tr>\n",
       "  </tbody>\n",
       "</table>\n",
       "</div>"
      ],
      "text/plain": [
       "                         count         mean          std        min  \\\n",
       "cycle                 470279.0    95.409219    42.773598   1.000000   \n",
       "voltage_measured      470279.0     4.103417     0.213988   2.471315   \n",
       "current_measured      470279.0     0.368345     0.909263  -4.479660   \n",
       "temperature_measured  470279.0    26.375203     2.778615  23.214802   \n",
       "current               470279.0     0.635250     0.737908  -4.468000   \n",
       "voltage               470279.0     4.021478     1.213135   0.000000   \n",
       "time                  470279.0  4763.490005  3149.187573   0.000000   \n",
       "capacity              470279.0     1.531792     0.171983   1.287453   \n",
       "\n",
       "                              25%          50%          75%           max  \n",
       "cycle                   60.000000    96.000000   132.000000    168.000000  \n",
       "voltage_measured         4.087904     4.205138     4.205908      8.393141  \n",
       "current_measured         0.039531     0.171773     1.262020      1.530376  \n",
       "temperature_measured    24.489668    25.483638    27.353169     41.450232  \n",
       "current                  0.057000     0.261000     1.498000      1.998400  \n",
       "voltage                  4.240000     4.305000     4.656000      5.002000  \n",
       "time                  1925.390000  4464.735000  7504.617000  10807.328000  \n",
       "capacity                 1.370513     1.511898     1.694580      1.856487  "
      ]
     },
     "execution_count": 13,
     "metadata": {},
     "output_type": "execute_result"
    }
   ],
   "source": [
    "train_dataset.describe().transpose()"
   ]
  },
  {
   "cell_type": "markdown",
   "id": "a444c734-292f-456a-9ce2-d7bbad31a537",
   "metadata": {},
   "source": [
    "## Normalisation\n",
    "\n",
    "Here we will normalise the values to give equal weight to each feature"
   ]
  },
  {
   "cell_type": "code",
   "execution_count": 14,
   "id": "b054c99e-adad-4dc2-bffc-43b3470e6176",
   "metadata": {},
   "outputs": [
    {
     "data": {
      "text/html": [
       "<div>\n",
       "<style scoped>\n",
       "    .dataframe tbody tr th:only-of-type {\n",
       "        vertical-align: middle;\n",
       "    }\n",
       "\n",
       "    .dataframe tbody tr th {\n",
       "        vertical-align: top;\n",
       "    }\n",
       "\n",
       "    .dataframe thead th {\n",
       "        text-align: right;\n",
       "    }\n",
       "</style>\n",
       "<table border=\"1\" class=\"dataframe\">\n",
       "  <thead>\n",
       "    <tr style=\"text-align: right;\">\n",
       "      <th></th>\n",
       "      <th>cycle</th>\n",
       "      <th>voltage_measured</th>\n",
       "      <th>current_measured</th>\n",
       "      <th>temperature_measured</th>\n",
       "      <th>current</th>\n",
       "      <th>voltage</th>\n",
       "      <th>time</th>\n",
       "      <th>capacity</th>\n",
       "    </tr>\n",
       "  </thead>\n",
       "  <tbody>\n",
       "    <tr>\n",
       "      <th>489563</th>\n",
       "      <td>1.135999</td>\n",
       "      <td>-0.143625</td>\n",
       "      <td>1.256087</td>\n",
       "      <td>0.209200</td>\n",
       "      <td>1.171893</td>\n",
       "      <td>0.656582</td>\n",
       "      <td>-1.210051</td>\n",
       "      <td>-1.150031</td>\n",
       "    </tr>\n",
       "    <tr>\n",
       "      <th>383688</th>\n",
       "      <td>0.528148</td>\n",
       "      <td>0.459574</td>\n",
       "      <td>-0.405123</td>\n",
       "      <td>-0.703511</td>\n",
       "      <td>-0.860880</td>\n",
       "      <td>-3.312475</td>\n",
       "      <td>1.750762</td>\n",
       "      <td>-0.693171</td>\n",
       "    </tr>\n",
       "    <tr>\n",
       "      <th>580550</th>\n",
       "      <td>1.673714</td>\n",
       "      <td>0.477536</td>\n",
       "      <td>-0.315329</td>\n",
       "      <td>-0.783674</td>\n",
       "      <td>-0.752465</td>\n",
       "      <td>0.197441</td>\n",
       "      <td>0.651887</td>\n",
       "      <td>-1.295344</td>\n",
       "    </tr>\n",
       "    <tr>\n",
       "      <th>110450</th>\n",
       "      <td>-1.038239</td>\n",
       "      <td>0.484418</td>\n",
       "      <td>-0.371263</td>\n",
       "      <td>-0.158716</td>\n",
       "      <td>-0.818869</td>\n",
       "      <td>0.180130</td>\n",
       "      <td>1.413676</td>\n",
       "      <td>1.309582</td>\n",
       "    </tr>\n",
       "    <tr>\n",
       "      <th>354820</th>\n",
       "      <td>0.364495</td>\n",
       "      <td>0.485901</td>\n",
       "      <td>0.844907</td>\n",
       "      <td>1.435609</td>\n",
       "      <td>0.670476</td>\n",
       "      <td>0.621137</td>\n",
       "      <td>-0.755598</td>\n",
       "      <td>-0.541457</td>\n",
       "    </tr>\n",
       "  </tbody>\n",
       "</table>\n",
       "</div>"
      ],
      "text/plain": [
       "           cycle  voltage_measured  current_measured  temperature_measured  \\\n",
       "489563  1.135999         -0.143625          1.256087              0.209200   \n",
       "383688  0.528148          0.459574         -0.405123             -0.703511   \n",
       "580550  1.673714          0.477536         -0.315329             -0.783674   \n",
       "110450 -1.038239          0.484418         -0.371263             -0.158716   \n",
       "354820  0.364495          0.485901          0.844907              1.435609   \n",
       "\n",
       "         current   voltage      time  capacity  \n",
       "489563  1.171893  0.656582 -1.210051 -1.150031  \n",
       "383688 -0.860880 -3.312475  1.750762 -0.693171  \n",
       "580550 -0.752465  0.197441  0.651887 -1.295344  \n",
       "110450 -0.818869  0.180130  1.413676  1.309582  \n",
       "354820  0.670476  0.621137 -0.755598 -0.541457  "
      ]
     },
     "execution_count": 14,
     "metadata": {},
     "output_type": "execute_result"
    }
   ],
   "source": [
    "# Test data is *not* used when calculating the mean and std.\n",
    "mean = train_dataset.mean(axis=0)\n",
    "std = train_dataset.std(axis=0)\n",
    "train_dataset = (train_dataset - mean) / std\n",
    "test_dataset = (test_dataset - mean) / std\n",
    "\n",
    "train_dataset.head()  # First training sample, normalized"
   ]
  },
  {
   "cell_type": "code",
   "execution_count": 15,
   "id": "0acbef51-0768-4e9d-9b4b-f0982aadcf85",
   "metadata": {},
   "outputs": [
    {
     "name": "stdout",
     "output_type": "stream",
     "text": [
      "cycle                   1.135999\n",
      "voltage_measured       -0.143625\n",
      "current_measured        1.256087\n",
      "temperature_measured    0.209200\n",
      "current                 1.171893\n",
      "voltage                 0.656582\n",
      "time                   -1.210051\n",
      "capacity               -1.150031\n",
      "Name: 489563, dtype: float64\n",
      "--------------------------\n",
      "cycle                   1.135999\n",
      "voltage_measured       -0.143625\n",
      "current_measured        1.256087\n",
      "temperature_measured    0.209200\n",
      "current                 1.171893\n",
      "voltage                 0.656582\n",
      "time                   -1.210051\n",
      "Name: 489563, dtype: float64\n"
     ]
    }
   ],
   "source": [
    "# These are the features\n",
    "train_features = train_dataset.copy()\n",
    "test_features = test_dataset.copy()\n",
    "print(train_features.iloc[0])\n",
    "# These contain the target variables\n",
    "train_labels = train_features.pop('capacity')\n",
    "test_labels = test_features.pop('capacity')\n",
    "print('--------------------------')\n",
    "print(train_features.iloc[0])"
   ]
  },
  {
   "cell_type": "code",
   "execution_count": 16,
   "id": "29b047f0-0235-48fa-99ce-ffeddbecd0fb",
   "metadata": {},
   "outputs": [
    {
     "data": {
      "text/html": [
       "<div>\n",
       "<style scoped>\n",
       "    .dataframe tbody tr th:only-of-type {\n",
       "        vertical-align: middle;\n",
       "    }\n",
       "\n",
       "    .dataframe tbody tr th {\n",
       "        vertical-align: top;\n",
       "    }\n",
       "\n",
       "    .dataframe thead th {\n",
       "        text-align: right;\n",
       "    }\n",
       "</style>\n",
       "<table border=\"1\" class=\"dataframe\">\n",
       "  <thead>\n",
       "    <tr style=\"text-align: right;\">\n",
       "      <th></th>\n",
       "      <th>mean</th>\n",
       "      <th>std</th>\n",
       "    </tr>\n",
       "  </thead>\n",
       "  <tbody>\n",
       "    <tr>\n",
       "      <th>cycle</th>\n",
       "      <td>6.360873e-18</td>\n",
       "      <td>1.0</td>\n",
       "    </tr>\n",
       "    <tr>\n",
       "      <th>voltage_measured</th>\n",
       "      <td>7.483952e-15</td>\n",
       "      <td>1.0</td>\n",
       "    </tr>\n",
       "    <tr>\n",
       "      <th>current_measured</th>\n",
       "      <td>1.155836e-16</td>\n",
       "      <td>1.0</td>\n",
       "    </tr>\n",
       "    <tr>\n",
       "      <th>temperature_measured</th>\n",
       "      <td>1.024327e-15</td>\n",
       "      <td>1.0</td>\n",
       "    </tr>\n",
       "    <tr>\n",
       "      <th>current</th>\n",
       "      <td>2.446443e-16</td>\n",
       "      <td>1.0</td>\n",
       "    </tr>\n",
       "    <tr>\n",
       "      <th>voltage</th>\n",
       "      <td>3.908991e-16</td>\n",
       "      <td>1.0</td>\n",
       "    </tr>\n",
       "    <tr>\n",
       "      <th>time</th>\n",
       "      <td>-1.105674e-16</td>\n",
       "      <td>1.0</td>\n",
       "    </tr>\n",
       "    <tr>\n",
       "      <th>capacity</th>\n",
       "      <td>-1.998613e-16</td>\n",
       "      <td>1.0</td>\n",
       "    </tr>\n",
       "  </tbody>\n",
       "</table>\n",
       "</div>"
      ],
      "text/plain": [
       "                              mean  std\n",
       "cycle                 6.360873e-18  1.0\n",
       "voltage_measured      7.483952e-15  1.0\n",
       "current_measured      1.155836e-16  1.0\n",
       "temperature_measured  1.024327e-15  1.0\n",
       "current               2.446443e-16  1.0\n",
       "voltage               3.908991e-16  1.0\n",
       "time                 -1.105674e-16  1.0\n",
       "capacity             -1.998613e-16  1.0"
      ]
     },
     "execution_count": 16,
     "metadata": {},
     "output_type": "execute_result"
    }
   ],
   "source": [
    "train_dataset.describe().transpose()[['mean', 'std']]"
   ]
  },
  {
   "cell_type": "markdown",
   "id": "7402ec9c-e773-48e3-83c2-12004905635e",
   "metadata": {
    "tags": []
   },
   "source": [
    "## Regression with CNN"
   ]
  },
  {
   "cell_type": "markdown",
   "id": "678455c6-fbba-4e13-99e2-0df8c664290e",
   "metadata": {
    "tags": []
   },
   "source": [
    "## Reshaping the Data\n",
    "\n",
    "Conv1D layer expects input shape in 3D as\n",
    "\n",
    "  `[batch_size, time_steps, input_dimension]`\n",
    "\n",
    "However, current data is in the shape of\n",
    "\n",
    "`[batch_size, features]`\n",
    "\n",
    "so therefore must be reshaped. See below:"
   ]
  },
  {
   "cell_type": "code",
   "execution_count": 17,
   "id": "6265f992-5abf-4bbe-8a63-0e89a6e8123e",
   "metadata": {},
   "outputs": [
    {
     "name": "stdout",
     "output_type": "stream",
     "text": [
      "(470279, 7)\n",
      "(7,)\n",
      "cycle                   1.135999\n",
      "voltage_measured       -0.143625\n",
      "current_measured        1.256087\n",
      "temperature_measured    0.209200\n",
      "current                 1.171893\n",
      "voltage                 0.656582\n",
      "time                   -1.210051\n",
      "Name: 489563, dtype: float64\n"
     ]
    }
   ],
   "source": [
    "print(train_features.shape)\n",
    "print(train_features.iloc[0].shape)\n",
    "print(train_features.iloc[0].squeeze())"
   ]
  },
  {
   "cell_type": "code",
   "execution_count": 18,
   "id": "3c633632-1c3c-405b-b513-8866342724b1",
   "metadata": {},
   "outputs": [
    {
     "name": "stdout",
     "output_type": "stream",
     "text": [
      "After reshape train data set shape:\n",
      " (470279, 7, 1)\n",
      "1 Sample shape:\n",
      " (7, 1)\n",
      "An example sample:\n",
      " [[ 1.136]\n",
      " [-0.144]\n",
      " [ 1.256]\n",
      " [ 0.209]\n",
      " [ 1.172]\n",
      " [ 0.657]\n",
      " [-1.21 ]]\n"
     ]
    }
   ],
   "source": [
    "sample_size = train_features.shape[0] # number of samples in train set\n",
    "time_steps  = train_features.shape[1] # number of features in train set\n",
    "input_dimension = 1               # each feature is represented by 1 number\n",
    "\n",
    "train_features_reshaped = train_features.values.reshape(sample_size,time_steps,input_dimension)\n",
    "print(\"After reshape train data set shape:\\n\", train_features_reshaped.shape)\n",
    "print(\"1 Sample shape:\\n\",train_features_reshaped[0].shape)\n",
    "print(\"An example sample:\\n\", train_features_reshaped[0])"
   ]
  },
  {
   "cell_type": "code",
   "execution_count": 19,
   "id": "62bb9be4-d0cd-4ca7-9fc0-bd376c5c77c2",
   "metadata": {},
   "outputs": [],
   "source": [
    "test_features_reshaped = test_features.values.reshape(test_features.shape[0],test_features.shape[1],1)"
   ]
  },
  {
   "cell_type": "markdown",
   "id": "ff52fa8c-5e97-44c2-8989-fd587da7431c",
   "metadata": {},
   "source": [
    "## Defining the Model"
   ]
  },
  {
   "cell_type": "markdown",
   "id": "5650db0a-a629-471b-a8d2-1fdc9a43be31",
   "metadata": {},
   "source": [
    "def build_conv1D_model():\n",
    "\n",
    "    n_timesteps = train_features_reshaped.shape[1] #7\n",
    "    n_features  = train_features_reshaped.shape[2] #1 \n",
    "    model = keras.Sequential(name=\"model_conv1D\")\n",
    "    # model.add(norm)\n",
    "    model.add(keras.layers.Input(shape=(n_timesteps,n_features)))\n",
    "    model.add(keras.layers.Conv1D(filters=64, kernel_size=6, activation='relu', name=\"Conv1D_1\"))\n",
    "    model.add(keras.layers.Dropout(0.5))\n",
    "    # model.add(keras.layers.Conv1D(filters=32, kernel_size=4, activation='relu', name=\"Conv1D_2\"))\n",
    "    \n",
    "    # model.add(keras.layers.Conv1D(filters=16, kernel_size=1, activation='relu', name=\"Conv1D_3\"))\n",
    "    \n",
    "    model.add(keras.layers.MaxPooling1D(pool_size=2, name=\"MaxPooling1D\"))\n",
    "    model.add(keras.layers.Flatten())\n",
    "    model.add(keras.layers.Dense(32, activation='relu', name=\"Dense_1\"))\n",
    "    model.add(keras.layers.Dense(n_features, name=\"Dense_2\"))\n",
    "    optimizer = tf.keras.optimizers.RMSprop(0.001)\n",
    "    model.compile(loss='mse',optimizer=optimizer,metrics=['mae'])\n",
    "    return model"
   ]
  },
  {
   "cell_type": "code",
   "execution_count": 48,
   "id": "acad3c68-e07c-4706-8623-a44e72468860",
   "metadata": {},
   "outputs": [],
   "source": [
    "def build_conv1D_model():\n",
    "\n",
    "    n_timesteps = train_features_reshaped.shape[1] #7\n",
    "    n_features  = train_features_reshaped.shape[2] #1 \n",
    "    \n",
    "    model = keras.Sequential(name=\"model_conv1D\")\n",
    "    model.add(keras.layers.Conv1D(32, kernel_size=3, activation='relu', input_shape=(n_timesteps,n_features)))\n",
    "    model.add(keras.layers.MaxPooling1D(pool_size=2))\n",
    "    model.add(keras.layers.Conv1D(32, kernel_size=2, activation='relu', input_shape=(n_timesteps,n_features)))\n",
    "    model.add(keras.layers.MaxPooling1D(pool_size=1))\n",
    "    model.add(keras.layers.Flatten())\n",
    "    model.add(keras.layers.Dense(1, activation='relu'))\n",
    "    optimizer = tf.keras.optimizers.RMSprop(0.001)\n",
    "    model.compile(loss='mse', optimizer=optimizer, metrics=['mean_squared_error', 'mean_absolute_error'])\n",
    "    return model\n",
    "\n",
    "def plot_loss(history, title):\n",
    "    plt.plot(history.history['loss'], label='loss')\n",
    "    plt.plot(history.history['val_loss'], label='val_loss')\n",
    "    # plt.ylim([0, 1])\n",
    "    plt.xlabel('Epoch')\n",
    "    plt.ylabel('Error [SOC]')\n",
    "    plt.title(title)\n",
    "    plt.legend()\n",
    "    plt.grid(True)"
   ]
  },
  {
   "cell_type": "code",
   "execution_count": 49,
   "id": "c838dd67-4cae-42df-9d1b-2ee04ce9427a",
   "metadata": {},
   "outputs": [
    {
     "name": "stdout",
     "output_type": "stream",
     "text": [
      "Model: \"model_conv1D\"\n",
      "_________________________________________________________________\n",
      " Layer (type)                Output Shape              Param #   \n",
      "=================================================================\n",
      " conv1d_8 (Conv1D)           (None, 5, 32)             128       \n",
      "                                                                 \n",
      " max_pooling1d_8 (MaxPooling  (None, 2, 32)            0         \n",
      " 1D)                                                             \n",
      "                                                                 \n",
      " conv1d_9 (Conv1D)           (None, 1, 32)             2080      \n",
      "                                                                 \n",
      " max_pooling1d_9 (MaxPooling  (None, 1, 32)            0         \n",
      " 1D)                                                             \n",
      "                                                                 \n",
      " flatten_4 (Flatten)         (None, 32)                0         \n",
      "                                                                 \n",
      " dense_4 (Dense)             (None, 1)                 33        \n",
      "                                                                 \n",
      "=================================================================\n",
      "Total params: 2,241\n",
      "Trainable params: 2,241\n",
      "Non-trainable params: 0\n",
      "_________________________________________________________________\n"
     ]
    }
   ],
   "source": [
    "model_conv1D = build_conv1D_model()\n",
    "model_conv1D.summary()"
   ]
  },
  {
   "cell_type": "code",
   "execution_count": 50,
   "id": "af1769e7-e3e6-45f7-a535-1c298a22c0bd",
   "metadata": {},
   "outputs": [],
   "source": [
    "epochs = 30\n",
    "checkpoint_filepath = 'checkpoints\\CNN{epoch:02d}-{val_loss:.4f}.h5'\n",
    "model_checkpoint_callback = keras.callbacks.ModelCheckpoint(\n",
    "    filepath=checkpoint_filepath,\n",
    "    save_weights_only=True,\n",
    "    monitor='mean_squared_error',\n",
    "    mode='min',\n",
    "    save_best_only=True)\n",
    "\n",
    "if 'history' not in locals():\n",
    "    print('New History array has been created')\n",
    "    history =  []"
   ]
  },
  {
   "cell_type": "code",
   "execution_count": 51,
   "id": "db3a5a93-368b-4262-9e12-ac8efc0b47ac",
   "metadata": {
    "tags": []
   },
   "outputs": [
    {
     "name": "stdout",
     "output_type": "stream",
     "text": [
      "Epoch 1/30\n",
      "11757/11757 [==============================] - 86s 7ms/step - loss: 0.4517 - mean_squared_error: 0.4517 - mean_absolute_error: 0.4720 - val_loss: 0.4509 - val_mean_squared_error: 0.4509 - val_mean_absolute_error: 0.4653\n",
      "Epoch 2/30\n",
      "11757/11757 [==============================] - 86s 7ms/step - loss: 0.4484 - mean_squared_error: 0.4484 - mean_absolute_error: 0.4642 - val_loss: 0.4503 - val_mean_squared_error: 0.4503 - val_mean_absolute_error: 0.4627\n",
      "Epoch 3/30\n",
      "11757/11757 [==============================] - 84s 7ms/step - loss: 0.4481 - mean_squared_error: 0.4481 - mean_absolute_error: 0.4626 - val_loss: 0.4505 - val_mean_squared_error: 0.4505 - val_mean_absolute_error: 0.4630\n",
      "Epoch 4/30\n",
      "11757/11757 [==============================] - 88s 7ms/step - loss: 0.4479 - mean_squared_error: 0.4479 - mean_absolute_error: 0.4615 - val_loss: 0.4500 - val_mean_squared_error: 0.4500 - val_mean_absolute_error: 0.4614\n",
      "Epoch 5/30\n",
      "11757/11757 [==============================] - 85s 7ms/step - loss: 0.4477 - mean_squared_error: 0.4477 - mean_absolute_error: 0.4603 - val_loss: 0.4499 - val_mean_squared_error: 0.4499 - val_mean_absolute_error: 0.4595\n",
      "Epoch 6/30\n",
      "11757/11757 [==============================] - 86s 7ms/step - loss: 0.4476 - mean_squared_error: 0.4476 - mean_absolute_error: 0.4594 - val_loss: 0.4496 - val_mean_squared_error: 0.4496 - val_mean_absolute_error: 0.4585\n",
      "Epoch 7/30\n",
      "11757/11757 [==============================] - 85s 7ms/step - loss: 0.4475 - mean_squared_error: 0.4475 - mean_absolute_error: 0.4587 - val_loss: 0.4498 - val_mean_squared_error: 0.4498 - val_mean_absolute_error: 0.4608\n",
      "Epoch 8/30\n",
      "11757/11757 [==============================] - 83s 7ms/step - loss: 0.4474 - mean_squared_error: 0.4474 - mean_absolute_error: 0.4582 - val_loss: 0.4494 - val_mean_squared_error: 0.4494 - val_mean_absolute_error: 0.4573\n",
      "Epoch 9/30\n",
      "11757/11757 [==============================] - 88s 8ms/step - loss: 0.4473 - mean_squared_error: 0.4473 - mean_absolute_error: 0.4577 - val_loss: 0.4498 - val_mean_squared_error: 0.4498 - val_mean_absolute_error: 0.4614\n",
      "Epoch 10/30\n",
      "11757/11757 [==============================] - 90s 8ms/step - loss: 0.4473 - mean_squared_error: 0.4473 - mean_absolute_error: 0.4574 - val_loss: 0.4495 - val_mean_squared_error: 0.4495 - val_mean_absolute_error: 0.4577\n",
      "Epoch 11/30\n",
      "11757/11757 [==============================] - 87s 7ms/step - loss: 0.4472 - mean_squared_error: 0.4472 - mean_absolute_error: 0.4571 - val_loss: 0.4493 - val_mean_squared_error: 0.4493 - val_mean_absolute_error: 0.4565\n",
      "Epoch 12/30\n",
      "11757/11757 [==============================] - 89s 8ms/step - loss: 0.4472 - mean_squared_error: 0.4472 - mean_absolute_error: 0.4568 - val_loss: 0.4493 - val_mean_squared_error: 0.4493 - val_mean_absolute_error: 0.4578\n",
      "Epoch 13/30\n",
      "11757/11757 [==============================] - 88s 7ms/step - loss: 0.4472 - mean_squared_error: 0.4472 - mean_absolute_error: 0.4566 - val_loss: 0.4493 - val_mean_squared_error: 0.4493 - val_mean_absolute_error: 0.4574\n",
      "Epoch 14/30\n",
      "11757/11757 [==============================] - 90s 8ms/step - loss: 0.4471 - mean_squared_error: 0.4471 - mean_absolute_error: 0.4562 - val_loss: 0.4493 - val_mean_squared_error: 0.4493 - val_mean_absolute_error: 0.4575\n",
      "Epoch 15/30\n",
      "11757/11757 [==============================] - 90s 8ms/step - loss: 0.4471 - mean_squared_error: 0.4471 - mean_absolute_error: 0.4559 - val_loss: 0.4495 - val_mean_squared_error: 0.4495 - val_mean_absolute_error: 0.4582\n",
      "Epoch 16/30\n",
      "11757/11757 [==============================] - 89s 8ms/step - loss: 0.4470 - mean_squared_error: 0.4470 - mean_absolute_error: 0.4558 - val_loss: 0.4492 - val_mean_squared_error: 0.4492 - val_mean_absolute_error: 0.4555\n",
      "Epoch 17/30\n",
      "11757/11757 [==============================] - 89s 8ms/step - loss: 0.4470 - mean_squared_error: 0.4470 - mean_absolute_error: 0.4556 - val_loss: 0.4491 - val_mean_squared_error: 0.4491 - val_mean_absolute_error: 0.4551\n",
      "Epoch 18/30\n",
      "11757/11757 [==============================] - 89s 8ms/step - loss: 0.4470 - mean_squared_error: 0.4470 - mean_absolute_error: 0.4555 - val_loss: 0.4495 - val_mean_squared_error: 0.4495 - val_mean_absolute_error: 0.4577\n",
      "Epoch 19/30\n",
      "11757/11757 [==============================] - 90s 8ms/step - loss: 0.4470 - mean_squared_error: 0.4470 - mean_absolute_error: 0.4553 - val_loss: 0.4496 - val_mean_squared_error: 0.4496 - val_mean_absolute_error: 0.4606\n",
      "Epoch 20/30\n",
      "11757/11757 [==============================] - 91s 8ms/step - loss: 0.4469 - mean_squared_error: 0.4469 - mean_absolute_error: 0.4552 - val_loss: 0.4491 - val_mean_squared_error: 0.4491 - val_mean_absolute_error: 0.4551\n",
      "Epoch 21/30\n",
      "11757/11757 [==============================] - 91s 8ms/step - loss: 0.4469 - mean_squared_error: 0.4469 - mean_absolute_error: 0.4551 - val_loss: 0.4491 - val_mean_squared_error: 0.4491 - val_mean_absolute_error: 0.4545\n",
      "Epoch 22/30\n",
      "11757/11757 [==============================] - 91s 8ms/step - loss: 0.4469 - mean_squared_error: 0.4469 - mean_absolute_error: 0.4549 - val_loss: 0.4490 - val_mean_squared_error: 0.4490 - val_mean_absolute_error: 0.4542\n",
      "Epoch 23/30\n",
      "11757/11757 [==============================] - 90s 8ms/step - loss: 0.4469 - mean_squared_error: 0.4469 - mean_absolute_error: 0.4548 - val_loss: 0.4491 - val_mean_squared_error: 0.4491 - val_mean_absolute_error: 0.4552\n",
      "Epoch 24/30\n",
      "11757/11757 [==============================] - 90s 8ms/step - loss: 0.4469 - mean_squared_error: 0.4469 - mean_absolute_error: 0.4547 - val_loss: 0.4492 - val_mean_squared_error: 0.4492 - val_mean_absolute_error: 0.4571\n",
      "Epoch 25/30\n",
      "11757/11757 [==============================] - 92s 8ms/step - loss: 0.4469 - mean_squared_error: 0.4469 - mean_absolute_error: 0.4546 - val_loss: 0.4494 - val_mean_squared_error: 0.4494 - val_mean_absolute_error: 0.4577\n",
      "Epoch 26/30\n",
      "11757/11757 [==============================] - 97s 8ms/step - loss: 0.4469 - mean_squared_error: 0.4469 - mean_absolute_error: 0.4545 - val_loss: 0.4491 - val_mean_squared_error: 0.4491 - val_mean_absolute_error: 0.4550\n",
      "Epoch 27/30\n",
      "11757/11757 [==============================] - 101s 9ms/step - loss: 0.4469 - mean_squared_error: 0.4469 - mean_absolute_error: 0.4545 - val_loss: 0.4491 - val_mean_squared_error: 0.4491 - val_mean_absolute_error: 0.4553\n",
      "Epoch 28/30\n",
      "11757/11757 [==============================] - 104s 9ms/step - loss: 0.4468 - mean_squared_error: 0.4468 - mean_absolute_error: 0.4545 - val_loss: 0.4505 - val_mean_squared_error: 0.4505 - val_mean_absolute_error: 0.4628\n",
      "Epoch 29/30\n",
      "11757/11757 [==============================] - 87s 7ms/step - loss: 0.4468 - mean_squared_error: 0.4468 - mean_absolute_error: 0.4544 - val_loss: 0.4491 - val_mean_squared_error: 0.4491 - val_mean_absolute_error: 0.4554\n",
      "Epoch 30/30\n",
      "11757/11757 [==============================] - 88s 7ms/step - loss: 0.4468 - mean_squared_error: 0.4468 - mean_absolute_error: 0.4543 - val_loss: 0.4491 - val_mean_squared_error: 0.4491 - val_mean_absolute_error: 0.4561\n",
      "CPU times: total: 5min 25s\n",
      "Wall time: 44min 43s\n"
     ]
    }
   ],
   "source": [
    "%%time\n",
    "history.append(model_conv1D.fit(train_features_reshaped, train_labels, epochs=epochs,\n",
    "                    validation_split=0.2, verbose=True, callbacks = model_checkpoint_callback))"
   ]
  },
  {
   "cell_type": "code",
   "execution_count": 52,
   "id": "0146d533-8830-46cc-be38-bf415dc8295e",
   "metadata": {},
   "outputs": [
    {
     "data": {
      "image/png": "[encoded data removed]",
      "text/plain": [
       "<Figure size 640x480 with 1 Axes>"
      ]
     },
     "metadata": {},
     "output_type": "display_data"
    }
   ],
   "source": [
    "plot_loss(history[-1], 'CNN Loss')"
   ]
  },
  {
   "cell_type": "code",
   "execution_count": 53,
   "id": "84dfd65d-bd2b-4a08-a6ca-4c9f7f6be2b3",
   "metadata": {},
   "outputs": [],
   "source": [
    "model_path = os.path.join(\"models\",\"CNN_02.keras\")"
   ]
  },
  {
   "cell_type": "code",
   "execution_count": 54,
   "id": "4b7e95b1-e212-468f-bd00-031ab738b5f3",
   "metadata": {},
   "outputs": [],
   "source": [
    "model_conv1D.save(model_path)"
   ]
  },
  {
   "cell_type": "code",
   "execution_count": 55,
   "id": "d23d068f-8643-4d26-a22f-951845d12dea",
   "metadata": {},
   "outputs": [],
   "source": [
    "model_conv1D = keras.models.load_model(model_path)"
   ]
  },
  {
   "cell_type": "markdown",
   "id": "57e37c1d-7d47-4db8-8c4c-3857e4db17a8",
   "metadata": {},
   "source": [
    "### Performance"
   ]
  },
  {
   "cell_type": "code",
   "execution_count": 56,
   "id": "65b89ef1-65a7-4a7c-ab6a-6833eeb7f873",
   "metadata": {},
   "outputs": [],
   "source": [
    "# pd.DataFrame(history, index=['Mean absolute error [capacity]']).T"
   ]
  },
  {
   "cell_type": "markdown",
   "id": "96c5b5a9-216a-4cbf-906c-b3776c9c58a3",
   "metadata": {},
   "source": [
    "### Make Predictions"
   ]
  },
  {
   "cell_type": "code",
   "execution_count": 57,
   "id": "daa262f1-d234-4e79-a220-d74ac33e8d3c",
   "metadata": {},
   "outputs": [
    {
     "name": "stdout",
     "output_type": "stream",
     "text": [
      "3675/3675 [==============================] - 7s 2ms/step\n"
     ]
    }
   ],
   "source": [
    "test_predictions = model_conv1D.predict(test_features_reshaped).flatten()"
   ]
  },
  {
   "cell_type": "code",
   "execution_count": 58,
   "id": "c4b00b85-c9c2-4f42-bae1-eb3ced660028",
   "metadata": {},
   "outputs": [
    {
     "data": {
      "image/png": "[encoded data removed]",
      "text/plain": [
       "<Figure size 640x480 with 1 Axes>"
      ]
     },
     "metadata": {},
     "output_type": "display_data"
    }
   ],
   "source": [
    "a = plt.axes(aspect='equal')\n",
    "plt.scatter(test_labels, test_predictions)\n",
    "plt.xlabel('True Values [capacity]')\n",
    "plt.ylabel('Predictions [capacity]')\n",
    "lims = [1.2, 2]\n",
    "plt.xlim(lims)\n",
    "plt.ylim(lims)\n",
    "_ = plt.plot(lims, lims)"
   ]
  },
  {
   "cell_type": "code",
   "execution_count": 59,
   "id": "92308cca-1dfa-4647-873d-96b886f60af9",
   "metadata": {},
   "outputs": [
    {
     "data": {
      "image/png": "[encoded data removed]",
      "text/plain": [
       "<Figure size 640x480 with 1 Axes>"
      ]
     },
     "metadata": {},
     "output_type": "display_data"
    }
   ],
   "source": [
    "error = test_predictions - test_labels\n",
    "plt.hist(error, bins=25)\n",
    "plt.xlabel('Prediction Error [capacity]')\n",
    "_ = plt.ylabel('Count')"
   ]
  },
  {
   "cell_type": "code",
   "execution_count": 60,
   "id": "ee5919c3-5130-409a-8de6-b28678fca215",
   "metadata": {},
   "outputs": [
    {
     "name": "stdout",
     "output_type": "stream",
     "text": [
      "MSE: 0.4491796637305588\n",
      "RMSE: 0.6702086717810796\n",
      "MAE: 0.45607405154775427\n",
      "R2 Score: 0.550734507449029\n"
     ]
    }
   ],
   "source": [
    "# Calculate metrics\n",
    "mse = mean_squared_error(test_labels, test_predictions)\n",
    "rmse = np.sqrt(mse)\n",
    "mae = mean_absolute_error(test_labels, test_predictions)\n",
    "r2 = r2_score(test_labels, test_predictions)\n",
    "\n",
    "print(f'MSE: {mse}')\n",
    "print(f'RMSE: {rmse}')\n",
    "print(f'MAE: {mae}')\n",
    "print(f'R2 Score: {r2}')"
   ]
  },
  {
   "cell_type": "code",
   "execution_count": null,
   "id": "a53333d7-50d3-43cc-9266-7a0ecae29be9",
   "metadata": {},
   "outputs": [],
   "source": []
  }
 ],
 "metadata": {
  "kernelspec": {
   "display_name": "DeepNN",
   "language": "python",
   "name": "deepnn"
  },
  "language_info": {
   "codemirror_mode": {
    "name": "ipython",
    "version": 3
   },
   "file_extension": ".py",
   "mimetype": "text/x-python",
   "name": "python",
   "nbconvert_exporter": "python",
   "pygments_lexer": "ipython3",
   "version": "3.9.13"
  }
 },
 "nbformat": 4,
 "nbformat_minor": 5
}
