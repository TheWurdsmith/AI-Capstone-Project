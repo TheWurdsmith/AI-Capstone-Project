{
 "cells": [
  {
   "cell_type": "markdown",
   "id": "926969bb",
   "metadata": {},
   "source": [
    "# Data Preparation\n",
    "\n",
    "In this sectiono we load in and prepare the data for our machine learning."
   ]
  },
  {
   "cell_type": "code",
   "execution_count": 1,
   "id": "7b1d5fb9-458d-4350-85ff-d49cdd8b3769",
   "metadata": {
    "collapsed": true,
    "jupyter": {
     "outputs_hidden": true
    },
    "tags": []
   },
   "outputs": [
    {
     "name": "stdout",
     "output_type": "stream",
     "text": [
      "Requirement already satisfied: scipy in c:\\users\\argon\\documents\\uts\\ai capstone\\ai project\\deepnn\\lib\\site-packages (1.11.2)\n",
      "Requirement already satisfied: numpy<1.28.0,>=1.21.6 in c:\\users\\argon\\documents\\uts\\ai capstone\\ai project\\deepnn\\lib\\site-packages (from scipy) (1.26.0)\n"
     ]
    },
    {
     "name": "stderr",
     "output_type": "stream",
     "text": [
      "WARNING: Ignoring invalid distribution -rotobuf (c:\\users\\argon\\documents\\uts\\ai capstone\\ai project\\deepnn\\lib\\site-packages)\n",
      "WARNING: Ignoring invalid distribution -rotobuf (c:\\users\\argon\\documents\\uts\\ai capstone\\ai project\\deepnn\\lib\\site-packages)\n",
      "WARNING: Ignoring invalid distribution -rotobuf (c:\\users\\argon\\documents\\uts\\ai capstone\\ai project\\deepnn\\lib\\site-packages)\n",
      "WARNING: Ignoring invalid distribution -rotobuf (c:\\users\\argon\\documents\\uts\\ai capstone\\ai project\\deepnn\\lib\\site-packages)\n",
      "WARNING: Ignoring invalid distribution -rotobuf (c:\\users\\argon\\documents\\uts\\ai capstone\\ai project\\deepnn\\lib\\site-packages)\n",
      "WARNING: Ignoring invalid distribution -rotobuf (c:\\users\\argon\\documents\\uts\\ai capstone\\ai project\\deepnn\\lib\\site-packages)\n",
      "WARNING: You are using pip version 22.0.4; however, version 23.2.1 is available.\n",
      "You should consider upgrading via the 'C:\\Users\\argon\\Documents\\UTS\\AI Capstone\\AI Project\\DeepNN\\Scripts\\python.exe -m pip install --upgrade pip' command.\n"
     ]
    },
    {
     "name": "stdout",
     "output_type": "stream",
     "text": [
      "Requirement already satisfied: pandas in c:\\users\\argon\\documents\\uts\\ai capstone\\ai project\\deepnn\\lib\\site-packages (2.1.1)\n",
      "Requirement already satisfied: numpy>=1.22.4 in c:\\users\\argon\\documents\\uts\\ai capstone\\ai project\\deepnn\\lib\\site-packages (from pandas) (1.26.0)\n",
      "Requirement already satisfied: tzdata>=2022.1 in c:\\users\\argon\\documents\\uts\\ai capstone\\ai project\\deepnn\\lib\\site-packages (from pandas) (2023.3)\n",
      "Requirement already satisfied: python-dateutil>=2.8.2 in c:\\users\\argon\\documents\\uts\\ai capstone\\ai project\\deepnn\\lib\\site-packages (from pandas) (2.8.2)\n",
      "Requirement already satisfied: pytz>=2020.1 in c:\\users\\argon\\documents\\uts\\ai capstone\\ai project\\deepnn\\lib\\site-packages (from pandas) (2023.3.post1)\n",
      "Requirement already satisfied: six>=1.5 in c:\\users\\argon\\documents\\uts\\ai capstone\\ai project\\deepnn\\lib\\site-packages (from python-dateutil>=2.8.2->pandas) (1.16.0)\n"
     ]
    },
    {
     "name": "stderr",
     "output_type": "stream",
     "text": [
      "WARNING: Ignoring invalid distribution -rotobuf (c:\\users\\argon\\documents\\uts\\ai capstone\\ai project\\deepnn\\lib\\site-packages)\n",
      "WARNING: Ignoring invalid distribution -rotobuf (c:\\users\\argon\\documents\\uts\\ai capstone\\ai project\\deepnn\\lib\\site-packages)\n",
      "WARNING: Ignoring invalid distribution -rotobuf (c:\\users\\argon\\documents\\uts\\ai capstone\\ai project\\deepnn\\lib\\site-packages)\n",
      "WARNING: Ignoring invalid distribution -rotobuf (c:\\users\\argon\\documents\\uts\\ai capstone\\ai project\\deepnn\\lib\\site-packages)\n",
      "WARNING: Ignoring invalid distribution -rotobuf (c:\\users\\argon\\documents\\uts\\ai capstone\\ai project\\deepnn\\lib\\site-packages)\n",
      "WARNING: Ignoring invalid distribution -rotobuf (c:\\users\\argon\\documents\\uts\\ai capstone\\ai project\\deepnn\\lib\\site-packages)\n",
      "WARNING: You are using pip version 22.0.4; however, version 23.2.1 is available.\n",
      "You should consider upgrading via the 'C:\\Users\\argon\\Documents\\UTS\\AI Capstone\\AI Project\\DeepNN\\Scripts\\python.exe -m pip install --upgrade pip' command.\n"
     ]
    },
    {
     "name": "stdout",
     "output_type": "stream",
     "text": [
      "Requirement already satisfied: scikit-learn in c:\\users\\argon\\documents\\uts\\ai capstone\\ai project\\deepnn\\lib\\site-packages (1.3.1)\n",
      "Requirement already satisfied: threadpoolctl>=2.0.0 in c:\\users\\argon\\documents\\uts\\ai capstone\\ai project\\deepnn\\lib\\site-packages (from scikit-learn) (3.2.0)\n",
      "Requirement already satisfied: scipy>=1.5.0 in c:\\users\\argon\\documents\\uts\\ai capstone\\ai project\\deepnn\\lib\\site-packages (from scikit-learn) (1.11.2)\n",
      "Requirement already satisfied: numpy<2.0,>=1.17.3 in c:\\users\\argon\\documents\\uts\\ai capstone\\ai project\\deepnn\\lib\\site-packages (from scikit-learn) (1.26.0)\n",
      "Requirement already satisfied: joblib>=1.1.1 in c:\\users\\argon\\documents\\uts\\ai capstone\\ai project\\deepnn\\lib\\site-packages (from scikit-learn) (1.3.2)\n"
     ]
    },
    {
     "name": "stderr",
     "output_type": "stream",
     "text": [
      "WARNING: Ignoring invalid distribution -rotobuf (c:\\users\\argon\\documents\\uts\\ai capstone\\ai project\\deepnn\\lib\\site-packages)\n",
      "WARNING: Ignoring invalid distribution -rotobuf (c:\\users\\argon\\documents\\uts\\ai capstone\\ai project\\deepnn\\lib\\site-packages)\n",
      "WARNING: Ignoring invalid distribution -rotobuf (c:\\users\\argon\\documents\\uts\\ai capstone\\ai project\\deepnn\\lib\\site-packages)\n",
      "WARNING: Ignoring invalid distribution -rotobuf (c:\\users\\argon\\documents\\uts\\ai capstone\\ai project\\deepnn\\lib\\site-packages)\n",
      "WARNING: Ignoring invalid distribution -rotobuf (c:\\users\\argon\\documents\\uts\\ai capstone\\ai project\\deepnn\\lib\\site-packages)\n",
      "WARNING: Ignoring invalid distribution -rotobuf (c:\\users\\argon\\documents\\uts\\ai capstone\\ai project\\deepnn\\lib\\site-packages)\n",
      "WARNING: You are using pip version 22.0.4; however, version 23.2.1 is available.\n",
      "You should consider upgrading via the 'C:\\Users\\argon\\Documents\\UTS\\AI Capstone\\AI Project\\DeepNN\\Scripts\\python.exe -m pip install --upgrade pip' command.\n"
     ]
    }
   ],
   "source": [
    "# !pip install scipy\n",
    "# !pip install pandas\n",
    "# !pip install scikit-learn"
   ]
  },
  {
   "cell_type": "code",
   "execution_count": 2,
   "id": "3edc0c56-2881-4c28-99af-5be9173c78a5",
   "metadata": {
    "collapsed": true,
    "jupyter": {
     "outputs_hidden": true
    },
    "tags": []
   },
   "outputs": [
    {
     "name": "stdout",
     "output_type": "stream",
     "text": [
      "Collecting package metadata (current_repodata.json): ...working... done"
     ]
    },
    {
     "name": "stderr",
     "output_type": "stream",
     "text": [
      "\n",
      "\n",
      "==> WARNING: A newer version of conda exists. <==\n",
      "  current version: 23.1.0\n",
      "  latest version: 23.7.4\n",
      "\n",
      "Please update conda by running\n",
      "\n",
      "    $ conda update -n base -c conda-forge conda\n",
      "\n",
      "Or to minimize the number of packages updated during conda update use\n",
      "\n",
      "     conda install conda=23.7.4\n",
      "\n",
      "\n"
     ]
    },
    {
     "name": "stdout",
     "output_type": "stream",
     "text": [
      "\n",
      "Solving environment: ...working... done\n",
      "\n",
      "# All requested packages already installed.\n",
      "\n",
      "Requirement already satisfied: tensorflow<2.11 in c:\\users\\argon\\documents\\uts\\ai capstone\\ai project\\deepnn\\lib\\site-packages (2.10.1)\n",
      "Requirement already satisfied: opt-einsum>=2.3.2 in c:\\users\\argon\\documents\\uts\\ai capstone\\ai project\\deepnn\\lib\\site-packages (from tensorflow<2.11) (3.3.0)\n",
      "Requirement already satisfied: tensorflow-estimator<2.11,>=2.10.0 in c:\\users\\argon\\documents\\uts\\ai capstone\\ai project\\deepnn\\lib\\site-packages (from tensorflow<2.11) (2.10.0)\n",
      "Requirement already satisfied: flatbuffers>=2.0 in c:\\users\\argon\\documents\\uts\\ai capstone\\ai project\\deepnn\\lib\\site-packages (from tensorflow<2.11) (23.5.26)\n",
      "Requirement already satisfied: wrapt>=1.11.0 in c:\\users\\argon\\documents\\uts\\ai capstone\\ai project\\deepnn\\lib\\site-packages (from tensorflow<2.11) (1.14.1)\n",
      "Requirement already satisfied: gast<=0.4.0,>=0.2.1 in c:\\users\\argon\\documents\\uts\\ai capstone\\ai project\\deepnn\\lib\\site-packages (from tensorflow<2.11) (0.4.0)\n",
      "Requirement already satisfied: absl-py>=1.0.0 in c:\\users\\argon\\documents\\uts\\ai capstone\\ai project\\deepnn\\lib\\site-packages (from tensorflow<2.11) (2.0.0)\n",
      "Requirement already satisfied: protobuf<3.20,>=3.9.2 in c:\\users\\argon\\documents\\uts\\ai capstone\\ai project\\deepnn\\lib\\site-packages (from tensorflow<2.11) (3.19.6)\n",
      "Requirement already satisfied: h5py>=2.9.0 in c:\\users\\argon\\documents\\uts\\ai capstone\\ai project\\deepnn\\lib\\site-packages (from tensorflow<2.11) (3.9.0)\n",
      "Requirement already satisfied: keras<2.11,>=2.10.0 in c:\\users\\argon\\documents\\uts\\ai capstone\\ai project\\deepnn\\lib\\site-packages (from tensorflow<2.11) (2.10.0)\n",
      "Requirement already satisfied: tensorflow-io-gcs-filesystem>=0.23.1 in c:\\users\\argon\\documents\\uts\\ai capstone\\ai project\\deepnn\\lib\\site-packages (from tensorflow<2.11) (0.31.0)\n",
      "Requirement already satisfied: keras-preprocessing>=1.1.1 in c:\\users\\argon\\documents\\uts\\ai capstone\\ai project\\deepnn\\lib\\site-packages (from tensorflow<2.11) (1.1.2)\n",
      "Requirement already satisfied: grpcio<2.0,>=1.24.3 in c:\\users\\argon\\documents\\uts\\ai capstone\\ai project\\deepnn\\lib\\site-packages (from tensorflow<2.11) (1.58.0)\n",
      "Requirement already satisfied: astunparse>=1.6.0 in c:\\users\\argon\\documents\\uts\\ai capstone\\ai project\\deepnn\\lib\\site-packages (from tensorflow<2.11) (1.6.3)\n",
      "Requirement already satisfied: six>=1.12.0 in c:\\users\\argon\\documents\\uts\\ai capstone\\ai project\\deepnn\\lib\\site-packages (from tensorflow<2.11) (1.16.0)\n",
      "Requirement already satisfied: termcolor>=1.1.0 in c:\\users\\argon\\documents\\uts\\ai capstone\\ai project\\deepnn\\lib\\site-packages (from tensorflow<2.11) (2.3.0)\n",
      "Requirement already satisfied: google-pasta>=0.1.1 in c:\\users\\argon\\documents\\uts\\ai capstone\\ai project\\deepnn\\lib\\site-packages (from tensorflow<2.11) (0.2.0)\n",
      "Requirement already satisfied: tensorboard<2.11,>=2.10 in c:\\users\\argon\\documents\\uts\\ai capstone\\ai project\\deepnn\\lib\\site-packages (from tensorflow<2.11) (2.10.1)\n",
      "Requirement already satisfied: setuptools in c:\\users\\argon\\documents\\uts\\ai capstone\\ai project\\deepnn\\lib\\site-packages (from tensorflow<2.11) (58.1.0)\n",
      "Requirement already satisfied: libclang>=13.0.0 in c:\\users\\argon\\documents\\uts\\ai capstone\\ai project\\deepnn\\lib\\site-packages (from tensorflow<2.11) (16.0.6)\n",
      "Requirement already satisfied: packaging in c:\\users\\argon\\documents\\uts\\ai capstone\\ai project\\deepnn\\lib\\site-packages (from tensorflow<2.11) (23.1)\n",
      "Requirement already satisfied: numpy>=1.20 in c:\\users\\argon\\documents\\uts\\ai capstone\\ai project\\deepnn\\lib\\site-packages (from tensorflow<2.11) (1.26.0)\n",
      "Requirement already satisfied: typing-extensions>=3.6.6 in c:\\users\\argon\\documents\\uts\\ai capstone\\ai project\\deepnn\\lib\\site-packages (from tensorflow<2.11) (4.8.0)\n",
      "Requirement already satisfied: wheel<1.0,>=0.23.0 in c:\\users\\argon\\documents\\uts\\ai capstone\\ai project\\deepnn\\lib\\site-packages (from astunparse>=1.6.0->tensorflow<2.11) (0.41.2)\n",
      "Requirement already satisfied: google-auth-oauthlib<0.5,>=0.4.1 in c:\\users\\argon\\documents\\uts\\ai capstone\\ai project\\deepnn\\lib\\site-packages (from tensorboard<2.11,>=2.10->tensorflow<2.11) (0.4.6)\n",
      "Requirement already satisfied: markdown>=2.6.8 in c:\\users\\argon\\documents\\uts\\ai capstone\\ai project\\deepnn\\lib\\site-packages (from tensorboard<2.11,>=2.10->tensorflow<2.11) (3.4.4)\n",
      "Requirement already satisfied: tensorboard-plugin-wit>=1.6.0 in c:\\users\\argon\\documents\\uts\\ai capstone\\ai project\\deepnn\\lib\\site-packages (from tensorboard<2.11,>=2.10->tensorflow<2.11) (1.8.1)\n",
      "Requirement already satisfied: requests<3,>=2.21.0 in c:\\users\\argon\\documents\\uts\\ai capstone\\ai project\\deepnn\\lib\\site-packages (from tensorboard<2.11,>=2.10->tensorflow<2.11) (2.31.0)\n",
      "Requirement already satisfied: werkzeug>=1.0.1 in c:\\users\\argon\\documents\\uts\\ai capstone\\ai project\\deepnn\\lib\\site-packages (from tensorboard<2.11,>=2.10->tensorflow<2.11) (2.3.7)\n",
      "Requirement already satisfied: tensorboard-data-server<0.7.0,>=0.6.0 in c:\\users\\argon\\documents\\uts\\ai capstone\\ai project\\deepnn\\lib\\site-packages (from tensorboard<2.11,>=2.10->tensorflow<2.11) (0.6.1)\n",
      "Requirement already satisfied: google-auth<3,>=1.6.3 in c:\\users\\argon\\documents\\uts\\ai capstone\\ai project\\deepnn\\lib\\site-packages (from tensorboard<2.11,>=2.10->tensorflow<2.11) (2.23.1)\n",
      "Requirement already satisfied: urllib3>=2.0.5 in c:\\users\\argon\\documents\\uts\\ai capstone\\ai project\\deepnn\\lib\\site-packages (from google-auth<3,>=1.6.3->tensorboard<2.11,>=2.10->tensorflow<2.11) (2.0.5)\n",
      "Requirement already satisfied: cachetools<6.0,>=2.0.0 in c:\\users\\argon\\documents\\uts\\ai capstone\\ai project\\deepnn\\lib\\site-packages (from google-auth<3,>=1.6.3->tensorboard<2.11,>=2.10->tensorflow<2.11) (5.3.1)\n",
      "Requirement already satisfied: rsa<5,>=3.1.4 in c:\\users\\argon\\documents\\uts\\ai capstone\\ai project\\deepnn\\lib\\site-packages (from google-auth<3,>=1.6.3->tensorboard<2.11,>=2.10->tensorflow<2.11) (4.9)\n",
      "Requirement already satisfied: pyasn1-modules>=0.2.1 in c:\\users\\argon\\documents\\uts\\ai capstone\\ai project\\deepnn\\lib\\site-packages (from google-auth<3,>=1.6.3->tensorboard<2.11,>=2.10->tensorflow<2.11) (0.3.0)\n",
      "Requirement already satisfied: requests-oauthlib>=0.7.0 in c:\\users\\argon\\documents\\uts\\ai capstone\\ai project\\deepnn\\lib\\site-packages (from google-auth-oauthlib<0.5,>=0.4.1->tensorboard<2.11,>=2.10->tensorflow<2.11) (1.3.1)\n",
      "Requirement already satisfied: importlib-metadata>=4.4 in c:\\users\\argon\\documents\\uts\\ai capstone\\ai project\\deepnn\\lib\\site-packages (from markdown>=2.6.8->tensorboard<2.11,>=2.10->tensorflow<2.11) (6.8.0)\n",
      "Requirement already satisfied: idna<4,>=2.5 in c:\\users\\argon\\documents\\uts\\ai capstone\\ai project\\deepnn\\lib\\site-packages (from requests<3,>=2.21.0->tensorboard<2.11,>=2.10->tensorflow<2.11) (3.4)\n",
      "Requirement already satisfied: charset-normalizer<4,>=2 in c:\\users\\argon\\documents\\uts\\ai capstone\\ai project\\deepnn\\lib\\site-packages (from requests<3,>=2.21.0->tensorboard<2.11,>=2.10->tensorflow<2.11) (3.2.0)\n",
      "Requirement already satisfied: certifi>=2017.4.17 in c:\\users\\argon\\documents\\uts\\ai capstone\\ai project\\deepnn\\lib\\site-packages (from requests<3,>=2.21.0->tensorboard<2.11,>=2.10->tensorflow<2.11) (2023.7.22)\n",
      "Requirement already satisfied: MarkupSafe>=2.1.1 in c:\\users\\argon\\documents\\uts\\ai capstone\\ai project\\deepnn\\lib\\site-packages (from werkzeug>=1.0.1->tensorboard<2.11,>=2.10->tensorflow<2.11) (2.1.3)\n",
      "Requirement already satisfied: zipp>=0.5 in c:\\users\\argon\\documents\\uts\\ai capstone\\ai project\\deepnn\\lib\\site-packages (from importlib-metadata>=4.4->markdown>=2.6.8->tensorboard<2.11,>=2.10->tensorflow<2.11) (3.17.0)\n",
      "Requirement already satisfied: pyasn1<0.6.0,>=0.4.6 in c:\\users\\argon\\documents\\uts\\ai capstone\\ai project\\deepnn\\lib\\site-packages (from pyasn1-modules>=0.2.1->google-auth<3,>=1.6.3->tensorboard<2.11,>=2.10->tensorflow<2.11) (0.5.0)\n",
      "Requirement already satisfied: oauthlib>=3.0.0 in c:\\users\\argon\\documents\\uts\\ai capstone\\ai project\\deepnn\\lib\\site-packages (from requests-oauthlib>=0.7.0->google-auth-oauthlib<0.5,>=0.4.1->tensorboard<2.11,>=2.10->tensorflow<2.11) (3.2.2)\n"
     ]
    },
    {
     "name": "stderr",
     "output_type": "stream",
     "text": [
      "WARNING: Ignoring invalid distribution -rotobuf (c:\\users\\argon\\documents\\uts\\ai capstone\\ai project\\deepnn\\lib\\site-packages)\n",
      "WARNING: Ignoring invalid distribution -rotobuf (c:\\users\\argon\\documents\\uts\\ai capstone\\ai project\\deepnn\\lib\\site-packages)\n",
      "WARNING: Ignoring invalid distribution -rotobuf (c:\\users\\argon\\documents\\uts\\ai capstone\\ai project\\deepnn\\lib\\site-packages)\n",
      "WARNING: Ignoring invalid distribution -rotobuf (c:\\users\\argon\\documents\\uts\\ai capstone\\ai project\\deepnn\\lib\\site-packages)\n",
      "WARNING: Ignoring invalid distribution -rotobuf (c:\\users\\argon\\documents\\uts\\ai capstone\\ai project\\deepnn\\lib\\site-packages)\n",
      "WARNING: Ignoring invalid distribution -rotobuf (c:\\users\\argon\\documents\\uts\\ai capstone\\ai project\\deepnn\\lib\\site-packages)\n",
      "WARNING: You are using pip version 22.0.4; however, version 23.2.1 is available.\n",
      "You should consider upgrading via the 'C:\\Users\\argon\\Documents\\UTS\\AI Capstone\\AI Project\\DeepNN\\Scripts\\python.exe -m pip install --upgrade pip' command.\n"
     ]
    }
   ],
   "source": [
    "# !conda install -c conda-forge cudatoolkit=11.2 cudnn=8.1.0\n",
    "# # Anything above 2.10 is not supported on the GPU on Windows Native\n",
    "# !pip install \"tensorflow<2.11\"\n"
   ]
  },
  {
   "cell_type": "code",
   "execution_count": 3,
   "id": "e308abf2-77f3-4efa-9fe8-5e33b9329973",
   "metadata": {
    "collapsed": true,
    "jupyter": {
     "outputs_hidden": true
    },
    "tags": []
   },
   "outputs": [
    {
     "name": "stdout",
     "output_type": "stream",
     "text": [
      "Package                      Version\n",
      "---------------------------- ------------\n",
      "absl-py                      2.0.0\n",
      "asttokens                    2.4.0\n",
      "astunparse                   1.6.3\n",
      "backcall                     0.2.0\n",
      "cachetools                   5.3.1\n",
      "certifi                      2023.7.22\n",
      "charset-normalizer           3.2.0\n",
      "colorama                     0.4.6\n",
      "comm                         0.1.4\n",
      "contourpy                    1.1.1\n",
      "cycler                       0.11.0\n",
      "debugpy                      1.8.0\n",
      "decorator                    5.1.1\n",
      "exceptiongroup               1.1.3\n",
      "executing                    1.2.0\n",
      "flatbuffers                  23.5.26\n",
      "fonttools                    4.42.1\n",
      "gast                         0.4.0\n",
      "google-auth                  2.23.1\n",
      "google-auth-oauthlib         0.4.6\n",
      "google-pasta                 0.2.0\n",
      "grpcio                       1.58.0\n",
      "h5py                         3.9.0\n",
      "idna                         3.4\n",
      "importlib-metadata           6.8.0\n",
      "importlib-resources          6.1.0\n",
      "ipykernel                    6.25.2\n",
      "ipython                      8.15.0\n",
      "jedi                         0.19.0\n",
      "joblib                       1.3.2\n",
      "jupyter_client               8.3.1\n",
      "jupyter_core                 5.3.1\n",
      "keras                        2.10.0\n",
      "Keras-Preprocessing          1.1.2\n",
      "kiwisolver                   1.4.5\n",
      "libclang                     16.0.6\n",
      "Markdown                     3.4.4\n",
      "MarkupSafe                   2.1.3\n",
      "matplotlib                   3.8.0\n",
      "matplotlib-inline            0.1.6\n",
      "ml-dtypes                    0.2.0\n",
      "nest-asyncio                 1.5.8\n",
      "numpy                        1.26.0\n",
      "oauthlib                     3.2.2\n",
      "opencv-python                4.8.0.76\n",
      "opt-einsum                   3.3.0\n",
      "packaging                    23.1\n",
      "pandas                       2.1.1\n",
      "parso                        0.8.3\n",
      "pickleshare                  0.7.5\n",
      "Pillow                       10.0.1\n",
      "pip                          22.0.4\n",
      "platformdirs                 3.10.0\n",
      "prompt-toolkit               3.0.39\n",
      "protobuf                     3.19.6\n",
      "psutil                       5.9.5\n",
      "pure-eval                    0.2.2\n",
      "pyasn1                       0.5.0\n",
      "pyasn1-modules               0.3.0\n",
      "Pygments                     2.16.1\n",
      "pyparsing                    3.1.1\n",
      "python-dateutil              2.8.2\n",
      "python-version               0.0.2\n",
      "pytz                         2023.3.post1\n",
      "pywin32                      306\n",
      "pyzmq                        25.1.1\n",
      "requests                     2.31.0\n",
      "requests-oauthlib            1.3.1\n",
      "rsa                          4.9\n",
      "scikit-learn                 1.3.1\n",
      "scipy                        1.11.2\n",
      "seaborn                      0.12.2\n",
      "setuptools                   58.1.0\n",
      "six                          1.16.0\n",
      "stack-data                   0.6.2\n",
      "tensorboard                  2.10.1\n",
      "tensorboard-data-server      0.6.1\n",
      "tensorboard-plugin-wit       1.8.1\n",
      "tensorflow                   2.10.1\n",
      "tensorflow-estimator         2.10.0\n",
      "tensorflow-intel             2.14.0\n",
      "tensorflow-io-gcs-filesystem 0.31.0\n",
      "termcolor                    2.3.0\n",
      "threadpoolctl                3.2.0\n",
      "tornado                      6.3.3\n",
      "traitlets                    5.10.1\n",
      "typing_extensions            4.8.0\n",
      "tzdata                       2023.3\n",
      "urllib3                      2.0.5\n",
      "wcwidth                      0.2.6\n",
      "Werkzeug                     2.3.7\n",
      "wheel                        0.41.2\n",
      "wrapt                        1.14.1\n",
      "zipp                         3.17.0\n"
     ]
    },
    {
     "name": "stderr",
     "output_type": "stream",
     "text": [
      "WARNING: Ignoring invalid distribution -rotobuf (c:\\users\\argon\\documents\\uts\\ai capstone\\ai project\\deepnn\\lib\\site-packages)\n",
      "WARNING: Ignoring invalid distribution -rotobuf (c:\\users\\argon\\documents\\uts\\ai capstone\\ai project\\deepnn\\lib\\site-packages)\n",
      "WARNING: Ignoring invalid distribution -rotobuf (c:\\users\\argon\\documents\\uts\\ai capstone\\ai project\\deepnn\\lib\\site-packages)\n",
      "WARNING: Ignoring invalid distribution -rotobuf (c:\\users\\argon\\documents\\uts\\ai capstone\\ai project\\deepnn\\lib\\site-packages)\n",
      "WARNING: You are using pip version 22.0.4; however, version 23.2.1 is available.\n",
      "You should consider upgrading via the 'C:\\Users\\argon\\Documents\\UTS\\AI Capstone\\AI Project\\DeepNN\\Scripts\\python.exe -m pip install --upgrade pip' command.\n",
      "WARNING: Ignoring invalid distribution -rotobuf (c:\\users\\argon\\documents\\uts\\ai capstone\\ai project\\deepnn\\lib\\site-packages)\n",
      "WARNING: Ignoring invalid distribution -rotobuf (c:\\users\\argon\\documents\\uts\\ai capstone\\ai project\\deepnn\\lib\\site-packages)\n",
      "WARNING: Ignoring invalid distribution -rotobuf (c:\\users\\argon\\documents\\uts\\ai capstone\\ai project\\deepnn\\lib\\site-packages)\n",
      "WARNING: Ignoring invalid distribution -rotobuf (c:\\users\\argon\\documents\\uts\\ai capstone\\ai project\\deepnn\\lib\\site-packages)\n",
      "WARNING: Ignoring invalid distribution -rotobuf (c:\\users\\argon\\documents\\uts\\ai capstone\\ai project\\deepnn\\lib\\site-packages)\n",
      "WARNING: Ignoring invalid distribution -rotobuf (c:\\users\\argon\\documents\\uts\\ai capstone\\ai project\\deepnn\\lib\\site-packages)\n",
      "WARNING: You are using pip version 22.0.4; however, version 23.2.1 is available.\n",
      "You should consider upgrading via the 'C:\\Users\\argon\\Documents\\UTS\\AI Capstone\\AI Project\\DeepNN\\Scripts\\python.exe -m pip install --upgrade pip' command.\n"
     ]
    }
   ],
   "source": [
    "# !pip list\n",
    "# !pip install -q seaborn"
   ]
  },
  {
   "cell_type": "code",
   "execution_count": 1,
   "id": "bae6688c",
   "metadata": {},
   "outputs": [],
   "source": [
    "import os\n",
    "import scipy.io as sio\n",
    "import pandas as pd\n",
    "from scipy.io import loadmat\n",
    "import datetime\n",
    "from pandas import DataFrame\n",
    "import matplotlib.pyplot as plt\n",
    "import numpy as np\n",
    "import seaborn as sns\n",
    "from sklearn.preprocessing import MinMaxScaler\n",
    "\n",
    "np.set_printoptions(precision=3, suppress=True)"
   ]
  },
  {
   "cell_type": "code",
   "execution_count": 2,
   "id": "7b1941a3-9d36-461a-95e3-409c659cd990",
   "metadata": {},
   "outputs": [],
   "source": [
    "def plot_history(history):\n",
    "    plt.figure()\n",
    "    plt.xlabel('Epoch')\n",
    "    plt.ylabel('Mean Abs Error')\n",
    "    plt.plot(history.epoch, np.array(history.history['mae']), \n",
    "             label='Train')\n",
    "    plt.plot(history.epoch, np.array(history.history['val_mae']),\n",
    "             label = 'Val')\n",
    "    plt.legend()\n",
    "    # plt.ylim([0,max(history.history['val_mae']) + 1])\n",
    "    \n",
    "def plot_prediction(test_labels, test_predictions):\n",
    "    plt.figure()\n",
    "    plt.scatter(test_labels, test_predictions)\n",
    "    plt.xlabel('True Values')\n",
    "    plt.ylabel('Predictions')\n",
    "    plt.axis('equal')\n",
    "    plt.xlim(plt.xlim())\n",
    "    plt.ylim(plt.ylim())\n",
    "    _ = plt.plot([-100, 100],[-100,100])\n",
    "    \n",
    "    plt.figure()\n",
    "    error = test_predictions - test_labels\n",
    "    plt.hist(error, bins = 50)\n",
    "    plt.xlabel(\"Prediction Error\")\n",
    "    _ = plt.ylabel(\"Count\")"
   ]
  },
  {
   "cell_type": "markdown",
   "id": "ab2a9a82",
   "metadata": {},
   "source": [
    "## Ingesting the data\n",
    "\n",
    "The following data is from a Nasa dataset with n refferring to the iteration number of the dataset used. \n",
    "Temperature is in celcius\n",
    "Voltage is in volts\n",
    "Current is in Amps"
   ]
  },
  {
   "cell_type": "code",
   "execution_count": 3,
   "id": "aed8bdba",
   "metadata": {},
   "outputs": [
    {
     "data": {
      "text/html": [
       "<div>\n",
       "<style scoped>\n",
       "    .dataframe tbody tr th:only-of-type {\n",
       "        vertical-align: middle;\n",
       "    }\n",
       "\n",
       "    .dataframe tbody tr th {\n",
       "        vertical-align: top;\n",
       "    }\n",
       "\n",
       "    .dataframe thead th {\n",
       "        text-align: right;\n",
       "    }\n",
       "</style>\n",
       "<table border=\"1\" class=\"dataframe\">\n",
       "  <thead>\n",
       "    <tr style=\"text-align: right;\">\n",
       "      <th></th>\n",
       "      <th>cycle</th>\n",
       "      <th>ambient_temperature</th>\n",
       "      <th>datetime</th>\n",
       "      <th>voltage_measured</th>\n",
       "      <th>current_measured</th>\n",
       "      <th>temperature_measured</th>\n",
       "      <th>current</th>\n",
       "      <th>voltage</th>\n",
       "      <th>time</th>\n",
       "      <th>capacity</th>\n",
       "    </tr>\n",
       "  </thead>\n",
       "  <tbody>\n",
       "    <tr>\n",
       "      <th>0</th>\n",
       "      <td>1</td>\n",
       "      <td>24</td>\n",
       "      <td>2008-04-02 13:08:17</td>\n",
       "      <td>3.873017</td>\n",
       "      <td>-0.001201</td>\n",
       "      <td>24.655358</td>\n",
       "      <td>0.000</td>\n",
       "      <td>0.003</td>\n",
       "      <td>0.000</td>\n",
       "      <td>NaN</td>\n",
       "    </tr>\n",
       "    <tr>\n",
       "      <th>1</th>\n",
       "      <td>1</td>\n",
       "      <td>24</td>\n",
       "      <td>2008-04-02 13:08:17</td>\n",
       "      <td>4.206466</td>\n",
       "      <td>0.060136</td>\n",
       "      <td>24.241571</td>\n",
       "      <td>0.057</td>\n",
       "      <td>4.250</td>\n",
       "      <td>5314.703</td>\n",
       "      <td>NaN</td>\n",
       "    </tr>\n",
       "    <tr>\n",
       "      <th>2</th>\n",
       "      <td>1</td>\n",
       "      <td>24</td>\n",
       "      <td>2008-04-02 13:08:17</td>\n",
       "      <td>4.206558</td>\n",
       "      <td>0.057209</td>\n",
       "      <td>24.230457</td>\n",
       "      <td>0.057</td>\n",
       "      <td>4.250</td>\n",
       "      <td>5329.485</td>\n",
       "      <td>NaN</td>\n",
       "    </tr>\n",
       "    <tr>\n",
       "      <th>3</th>\n",
       "      <td>1</td>\n",
       "      <td>24</td>\n",
       "      <td>2008-04-02 13:08:17</td>\n",
       "      <td>4.205512</td>\n",
       "      <td>0.050194</td>\n",
       "      <td>24.241984</td>\n",
       "      <td>0.047</td>\n",
       "      <td>4.245</td>\n",
       "      <td>5344.282</td>\n",
       "      <td>NaN</td>\n",
       "    </tr>\n",
       "    <tr>\n",
       "      <th>4</th>\n",
       "      <td>1</td>\n",
       "      <td>24</td>\n",
       "      <td>2008-04-02 13:08:17</td>\n",
       "      <td>4.205301</td>\n",
       "      <td>0.047004</td>\n",
       "      <td>24.226732</td>\n",
       "      <td>0.047</td>\n",
       "      <td>4.245</td>\n",
       "      <td>5359.141</td>\n",
       "      <td>NaN</td>\n",
       "    </tr>\n",
       "  </tbody>\n",
       "</table>\n",
       "</div>"
      ],
      "text/plain": [
       "   cycle  ambient_temperature            datetime  voltage_measured  \\\n",
       "0      1                   24 2008-04-02 13:08:17          3.873017   \n",
       "1      1                   24 2008-04-02 13:08:17          4.206466   \n",
       "2      1                   24 2008-04-02 13:08:17          4.206558   \n",
       "3      1                   24 2008-04-02 13:08:17          4.205512   \n",
       "4      1                   24 2008-04-02 13:08:17          4.205301   \n",
       "\n",
       "   current_measured  temperature_measured  current  voltage      time  \\\n",
       "0         -0.001201             24.655358    0.000    0.003     0.000   \n",
       "1          0.060136             24.241571    0.057    4.250  5314.703   \n",
       "2          0.057209             24.230457    0.057    4.250  5329.485   \n",
       "3          0.050194             24.241984    0.047    4.245  5344.282   \n",
       "4          0.047004             24.226732    0.047    4.245  5359.141   \n",
       "\n",
       "   capacity  \n",
       "0       NaN  \n",
       "1       NaN  \n",
       "2       NaN  \n",
       "3       NaN  \n",
       "4       NaN  "
      ]
     },
     "execution_count": 3,
     "metadata": {},
     "output_type": "execute_result"
    }
   ],
   "source": [
    "n = 'B0005'\n",
    "df = pd.read_csv('data_frames/' + 'NASA_cycle_dataset_' + n +'.csv',\n",
    "                 parse_dates = [\"datetime\"]).drop([\"Unnamed: 0\"], axis = 1)\n",
    "df.head()"
   ]
  },
  {
   "cell_type": "markdown",
   "id": "cba4f3c8",
   "metadata": {},
   "source": [
    "## Beginning Data engineering\n",
    "\n",
    "In the Below cells we are attempting to fill in the missing values. A brief look at the dataset showed that each cycle potentially had a capacity for at least one of its rows. \n",
    "\n",
    "First we test that theory:"
   ]
  },
  {
   "cell_type": "code",
   "execution_count": 4,
   "id": "6ca09c7e",
   "metadata": {},
   "outputs": [
    {
     "data": {
      "text/html": [
       "<div>\n",
       "<style scoped>\n",
       "    .dataframe tbody tr th:only-of-type {\n",
       "        vertical-align: middle;\n",
       "    }\n",
       "\n",
       "    .dataframe tbody tr th {\n",
       "        vertical-align: top;\n",
       "    }\n",
       "\n",
       "    .dataframe thead th {\n",
       "        text-align: right;\n",
       "    }\n",
       "</style>\n",
       "<table border=\"1\" class=\"dataframe\">\n",
       "  <thead>\n",
       "    <tr style=\"text-align: right;\">\n",
       "      <th></th>\n",
       "      <th>capacity</th>\n",
       "    </tr>\n",
       "    <tr>\n",
       "      <th>cycle</th>\n",
       "      <th></th>\n",
       "    </tr>\n",
       "  </thead>\n",
       "  <tbody>\n",
       "    <tr>\n",
       "      <th>169</th>\n",
       "      <td>0</td>\n",
       "    </tr>\n",
       "    <tr>\n",
       "      <th>170</th>\n",
       "      <td>0</td>\n",
       "    </tr>\n",
       "  </tbody>\n",
       "</table>\n",
       "</div>"
      ],
      "text/plain": [
       "       capacity\n",
       "cycle          \n",
       "169           0\n",
       "170           0"
      ]
     },
     "execution_count": 4,
     "metadata": {},
     "output_type": "execute_result"
    }
   ],
   "source": [
    "capacity_counts = pd.DataFrame(df.groupby('cycle')['capacity'].nunique())\n",
    "zero_capacity_rows = capacity_counts[capacity_counts['capacity'] != 1]\n",
    "# capacity_counts\n",
    "zero_capacity_rows"
   ]
  },
  {
   "cell_type": "code",
   "execution_count": 5,
   "id": "cf6fa883",
   "metadata": {
    "scrolled": true
   },
   "outputs": [
    {
     "name": "stdout",
     "output_type": "stream",
     "text": [
      "The standard deviation of capacity is 0.1824.\n",
      "The average of capacity is 1.5603.\n",
      "This makes the standard deviation 11.69% of the mean\n"
     ]
    }
   ],
   "source": [
    "cap_std = df['capacity'].std()\n",
    "cap_mean = df['capacity'].mean()\n",
    "\n",
    "print(f\"The standard deviation of capacity is {round(cap_std, 4)}.\")\n",
    "print(f\"The average of capacity is {round(cap_mean, 4)}.\")\n",
    "print(f\"This makes the standard deviation {round(cap_std/cap_mean*100,2)}% of the mean\")"
   ]
  },
  {
   "cell_type": "markdown",
   "id": "09d459e3",
   "metadata": {},
   "source": [
    "The above cell shows that there is a singular battery capacity for each cycle except for 169 and 170.\n",
    "For now we shall remove those two cycles as there is a large amount of deviation."
   ]
  },
  {
   "cell_type": "code",
   "execution_count": 6,
   "id": "925ee0d8",
   "metadata": {},
   "outputs": [
    {
     "data": {
      "text/html": [
       "<div>\n",
       "<style scoped>\n",
       "    .dataframe tbody tr th:only-of-type {\n",
       "        vertical-align: middle;\n",
       "    }\n",
       "\n",
       "    .dataframe tbody tr th {\n",
       "        vertical-align: top;\n",
       "    }\n",
       "\n",
       "    .dataframe thead th {\n",
       "        text-align: right;\n",
       "    }\n",
       "</style>\n",
       "<table border=\"1\" class=\"dataframe\">\n",
       "  <thead>\n",
       "    <tr style=\"text-align: right;\">\n",
       "      <th></th>\n",
       "      <th>cycle</th>\n",
       "      <th>ambient_temperature</th>\n",
       "      <th>datetime</th>\n",
       "      <th>voltage_measured</th>\n",
       "      <th>current_measured</th>\n",
       "      <th>temperature_measured</th>\n",
       "      <th>current</th>\n",
       "      <th>voltage</th>\n",
       "      <th>time</th>\n",
       "      <th>capacity</th>\n",
       "    </tr>\n",
       "  </thead>\n",
       "  <tbody>\n",
       "    <tr>\n",
       "      <th>0</th>\n",
       "      <td>1</td>\n",
       "      <td>24</td>\n",
       "      <td>2008-04-02 13:08:17</td>\n",
       "      <td>3.873017</td>\n",
       "      <td>-0.001201</td>\n",
       "      <td>24.655358</td>\n",
       "      <td>0.000</td>\n",
       "      <td>0.003</td>\n",
       "      <td>0.000</td>\n",
       "      <td>1.856487</td>\n",
       "    </tr>\n",
       "    <tr>\n",
       "      <th>1</th>\n",
       "      <td>1</td>\n",
       "      <td>24</td>\n",
       "      <td>2008-04-02 13:08:17</td>\n",
       "      <td>4.206466</td>\n",
       "      <td>0.060136</td>\n",
       "      <td>24.241571</td>\n",
       "      <td>0.057</td>\n",
       "      <td>4.250</td>\n",
       "      <td>5314.703</td>\n",
       "      <td>1.856487</td>\n",
       "    </tr>\n",
       "    <tr>\n",
       "      <th>2</th>\n",
       "      <td>1</td>\n",
       "      <td>24</td>\n",
       "      <td>2008-04-02 13:08:17</td>\n",
       "      <td>4.206558</td>\n",
       "      <td>0.057209</td>\n",
       "      <td>24.230457</td>\n",
       "      <td>0.057</td>\n",
       "      <td>4.250</td>\n",
       "      <td>5329.485</td>\n",
       "      <td>1.856487</td>\n",
       "    </tr>\n",
       "    <tr>\n",
       "      <th>3</th>\n",
       "      <td>1</td>\n",
       "      <td>24</td>\n",
       "      <td>2008-04-02 13:08:17</td>\n",
       "      <td>4.205512</td>\n",
       "      <td>0.050194</td>\n",
       "      <td>24.241984</td>\n",
       "      <td>0.047</td>\n",
       "      <td>4.245</td>\n",
       "      <td>5344.282</td>\n",
       "      <td>1.856487</td>\n",
       "    </tr>\n",
       "    <tr>\n",
       "      <th>4</th>\n",
       "      <td>1</td>\n",
       "      <td>24</td>\n",
       "      <td>2008-04-02 13:08:17</td>\n",
       "      <td>4.205301</td>\n",
       "      <td>0.047004</td>\n",
       "      <td>24.226732</td>\n",
       "      <td>0.047</td>\n",
       "      <td>4.245</td>\n",
       "      <td>5359.141</td>\n",
       "      <td>1.856487</td>\n",
       "    </tr>\n",
       "  </tbody>\n",
       "</table>\n",
       "</div>"
      ],
      "text/plain": [
       "   cycle  ambient_temperature            datetime  voltage_measured  \\\n",
       "0      1                   24 2008-04-02 13:08:17          3.873017   \n",
       "1      1                   24 2008-04-02 13:08:17          4.206466   \n",
       "2      1                   24 2008-04-02 13:08:17          4.206558   \n",
       "3      1                   24 2008-04-02 13:08:17          4.205512   \n",
       "4      1                   24 2008-04-02 13:08:17          4.205301   \n",
       "\n",
       "   current_measured  temperature_measured  current  voltage      time  \\\n",
       "0         -0.001201             24.655358    0.000    0.003     0.000   \n",
       "1          0.060136             24.241571    0.057    4.250  5314.703   \n",
       "2          0.057209             24.230457    0.057    4.250  5329.485   \n",
       "3          0.050194             24.241984    0.047    4.245  5344.282   \n",
       "4          0.047004             24.226732    0.047    4.245  5359.141   \n",
       "\n",
       "   capacity  \n",
       "0  1.856487  \n",
       "1  1.856487  \n",
       "2  1.856487  \n",
       "3  1.856487  \n",
       "4  1.856487  "
      ]
     },
     "execution_count": 6,
     "metadata": {},
     "output_type": "execute_result"
    }
   ],
   "source": [
    "df = df[df['cycle'] <  169]\n",
    "caps = pd.DataFrame(df.groupby('cycle')['capacity'].max())\n",
    "temp = df.merge(caps, on='cycle', how='left').ffill()\n",
    "temp = temp.drop([\"capacity_x\"], axis = 1).rename(columns = {\"capacity_y\" : \"capacity\"})\n",
    "df = temp\n",
    "temp.head()"
   ]
  },
  {
   "cell_type": "code",
   "execution_count": 7,
   "id": "6d28ea6a-9c47-470d-8bc6-1aea4975390c",
   "metadata": {},
   "outputs": [
    {
     "data": {
      "text/plain": [
       "1"
      ]
     },
     "execution_count": 7,
     "metadata": {},
     "output_type": "execute_result"
    }
   ],
   "source": [
    "df['ambient_temperature'].nunique()"
   ]
  },
  {
   "cell_type": "markdown",
   "id": "00ffc1e0",
   "metadata": {},
   "source": [
    "# Machine Learning (GRU)\n",
    "\n",
    "Now we begin to build our Gated Recurrent Unit Neural Network"
   ]
  },
  {
   "cell_type": "code",
   "execution_count": 30,
   "id": "aa6e2121",
   "metadata": {
    "tags": []
   },
   "outputs": [],
   "source": [
    "import tensorflow as tf\n",
    "from tensorflow.keras.models import Sequential, load_model\n",
    "from tensorflow.keras.layers import Dense\n",
    "from sklearn.metrics import accuracy_score, mean_squared_error, mean_absolute_error, r2_score\n",
    "from sklearn.model_selection import train_test_split\n",
    "from tensorflow import keras\n",
    "import warnings"
   ]
  },
  {
   "cell_type": "code",
   "execution_count": 9,
   "id": "443de402-83dd-4cd7-abd8-24ec938cba6e",
   "metadata": {},
   "outputs": [],
   "source": [
    "gpus = tf.config.experimental.list_physical_devices('GPU')\n",
    "for gpu in gpus:\n",
    "    tf.config.experimental.set_memory_growth(gpu, True)"
   ]
  },
  {
   "cell_type": "code",
   "execution_count": 10,
   "id": "a32a554c-65e7-4a40-86f3-1c9d92cc5059",
   "metadata": {},
   "outputs": [
    {
     "data": {
      "text/plain": [
       "[PhysicalDevice(name='/physical_device:GPU:0', device_type='GPU')]"
      ]
     },
     "execution_count": 10,
     "metadata": {},
     "output_type": "execute_result"
    }
   ],
   "source": [
    "tf.config.experimental.list_physical_devices('GPU')"
   ]
  },
  {
   "cell_type": "code",
   "execution_count": 11,
   "id": "87fdb0fe-a8a1-477c-9ccc-f82bede135d3",
   "metadata": {},
   "outputs": [],
   "source": [
    "prep_df = df.drop(['datetime', 'ambient_temperature'], axis = 1)"
   ]
  },
  {
   "cell_type": "code",
   "execution_count": 12,
   "id": "8d09caab-96bc-40f5-b6e9-816734f30978",
   "metadata": {},
   "outputs": [],
   "source": [
    "X = df[[\"cycle\", \"voltage_measured\", \"current_measured\", \"temperature_measured\", \"current\", \"voltage\", \"time\"]]\n",
    "y = df[\"capacity\"]"
   ]
  },
  {
   "cell_type": "markdown",
   "id": "a444c734-292f-456a-9ce2-d7bbad31a537",
   "metadata": {},
   "source": [
    "## Normalisation\n",
    "\n",
    "Here we will normalise the values to give equal weight to each feature"
   ]
  },
  {
   "cell_type": "code",
   "execution_count": 13,
   "id": "32cc3306-1418-4783-b0ae-c8b41b36d22b",
   "metadata": {},
   "outputs": [],
   "source": [
    "# Normalize the input features\n",
    "scaler = MinMaxScaler()\n",
    "X = scaler.fit_transform(X)"
   ]
  },
  {
   "cell_type": "code",
   "execution_count": 14,
   "id": "d54dfdc0-c235-4ae9-94fa-1e911a9ed012",
   "metadata": {},
   "outputs": [],
   "source": [
    "# Reshape data for the RNN\n",
    "X = X.reshape(X.shape[0], 1, X.shape[1])"
   ]
  },
  {
   "cell_type": "markdown",
   "id": "bb785d86-c20c-41d0-8731-aabd70865549",
   "metadata": {},
   "source": [
    "### Splitting the Dataset for training"
   ]
  },
  {
   "cell_type": "code",
   "execution_count": 15,
   "id": "61c6803f-7eae-480e-9030-24c37a164e02",
   "metadata": {},
   "outputs": [],
   "source": [
    "X_train, X_test, y_train, y_test = train_test_split(X, y, test_size=0.2, random_state=42)"
   ]
  },
  {
   "cell_type": "markdown",
   "id": "7402ec9c-e773-48e3-83c2-12004905635e",
   "metadata": {},
   "source": [
    "## Regression with GRU"
   ]
  },
  {
   "cell_type": "code",
   "execution_count": 18,
   "id": "bb0ceff5-99e0-41ab-9ff8-57aef0c51511",
   "metadata": {},
   "outputs": [],
   "source": [
    "def create_GRU():\n",
    "    model = keras.Sequential()\n",
    "    model.add(keras.layers.GRU(64, input_shape=(X_train.shape[1], X_train.shape[2]), activation='tanh'))\n",
    "    model.add(keras.layers.Dense(1))\n",
    "    \n",
    "    model.compile(loss='mean_squared_error', optimizer='adam', \n",
    "                  metrics=['mean_squared_error', 'mean_absolute_error'])\n",
    "    return model\n",
    "\n",
    "def plot_loss(history, title):\n",
    "    plt.plot(history.history['loss'], label='loss')\n",
    "    plt.plot(history.history['val_loss'], label='val_loss')\n",
    "    # plt.ylim([0, 1])\n",
    "    plt.xlabel('Epoch')\n",
    "    plt.ylabel('Error [Capacity]')\n",
    "    plt.title(title)\n",
    "    plt.legend()\n",
    "    plt.grid(True)"
   ]
  },
  {
   "cell_type": "code",
   "execution_count": 19,
   "id": "323a757d-033e-4648-b1c2-d4f6c22573b5",
   "metadata": {},
   "outputs": [
    {
     "name": "stdout",
     "output_type": "stream",
     "text": [
      "Model: \"sequential\"\n",
      "_________________________________________________________________\n",
      " Layer (type)                Output Shape              Param #   \n",
      "=================================================================\n",
      " gru (GRU)                   (None, 64)                14016     \n",
      "                                                                 \n",
      " dense (Dense)               (None, 1)                 65        \n",
      "                                                                 \n",
      "=================================================================\n",
      "Total params: 14,081\n",
      "Trainable params: 14,081\n",
      "Non-trainable params: 0\n",
      "_________________________________________________________________\n"
     ]
    }
   ],
   "source": [
    "gru_model = create_GRU()\n",
    "\n",
    "gru_model.summary()"
   ]
  },
  {
   "cell_type": "code",
   "execution_count": 20,
   "id": "b171608f-5d04-4622-b7c1-9a712d2acb7c",
   "metadata": {},
   "outputs": [
    {
     "name": "stdout",
     "output_type": "stream",
     "text": [
      "New History array has been created\n"
     ]
    }
   ],
   "source": [
    "epochs = 40\n",
    "checkpoint_filepath = os.path.join('checkpoints','GRU_01{epoch:02d}-{val_loss:.4f}.h5')\n",
    "model_checkpoint_callback = keras.callbacks.ModelCheckpoint(\n",
    "    filepath=checkpoint_filepath,\n",
    "    save_weights_only=True,\n",
    "    monitor='mean_squared_error',\n",
    "    mode='min',\n",
    "    save_best_only=True)\n",
    "\n",
    "if 'history' not in locals():\n",
    "    print('New History array has been created')\n",
    "    history =  []"
   ]
  },
  {
   "cell_type": "code",
   "execution_count": 21,
   "id": "25d39640-219b-4b4a-9dd3-f14afd0d2f97",
   "metadata": {
    "tags": []
   },
   "outputs": [
    {
     "name": "stdout",
     "output_type": "stream",
     "text": [
      "Epoch 1/40\n",
      "11757/11757 [==============================] - 122s 7ms/step - loss: 0.0055 - mean_squared_error: 0.0055 - mean_absolute_error: 0.0299 - val_loss: 6.8449e-04 - val_mean_squared_error: 6.8449e-04 - val_mean_absolute_error: 0.0197\n",
      "Epoch 2/40\n",
      "11757/11757 [==============================] - 86s 7ms/step - loss: 5.2955e-04 - mean_squared_error: 5.2955e-04 - mean_absolute_error: 0.0169 - val_loss: 2.4974e-04 - val_mean_squared_error: 2.4974e-04 - val_mean_absolute_error: 0.0116\n",
      "Epoch 3/40\n",
      "11757/11757 [==============================] - 86s 7ms/step - loss: 2.5526e-04 - mean_squared_error: 2.5526e-04 - mean_absolute_error: 0.0118 - val_loss: 2.4884e-04 - val_mean_squared_error: 2.4884e-04 - val_mean_absolute_error: 0.0107\n",
      "Epoch 4/40\n",
      "11757/11757 [==============================] - 89s 8ms/step - loss: 2.4519e-04 - mean_squared_error: 2.4519e-04 - mean_absolute_error: 0.0115 - val_loss: 2.8063e-04 - val_mean_squared_error: 2.8063e-04 - val_mean_absolute_error: 0.0138\n",
      "Epoch 5/40\n",
      "11757/11757 [==============================] - 85s 7ms/step - loss: 2.3962e-04 - mean_squared_error: 2.3962e-04 - mean_absolute_error: 0.0113 - val_loss: 2.4680e-04 - val_mean_squared_error: 2.4680e-04 - val_mean_absolute_error: 0.0106\n",
      "Epoch 6/40\n",
      "11757/11757 [==============================] - 87s 7ms/step - loss: 2.3681e-04 - mean_squared_error: 2.3681e-04 - mean_absolute_error: 0.0113 - val_loss: 2.1757e-04 - val_mean_squared_error: 2.1757e-04 - val_mean_absolute_error: 0.0106\n",
      "Epoch 7/40\n",
      "11757/11757 [==============================] - 133s 11ms/step - loss: 2.3431e-04 - mean_squared_error: 2.3431e-04 - mean_absolute_error: 0.0112 - val_loss: 2.4573e-04 - val_mean_squared_error: 2.4573e-04 - val_mean_absolute_error: 0.0105\n",
      "Epoch 8/40\n",
      "11757/11757 [==============================] - 138s 12ms/step - loss: 2.3204e-04 - mean_squared_error: 2.3204e-04 - mean_absolute_error: 0.0111 - val_loss: 2.1706e-04 - val_mean_squared_error: 2.1706e-04 - val_mean_absolute_error: 0.0107\n",
      "Epoch 9/40\n",
      "11757/11757 [==============================] - 86s 7ms/step - loss: 2.3050e-04 - mean_squared_error: 2.3050e-04 - mean_absolute_error: 0.0111 - val_loss: 2.1570e-04 - val_mean_squared_error: 2.1570e-04 - val_mean_absolute_error: 0.0107\n",
      "Epoch 10/40\n",
      "11757/11757 [==============================] - 85s 7ms/step - loss: 2.2870e-04 - mean_squared_error: 2.2870e-04 - mean_absolute_error: 0.0110 - val_loss: 2.1596e-04 - val_mean_squared_error: 2.1596e-04 - val_mean_absolute_error: 0.0103\n",
      "Epoch 11/40\n",
      "11757/11757 [==============================] - 86s 7ms/step - loss: 2.2725e-04 - mean_squared_error: 2.2725e-04 - mean_absolute_error: 0.0110 - val_loss: 2.2670e-04 - val_mean_squared_error: 2.2670e-04 - val_mean_absolute_error: 0.0102\n",
      "Epoch 12/40\n",
      "11757/11757 [==============================] - 86s 7ms/step - loss: 2.2671e-04 - mean_squared_error: 2.2671e-04 - mean_absolute_error: 0.0109 - val_loss: 2.1401e-04 - val_mean_squared_error: 2.1401e-04 - val_mean_absolute_error: 0.0104\n",
      "Epoch 13/40\n",
      "11757/11757 [==============================] - 86s 7ms/step - loss: 2.2408e-04 - mean_squared_error: 2.2408e-04 - mean_absolute_error: 0.0109 - val_loss: 2.1584e-04 - val_mean_squared_error: 2.1584e-04 - val_mean_absolute_error: 0.0103\n",
      "Epoch 14/40\n",
      "11757/11757 [==============================] - 86s 7ms/step - loss: 2.2321e-04 - mean_squared_error: 2.2321e-04 - mean_absolute_error: 0.0108 - val_loss: 2.1939e-04 - val_mean_squared_error: 2.1939e-04 - val_mean_absolute_error: 0.0104\n",
      "Epoch 15/40\n",
      "11757/11757 [==============================] - 86s 7ms/step - loss: 2.2337e-04 - mean_squared_error: 2.2337e-04 - mean_absolute_error: 0.0108 - val_loss: 2.5615e-04 - val_mean_squared_error: 2.5615e-04 - val_mean_absolute_error: 0.0130\n",
      "Epoch 16/40\n",
      "11757/11757 [==============================] - 102s 9ms/step - loss: 2.2237e-04 - mean_squared_error: 2.2237e-04 - mean_absolute_error: 0.0108 - val_loss: 2.6944e-04 - val_mean_squared_error: 2.6944e-04 - val_mean_absolute_error: 0.0109\n",
      "Epoch 17/40\n",
      "11757/11757 [==============================] - 87s 7ms/step - loss: 2.2108e-04 - mean_squared_error: 2.2108e-04 - mean_absolute_error: 0.0108 - val_loss: 2.1194e-04 - val_mean_squared_error: 2.1194e-04 - val_mean_absolute_error: 0.0102\n",
      "Epoch 18/40\n",
      "11757/11757 [==============================] - 87s 7ms/step - loss: 2.2005e-04 - mean_squared_error: 2.2005e-04 - mean_absolute_error: 0.0107 - val_loss: 2.2111e-04 - val_mean_squared_error: 2.2111e-04 - val_mean_absolute_error: 0.0101\n",
      "Epoch 19/40\n",
      "11757/11757 [==============================] - 90s 8ms/step - loss: 2.1905e-04 - mean_squared_error: 2.1905e-04 - mean_absolute_error: 0.0107 - val_loss: 2.1579e-04 - val_mean_squared_error: 2.1579e-04 - val_mean_absolute_error: 0.0111\n",
      "Epoch 20/40\n",
      "11757/11757 [==============================] - 87s 7ms/step - loss: 2.1887e-04 - mean_squared_error: 2.1887e-04 - mean_absolute_error: 0.0107 - val_loss: 2.0957e-04 - val_mean_squared_error: 2.0957e-04 - val_mean_absolute_error: 0.0105\n",
      "Epoch 21/40\n",
      "11757/11757 [==============================] - 88s 7ms/step - loss: 2.1711e-04 - mean_squared_error: 2.1711e-04 - mean_absolute_error: 0.0106 - val_loss: 2.1157e-04 - val_mean_squared_error: 2.1157e-04 - val_mean_absolute_error: 0.0107\n",
      "Epoch 22/40\n",
      "11757/11757 [==============================] - 87s 7ms/step - loss: 2.1657e-04 - mean_squared_error: 2.1657e-04 - mean_absolute_error: 0.0106 - val_loss: 2.1391e-04 - val_mean_squared_error: 2.1391e-04 - val_mean_absolute_error: 0.0109\n",
      "Epoch 23/40\n",
      "11757/11757 [==============================] - 85s 7ms/step - loss: 2.1558e-04 - mean_squared_error: 2.1558e-04 - mean_absolute_error: 0.0106 - val_loss: 2.2163e-04 - val_mean_squared_error: 2.2163e-04 - val_mean_absolute_error: 0.0099\n",
      "Epoch 24/40\n",
      "11757/11757 [==============================] - 90s 8ms/step - loss: 2.1480e-04 - mean_squared_error: 2.1480e-04 - mean_absolute_error: 0.0106 - val_loss: 2.1000e-04 - val_mean_squared_error: 2.1000e-04 - val_mean_absolute_error: 0.0107\n",
      "Epoch 25/40\n",
      "11757/11757 [==============================] - 91s 8ms/step - loss: 2.1385e-04 - mean_squared_error: 2.1385e-04 - mean_absolute_error: 0.0105 - val_loss: 2.1160e-04 - val_mean_squared_error: 2.1160e-04 - val_mean_absolute_error: 0.0099\n",
      "Epoch 26/40\n",
      "11757/11757 [==============================] - 89s 8ms/step - loss: 2.1249e-04 - mean_squared_error: 2.1249e-04 - mean_absolute_error: 0.0105 - val_loss: 2.1049e-04 - val_mean_squared_error: 2.1049e-04 - val_mean_absolute_error: 0.0099\n",
      "Epoch 27/40\n",
      "11757/11757 [==============================] - 90s 8ms/step - loss: 2.1126e-04 - mean_squared_error: 2.1126e-04 - mean_absolute_error: 0.0105 - val_loss: 2.0862e-04 - val_mean_squared_error: 2.0862e-04 - val_mean_absolute_error: 0.0100\n",
      "Epoch 28/40\n",
      "11757/11757 [==============================] - 90s 8ms/step - loss: 2.1132e-04 - mean_squared_error: 2.1132e-04 - mean_absolute_error: 0.0105 - val_loss: 2.0172e-04 - val_mean_squared_error: 2.0172e-04 - val_mean_absolute_error: 0.0100\n",
      "Epoch 29/40\n",
      "11757/11757 [==============================] - 91s 8ms/step - loss: 2.0959e-04 - mean_squared_error: 2.0959e-04 - mean_absolute_error: 0.0104 - val_loss: 2.0308e-04 - val_mean_squared_error: 2.0308e-04 - val_mean_absolute_error: 0.0098\n",
      "Epoch 30/40\n",
      "11757/11757 [==============================] - 91s 8ms/step - loss: 2.0800e-04 - mean_squared_error: 2.0800e-04 - mean_absolute_error: 0.0104 - val_loss: 2.0311e-04 - val_mean_squared_error: 2.0311e-04 - val_mean_absolute_error: 0.0105\n",
      "Epoch 31/40\n",
      "11757/11757 [==============================] - 91s 8ms/step - loss: 2.0717e-04 - mean_squared_error: 2.0717e-04 - mean_absolute_error: 0.0103 - val_loss: 2.1425e-04 - val_mean_squared_error: 2.1425e-04 - val_mean_absolute_error: 0.0112\n",
      "Epoch 32/40\n",
      "11757/11757 [==============================] - 90s 8ms/step - loss: 2.0590e-04 - mean_squared_error: 2.0590e-04 - mean_absolute_error: 0.0103 - val_loss: 2.0222e-04 - val_mean_squared_error: 2.0222e-04 - val_mean_absolute_error: 0.0097\n",
      "Epoch 33/40\n",
      "11757/11757 [==============================] - 90s 8ms/step - loss: 2.0463e-04 - mean_squared_error: 2.0463e-04 - mean_absolute_error: 0.0102 - val_loss: 1.9615e-04 - val_mean_squared_error: 1.9615e-04 - val_mean_absolute_error: 0.0099\n",
      "Epoch 34/40\n",
      "11757/11757 [==============================] - 92s 8ms/step - loss: 2.0350e-04 - mean_squared_error: 2.0350e-04 - mean_absolute_error: 0.0102 - val_loss: 1.9593e-04 - val_mean_squared_error: 1.9593e-04 - val_mean_absolute_error: 0.0098\n",
      "Epoch 35/40\n",
      "11757/11757 [==============================] - 93s 8ms/step - loss: 2.0175e-04 - mean_squared_error: 2.0175e-04 - mean_absolute_error: 0.0101 - val_loss: 2.2613e-04 - val_mean_squared_error: 2.2613e-04 - val_mean_absolute_error: 0.0098\n",
      "Epoch 36/40\n",
      "11757/11757 [==============================] - 93s 8ms/step - loss: 2.0011e-04 - mean_squared_error: 2.0011e-04 - mean_absolute_error: 0.0101 - val_loss: 2.0180e-04 - val_mean_squared_error: 2.0180e-04 - val_mean_absolute_error: 0.0108\n",
      "Epoch 37/40\n",
      "11757/11757 [==============================] - 93s 8ms/step - loss: 1.9850e-04 - mean_squared_error: 1.9850e-04 - mean_absolute_error: 0.0100 - val_loss: 2.4045e-04 - val_mean_squared_error: 2.4045e-04 - val_mean_absolute_error: 0.0124\n",
      "Epoch 38/40\n",
      "11757/11757 [==============================] - 93s 8ms/step - loss: 1.9699e-04 - mean_squared_error: 1.9699e-04 - mean_absolute_error: 0.0100 - val_loss: 1.9715e-04 - val_mean_squared_error: 1.9715e-04 - val_mean_absolute_error: 0.0094\n",
      "Epoch 39/40\n",
      "11757/11757 [==============================] - 93s 8ms/step - loss: 1.9522e-04 - mean_squared_error: 1.9522e-04 - mean_absolute_error: 0.0099 - val_loss: 1.9302e-04 - val_mean_squared_error: 1.9302e-04 - val_mean_absolute_error: 0.0093\n",
      "Epoch 40/40\n",
      "11757/11757 [==============================] - 94s 8ms/step - loss: 1.9403e-04 - mean_squared_error: 1.9403e-04 - mean_absolute_error: 0.0098 - val_loss: 1.9274e-04 - val_mean_squared_error: 1.9274e-04 - val_mean_absolute_error: 0.0093\n",
      "CPU times: total: 6min 45s\n",
      "Wall time: 1h 1min 37s\n"
     ]
    }
   ],
   "source": [
    "%%time\n",
    "history.append(gru_model.fit(\n",
    "    X_train,\n",
    "    y_train,\n",
    "    batch_size=32,\n",
    "    validation_split = 0.2,\n",
    "    epochs = epochs,\n",
    "    callbacks = model_checkpoint_callback))"
   ]
  },
  {
   "cell_type": "code",
   "execution_count": 22,
   "id": "7e99486c-417e-4d01-91c9-a8193950739d",
   "metadata": {},
   "outputs": [
    {
     "data": {
      "image/png": "[encoded data removed]",
      "text/plain": [
       "<Figure size 640x480 with 1 Axes>"
      ]
     },
     "metadata": {},
     "output_type": "display_data"
    }
   ],
   "source": [
    "plot_loss(history[-1], \"GRU Loss Capacity\")"
   ]
  },
  {
   "cell_type": "markdown",
   "id": "6521f6ad-112f-4e2b-92a8-af538699df9a",
   "metadata": {},
   "source": [
    "## Performance"
   ]
  },
  {
   "cell_type": "code",
   "execution_count": 23,
   "id": "0ce353e6-e030-4185-9e3c-2d6d031cc2c4",
   "metadata": {
    "tags": []
   },
   "outputs": [],
   "source": [
    "model_path = os.path.join(\"models\",\"GRU_02.keras\")"
   ]
  },
  {
   "cell_type": "code",
   "execution_count": 24,
   "id": "27093b5b-b978-452d-b254-d4fda6421a0d",
   "metadata": {},
   "outputs": [],
   "source": [
    "gru_model.save(model_path)"
   ]
  },
  {
   "cell_type": "markdown",
   "id": "96c5b5a9-216a-4cbf-906c-b3776c9c58a3",
   "metadata": {},
   "source": [
    "### Make Predictions"
   ]
  },
  {
   "cell_type": "code",
   "execution_count": 25,
   "id": "e48aa930-d8ff-44ca-be74-1e334c407c16",
   "metadata": {},
   "outputs": [],
   "source": [
    "gru_model = tf.keras.models.load_model(model_path)"
   ]
  },
  {
   "cell_type": "code",
   "execution_count": 26,
   "id": "cdb801dc-bc2f-4411-bedb-1793bb10abd2",
   "metadata": {},
   "outputs": [
    {
     "name": "stdout",
     "output_type": "stream",
     "text": [
      "3675/3675 [==============================] - 10s 3ms/step\n"
     ]
    }
   ],
   "source": [
    "test_predictions = gru_model.predict(X_test).flatten()"
   ]
  },
  {
   "cell_type": "code",
   "execution_count": 27,
   "id": "82f4b444-a160-498f-a233-5af02da958a5",
   "metadata": {},
   "outputs": [
    {
     "data": {
      "image/png": "[encoded data removed]",
      "text/plain": [
       "<Figure size 640x480 with 1 Axes>"
      ]
     },
     "metadata": {},
     "output_type": "display_data"
    }
   ],
   "source": [
    "a = plt.axes(aspect='equal')\n",
    "plt.scatter(y_test, test_predictions)\n",
    "plt.xlabel('True Values [capacity]')\n",
    "plt.ylabel('Predictions [capacity]')\n",
    "lims = [1.2, 2]\n",
    "plt.xlim(lims)\n",
    "plt.ylim(lims)\n",
    "_ = plt.plot(lims, lims)"
   ]
  },
  {
   "cell_type": "code",
   "execution_count": 28,
   "id": "fc52077c-9266-4430-8286-54943cc2b369",
   "metadata": {},
   "outputs": [
    {
     "data": {
      "image/png": "[encoded data removed]",
      "text/plain": [
       "<Figure size 640x480 with 1 Axes>"
      ]
     },
     "metadata": {},
     "output_type": "display_data"
    }
   ],
   "source": [
    "error = test_predictions - y_test\n",
    "plt.hist(error, bins=25)\n",
    "plt.xlabel('Prediction Error [capacity]')\n",
    "_ = plt.ylabel('Count')"
   ]
  },
  {
   "cell_type": "code",
   "execution_count": 32,
   "id": "54174516-5a32-4986-bbd4-ffc6102b80a4",
   "metadata": {},
   "outputs": [
    {
     "name": "stdout",
     "output_type": "stream",
     "text": [
      "MSE: 0.00019048800148067978\n",
      "RMSE: 0.01380173907450361\n",
      "MAE: 0.00928027922130252\n",
      "R2 Score: 0.9935503603412553\n"
     ]
    }
   ],
   "source": [
    "# Calculate metrics\n",
    "mse = mean_squared_error(y_test, test_predictions)\n",
    "rmse = np.sqrt(mse)\n",
    "mae = mean_absolute_error(y_test, test_predictions)\n",
    "r2 = r2_score(y_test, test_predictions)\n",
    "\n",
    "print(f'MSE: {mse}')\n",
    "print(f'RMSE: {rmse}')\n",
    "print(f'MAE: {mae}')\n",
    "print(f'R2 Score: {r2}')"
   ]
  },
  {
   "cell_type": "code",
   "execution_count": null,
   "id": "b6bf9421-c059-4e28-b1ed-64eace771b18",
   "metadata": {},
   "outputs": [],
   "source": []
  }
 ],
 "metadata": {
  "kernelspec": {
   "display_name": "DeepNN",
   "language": "python",
   "name": "deepnn"
  },
  "language_info": {
   "codemirror_mode": {
    "name": "ipython",
    "version": 3
   },
   "file_extension": ".py",
   "mimetype": "text/x-python",
   "name": "python",
   "nbconvert_exporter": "python",
   "pygments_lexer": "ipython3",
   "version": "3.9.13"
  }
 },
 "nbformat": 4,
 "nbformat_minor": 5
}
