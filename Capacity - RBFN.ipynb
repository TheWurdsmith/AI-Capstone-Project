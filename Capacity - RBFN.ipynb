{
 "cells": [
  {
   "cell_type": "markdown",
   "id": "926969bb",
   "metadata": {},
   "source": [
    "# Data Preparation\n",
    "\n",
    "In this sectiono we load in and prepare the data for our machine learning."
   ]
  },
  {
   "cell_type": "code",
   "execution_count": 1,
   "id": "7b1d5fb9-458d-4350-85ff-d49cdd8b3769",
   "metadata": {
    "tags": []
   },
   "outputs": [],
   "source": [
    "# !pip install scipy\n",
    "# !pip install pandas\n",
    "# !pip install scikit-learn"
   ]
  },
  {
   "cell_type": "code",
   "execution_count": 2,
   "id": "3edc0c56-2881-4c28-99af-5be9173c78a5",
   "metadata": {
    "tags": []
   },
   "outputs": [],
   "source": [
    "# !conda install -c conda-forge cudatoolkit=11.2 cudnn=8.1.0\n",
    "# # Anything above 2.10 is not supported on the GPU on Windows Native\n",
    "# !pip install \"tensorflow<2.11\"\n"
   ]
  },
  {
   "cell_type": "code",
   "execution_count": 3,
   "id": "e308abf2-77f3-4efa-9fe8-5e33b9329973",
   "metadata": {
    "tags": []
   },
   "outputs": [],
   "source": [
    "# !pip list\n",
    "# !pip install -q seaborn"
   ]
  },
  {
   "cell_type": "code",
   "execution_count": 1,
   "id": "bae6688c",
   "metadata": {},
   "outputs": [],
   "source": [
    "import os\n",
    "import scipy.io as sio\n",
    "import pandas as pd\n",
    "from scipy.io import loadmat\n",
    "import datetime\n",
    "from pandas import DataFrame\n",
    "import matplotlib.pyplot as plt\n",
    "import numpy as np\n",
    "import seaborn as sns\n",
    "import matplotlib.cm as cm\n",
    "import random\n",
    "\n",
    "np.set_printoptions(precision=3, suppress=True)"
   ]
  },
  {
   "cell_type": "markdown",
   "id": "ab2a9a82",
   "metadata": {},
   "source": [
    "## Ingesting the data\n",
    "\n",
    "The following data is from a Nasa dataset with n refferring to the iteration number of the dataset used. \n",
    "Temperature is in celcius\n",
    "Voltage is in volts\n",
    "Current is in Amps"
   ]
  },
  {
   "cell_type": "code",
   "execution_count": 2,
   "id": "aed8bdba",
   "metadata": {},
   "outputs": [
    {
     "data": {
      "text/html": [
       "<div>\n",
       "<style scoped>\n",
       "    .dataframe tbody tr th:only-of-type {\n",
       "        vertical-align: middle;\n",
       "    }\n",
       "\n",
       "    .dataframe tbody tr th {\n",
       "        vertical-align: top;\n",
       "    }\n",
       "\n",
       "    .dataframe thead th {\n",
       "        text-align: right;\n",
       "    }\n",
       "</style>\n",
       "<table border=\"1\" class=\"dataframe\">\n",
       "  <thead>\n",
       "    <tr style=\"text-align: right;\">\n",
       "      <th></th>\n",
       "      <th>cycle</th>\n",
       "      <th>ambient_temperature</th>\n",
       "      <th>datetime</th>\n",
       "      <th>voltage_measured</th>\n",
       "      <th>current_measured</th>\n",
       "      <th>temperature_measured</th>\n",
       "      <th>current</th>\n",
       "      <th>voltage</th>\n",
       "      <th>time</th>\n",
       "      <th>capacity</th>\n",
       "    </tr>\n",
       "  </thead>\n",
       "  <tbody>\n",
       "    <tr>\n",
       "      <th>0</th>\n",
       "      <td>1</td>\n",
       "      <td>24</td>\n",
       "      <td>2008-04-02 13:08:17</td>\n",
       "      <td>3.873017</td>\n",
       "      <td>-0.001201</td>\n",
       "      <td>24.655358</td>\n",
       "      <td>0.000</td>\n",
       "      <td>0.003</td>\n",
       "      <td>0.000</td>\n",
       "      <td>NaN</td>\n",
       "    </tr>\n",
       "    <tr>\n",
       "      <th>1</th>\n",
       "      <td>1</td>\n",
       "      <td>24</td>\n",
       "      <td>2008-04-02 13:08:17</td>\n",
       "      <td>4.206466</td>\n",
       "      <td>0.060136</td>\n",
       "      <td>24.241571</td>\n",
       "      <td>0.057</td>\n",
       "      <td>4.250</td>\n",
       "      <td>5314.703</td>\n",
       "      <td>NaN</td>\n",
       "    </tr>\n",
       "    <tr>\n",
       "      <th>2</th>\n",
       "      <td>1</td>\n",
       "      <td>24</td>\n",
       "      <td>2008-04-02 13:08:17</td>\n",
       "      <td>4.206558</td>\n",
       "      <td>0.057209</td>\n",
       "      <td>24.230457</td>\n",
       "      <td>0.057</td>\n",
       "      <td>4.250</td>\n",
       "      <td>5329.485</td>\n",
       "      <td>NaN</td>\n",
       "    </tr>\n",
       "    <tr>\n",
       "      <th>3</th>\n",
       "      <td>1</td>\n",
       "      <td>24</td>\n",
       "      <td>2008-04-02 13:08:17</td>\n",
       "      <td>4.205512</td>\n",
       "      <td>0.050194</td>\n",
       "      <td>24.241984</td>\n",
       "      <td>0.047</td>\n",
       "      <td>4.245</td>\n",
       "      <td>5344.282</td>\n",
       "      <td>NaN</td>\n",
       "    </tr>\n",
       "    <tr>\n",
       "      <th>4</th>\n",
       "      <td>1</td>\n",
       "      <td>24</td>\n",
       "      <td>2008-04-02 13:08:17</td>\n",
       "      <td>4.205301</td>\n",
       "      <td>0.047004</td>\n",
       "      <td>24.226732</td>\n",
       "      <td>0.047</td>\n",
       "      <td>4.245</td>\n",
       "      <td>5359.141</td>\n",
       "      <td>NaN</td>\n",
       "    </tr>\n",
       "  </tbody>\n",
       "</table>\n",
       "</div>"
      ],
      "text/plain": [
       "   cycle  ambient_temperature            datetime  voltage_measured  \\\n",
       "0      1                   24 2008-04-02 13:08:17          3.873017   \n",
       "1      1                   24 2008-04-02 13:08:17          4.206466   \n",
       "2      1                   24 2008-04-02 13:08:17          4.206558   \n",
       "3      1                   24 2008-04-02 13:08:17          4.205512   \n",
       "4      1                   24 2008-04-02 13:08:17          4.205301   \n",
       "\n",
       "   current_measured  temperature_measured  current  voltage      time  \\\n",
       "0         -0.001201             24.655358    0.000    0.003     0.000   \n",
       "1          0.060136             24.241571    0.057    4.250  5314.703   \n",
       "2          0.057209             24.230457    0.057    4.250  5329.485   \n",
       "3          0.050194             24.241984    0.047    4.245  5344.282   \n",
       "4          0.047004             24.226732    0.047    4.245  5359.141   \n",
       "\n",
       "   capacity  \n",
       "0       NaN  \n",
       "1       NaN  \n",
       "2       NaN  \n",
       "3       NaN  \n",
       "4       NaN  "
      ]
     },
     "execution_count": 2,
     "metadata": {},
     "output_type": "execute_result"
    }
   ],
   "source": [
    "n = 'B0005'\n",
    "df = pd.read_csv('data_frames/' + 'NASA_cycle_dataset_' + n +'.csv',\n",
    "                 parse_dates = [\"datetime\"]).drop([\"Unnamed: 0\"], axis = 1)\n",
    "df.head()"
   ]
  },
  {
   "cell_type": "markdown",
   "id": "cba4f3c8",
   "metadata": {},
   "source": [
    "## Beginning Data engineering\n",
    "\n",
    "In the Below cells we are attempting to fill in the missing values. A brief look at the dataset showed that each cycle potentially had a capacity for at least one of its rows. \n",
    "\n",
    "First we test that theory:"
   ]
  },
  {
   "cell_type": "code",
   "execution_count": 3,
   "id": "6ca09c7e",
   "metadata": {},
   "outputs": [
    {
     "data": {
      "text/html": [
       "<div>\n",
       "<style scoped>\n",
       "    .dataframe tbody tr th:only-of-type {\n",
       "        vertical-align: middle;\n",
       "    }\n",
       "\n",
       "    .dataframe tbody tr th {\n",
       "        vertical-align: top;\n",
       "    }\n",
       "\n",
       "    .dataframe thead th {\n",
       "        text-align: right;\n",
       "    }\n",
       "</style>\n",
       "<table border=\"1\" class=\"dataframe\">\n",
       "  <thead>\n",
       "    <tr style=\"text-align: right;\">\n",
       "      <th></th>\n",
       "      <th>capacity</th>\n",
       "    </tr>\n",
       "    <tr>\n",
       "      <th>cycle</th>\n",
       "      <th></th>\n",
       "    </tr>\n",
       "  </thead>\n",
       "  <tbody>\n",
       "    <tr>\n",
       "      <th>169</th>\n",
       "      <td>0</td>\n",
       "    </tr>\n",
       "    <tr>\n",
       "      <th>170</th>\n",
       "      <td>0</td>\n",
       "    </tr>\n",
       "  </tbody>\n",
       "</table>\n",
       "</div>"
      ],
      "text/plain": [
       "       capacity\n",
       "cycle          \n",
       "169           0\n",
       "170           0"
      ]
     },
     "execution_count": 3,
     "metadata": {},
     "output_type": "execute_result"
    }
   ],
   "source": [
    "capacity_counts = pd.DataFrame(df.groupby('cycle')['capacity'].nunique())\n",
    "zero_capacity_rows = capacity_counts[capacity_counts['capacity'] != 1]\n",
    "# capacity_counts\n",
    "zero_capacity_rows"
   ]
  },
  {
   "cell_type": "code",
   "execution_count": 4,
   "id": "cf6fa883",
   "metadata": {
    "scrolled": true
   },
   "outputs": [
    {
     "name": "stdout",
     "output_type": "stream",
     "text": [
      "The standard deviation of capacity is 0.1824.\n",
      "The average of capacity is 1.5603.\n",
      "This makes the standard deviation 11.69% of the mean\n"
     ]
    }
   ],
   "source": [
    "cap_std = df['capacity'].std()\n",
    "cap_mean = df['capacity'].mean()\n",
    "\n",
    "print(f\"The standard deviation of capacity is {round(cap_std, 4)}.\")\n",
    "print(f\"The average of capacity is {round(cap_mean, 4)}.\")\n",
    "print(f\"This makes the standard deviation {round(cap_std/cap_mean*100,2)}% of the mean\")"
   ]
  },
  {
   "cell_type": "markdown",
   "id": "09d459e3",
   "metadata": {},
   "source": [
    "The above cell shows that there is a singular battery capacity for each cycle except for 169 and 170.\n",
    "For now we shall remove those two cycles as there is a large amount of deviation."
   ]
  },
  {
   "cell_type": "code",
   "execution_count": 5,
   "id": "925ee0d8",
   "metadata": {},
   "outputs": [
    {
     "data": {
      "text/html": [
       "<div>\n",
       "<style scoped>\n",
       "    .dataframe tbody tr th:only-of-type {\n",
       "        vertical-align: middle;\n",
       "    }\n",
       "\n",
       "    .dataframe tbody tr th {\n",
       "        vertical-align: top;\n",
       "    }\n",
       "\n",
       "    .dataframe thead th {\n",
       "        text-align: right;\n",
       "    }\n",
       "</style>\n",
       "<table border=\"1\" class=\"dataframe\">\n",
       "  <thead>\n",
       "    <tr style=\"text-align: right;\">\n",
       "      <th></th>\n",
       "      <th>cycle</th>\n",
       "      <th>ambient_temperature</th>\n",
       "      <th>datetime</th>\n",
       "      <th>voltage_measured</th>\n",
       "      <th>current_measured</th>\n",
       "      <th>temperature_measured</th>\n",
       "      <th>current</th>\n",
       "      <th>voltage</th>\n",
       "      <th>time</th>\n",
       "      <th>capacity</th>\n",
       "    </tr>\n",
       "  </thead>\n",
       "  <tbody>\n",
       "    <tr>\n",
       "      <th>0</th>\n",
       "      <td>1</td>\n",
       "      <td>24</td>\n",
       "      <td>2008-04-02 13:08:17</td>\n",
       "      <td>3.873017</td>\n",
       "      <td>-0.001201</td>\n",
       "      <td>24.655358</td>\n",
       "      <td>0.000</td>\n",
       "      <td>0.003</td>\n",
       "      <td>0.000</td>\n",
       "      <td>1.856487</td>\n",
       "    </tr>\n",
       "    <tr>\n",
       "      <th>1</th>\n",
       "      <td>1</td>\n",
       "      <td>24</td>\n",
       "      <td>2008-04-02 13:08:17</td>\n",
       "      <td>4.206466</td>\n",
       "      <td>0.060136</td>\n",
       "      <td>24.241571</td>\n",
       "      <td>0.057</td>\n",
       "      <td>4.250</td>\n",
       "      <td>5314.703</td>\n",
       "      <td>1.856487</td>\n",
       "    </tr>\n",
       "    <tr>\n",
       "      <th>2</th>\n",
       "      <td>1</td>\n",
       "      <td>24</td>\n",
       "      <td>2008-04-02 13:08:17</td>\n",
       "      <td>4.206558</td>\n",
       "      <td>0.057209</td>\n",
       "      <td>24.230457</td>\n",
       "      <td>0.057</td>\n",
       "      <td>4.250</td>\n",
       "      <td>5329.485</td>\n",
       "      <td>1.856487</td>\n",
       "    </tr>\n",
       "    <tr>\n",
       "      <th>3</th>\n",
       "      <td>1</td>\n",
       "      <td>24</td>\n",
       "      <td>2008-04-02 13:08:17</td>\n",
       "      <td>4.205512</td>\n",
       "      <td>0.050194</td>\n",
       "      <td>24.241984</td>\n",
       "      <td>0.047</td>\n",
       "      <td>4.245</td>\n",
       "      <td>5344.282</td>\n",
       "      <td>1.856487</td>\n",
       "    </tr>\n",
       "    <tr>\n",
       "      <th>4</th>\n",
       "      <td>1</td>\n",
       "      <td>24</td>\n",
       "      <td>2008-04-02 13:08:17</td>\n",
       "      <td>4.205301</td>\n",
       "      <td>0.047004</td>\n",
       "      <td>24.226732</td>\n",
       "      <td>0.047</td>\n",
       "      <td>4.245</td>\n",
       "      <td>5359.141</td>\n",
       "      <td>1.856487</td>\n",
       "    </tr>\n",
       "  </tbody>\n",
       "</table>\n",
       "</div>"
      ],
      "text/plain": [
       "   cycle  ambient_temperature            datetime  voltage_measured  \\\n",
       "0      1                   24 2008-04-02 13:08:17          3.873017   \n",
       "1      1                   24 2008-04-02 13:08:17          4.206466   \n",
       "2      1                   24 2008-04-02 13:08:17          4.206558   \n",
       "3      1                   24 2008-04-02 13:08:17          4.205512   \n",
       "4      1                   24 2008-04-02 13:08:17          4.205301   \n",
       "\n",
       "   current_measured  temperature_measured  current  voltage      time  \\\n",
       "0         -0.001201             24.655358    0.000    0.003     0.000   \n",
       "1          0.060136             24.241571    0.057    4.250  5314.703   \n",
       "2          0.057209             24.230457    0.057    4.250  5329.485   \n",
       "3          0.050194             24.241984    0.047    4.245  5344.282   \n",
       "4          0.047004             24.226732    0.047    4.245  5359.141   \n",
       "\n",
       "   capacity  \n",
       "0  1.856487  \n",
       "1  1.856487  \n",
       "2  1.856487  \n",
       "3  1.856487  \n",
       "4  1.856487  "
      ]
     },
     "execution_count": 5,
     "metadata": {},
     "output_type": "execute_result"
    }
   ],
   "source": [
    "df = df[df['cycle'] <  169]\n",
    "caps = pd.DataFrame(df.groupby('cycle')['capacity'].max())\n",
    "temp = df.merge(caps, on='cycle', how='left').ffill()\n",
    "temp = temp.drop([\"capacity_x\"], axis = 1).rename(columns = {\"capacity_y\" : \"capacity\"})\n",
    "df = temp\n",
    "temp.head()"
   ]
  },
  {
   "cell_type": "code",
   "execution_count": 6,
   "id": "6d28ea6a-9c47-470d-8bc6-1aea4975390c",
   "metadata": {},
   "outputs": [
    {
     "data": {
      "text/plain": [
       "1"
      ]
     },
     "execution_count": 6,
     "metadata": {},
     "output_type": "execute_result"
    }
   ],
   "source": [
    "df['ambient_temperature'].nunique()"
   ]
  },
  {
   "cell_type": "markdown",
   "id": "00ffc1e0",
   "metadata": {},
   "source": [
    "# Machine Learning (RBFN)\n",
    "\n",
    "Now we begin to build our Radial Bias Function Network\n",
    "\n",
    "https://www.kaggle.com/code/residentmario/radial-basis-networks-and-custom-keras-layers"
   ]
  },
  {
   "cell_type": "code",
   "execution_count": 49,
   "id": "aa6e2121",
   "metadata": {
    "tags": []
   },
   "outputs": [],
   "source": [
    "import tensorflow as tf\n",
    "from tensorflow.keras.models import Sequential, load_model\n",
    "from tensorflow.keras.layers import Dense, Activation, Dropout, Flatten, LSTM, RepeatVector, TimeDistributed, Layer\n",
    "from sklearn.metrics import accuracy_score, mean_squared_error, mean_absolute_error, r2_score\n",
    "from tensorflow import keras\n",
    "from keras import backend as K\n",
    "from keras.losses import binary_crossentropy\n",
    "import warnings"
   ]
  },
  {
   "cell_type": "code",
   "execution_count": 8,
   "id": "443de402-83dd-4cd7-abd8-24ec938cba6e",
   "metadata": {},
   "outputs": [],
   "source": [
    "gpus = tf.config.experimental.list_physical_devices('GPU')\n",
    "for gpu in gpus:\n",
    "    tf.config.experimental.set_memory_growth(gpu, True)"
   ]
  },
  {
   "cell_type": "code",
   "execution_count": 9,
   "id": "a32a554c-65e7-4a40-86f3-1c9d92cc5059",
   "metadata": {},
   "outputs": [
    {
     "data": {
      "text/plain": [
       "[PhysicalDevice(name='/physical_device:GPU:0', device_type='GPU')]"
      ]
     },
     "execution_count": 9,
     "metadata": {},
     "output_type": "execute_result"
    }
   ],
   "source": [
    "tf.config.experimental.list_physical_devices('GPU')"
   ]
  },
  {
   "cell_type": "code",
   "execution_count": 10,
   "id": "5f63aae9-e107-4ad5-9b19-165a14911984",
   "metadata": {},
   "outputs": [],
   "source": [
    "prep_df = df.drop(['datetime', 'ambient_temperature'], axis = 1)\n",
    "train_dataset = prep_df.sample(frac=0.8, random_state = 0)\n",
    "test_dataset = prep_df.drop(train_dataset.index)"
   ]
  },
  {
   "cell_type": "code",
   "execution_count": 11,
   "id": "128da8c4-19bc-469d-b316-d8d9e5335f5d",
   "metadata": {},
   "outputs": [
    {
     "data": {
      "text/html": [
       "<div>\n",
       "<style scoped>\n",
       "    .dataframe tbody tr th:only-of-type {\n",
       "        vertical-align: middle;\n",
       "    }\n",
       "\n",
       "    .dataframe tbody tr th {\n",
       "        vertical-align: top;\n",
       "    }\n",
       "\n",
       "    .dataframe thead th {\n",
       "        text-align: right;\n",
       "    }\n",
       "</style>\n",
       "<table border=\"1\" class=\"dataframe\">\n",
       "  <thead>\n",
       "    <tr style=\"text-align: right;\">\n",
       "      <th></th>\n",
       "      <th>count</th>\n",
       "      <th>mean</th>\n",
       "      <th>std</th>\n",
       "      <th>min</th>\n",
       "      <th>25%</th>\n",
       "      <th>50%</th>\n",
       "      <th>75%</th>\n",
       "      <th>max</th>\n",
       "    </tr>\n",
       "  </thead>\n",
       "  <tbody>\n",
       "    <tr>\n",
       "      <th>cycle</th>\n",
       "      <td>470279.0</td>\n",
       "      <td>95.409219</td>\n",
       "      <td>42.773598</td>\n",
       "      <td>1.000000</td>\n",
       "      <td>60.000000</td>\n",
       "      <td>96.000000</td>\n",
       "      <td>132.000000</td>\n",
       "      <td>168.000000</td>\n",
       "    </tr>\n",
       "    <tr>\n",
       "      <th>voltage_measured</th>\n",
       "      <td>470279.0</td>\n",
       "      <td>4.103417</td>\n",
       "      <td>0.213988</td>\n",
       "      <td>2.471315</td>\n",
       "      <td>4.087904</td>\n",
       "      <td>4.205138</td>\n",
       "      <td>4.205908</td>\n",
       "      <td>8.393141</td>\n",
       "    </tr>\n",
       "    <tr>\n",
       "      <th>current_measured</th>\n",
       "      <td>470279.0</td>\n",
       "      <td>0.368345</td>\n",
       "      <td>0.909263</td>\n",
       "      <td>-4.479660</td>\n",
       "      <td>0.039531</td>\n",
       "      <td>0.171773</td>\n",
       "      <td>1.262020</td>\n",
       "      <td>1.530376</td>\n",
       "    </tr>\n",
       "    <tr>\n",
       "      <th>temperature_measured</th>\n",
       "      <td>470279.0</td>\n",
       "      <td>26.375203</td>\n",
       "      <td>2.778615</td>\n",
       "      <td>23.214802</td>\n",
       "      <td>24.489668</td>\n",
       "      <td>25.483638</td>\n",
       "      <td>27.353169</td>\n",
       "      <td>41.450232</td>\n",
       "    </tr>\n",
       "    <tr>\n",
       "      <th>current</th>\n",
       "      <td>470279.0</td>\n",
       "      <td>0.635250</td>\n",
       "      <td>0.737908</td>\n",
       "      <td>-4.468000</td>\n",
       "      <td>0.057000</td>\n",
       "      <td>0.261000</td>\n",
       "      <td>1.498000</td>\n",
       "      <td>1.998400</td>\n",
       "    </tr>\n",
       "    <tr>\n",
       "      <th>voltage</th>\n",
       "      <td>470279.0</td>\n",
       "      <td>4.021478</td>\n",
       "      <td>1.213135</td>\n",
       "      <td>0.000000</td>\n",
       "      <td>4.240000</td>\n",
       "      <td>4.305000</td>\n",
       "      <td>4.656000</td>\n",
       "      <td>5.002000</td>\n",
       "    </tr>\n",
       "    <tr>\n",
       "      <th>time</th>\n",
       "      <td>470279.0</td>\n",
       "      <td>4763.490005</td>\n",
       "      <td>3149.187573</td>\n",
       "      <td>0.000000</td>\n",
       "      <td>1925.390000</td>\n",
       "      <td>4464.735000</td>\n",
       "      <td>7504.617000</td>\n",
       "      <td>10807.328000</td>\n",
       "    </tr>\n",
       "    <tr>\n",
       "      <th>capacity</th>\n",
       "      <td>470279.0</td>\n",
       "      <td>1.531792</td>\n",
       "      <td>0.171983</td>\n",
       "      <td>1.287453</td>\n",
       "      <td>1.370513</td>\n",
       "      <td>1.511898</td>\n",
       "      <td>1.694580</td>\n",
       "      <td>1.856487</td>\n",
       "    </tr>\n",
       "  </tbody>\n",
       "</table>\n",
       "</div>"
      ],
      "text/plain": [
       "                         count         mean          std        min  \\\n",
       "cycle                 470279.0    95.409219    42.773598   1.000000   \n",
       "voltage_measured      470279.0     4.103417     0.213988   2.471315   \n",
       "current_measured      470279.0     0.368345     0.909263  -4.479660   \n",
       "temperature_measured  470279.0    26.375203     2.778615  23.214802   \n",
       "current               470279.0     0.635250     0.737908  -4.468000   \n",
       "voltage               470279.0     4.021478     1.213135   0.000000   \n",
       "time                  470279.0  4763.490005  3149.187573   0.000000   \n",
       "capacity              470279.0     1.531792     0.171983   1.287453   \n",
       "\n",
       "                              25%          50%          75%           max  \n",
       "cycle                   60.000000    96.000000   132.000000    168.000000  \n",
       "voltage_measured         4.087904     4.205138     4.205908      8.393141  \n",
       "current_measured         0.039531     0.171773     1.262020      1.530376  \n",
       "temperature_measured    24.489668    25.483638    27.353169     41.450232  \n",
       "current                  0.057000     0.261000     1.498000      1.998400  \n",
       "voltage                  4.240000     4.305000     4.656000      5.002000  \n",
       "time                  1925.390000  4464.735000  7504.617000  10807.328000  \n",
       "capacity                 1.370513     1.511898     1.694580      1.856487  "
      ]
     },
     "execution_count": 11,
     "metadata": {},
     "output_type": "execute_result"
    }
   ],
   "source": [
    "train_dataset.describe().transpose()"
   ]
  },
  {
   "cell_type": "code",
   "execution_count": 12,
   "id": "0acbef51-0768-4e9d-9b4b-f0982aadcf85",
   "metadata": {},
   "outputs": [
    {
     "name": "stdout",
     "output_type": "stream",
     "text": [
      "cycle                   144.000000\n",
      "voltage_measured          4.072683\n",
      "current_measured          1.510459\n",
      "temperature_measured     26.956490\n",
      "current                   1.500000\n",
      "voltage                   4.818000\n",
      "time                    952.812000\n",
      "capacity                  1.334007\n",
      "Name: 489563, dtype: float64\n",
      "--------------------------\n",
      "cycle                   144.000000\n",
      "voltage_measured          4.072683\n",
      "current_measured          1.510459\n",
      "temperature_measured     26.956490\n",
      "current                   1.500000\n",
      "voltage                   4.818000\n",
      "time                    952.812000\n",
      "Name: 489563, dtype: float64\n"
     ]
    }
   ],
   "source": [
    "# These are the features\n",
    "train_features = train_dataset.copy()\n",
    "test_features = test_dataset.copy()\n",
    "print(train_features.iloc[0])\n",
    "# These contain the target variables\n",
    "train_labels = train_features.pop('capacity')\n",
    "test_labels = test_features.pop('capacity')\n",
    "print('--------------------------')\n",
    "print(train_features.iloc[0])"
   ]
  },
  {
   "cell_type": "markdown",
   "id": "a444c734-292f-456a-9ce2-d7bbad31a537",
   "metadata": {},
   "source": [
    "## Normalisation\n",
    "\n",
    "Here we will normalise the values to give equal weight to each feature"
   ]
  },
  {
   "cell_type": "code",
   "execution_count": 18,
   "id": "29b047f0-0235-48fa-99ce-ffeddbecd0fb",
   "metadata": {},
   "outputs": [
    {
     "data": {
      "text/html": [
       "<div>\n",
       "<style scoped>\n",
       "    .dataframe tbody tr th:only-of-type {\n",
       "        vertical-align: middle;\n",
       "    }\n",
       "\n",
       "    .dataframe tbody tr th {\n",
       "        vertical-align: top;\n",
       "    }\n",
       "\n",
       "    .dataframe thead th {\n",
       "        text-align: right;\n",
       "    }\n",
       "</style>\n",
       "<table border=\"1\" class=\"dataframe\">\n",
       "  <thead>\n",
       "    <tr style=\"text-align: right;\">\n",
       "      <th></th>\n",
       "      <th>mean</th>\n",
       "      <th>std</th>\n",
       "    </tr>\n",
       "  </thead>\n",
       "  <tbody>\n",
       "    <tr>\n",
       "      <th>cycle</th>\n",
       "      <td>95.409219</td>\n",
       "      <td>42.773598</td>\n",
       "    </tr>\n",
       "    <tr>\n",
       "      <th>voltage_measured</th>\n",
       "      <td>4.103417</td>\n",
       "      <td>0.213988</td>\n",
       "    </tr>\n",
       "    <tr>\n",
       "      <th>current_measured</th>\n",
       "      <td>0.368345</td>\n",
       "      <td>0.909263</td>\n",
       "    </tr>\n",
       "    <tr>\n",
       "      <th>temperature_measured</th>\n",
       "      <td>26.375203</td>\n",
       "      <td>2.778615</td>\n",
       "    </tr>\n",
       "    <tr>\n",
       "      <th>current</th>\n",
       "      <td>0.635250</td>\n",
       "      <td>0.737908</td>\n",
       "    </tr>\n",
       "    <tr>\n",
       "      <th>voltage</th>\n",
       "      <td>4.021478</td>\n",
       "      <td>1.213135</td>\n",
       "    </tr>\n",
       "    <tr>\n",
       "      <th>time</th>\n",
       "      <td>4763.490005</td>\n",
       "      <td>3149.187573</td>\n",
       "    </tr>\n",
       "    <tr>\n",
       "      <th>capacity</th>\n",
       "      <td>1.531792</td>\n",
       "      <td>0.171983</td>\n",
       "    </tr>\n",
       "  </tbody>\n",
       "</table>\n",
       "</div>"
      ],
      "text/plain": [
       "                             mean          std\n",
       "cycle                   95.409219    42.773598\n",
       "voltage_measured         4.103417     0.213988\n",
       "current_measured         0.368345     0.909263\n",
       "temperature_measured    26.375203     2.778615\n",
       "current                  0.635250     0.737908\n",
       "voltage                  4.021478     1.213135\n",
       "time                  4763.490005  3149.187573\n",
       "capacity                 1.531792     0.171983"
      ]
     },
     "execution_count": 18,
     "metadata": {},
     "output_type": "execute_result"
    }
   ],
   "source": [
    "train_dataset.describe().transpose()[['mean', 'std']]"
   ]
  },
  {
   "cell_type": "code",
   "execution_count": 19,
   "id": "0743513f-3b6d-45ad-aca2-d5a98fda598c",
   "metadata": {},
   "outputs": [
    {
     "data": {
      "text/html": [
       "<div>\n",
       "<style scoped>\n",
       "    .dataframe tbody tr th:only-of-type {\n",
       "        vertical-align: middle;\n",
       "    }\n",
       "\n",
       "    .dataframe tbody tr th {\n",
       "        vertical-align: top;\n",
       "    }\n",
       "\n",
       "    .dataframe thead th {\n",
       "        text-align: right;\n",
       "    }\n",
       "</style>\n",
       "<table border=\"1\" class=\"dataframe\">\n",
       "  <thead>\n",
       "    <tr style=\"text-align: right;\">\n",
       "      <th></th>\n",
       "      <th>cycle</th>\n",
       "      <th>voltage_measured</th>\n",
       "      <th>current_measured</th>\n",
       "      <th>temperature_measured</th>\n",
       "      <th>current</th>\n",
       "      <th>voltage</th>\n",
       "      <th>time</th>\n",
       "      <th>capacity</th>\n",
       "    </tr>\n",
       "  </thead>\n",
       "  <tbody>\n",
       "    <tr>\n",
       "      <th>489563</th>\n",
       "      <td>144</td>\n",
       "      <td>4.072683</td>\n",
       "      <td>1.510459</td>\n",
       "      <td>26.956490</td>\n",
       "      <td>1.500</td>\n",
       "      <td>4.818</td>\n",
       "      <td>952.812</td>\n",
       "      <td>1.334007</td>\n",
       "    </tr>\n",
       "    <tr>\n",
       "      <th>383688</th>\n",
       "      <td>118</td>\n",
       "      <td>4.201760</td>\n",
       "      <td>-0.000018</td>\n",
       "      <td>24.420418</td>\n",
       "      <td>0.000</td>\n",
       "      <td>0.003</td>\n",
       "      <td>10276.969</td>\n",
       "      <td>1.412579</td>\n",
       "    </tr>\n",
       "    <tr>\n",
       "      <th>580550</th>\n",
       "      <td>167</td>\n",
       "      <td>4.205604</td>\n",
       "      <td>0.081628</td>\n",
       "      <td>24.197675</td>\n",
       "      <td>0.080</td>\n",
       "      <td>4.261</td>\n",
       "      <td>6816.406</td>\n",
       "      <td>1.309015</td>\n",
       "    </tr>\n",
       "    <tr>\n",
       "      <th>110450</th>\n",
       "      <td>51</td>\n",
       "      <td>4.207076</td>\n",
       "      <td>0.030770</td>\n",
       "      <td>25.934192</td>\n",
       "      <td>0.031</td>\n",
       "      <td>4.240</td>\n",
       "      <td>9215.422</td>\n",
       "      <td>1.757018</td>\n",
       "    </tr>\n",
       "    <tr>\n",
       "      <th>354820</th>\n",
       "      <td>111</td>\n",
       "      <td>4.207394</td>\n",
       "      <td>1.136588</td>\n",
       "      <td>30.364207</td>\n",
       "      <td>1.130</td>\n",
       "      <td>4.775</td>\n",
       "      <td>2383.969</td>\n",
       "      <td>1.438671</td>\n",
       "    </tr>\n",
       "  </tbody>\n",
       "</table>\n",
       "</div>"
      ],
      "text/plain": [
       "        cycle  voltage_measured  current_measured  temperature_measured  \\\n",
       "489563    144          4.072683          1.510459             26.956490   \n",
       "383688    118          4.201760         -0.000018             24.420418   \n",
       "580550    167          4.205604          0.081628             24.197675   \n",
       "110450     51          4.207076          0.030770             25.934192   \n",
       "354820    111          4.207394          1.136588             30.364207   \n",
       "\n",
       "        current  voltage       time  capacity  \n",
       "489563    1.500    4.818    952.812  1.334007  \n",
       "383688    0.000    0.003  10276.969  1.412579  \n",
       "580550    0.080    4.261   6816.406  1.309015  \n",
       "110450    0.031    4.240   9215.422  1.757018  \n",
       "354820    1.130    4.775   2383.969  1.438671  "
      ]
     },
     "execution_count": 19,
     "metadata": {},
     "output_type": "execute_result"
    }
   ],
   "source": [
    "train_dataset.head()"
   ]
  },
  {
   "cell_type": "markdown",
   "id": "7402ec9c-e773-48e3-83c2-12004905635e",
   "metadata": {},
   "source": [
    "## Regression with RBFN"
   ]
  },
  {
   "cell_type": "markdown",
   "id": "7d307998-4259-4c19-b0b1-1bbd81949e37",
   "metadata": {},
   "source": [
    "### Reshaping the Data"
   ]
  },
  {
   "cell_type": "code",
   "execution_count": 14,
   "id": "56d68b97-9de9-478f-b95d-77072b1bfa15",
   "metadata": {},
   "outputs": [
    {
     "name": "stdout",
     "output_type": "stream",
     "text": [
      "(470279, 7)\n",
      "(7,)\n",
      "<bound method NDFrame.squeeze of cycle                   144.000000\n",
      "voltage_measured          4.072683\n",
      "current_measured          1.510459\n",
      "temperature_measured     26.956490\n",
      "current                   1.500000\n",
      "voltage                   4.818000\n",
      "time                    952.812000\n",
      "Name: 489563, dtype: float64>\n"
     ]
    }
   ],
   "source": [
    "print(train_features.shape)\n",
    "print(train_features.iloc[0].shape)\n",
    "print(train_features.iloc[0].squeeze)"
   ]
  },
  {
   "cell_type": "code",
   "execution_count": 15,
   "id": "abc8422a-b51d-48c7-a68c-c4cad733c5c0",
   "metadata": {},
   "outputs": [
    {
     "name": "stdout",
     "output_type": "stream",
     "text": [
      "After reshape train data set shape:\n",
      " (470279, 7, 1)\n",
      "1 Sample shape:\n",
      " (7, 1)\n",
      "An example sample:\n",
      " [[144.   ]\n",
      " [  4.073]\n",
      " [  1.51 ]\n",
      " [ 26.956]\n",
      " [  1.5  ]\n",
      " [  4.818]\n",
      " [952.812]]\n"
     ]
    }
   ],
   "source": [
    "sample_size = train_features.shape[0] # number of samples in train set\n",
    "time_steps  = train_features.shape[1] # number of features in train set\n",
    "input_dimension = 1               # each feature is represented by 1 number\n",
    "\n",
    "train_features_reshaped = train_features.values.reshape(sample_size,time_steps,input_dimension)\n",
    "print(\"After reshape train data set shape:\\n\", train_features_reshaped.shape)\n",
    "print(\"1 Sample shape:\\n\",train_features_reshaped[0].shape)\n",
    "print(\"An example sample:\\n\", train_features_reshaped[0])"
   ]
  },
  {
   "cell_type": "code",
   "execution_count": 17,
   "id": "f05f3a51-85b1-45a4-8cd9-ec1c1b4bfc92",
   "metadata": {},
   "outputs": [],
   "source": [
    "test_features_reshaped = test_features.values.reshape(test_features.shape[0],test_features.shape[1],1)\n",
    "n_timesteps = train_features_reshaped.shape[1] #7\n",
    "n_features  = train_features_reshaped.shape[2] #1"
   ]
  },
  {
   "cell_type": "code",
   "execution_count": 18,
   "id": "b2363872-3075-4350-93e1-dc96ff55afd6",
   "metadata": {},
   "outputs": [],
   "source": [
    "normalizer = keras.layers.Normalization(axis = 1)\n",
    "normalizer.adapt(np.array(train_features_reshaped))"
   ]
  },
  {
   "cell_type": "code",
   "execution_count": 19,
   "id": "5c195a87-d34d-41b9-8af0-438ba6f324a5",
   "metadata": {},
   "outputs": [],
   "source": [
    "train_features_reshaped = normalizer(train_features_reshaped)\n",
    "test_features_reshaped= normalizer(test_features_reshaped)"
   ]
  },
  {
   "cell_type": "code",
   "execution_count": 20,
   "id": "58179be5-194e-4856-bc3c-c27f7ab00e88",
   "metadata": {},
   "outputs": [],
   "source": [
    "class RBFLayer(Layer):\n",
    "    def __init__(self, units, gamma, **kwargs):\n",
    "        super(RBFLayer, self).__init__(**kwargs)\n",
    "        self.units = units\n",
    "        self.gamma = K.cast_to_floatx(gamma)\n",
    "\n",
    "    def build(self, input_shape):\n",
    "#         print(input_shape)\n",
    "#         print(self.units)\n",
    "        self.mu = self.add_weight(name='mu',\n",
    "                                  shape=(int(input_shape[1]), self.units),\n",
    "                                  initializer='uniform',\n",
    "                                  trainable=True)\n",
    "        super(RBFLayer, self).build(input_shape)\n",
    "\n",
    "    def call(self, inputs):\n",
    "        diff = K.expand_dims(inputs) - self.mu\n",
    "        l2 = K.sum(K.pow(diff, 2), axis=1)\n",
    "        res = K.exp(-1 * self.gamma * l2)\n",
    "        return res\n",
    "\n",
    "    def compute_output_shape(self, input_shape):\n",
    "        return (input_shape[0], self.units)\n",
    "    \n",
    "    def get_config(self):\n",
    "        config = super(RBFLayer, self).get_config()\n",
    "        config.update({\n",
    "            'units': self.units,\n",
    "            'gamma': self.gamma,\n",
    "        })\n",
    "        return config"
   ]
  },
  {
   "cell_type": "code",
   "execution_count": 26,
   "id": "bb0ceff5-99e0-41ab-9ff8-57aef0c51511",
   "metadata": {},
   "outputs": [],
   "source": [
    "def build_and_compile_model(): \n",
    "    \n",
    "    model = Sequential()\n",
    "    model.add(Flatten(input_shape=(n_timesteps,n_features)))\n",
    "    model.add(RBFLayer(200, 0.5))\n",
    "    model.add(Dense(1, activation='relu', name='foo'))\n",
    "    model.compile(loss= 'mean_squared_error',\n",
    "                 optimizer = 'rmsprop', \n",
    "                 metrics=['mean_squared_error', 'mean_absolute_error'])\n",
    "    return model\n",
    "\n",
    "def plot_loss(history, title):\n",
    "    plt.plot(history.history['loss'], label='loss')\n",
    "    plt.plot(history.history['val_loss'], label='val_loss')\n",
    "    # plt.ylim([0, 1])\n",
    "    plt.xlabel('Epoch')\n",
    "    plt.ylabel('Error [SOC]')\n",
    "    plt.title(title)\n",
    "    plt.legend()\n",
    "    plt.grid(True)"
   ]
  },
  {
   "cell_type": "code",
   "execution_count": 27,
   "id": "323a757d-033e-4648-b1c2-d4f6c22573b5",
   "metadata": {},
   "outputs": [
    {
     "name": "stdout",
     "output_type": "stream",
     "text": [
      "Model: \"sequential_1\"\n",
      "_________________________________________________________________\n",
      " Layer (type)                Output Shape              Param #   \n",
      "=================================================================\n",
      " flatten_1 (Flatten)         (None, 7)                 0         \n",
      "                                                                 \n",
      " rbf_layer_1 (RBFLayer)      (None, 200)               1400      \n",
      "                                                                 \n",
      " foo (Dense)                 (None, 1)                 201       \n",
      "                                                                 \n",
      "=================================================================\n",
      "Total params: 1,601\n",
      "Trainable params: 1,601\n",
      "Non-trainable params: 0\n",
      "_________________________________________________________________\n"
     ]
    }
   ],
   "source": [
    "rbfn_model = build_and_compile_model()\n",
    "rbfn_model.summary()"
   ]
  },
  {
   "cell_type": "code",
   "execution_count": 39,
   "id": "7331063b-ca78-4aa6-a8fa-9146f4f858f5",
   "metadata": {},
   "outputs": [],
   "source": [
    "epochs = 40\n",
    "checkpoint_filepath = os.path.join('checkpoints', 'RBFN{epoch:02d}-{val_loss:.4f}.h5')\n",
    "model_checkpoint_callback = keras.callbacks.ModelCheckpoint(\n",
    "    filepath=checkpoint_filepath,\n",
    "    save_weights_only=True,\n",
    "    monitor='mean_squared_error',\n",
    "    mode='min',\n",
    "    save_best_only=True)\n",
    "\n",
    "if 'history' not in locals():\n",
    "    print('New History array has been created')\n",
    "    history =  []"
   ]
  },
  {
   "cell_type": "code",
   "execution_count": 40,
   "id": "25d39640-219b-4b4a-9dd3-f14afd0d2f97",
   "metadata": {
    "tags": []
   },
   "outputs": [
    {
     "name": "stdout",
     "output_type": "stream",
     "text": [
      "Epoch 1/40\n",
      "11757/11757 [==============================] - 69s 6ms/step - loss: 6.0366e-04 - mean_squared_error: 6.0366e-04 - mean_absolute_error: 0.0158 - val_loss: 5.0458e-04 - val_mean_squared_error: 5.0458e-04 - val_mean_absolute_error: 0.0140\n",
      "Epoch 2/40\n",
      "11757/11757 [==============================] - 67s 6ms/step - loss: 5.1770e-04 - mean_squared_error: 5.1770e-04 - mean_absolute_error: 0.0144 - val_loss: 7.0826e-04 - val_mean_squared_error: 7.0826e-04 - val_mean_absolute_error: 0.0186\n",
      "Epoch 3/40\n",
      "11757/11757 [==============================] - 67s 6ms/step - loss: 4.4497e-04 - mean_squared_error: 4.4497e-04 - mean_absolute_error: 0.0134 - val_loss: 3.7057e-04 - val_mean_squared_error: 3.7057e-04 - val_mean_absolute_error: 0.0118\n",
      "Epoch 4/40\n",
      "11757/11757 [==============================] - 68s 6ms/step - loss: 3.8099e-04 - mean_squared_error: 3.8099e-04 - mean_absolute_error: 0.0126 - val_loss: 3.0668e-04 - val_mean_squared_error: 3.0668e-04 - val_mean_absolute_error: 0.0111\n",
      "Epoch 5/40\n",
      "11757/11757 [==============================] - 70s 6ms/step - loss: 3.3310e-04 - mean_squared_error: 3.3310e-04 - mean_absolute_error: 0.0119 - val_loss: 2.9600e-04 - val_mean_squared_error: 2.9600e-04 - val_mean_absolute_error: 0.0110\n",
      "Epoch 6/40\n",
      "11757/11757 [==============================] - 66s 6ms/step - loss: 3.0832e-04 - mean_squared_error: 3.0832e-04 - mean_absolute_error: 0.0115 - val_loss: 2.8537e-04 - val_mean_squared_error: 2.8537e-04 - val_mean_absolute_error: 0.0107\n",
      "Epoch 7/40\n",
      "11757/11757 [==============================] - 66s 6ms/step - loss: 2.9855e-04 - mean_squared_error: 2.9855e-04 - mean_absolute_error: 0.0112 - val_loss: 2.7683e-04 - val_mean_squared_error: 2.7683e-04 - val_mean_absolute_error: 0.0108\n",
      "Epoch 8/40\n",
      "11757/11757 [==============================] - 66s 6ms/step - loss: 2.8901e-04 - mean_squared_error: 2.8901e-04 - mean_absolute_error: 0.0110 - val_loss: 2.9476e-04 - val_mean_squared_error: 2.9476e-04 - val_mean_absolute_error: 0.0105\n",
      "Epoch 9/40\n",
      "11757/11757 [==============================] - 66s 6ms/step - loss: 2.8221e-04 - mean_squared_error: 2.8221e-04 - mean_absolute_error: 0.0109 - val_loss: 2.6898e-04 - val_mean_squared_error: 2.6898e-04 - val_mean_absolute_error: 0.0106\n",
      "Epoch 10/40\n",
      "11757/11757 [==============================] - 67s 6ms/step - loss: 2.7299e-04 - mean_squared_error: 2.7299e-04 - mean_absolute_error: 0.0108 - val_loss: 2.6769e-04 - val_mean_squared_error: 2.6769e-04 - val_mean_absolute_error: 0.0110\n",
      "Epoch 11/40\n",
      "11757/11757 [==============================] - 68s 6ms/step - loss: 2.6617e-04 - mean_squared_error: 2.6617e-04 - mean_absolute_error: 0.0107 - val_loss: 2.5438e-04 - val_mean_squared_error: 2.5438e-04 - val_mean_absolute_error: 0.0102\n",
      "Epoch 12/40\n",
      "11757/11757 [==============================] - 66s 6ms/step - loss: 2.6203e-04 - mean_squared_error: 2.6203e-04 - mean_absolute_error: 0.0106 - val_loss: 2.5426e-04 - val_mean_squared_error: 2.5426e-04 - val_mean_absolute_error: 0.0108\n",
      "Epoch 13/40\n",
      "11757/11757 [==============================] - 65s 6ms/step - loss: 2.5886e-04 - mean_squared_error: 2.5886e-04 - mean_absolute_error: 0.0105 - val_loss: 2.6530e-04 - val_mean_squared_error: 2.6530e-04 - val_mean_absolute_error: 0.0115\n",
      "Epoch 14/40\n",
      "11757/11757 [==============================] - 67s 6ms/step - loss: 2.5636e-04 - mean_squared_error: 2.5636e-04 - mean_absolute_error: 0.0105 - val_loss: 2.4694e-04 - val_mean_squared_error: 2.4694e-04 - val_mean_absolute_error: 0.0104\n",
      "Epoch 15/40\n",
      "11757/11757 [==============================] - 65s 6ms/step - loss: 2.5666e-04 - mean_squared_error: 2.5666e-04 - mean_absolute_error: 0.0105 - val_loss: 2.5377e-04 - val_mean_squared_error: 2.5377e-04 - val_mean_absolute_error: 0.0104\n",
      "Epoch 16/40\n",
      "11757/11757 [==============================] - 65s 6ms/step - loss: 2.5595e-04 - mean_squared_error: 2.5595e-04 - mean_absolute_error: 0.0104 - val_loss: 2.4473e-04 - val_mean_squared_error: 2.4473e-04 - val_mean_absolute_error: 0.0098\n",
      "Epoch 17/40\n",
      "11757/11757 [==============================] - 66s 6ms/step - loss: 2.5458e-04 - mean_squared_error: 2.5458e-04 - mean_absolute_error: 0.0104 - val_loss: 2.4759e-04 - val_mean_squared_error: 2.4759e-04 - val_mean_absolute_error: 0.0106\n",
      "Epoch 18/40\n",
      "11757/11757 [==============================] - 73s 6ms/step - loss: 2.5460e-04 - mean_squared_error: 2.5460e-04 - mean_absolute_error: 0.0104 - val_loss: 2.4064e-04 - val_mean_squared_error: 2.4064e-04 - val_mean_absolute_error: 0.0100\n",
      "Epoch 19/40\n",
      "11757/11757 [==============================] - 70s 6ms/step - loss: 2.5473e-04 - mean_squared_error: 2.5473e-04 - mean_absolute_error: 0.0104 - val_loss: 2.4170e-04 - val_mean_squared_error: 2.4170e-04 - val_mean_absolute_error: 0.0103\n",
      "Epoch 20/40\n",
      "11757/11757 [==============================] - 71s 6ms/step - loss: 2.5391e-04 - mean_squared_error: 2.5391e-04 - mean_absolute_error: 0.0104 - val_loss: 2.4762e-04 - val_mean_squared_error: 2.4762e-04 - val_mean_absolute_error: 0.0108\n",
      "Epoch 21/40\n",
      "11757/11757 [==============================] - 69s 6ms/step - loss: 2.5368e-04 - mean_squared_error: 2.5368e-04 - mean_absolute_error: 0.0104 - val_loss: 2.4403e-04 - val_mean_squared_error: 2.4403e-04 - val_mean_absolute_error: 0.0100\n",
      "Epoch 22/40\n",
      "11757/11757 [==============================] - 69s 6ms/step - loss: 2.5467e-04 - mean_squared_error: 2.5467e-04 - mean_absolute_error: 0.0104 - val_loss: 2.4244e-04 - val_mean_squared_error: 2.4244e-04 - val_mean_absolute_error: 0.0101\n",
      "Epoch 23/40\n",
      "11757/11757 [==============================] - 65s 6ms/step - loss: 2.5439e-04 - mean_squared_error: 2.5439e-04 - mean_absolute_error: 0.0103 - val_loss: 2.4304e-04 - val_mean_squared_error: 2.4304e-04 - val_mean_absolute_error: 0.0103\n",
      "Epoch 24/40\n",
      "11757/11757 [==============================] - 67s 6ms/step - loss: 2.5792e-04 - mean_squared_error: 2.5792e-04 - mean_absolute_error: 0.0103 - val_loss: 2.5704e-04 - val_mean_squared_error: 2.5704e-04 - val_mean_absolute_error: 0.0108\n",
      "Epoch 25/40\n",
      "11757/11757 [==============================] - 65s 6ms/step - loss: 2.6763e-04 - mean_squared_error: 2.6763e-04 - mean_absolute_error: 0.0104 - val_loss: 2.5068e-04 - val_mean_squared_error: 2.5068e-04 - val_mean_absolute_error: 0.0101\n",
      "Epoch 26/40\n",
      "11757/11757 [==============================] - 65s 6ms/step - loss: 2.7203e-04 - mean_squared_error: 2.7203e-04 - mean_absolute_error: 0.0104 - val_loss: 2.7994e-04 - val_mean_squared_error: 2.7994e-04 - val_mean_absolute_error: 0.0115\n",
      "Epoch 27/40\n",
      "11757/11757 [==============================] - 65s 6ms/step - loss: 2.7544e-04 - mean_squared_error: 2.7544e-04 - mean_absolute_error: 0.0104 - val_loss: 2.6953e-04 - val_mean_squared_error: 2.6953e-04 - val_mean_absolute_error: 0.0100\n",
      "Epoch 28/40\n",
      "11757/11757 [==============================] - 67s 6ms/step - loss: 2.7424e-04 - mean_squared_error: 2.7424e-04 - mean_absolute_error: 0.0104 - val_loss: 2.6710e-04 - val_mean_squared_error: 2.6710e-04 - val_mean_absolute_error: 0.0101\n",
      "Epoch 29/40\n",
      "11757/11757 [==============================] - 66s 6ms/step - loss: 2.7570e-04 - mean_squared_error: 2.7570e-04 - mean_absolute_error: 0.0104 - val_loss: 2.5366e-04 - val_mean_squared_error: 2.5366e-04 - val_mean_absolute_error: 0.0101\n",
      "Epoch 30/40\n",
      "11757/11757 [==============================] - 67s 6ms/step - loss: 2.7746e-04 - mean_squared_error: 2.7746e-04 - mean_absolute_error: 0.0105 - val_loss: 2.6164e-04 - val_mean_squared_error: 2.6164e-04 - val_mean_absolute_error: 0.0105\n",
      "Epoch 31/40\n",
      "11757/11757 [==============================] - 69s 6ms/step - loss: 2.8100e-04 - mean_squared_error: 2.8100e-04 - mean_absolute_error: 0.0105 - val_loss: 2.6889e-04 - val_mean_squared_error: 2.6889e-04 - val_mean_absolute_error: 0.0103\n",
      "Epoch 32/40\n",
      "11757/11757 [==============================] - 67s 6ms/step - loss: 2.8282e-04 - mean_squared_error: 2.8282e-04 - mean_absolute_error: 0.0105 - val_loss: 2.6899e-04 - val_mean_squared_error: 2.6899e-04 - val_mean_absolute_error: 0.0103\n",
      "Epoch 33/40\n",
      "11757/11757 [==============================] - 68s 6ms/step - loss: 2.8559e-04 - mean_squared_error: 2.8559e-04 - mean_absolute_error: 0.0105 - val_loss: 2.7261e-04 - val_mean_squared_error: 2.7261e-04 - val_mean_absolute_error: 0.0104\n",
      "Epoch 34/40\n",
      "11757/11757 [==============================] - 67s 6ms/step - loss: 2.8481e-04 - mean_squared_error: 2.8481e-04 - mean_absolute_error: 0.0105 - val_loss: 2.7315e-04 - val_mean_squared_error: 2.7315e-04 - val_mean_absolute_error: 0.0104\n",
      "Epoch 35/40\n",
      "11757/11757 [==============================] - 67s 6ms/step - loss: 2.8795e-04 - mean_squared_error: 2.8795e-04 - mean_absolute_error: 0.0105 - val_loss: 2.7454e-04 - val_mean_squared_error: 2.7454e-04 - val_mean_absolute_error: 0.0100\n",
      "Epoch 36/40\n",
      "11757/11757 [==============================] - 70s 6ms/step - loss: 2.9001e-04 - mean_squared_error: 2.9001e-04 - mean_absolute_error: 0.0105 - val_loss: 2.9256e-04 - val_mean_squared_error: 2.9256e-04 - val_mean_absolute_error: 0.0100\n",
      "Epoch 37/40\n",
      "11757/11757 [==============================] - 65s 6ms/step - loss: 2.9509e-04 - mean_squared_error: 2.9509e-04 - mean_absolute_error: 0.0105 - val_loss: 2.7729e-04 - val_mean_squared_error: 2.7729e-04 - val_mean_absolute_error: 0.0104\n",
      "Epoch 38/40\n",
      "11757/11757 [==============================] - 68s 6ms/step - loss: 2.9441e-04 - mean_squared_error: 2.9441e-04 - mean_absolute_error: 0.0105 - val_loss: 2.9171e-04 - val_mean_squared_error: 2.9171e-04 - val_mean_absolute_error: 0.0102\n",
      "Epoch 39/40\n",
      "11757/11757 [==============================] - 65s 6ms/step - loss: 2.9680e-04 - mean_squared_error: 2.9680e-04 - mean_absolute_error: 0.0105 - val_loss: 2.9981e-04 - val_mean_squared_error: 2.9981e-04 - val_mean_absolute_error: 0.0110\n",
      "Epoch 40/40\n",
      "11757/11757 [==============================] - 64s 5ms/step - loss: 3.0049e-04 - mean_squared_error: 3.0049e-04 - mean_absolute_error: 0.0105 - val_loss: 3.0529e-04 - val_mean_squared_error: 3.0529e-04 - val_mean_absolute_error: 0.0116\n",
      "CPU times: total: 11min 6s\n",
      "Wall time: 44min 42s\n"
     ]
    }
   ],
   "source": [
    "%%time\n",
    "history.append(rbfn_model.fit(\n",
    "    train_features_reshaped,\n",
    "    train_labels,\n",
    "    validation_split = 0.2,\n",
    "    epochs = epochs,\n",
    "    callbacks = model_checkpoint_callback))"
   ]
  },
  {
   "cell_type": "code",
   "execution_count": 41,
   "id": "7e99486c-417e-4d01-91c9-a8193950739d",
   "metadata": {},
   "outputs": [
    {
     "data": {
      "image/png": "[encoded data removed]",
      "text/plain": [
       "<Figure size 640x480 with 1 Axes>"
      ]
     },
     "metadata": {},
     "output_type": "display_data"
    }
   ],
   "source": [
    "plot_loss(history[-1], 'RBFN loss (Capacity)')"
   ]
  },
  {
   "cell_type": "code",
   "execution_count": 42,
   "id": "c6165297-f6d2-48cf-8a8a-1668282ddcc7",
   "metadata": {},
   "outputs": [],
   "source": [
    "model_path = os.path.join(\"models\",\"RBFN_02.keras\")"
   ]
  },
  {
   "cell_type": "code",
   "execution_count": 50,
   "id": "c47b8c6d-69e2-4576-a3fc-ebb7094bb196",
   "metadata": {},
   "outputs": [],
   "source": [
    "checkpoint_path = os.path.join('checkpoints', 'RBFN17-0.0002.h5')"
   ]
  },
  {
   "cell_type": "code",
   "execution_count": 51,
   "id": "b4a20a9f-c6f2-40bf-ab68-1acccc4e76c8",
   "metadata": {},
   "outputs": [],
   "source": [
    "rbfn_model = build_and_compile_model()\n",
    "rbfn_model.load_weights(checkpoint_path)"
   ]
  },
  {
   "cell_type": "code",
   "execution_count": 52,
   "id": "6aceda70-b4c4-4bff-8e5d-4370bb00583e",
   "metadata": {},
   "outputs": [],
   "source": [
    "rbfn_model.save(model_path)"
   ]
  },
  {
   "cell_type": "markdown",
   "id": "57e37c1d-7d47-4db8-8c4c-3857e4db17a8",
   "metadata": {},
   "source": [
    "### Performance"
   ]
  },
  {
   "cell_type": "code",
   "execution_count": 44,
   "id": "e7e89645-9be7-4f1c-8400-895bf3f19643",
   "metadata": {},
   "outputs": [],
   "source": [
    "rbfn_model = tf.keras.models.load_model(model_path, custom_objects={'RBFLayer': RBFLayer})"
   ]
  },
  {
   "cell_type": "code",
   "execution_count": 53,
   "id": "cdb801dc-bc2f-4411-bedb-1793bb10abd2",
   "metadata": {},
   "outputs": [
    {
     "name": "stdout",
     "output_type": "stream",
     "text": [
      "3675/3675 [==============================] - 5s 1ms/step\n"
     ]
    }
   ],
   "source": [
    "test_predictions = rbfn_model.predict(test_features_reshaped).flatten()"
   ]
  },
  {
   "cell_type": "code",
   "execution_count": 54,
   "id": "82f4b444-a160-498f-a233-5af02da958a5",
   "metadata": {},
   "outputs": [
    {
     "data": {
      "image/png": "[encoded data removed]",
      "text/plain": [
       "<Figure size 640x480 with 1 Axes>"
      ]
     },
     "metadata": {},
     "output_type": "display_data"
    }
   ],
   "source": [
    "a = plt.axes(aspect='equal')\n",
    "plt.scatter(test_labels, test_predictions)\n",
    "plt.xlabel('True Values [capacity]')\n",
    "plt.ylabel('Predictions [capacity]')\n",
    "lims = [1.2, 2]\n",
    "plt.xlim(lims)\n",
    "plt.ylim(lims)\n",
    "_ = plt.plot(lims, lims)"
   ]
  },
  {
   "cell_type": "code",
   "execution_count": 55,
   "id": "fc52077c-9266-4430-8286-54943cc2b369",
   "metadata": {},
   "outputs": [
    {
     "data": {
      "image/png": "[encoded data removed]",
      "text/plain": [
       "<Figure size 640x480 with 1 Axes>"
      ]
     },
     "metadata": {},
     "output_type": "display_data"
    }
   ],
   "source": [
    "error = test_predictions - test_labels\n",
    "plt.hist(error, bins=25)\n",
    "plt.xlabel('Prediction Error [capacity]')\n",
    "_ = plt.ylabel('Count')"
   ]
  },
  {
   "cell_type": "code",
   "execution_count": 56,
   "id": "9c67160d-3f4c-43ab-82fc-7073b09643aa",
   "metadata": {},
   "outputs": [
    {
     "name": "stdout",
     "output_type": "stream",
     "text": [
      "MSE: 0.00025510543728627944\n",
      "RMSE: 0.015972020450972364\n",
      "MAE: 0.010595383553837065\n",
      "R2 Score: 0.9913735334202339\n"
     ]
    }
   ],
   "source": [
    "# Calculate metrics\n",
    "mse = mean_squared_error(test_labels, test_predictions)\n",
    "rmse = np.sqrt(mse)\n",
    "mae = mean_absolute_error(test_labels, test_predictions)\n",
    "r2 = r2_score(test_labels, test_predictions)\n",
    "\n",
    "print(f'MSE: {mse}')\n",
    "print(f'RMSE: {rmse}')\n",
    "print(f'MAE: {mae}')\n",
    "print(f'R2 Score: {r2}')"
   ]
  },
  {
   "cell_type": "code",
   "execution_count": null,
   "id": "232147e7-b329-4e52-9358-741730284780",
   "metadata": {},
   "outputs": [],
   "source": []
  }
 ],
 "metadata": {
  "kernelspec": {
   "display_name": "DeepNN",
   "language": "python",
   "name": "deepnn"
  },
  "language_info": {
   "codemirror_mode": {
    "name": "ipython",
    "version": 3
   },
   "file_extension": ".py",
   "mimetype": "text/x-python",
   "name": "python",
   "nbconvert_exporter": "python",
   "pygments_lexer": "ipython3",
   "version": "3.9.13"
  }
 },
 "nbformat": 4,
 "nbformat_minor": 5
}
